{
 "nbformat": 4,
 "nbformat_minor": 2,
 "metadata": {
  "language_info": {
   "name": "python",
   "codemirror_mode": {
    "name": "ipython",
    "version": 3
   },
   "version": "3.7.4-final"
  },
  "orig_nbformat": 2,
  "file_extension": ".py",
  "mimetype": "text/x-python",
  "name": "python",
  "npconvert_exporter": "python",
  "pygments_lexer": "ipython3",
  "version": 3,
  "kernelspec": {
   "name": "python3",
   "display_name": "Python 3"
  }
 },
 "cells": [
  {
   "cell_type": "markdown",
   "metadata": {},
   "source": []
  },
  {
   "cell_type": "markdown",
   "metadata": {},
   "source": [
    "# Data project: Price cycles in the market for prescription drugs after patent expiry"
   ]
  },
  {
   "cell_type": "markdown",
   "metadata": {},
   "source": [
    "## Content\n",
    "### 1. Introduction\n",
    "### 2. Data reading, cleaning and selecting\n",
    "### 3. Expectations to the market mechanisms (normal situation)\n",
    "### 4. Analyzing the drug Lamotrigin (price cycles)\n",
    "### 5. Coonclusion\n"
   ]
  },
  {
   "cell_type": "markdown",
   "metadata": {},
   "source": [
    "## 1. Introduction"
   ]
  },
  {
   "cell_type": "markdown",
   "metadata": {},
   "source": [
    "In this project we will attempt to show the cyclic behaviour in some medical prices after the patent has expired, observed by the study \"Priscykler i markedet for receptpligtig medicin efter patentudløb”. It will serve to demonstrate the matter of possible colusion by involving key points from competition theory by Maskin and Tirole (1988). In the empirical analysis we will investigate whether these cycles appears in data for the danish medicine prices in the period 2nd febuary 2015 - 23rd of marts 2020. \n",
    "\n",
    "Pharmaceutical manufacturers in Denmark sell medicines through two channels: the primary healthcare sector, which involves sales to the pharmacies, and the secondary sector in which sales are made to\n",
    "hospitals. \n",
    "\n",
    "Before the competing phase, the company that developed the drug has a patent. The patent creates an incentive for the company to invest in new medicines, and with the exclusive right to sell the drug for a number of years, the company can receive research and production costs. In the period when the patent is valid, the market can be characterized as monopolistic and may have an inelastic demand curve, depending on of the type of drug. \n",
    "\n",
    "After the expiry of the patent, the prices of drugs that are sold to the pharmacies directly by the competing companies. Every 14 days, companies have the opportunity to report a new price electronically, where the company has\n",
    "has bid the lowest price in the same substitution group, wins the bidding round. The pharmacists are obliged to offer patients the cheapest drug within the same substitute group,\n",
    "and thus the company secures the largest market share, approx. 70 per cent until the next bidding round (”Priscykler i markedet for receptpligtig medicin efter patentudløb” p. 2). \n",
    "\n",
    "The data we will be working with in this project is containing these exactly 14-days prices."
   ]
  },
  {
   "cell_type": "markdown",
   "metadata": {},
   "source": [
    "## 2. Data reading, cleaning and selecting"
   ]
  },
  {
   "cell_type": "markdown",
   "metadata": {},
   "source": [
    "Import and set magics: "
   ]
  },
  {
   "cell_type": "code",
   "execution_count": 208,
   "metadata": {},
   "outputs": [],
   "source": [
    "import numpy as np\n",
    "import pandas as pd\n",
    "import datetime\n",
    "import matplotlib.pyplot as plt\n",
    "plt.style.use('seaborn-whitegrid')\n",
    "import ipywidgets as widgets\n",
    "import seaborn as sns; sns.set()\n",
    "import dataproject"
   ]
  },
  {
   "cell_type": "code",
   "execution_count": 209,
   "metadata": {},
   "outputs": [
    {
     "data": {
      "text/html": "<div>\n<style scoped>\n    .dataframe tbody tr th:only-of-type {\n        vertical-align: middle;\n    }\n\n    .dataframe tbody tr th {\n        vertical-align: top;\n    }\n\n    .dataframe thead th {\n        text-align: right;\n    }\n</style>\n<table border=\"1\" class=\"dataframe\">\n  <thead>\n    <tr style=\"text-align: right;\">\n      <th></th>\n      <th>ATC</th>\n      <th>Lægemiddel</th>\n      <th>Varenummer</th>\n      <th>Pakning</th>\n      <th>Styrke</th>\n      <th>Form</th>\n      <th>Firma</th>\n      <th>Indikator</th>\n      <th>20150202</th>\n      <th>20150216</th>\n      <th>...</th>\n      <th>20191118</th>\n      <th>20191202</th>\n      <th>20191216</th>\n      <th>20191230</th>\n      <th>20200113</th>\n      <th>20200127</th>\n      <th>20200210</th>\n      <th>20200224</th>\n      <th>20200309</th>\n      <th>20200323</th>\n    </tr>\n  </thead>\n  <tbody>\n    <tr>\n      <td>0</td>\n      <td>A01AA01</td>\n      <td>Bifluorid</td>\n      <td>42846</td>\n      <td>4 g + solvens</td>\n      <td>NaN</td>\n      <td>dentalsuspension</td>\n      <td>Voco</td>\n      <td>AIP</td>\n      <td>407.36</td>\n      <td>407.36</td>\n      <td>...</td>\n      <td>NaN</td>\n      <td>NaN</td>\n      <td>NaN</td>\n      <td>NaN</td>\n      <td>NaN</td>\n      <td>NaN</td>\n      <td>NaN</td>\n      <td>NaN</td>\n      <td>NaN</td>\n      <td>NaN</td>\n    </tr>\n    <tr>\n      <td>1</td>\n      <td>A01AA01</td>\n      <td>Bifluorid</td>\n      <td>42846</td>\n      <td>4 g + solvens</td>\n      <td>NaN</td>\n      <td>dentalsuspension</td>\n      <td>Voco</td>\n      <td>AUP</td>\n      <td>570.25</td>\n      <td>570.25</td>\n      <td>...</td>\n      <td>NaN</td>\n      <td>NaN</td>\n      <td>NaN</td>\n      <td>NaN</td>\n      <td>NaN</td>\n      <td>NaN</td>\n      <td>NaN</td>\n      <td>NaN</td>\n      <td>NaN</td>\n      <td>NaN</td>\n    </tr>\n    <tr>\n      <td>2</td>\n      <td>A01AA01</td>\n      <td>Bifluorid</td>\n      <td>42846</td>\n      <td>4 g + solvens</td>\n      <td>NaN</td>\n      <td>dentalsuspension</td>\n      <td>Voco</td>\n      <td>DDD</td>\n      <td>NaN</td>\n      <td>NaN</td>\n      <td>...</td>\n      <td>NaN</td>\n      <td>NaN</td>\n      <td>NaN</td>\n      <td>NaN</td>\n      <td>NaN</td>\n      <td>NaN</td>\n      <td>NaN</td>\n      <td>NaN</td>\n      <td>NaN</td>\n      <td>NaN</td>\n    </tr>\n    <tr>\n      <td>3</td>\n      <td>A01AA01</td>\n      <td>Bifluorid</td>\n      <td>42846</td>\n      <td>4 g + solvens</td>\n      <td>NaN</td>\n      <td>dentalsuspension</td>\n      <td>Voco</td>\n      <td>AUP_pr_DDD</td>\n      <td>NaN</td>\n      <td>NaN</td>\n      <td>...</td>\n      <td>NaN</td>\n      <td>NaN</td>\n      <td>NaN</td>\n      <td>NaN</td>\n      <td>NaN</td>\n      <td>NaN</td>\n      <td>NaN</td>\n      <td>NaN</td>\n      <td>NaN</td>\n      <td>NaN</td>\n    </tr>\n    <tr>\n      <td>4</td>\n      <td>A01AA01</td>\n      <td>Bifluorid</td>\n      <td>43158</td>\n      <td>10 g</td>\n      <td>NaN</td>\n      <td>dentalsuspension</td>\n      <td>Voco</td>\n      <td>AIP</td>\n      <td>602.07</td>\n      <td>602.07</td>\n      <td>...</td>\n      <td>NaN</td>\n      <td>NaN</td>\n      <td>NaN</td>\n      <td>NaN</td>\n      <td>NaN</td>\n      <td>NaN</td>\n      <td>NaN</td>\n      <td>NaN</td>\n      <td>NaN</td>\n      <td>NaN</td>\n    </tr>\n    <tr>\n      <td>...</td>\n      <td>...</td>\n      <td>...</td>\n      <td>...</td>\n      <td>...</td>\n      <td>...</td>\n      <td>...</td>\n      <td>...</td>\n      <td>...</td>\n      <td>...</td>\n      <td>...</td>\n      <td>...</td>\n      <td>...</td>\n      <td>...</td>\n      <td>...</td>\n      <td>...</td>\n      <td>...</td>\n      <td>...</td>\n      <td>...</td>\n      <td>...</td>\n      <td>...</td>\n      <td>...</td>\n    </tr>\n    <tr>\n      <td>64863</td>\n      <td>V08DA05</td>\n      <td>SonoVue</td>\n      <td>5615</td>\n      <td>1 sæt</td>\n      <td>8 mikroliter/ml</td>\n      <td>pulver og solvens til injektionsvæske, disperg...</td>\n      <td>Bracco Imaging Scandinavia</td>\n      <td>AUP_pr_DDD</td>\n      <td>NaN</td>\n      <td>NaN</td>\n      <td>...</td>\n      <td>NaN</td>\n      <td>NaN</td>\n      <td>NaN</td>\n      <td>NaN</td>\n      <td>NaN</td>\n      <td>NaN</td>\n      <td>NaN</td>\n      <td>NaN</td>\n      <td>NaN</td>\n      <td>NaN</td>\n    </tr>\n    <tr>\n      <td>64864</td>\n      <td>V08DA05</td>\n      <td>SonoVue</td>\n      <td>589726</td>\n      <td>1 sæt (Orifarm)</td>\n      <td>8 mikroliter/ml</td>\n      <td>pulver og solvens til injektionsvæske, disperg...</td>\n      <td>Orifarm</td>\n      <td>AIP</td>\n      <td>NaN</td>\n      <td>NaN</td>\n      <td>...</td>\n      <td>NaN</td>\n      <td>NaN</td>\n      <td>NaN</td>\n      <td>NaN</td>\n      <td>NaN</td>\n      <td>NaN</td>\n      <td>NaN</td>\n      <td>NaN</td>\n      <td>NaN</td>\n      <td>NaN</td>\n    </tr>\n    <tr>\n      <td>64865</td>\n      <td>V08DA05</td>\n      <td>SonoVue</td>\n      <td>589726</td>\n      <td>1 sæt (Orifarm)</td>\n      <td>8 mikroliter/ml</td>\n      <td>pulver og solvens til injektionsvæske, disperg...</td>\n      <td>Orifarm</td>\n      <td>AUP</td>\n      <td>NaN</td>\n      <td>NaN</td>\n      <td>...</td>\n      <td>NaN</td>\n      <td>NaN</td>\n      <td>NaN</td>\n      <td>NaN</td>\n      <td>NaN</td>\n      <td>NaN</td>\n      <td>NaN</td>\n      <td>NaN</td>\n      <td>NaN</td>\n      <td>NaN</td>\n    </tr>\n    <tr>\n      <td>64866</td>\n      <td>V08DA05</td>\n      <td>SonoVue</td>\n      <td>589726</td>\n      <td>1 sæt (Orifarm)</td>\n      <td>8 mikroliter/ml</td>\n      <td>pulver og solvens til injektionsvæske, disperg...</td>\n      <td>Orifarm</td>\n      <td>DDD</td>\n      <td>NaN</td>\n      <td>NaN</td>\n      <td>...</td>\n      <td>NaN</td>\n      <td>NaN</td>\n      <td>NaN</td>\n      <td>NaN</td>\n      <td>NaN</td>\n      <td>NaN</td>\n      <td>NaN</td>\n      <td>NaN</td>\n      <td>NaN</td>\n      <td>NaN</td>\n    </tr>\n    <tr>\n      <td>64867</td>\n      <td>V08DA05</td>\n      <td>SonoVue</td>\n      <td>589726</td>\n      <td>1 sæt (Orifarm)</td>\n      <td>8 mikroliter/ml</td>\n      <td>pulver og solvens til injektionsvæske, disperg...</td>\n      <td>Orifarm</td>\n      <td>AUP_pr_DDD</td>\n      <td>NaN</td>\n      <td>NaN</td>\n      <td>...</td>\n      <td>NaN</td>\n      <td>NaN</td>\n      <td>NaN</td>\n      <td>NaN</td>\n      <td>NaN</td>\n      <td>NaN</td>\n      <td>NaN</td>\n      <td>NaN</td>\n      <td>NaN</td>\n      <td>NaN</td>\n    </tr>\n  </tbody>\n</table>\n<p>64868 rows × 143 columns</p>\n</div>",
      "text/plain": "           ATC Lægemiddel  Varenummer          Pakning           Styrke  \\\n0      A01AA01  Bifluorid       42846    4 g + solvens              NaN   \n1      A01AA01  Bifluorid       42846    4 g + solvens              NaN   \n2      A01AA01  Bifluorid       42846    4 g + solvens              NaN   \n3      A01AA01  Bifluorid       42846    4 g + solvens              NaN   \n4      A01AA01  Bifluorid       43158             10 g              NaN   \n...        ...        ...         ...              ...              ...   \n64863  V08DA05    SonoVue        5615            1 sæt  8 mikroliter/ml   \n64864  V08DA05    SonoVue      589726  1 sæt (Orifarm)  8 mikroliter/ml   \n64865  V08DA05    SonoVue      589726  1 sæt (Orifarm)  8 mikroliter/ml   \n64866  V08DA05    SonoVue      589726  1 sæt (Orifarm)  8 mikroliter/ml   \n64867  V08DA05    SonoVue      589726  1 sæt (Orifarm)  8 mikroliter/ml   \n\n                                                    Form  \\\n0                                       dentalsuspension   \n1                                       dentalsuspension   \n2                                       dentalsuspension   \n3                                       dentalsuspension   \n4                                       dentalsuspension   \n...                                                  ...   \n64863  pulver og solvens til injektionsvæske, disperg...   \n64864  pulver og solvens til injektionsvæske, disperg...   \n64865  pulver og solvens til injektionsvæske, disperg...   \n64866  pulver og solvens til injektionsvæske, disperg...   \n64867  pulver og solvens til injektionsvæske, disperg...   \n\n                            Firma   Indikator  20150202  20150216  ...  \\\n0                            Voco         AIP    407.36    407.36  ...   \n1                            Voco         AUP    570.25    570.25  ...   \n2                            Voco         DDD       NaN       NaN  ...   \n3                            Voco  AUP_pr_DDD       NaN       NaN  ...   \n4                            Voco         AIP    602.07    602.07  ...   \n...                           ...         ...       ...       ...  ...   \n64863  Bracco Imaging Scandinavia  AUP_pr_DDD       NaN       NaN  ...   \n64864                     Orifarm         AIP       NaN       NaN  ...   \n64865                     Orifarm         AUP       NaN       NaN  ...   \n64866                     Orifarm         DDD       NaN       NaN  ...   \n64867                     Orifarm  AUP_pr_DDD       NaN       NaN  ...   \n\n       20191118  20191202  20191216  20191230  20200113  20200127  20200210  \\\n0           NaN       NaN       NaN       NaN       NaN       NaN       NaN   \n1           NaN       NaN       NaN       NaN       NaN       NaN       NaN   \n2           NaN       NaN       NaN       NaN       NaN       NaN       NaN   \n3           NaN       NaN       NaN       NaN       NaN       NaN       NaN   \n4           NaN       NaN       NaN       NaN       NaN       NaN       NaN   \n...         ...       ...       ...       ...       ...       ...       ...   \n64863       NaN       NaN       NaN       NaN       NaN       NaN       NaN   \n64864       NaN       NaN       NaN       NaN       NaN       NaN       NaN   \n64865       NaN       NaN       NaN       NaN       NaN       NaN       NaN   \n64866       NaN       NaN       NaN       NaN       NaN       NaN       NaN   \n64867       NaN       NaN       NaN       NaN       NaN       NaN       NaN   \n\n       20200224  20200309  20200323  \n0           NaN       NaN       NaN  \n1           NaN       NaN       NaN  \n2           NaN       NaN       NaN  \n3           NaN       NaN       NaN  \n4           NaN       NaN       NaN  \n...         ...       ...       ...  \n64863       NaN       NaN       NaN  \n64864       NaN       NaN       NaN  \n64865       NaN       NaN       NaN  \n64866       NaN       NaN       NaN  \n64867       NaN       NaN       NaN  \n\n[64868 rows x 143 columns]"
     },
     "execution_count": 209,
     "metadata": {},
     "output_type": "execute_result"
    }
   ],
   "source": [
    "#1. Importing excel sheet for analysis\n",
    "medprices_dk = pd.read_excel('meddata.xlsx')\n",
    "medprices_dk"
   ]
  },
  {
   "cell_type": "code",
   "execution_count": 210,
   "metadata": {},
   "outputs": [
    {
     "data": {
      "text/html": "<div>\n<style scoped>\n    .dataframe tbody tr th:only-of-type {\n        vertical-align: middle;\n    }\n\n    .dataframe tbody tr th {\n        vertical-align: top;\n    }\n\n    .dataframe thead th {\n        text-align: right;\n    }\n</style>\n<table border=\"1\" class=\"dataframe\">\n  <thead>\n    <tr style=\"text-align: right;\">\n      <th></th>\n      <th>ATC</th>\n      <th>Medicine</th>\n      <th>Product_number</th>\n      <th>Packaging</th>\n      <th>Strength</th>\n      <th>Form</th>\n      <th>Company</th>\n      <th>Indicator</th>\n      <th>e20150202</th>\n      <th>e20150216</th>\n      <th>...</th>\n      <th>e20191118</th>\n      <th>e20191202</th>\n      <th>e20191216</th>\n      <th>e20191230</th>\n      <th>e20200113</th>\n      <th>e20200127</th>\n      <th>e20200210</th>\n      <th>e20200224</th>\n      <th>e20200309</th>\n      <th>e20200323</th>\n    </tr>\n  </thead>\n  <tbody>\n    <tr>\n      <td>0</td>\n      <td>A01AA01</td>\n      <td>Bifluorid</td>\n      <td>42846</td>\n      <td>4 g + solvens</td>\n      <td>NaN</td>\n      <td>dentalsuspension</td>\n      <td>Voco</td>\n      <td>AIP</td>\n      <td>407.36</td>\n      <td>407.36</td>\n      <td>...</td>\n      <td>NaN</td>\n      <td>NaN</td>\n      <td>NaN</td>\n      <td>NaN</td>\n      <td>NaN</td>\n      <td>NaN</td>\n      <td>NaN</td>\n      <td>NaN</td>\n      <td>NaN</td>\n      <td>NaN</td>\n    </tr>\n    <tr>\n      <td>1</td>\n      <td>A01AA01</td>\n      <td>Bifluorid</td>\n      <td>42846</td>\n      <td>4 g + solvens</td>\n      <td>NaN</td>\n      <td>dentalsuspension</td>\n      <td>Voco</td>\n      <td>AUP</td>\n      <td>570.25</td>\n      <td>570.25</td>\n      <td>...</td>\n      <td>NaN</td>\n      <td>NaN</td>\n      <td>NaN</td>\n      <td>NaN</td>\n      <td>NaN</td>\n      <td>NaN</td>\n      <td>NaN</td>\n      <td>NaN</td>\n      <td>NaN</td>\n      <td>NaN</td>\n    </tr>\n    <tr>\n      <td>2</td>\n      <td>A01AA01</td>\n      <td>Bifluorid</td>\n      <td>42846</td>\n      <td>4 g + solvens</td>\n      <td>NaN</td>\n      <td>dentalsuspension</td>\n      <td>Voco</td>\n      <td>DDD</td>\n      <td>NaN</td>\n      <td>NaN</td>\n      <td>...</td>\n      <td>NaN</td>\n      <td>NaN</td>\n      <td>NaN</td>\n      <td>NaN</td>\n      <td>NaN</td>\n      <td>NaN</td>\n      <td>NaN</td>\n      <td>NaN</td>\n      <td>NaN</td>\n      <td>NaN</td>\n    </tr>\n    <tr>\n      <td>3</td>\n      <td>A01AA01</td>\n      <td>Bifluorid</td>\n      <td>42846</td>\n      <td>4 g + solvens</td>\n      <td>NaN</td>\n      <td>dentalsuspension</td>\n      <td>Voco</td>\n      <td>AUP_pr_DDD</td>\n      <td>NaN</td>\n      <td>NaN</td>\n      <td>...</td>\n      <td>NaN</td>\n      <td>NaN</td>\n      <td>NaN</td>\n      <td>NaN</td>\n      <td>NaN</td>\n      <td>NaN</td>\n      <td>NaN</td>\n      <td>NaN</td>\n      <td>NaN</td>\n      <td>NaN</td>\n    </tr>\n    <tr>\n      <td>4</td>\n      <td>A01AA01</td>\n      <td>Bifluorid</td>\n      <td>43158</td>\n      <td>10 g</td>\n      <td>NaN</td>\n      <td>dentalsuspension</td>\n      <td>Voco</td>\n      <td>AIP</td>\n      <td>602.07</td>\n      <td>602.07</td>\n      <td>...</td>\n      <td>NaN</td>\n      <td>NaN</td>\n      <td>NaN</td>\n      <td>NaN</td>\n      <td>NaN</td>\n      <td>NaN</td>\n      <td>NaN</td>\n      <td>NaN</td>\n      <td>NaN</td>\n      <td>NaN</td>\n    </tr>\n    <tr>\n      <td>...</td>\n      <td>...</td>\n      <td>...</td>\n      <td>...</td>\n      <td>...</td>\n      <td>...</td>\n      <td>...</td>\n      <td>...</td>\n      <td>...</td>\n      <td>...</td>\n      <td>...</td>\n      <td>...</td>\n      <td>...</td>\n      <td>...</td>\n      <td>...</td>\n      <td>...</td>\n      <td>...</td>\n      <td>...</td>\n      <td>...</td>\n      <td>...</td>\n      <td>...</td>\n      <td>...</td>\n    </tr>\n    <tr>\n      <td>64863</td>\n      <td>V08DA05</td>\n      <td>SonoVue</td>\n      <td>5615</td>\n      <td>1 sæt</td>\n      <td>8 mikroliter/ml</td>\n      <td>pulver og solvens til injektionsvæske, disperg...</td>\n      <td>Bracco Imaging Scandinavia</td>\n      <td>AUP_pr_DDD</td>\n      <td>NaN</td>\n      <td>NaN</td>\n      <td>...</td>\n      <td>NaN</td>\n      <td>NaN</td>\n      <td>NaN</td>\n      <td>NaN</td>\n      <td>NaN</td>\n      <td>NaN</td>\n      <td>NaN</td>\n      <td>NaN</td>\n      <td>NaN</td>\n      <td>NaN</td>\n    </tr>\n    <tr>\n      <td>64864</td>\n      <td>V08DA05</td>\n      <td>SonoVue</td>\n      <td>589726</td>\n      <td>1 sæt (Orifarm)</td>\n      <td>8 mikroliter/ml</td>\n      <td>pulver og solvens til injektionsvæske, disperg...</td>\n      <td>Orifarm</td>\n      <td>AIP</td>\n      <td>NaN</td>\n      <td>NaN</td>\n      <td>...</td>\n      <td>NaN</td>\n      <td>NaN</td>\n      <td>NaN</td>\n      <td>NaN</td>\n      <td>NaN</td>\n      <td>NaN</td>\n      <td>NaN</td>\n      <td>NaN</td>\n      <td>NaN</td>\n      <td>NaN</td>\n    </tr>\n    <tr>\n      <td>64865</td>\n      <td>V08DA05</td>\n      <td>SonoVue</td>\n      <td>589726</td>\n      <td>1 sæt (Orifarm)</td>\n      <td>8 mikroliter/ml</td>\n      <td>pulver og solvens til injektionsvæske, disperg...</td>\n      <td>Orifarm</td>\n      <td>AUP</td>\n      <td>NaN</td>\n      <td>NaN</td>\n      <td>...</td>\n      <td>NaN</td>\n      <td>NaN</td>\n      <td>NaN</td>\n      <td>NaN</td>\n      <td>NaN</td>\n      <td>NaN</td>\n      <td>NaN</td>\n      <td>NaN</td>\n      <td>NaN</td>\n      <td>NaN</td>\n    </tr>\n    <tr>\n      <td>64866</td>\n      <td>V08DA05</td>\n      <td>SonoVue</td>\n      <td>589726</td>\n      <td>1 sæt (Orifarm)</td>\n      <td>8 mikroliter/ml</td>\n      <td>pulver og solvens til injektionsvæske, disperg...</td>\n      <td>Orifarm</td>\n      <td>DDD</td>\n      <td>NaN</td>\n      <td>NaN</td>\n      <td>...</td>\n      <td>NaN</td>\n      <td>NaN</td>\n      <td>NaN</td>\n      <td>NaN</td>\n      <td>NaN</td>\n      <td>NaN</td>\n      <td>NaN</td>\n      <td>NaN</td>\n      <td>NaN</td>\n      <td>NaN</td>\n    </tr>\n    <tr>\n      <td>64867</td>\n      <td>V08DA05</td>\n      <td>SonoVue</td>\n      <td>589726</td>\n      <td>1 sæt (Orifarm)</td>\n      <td>8 mikroliter/ml</td>\n      <td>pulver og solvens til injektionsvæske, disperg...</td>\n      <td>Orifarm</td>\n      <td>AUP_pr_DDD</td>\n      <td>NaN</td>\n      <td>NaN</td>\n      <td>...</td>\n      <td>NaN</td>\n      <td>NaN</td>\n      <td>NaN</td>\n      <td>NaN</td>\n      <td>NaN</td>\n      <td>NaN</td>\n      <td>NaN</td>\n      <td>NaN</td>\n      <td>NaN</td>\n      <td>NaN</td>\n    </tr>\n  </tbody>\n</table>\n<p>64868 rows × 143 columns</p>\n</div>",
      "text/plain": "           ATC   Medicine  Product_number        Packaging         Strength  \\\n0      A01AA01  Bifluorid           42846    4 g + solvens              NaN   \n1      A01AA01  Bifluorid           42846    4 g + solvens              NaN   \n2      A01AA01  Bifluorid           42846    4 g + solvens              NaN   \n3      A01AA01  Bifluorid           42846    4 g + solvens              NaN   \n4      A01AA01  Bifluorid           43158             10 g              NaN   \n...        ...        ...             ...              ...              ...   \n64863  V08DA05    SonoVue            5615            1 sæt  8 mikroliter/ml   \n64864  V08DA05    SonoVue          589726  1 sæt (Orifarm)  8 mikroliter/ml   \n64865  V08DA05    SonoVue          589726  1 sæt (Orifarm)  8 mikroliter/ml   \n64866  V08DA05    SonoVue          589726  1 sæt (Orifarm)  8 mikroliter/ml   \n64867  V08DA05    SonoVue          589726  1 sæt (Orifarm)  8 mikroliter/ml   \n\n                                                    Form  \\\n0                                       dentalsuspension   \n1                                       dentalsuspension   \n2                                       dentalsuspension   \n3                                       dentalsuspension   \n4                                       dentalsuspension   \n...                                                  ...   \n64863  pulver og solvens til injektionsvæske, disperg...   \n64864  pulver og solvens til injektionsvæske, disperg...   \n64865  pulver og solvens til injektionsvæske, disperg...   \n64866  pulver og solvens til injektionsvæske, disperg...   \n64867  pulver og solvens til injektionsvæske, disperg...   \n\n                          Company   Indicator  e20150202  e20150216  ...  \\\n0                            Voco         AIP     407.36     407.36  ...   \n1                            Voco         AUP     570.25     570.25  ...   \n2                            Voco         DDD        NaN        NaN  ...   \n3                            Voco  AUP_pr_DDD        NaN        NaN  ...   \n4                            Voco         AIP     602.07     602.07  ...   \n...                           ...         ...        ...        ...  ...   \n64863  Bracco Imaging Scandinavia  AUP_pr_DDD        NaN        NaN  ...   \n64864                     Orifarm         AIP        NaN        NaN  ...   \n64865                     Orifarm         AUP        NaN        NaN  ...   \n64866                     Orifarm         DDD        NaN        NaN  ...   \n64867                     Orifarm  AUP_pr_DDD        NaN        NaN  ...   \n\n       e20191118  e20191202  e20191216  e20191230  e20200113  e20200127  \\\n0            NaN        NaN        NaN        NaN        NaN        NaN   \n1            NaN        NaN        NaN        NaN        NaN        NaN   \n2            NaN        NaN        NaN        NaN        NaN        NaN   \n3            NaN        NaN        NaN        NaN        NaN        NaN   \n4            NaN        NaN        NaN        NaN        NaN        NaN   \n...          ...        ...        ...        ...        ...        ...   \n64863        NaN        NaN        NaN        NaN        NaN        NaN   \n64864        NaN        NaN        NaN        NaN        NaN        NaN   \n64865        NaN        NaN        NaN        NaN        NaN        NaN   \n64866        NaN        NaN        NaN        NaN        NaN        NaN   \n64867        NaN        NaN        NaN        NaN        NaN        NaN   \n\n       e20200210  e20200224  e20200309  e20200323  \n0            NaN        NaN        NaN        NaN  \n1            NaN        NaN        NaN        NaN  \n2            NaN        NaN        NaN        NaN  \n3            NaN        NaN        NaN        NaN  \n4            NaN        NaN        NaN        NaN  \n...          ...        ...        ...        ...  \n64863        NaN        NaN        NaN        NaN  \n64864        NaN        NaN        NaN        NaN  \n64865        NaN        NaN        NaN        NaN  \n64866        NaN        NaN        NaN        NaN  \n64867        NaN        NaN        NaN        NaN  \n\n[64868 rows x 143 columns]"
     },
     "execution_count": 210,
     "metadata": {},
     "output_type": "execute_result"
    }
   ],
   "source": [
    "# 2. Editing frame structure\n",
    "\n",
    "english = {'Lægemiddel':'Medicine', \n",
    "                  'Varenummer':'Product_number', \n",
    "                  'Pakning':'Packaging', \n",
    "                  'Styrke':'Strength', \n",
    "                  'Firma':'Company', \n",
    "                  'Indikator':'Indicator'}\n",
    "medprices_dk.rename(columns = english, inplace=True) # Convert columns from Danish to English\n",
    "\n",
    "column_v = list(medprices_dk.columns.values) # Create list of dataframes column names\n",
    "column_v= column_v[8:]# narrow list to only focus on date variables\n",
    "\n",
    "date_to_string = {} # Create dictionary for renaming date variables\n",
    "\n",
    "# Loop throught all possible date variables and add an e in front as variables in python cannot begin with a numbers\n",
    "for i in column_v:\n",
    "    date_to_string[i] = f'e{i}'\n",
    "\n",
    "medprices_dk.rename(columns = date_to_string, inplace=True) # Rename date variables in primary dataframe\n",
    "\n",
    "medprices_dk\n",
    "\n"
   ]
  },
  {
   "cell_type": "markdown",
   "metadata": {},
   "source": [
    "## 3. Expectations to the market mechanisms (normal situation)"
   ]
  },
  {
   "cell_type": "markdown",
   "metadata": {},
   "source": [
    "According to theory, the transition from a monopolistic market state to complete competition should push down the prices of medicines, as several players can enter the market. As the price moves towards marginal costs, fiercer competition arises. Of course, there may be supply or demand shocks, costly entry barriers, etc., but all else equal, the price should fall after patent expiry. \n",
    "\n",
    "In order to illustrate this, we have found a drug with an expiry of the patent in april 2015. \n",
    "The drug is named Aripiprazole, and is a treatment of psychoses. At the beginning of 2015,full-year forecasts were expected to see a major fall in prices for the drug immediately following the expiry of the patent, ie April 2015. However, the price falls did not break through until the end of 2015. Price falls are now at 80-90%.\n",
    "\n",
    "INDSÆT GRAPH MED PRISUDVIKLINGEN "
   ]
  },
  {
   "cell_type": "code",
   "execution_count": 211,
   "metadata": {},
   "outputs": [
    {
     "data": {
      "text/html": "<div>\n<style scoped>\n    .dataframe tbody tr th:only-of-type {\n        vertical-align: middle;\n    }\n\n    .dataframe tbody tr th {\n        vertical-align: top;\n    }\n\n    .dataframe thead th {\n        text-align: right;\n    }\n</style>\n<table border=\"1\" class=\"dataframe\">\n  <thead>\n    <tr style=\"text-align: right;\">\n      <th></th>\n      <th>index</th>\n      <th>Product_number</th>\n      <th>Packaging</th>\n      <th>Strength</th>\n      <th>Company</th>\n      <th>Indicator</th>\n      <th>e20150202</th>\n      <th>e20150216</th>\n      <th>e20150302</th>\n      <th>e20150316</th>\n      <th>...</th>\n      <th>e20191118</th>\n      <th>e20191202</th>\n      <th>e20191216</th>\n      <th>e20191230</th>\n      <th>e20200113</th>\n      <th>e20200127</th>\n      <th>e20200210</th>\n      <th>e20200224</th>\n      <th>e20200309</th>\n      <th>e20200323</th>\n    </tr>\n  </thead>\n  <tbody>\n    <tr>\n      <td>0</td>\n      <td>46883</td>\n      <td>79410</td>\n      <td>100 stk.</td>\n      <td>10 mg</td>\n      <td>Teva (S›borg)</td>\n      <td>AUP_pr_DDD</td>\n      <td>NaN</td>\n      <td>NaN</td>\n      <td>NaN</td>\n      <td>NaN</td>\n      <td>...</td>\n      <td>5.579972</td>\n      <td>NaN</td>\n      <td>NaN</td>\n      <td>NaN</td>\n      <td>NaN</td>\n      <td>NaN</td>\n      <td>NaN</td>\n      <td>NaN</td>\n      <td>NaN</td>\n      <td>NaN</td>\n    </tr>\n    <tr>\n      <td>1</td>\n      <td>46887</td>\n      <td>113971</td>\n      <td>28 stk. (blister)</td>\n      <td>10 mg</td>\n      <td>Teva (S›borg)</td>\n      <td>AUP_pr_DDD</td>\n      <td>NaN</td>\n      <td>NaN</td>\n      <td>NaN</td>\n      <td>NaN</td>\n      <td>...</td>\n      <td>NaN</td>\n      <td>NaN</td>\n      <td>NaN</td>\n      <td>NaN</td>\n      <td>NaN</td>\n      <td>NaN</td>\n      <td>NaN</td>\n      <td>NaN</td>\n      <td>NaN</td>\n      <td>NaN</td>\n    </tr>\n    <tr>\n      <td>2</td>\n      <td>46891</td>\n      <td>173895</td>\n      <td>100 stk.</td>\n      <td>15 mg</td>\n      <td>Teva (S›borg)</td>\n      <td>AUP_pr_DDD</td>\n      <td>NaN</td>\n      <td>NaN</td>\n      <td>NaN</td>\n      <td>NaN</td>\n      <td>...</td>\n      <td>0.455000</td>\n      <td>NaN</td>\n      <td>NaN</td>\n      <td>NaN</td>\n      <td>NaN</td>\n      <td>NaN</td>\n      <td>NaN</td>\n      <td>NaN</td>\n      <td>NaN</td>\n      <td>NaN</td>\n    </tr>\n    <tr>\n      <td>3</td>\n      <td>46895</td>\n      <td>178885</td>\n      <td>150 ml</td>\n      <td>1 mg/ml</td>\n      <td>Teva (S›borg)</td>\n      <td>AUP_pr_DDD</td>\n      <td>NaN</td>\n      <td>NaN</td>\n      <td>NaN</td>\n      <td>NaN</td>\n      <td>...</td>\n      <td>NaN</td>\n      <td>NaN</td>\n      <td>NaN</td>\n      <td>NaN</td>\n      <td>NaN</td>\n      <td>NaN</td>\n      <td>NaN</td>\n      <td>NaN</td>\n      <td>NaN</td>\n      <td>NaN</td>\n    </tr>\n    <tr>\n      <td>4</td>\n      <td>46899</td>\n      <td>418119</td>\n      <td>56 stk. (blister)</td>\n      <td>5 mg</td>\n      <td>Teva (S›borg)</td>\n      <td>AUP_pr_DDD</td>\n      <td>NaN</td>\n      <td>NaN</td>\n      <td>NaN</td>\n      <td>NaN</td>\n      <td>...</td>\n      <td>NaN</td>\n      <td>NaN</td>\n      <td>NaN</td>\n      <td>NaN</td>\n      <td>NaN</td>\n      <td>NaN</td>\n      <td>NaN</td>\n      <td>NaN</td>\n      <td>NaN</td>\n      <td>NaN</td>\n    </tr>\n    <tr>\n      <td>5</td>\n      <td>46903</td>\n      <td>506809</td>\n      <td>100 stk.</td>\n      <td>5 mg</td>\n      <td>Teva (S›borg)</td>\n      <td>AUP_pr_DDD</td>\n      <td>NaN</td>\n      <td>NaN</td>\n      <td>NaN</td>\n      <td>NaN</td>\n      <td>...</td>\n      <td>3.816038</td>\n      <td>NaN</td>\n      <td>NaN</td>\n      <td>NaN</td>\n      <td>NaN</td>\n      <td>NaN</td>\n      <td>NaN</td>\n      <td>NaN</td>\n      <td>NaN</td>\n      <td>NaN</td>\n    </tr>\n    <tr>\n      <td>6</td>\n      <td>46907</td>\n      <td>540648</td>\n      <td>56 stk. (blister)</td>\n      <td>15 mg</td>\n      <td>Teva (S›borg)</td>\n      <td>AUP_pr_DDD</td>\n      <td>NaN</td>\n      <td>NaN</td>\n      <td>NaN</td>\n      <td>NaN</td>\n      <td>...</td>\n      <td>NaN</td>\n      <td>NaN</td>\n      <td>NaN</td>\n      <td>NaN</td>\n      <td>NaN</td>\n      <td>NaN</td>\n      <td>NaN</td>\n      <td>NaN</td>\n      <td>NaN</td>\n      <td>NaN</td>\n    </tr>\n    <tr>\n      <td>7</td>\n      <td>46911</td>\n      <td>542634</td>\n      <td>56 stk. (blister)</td>\n      <td>10 mg</td>\n      <td>Teva (S›borg)</td>\n      <td>AUP_pr_DDD</td>\n      <td>NaN</td>\n      <td>NaN</td>\n      <td>NaN</td>\n      <td>NaN</td>\n      <td>...</td>\n      <td>NaN</td>\n      <td>NaN</td>\n      <td>NaN</td>\n      <td>NaN</td>\n      <td>NaN</td>\n      <td>NaN</td>\n      <td>NaN</td>\n      <td>NaN</td>\n      <td>NaN</td>\n      <td>NaN</td>\n    </tr>\n    <tr>\n      <td>8</td>\n      <td>46915</td>\n      <td>554817</td>\n      <td>28 stk. (blister)</td>\n      <td>15 mg</td>\n      <td>Teva (S›borg)</td>\n      <td>AUP_pr_DDD</td>\n      <td>NaN</td>\n      <td>NaN</td>\n      <td>NaN</td>\n      <td>NaN</td>\n      <td>...</td>\n      <td>0.792857</td>\n      <td>NaN</td>\n      <td>NaN</td>\n      <td>NaN</td>\n      <td>NaN</td>\n      <td>NaN</td>\n      <td>NaN</td>\n      <td>NaN</td>\n      <td>NaN</td>\n      <td>NaN</td>\n    </tr>\n    <tr>\n      <td>9</td>\n      <td>46919</td>\n      <td>52737</td>\n      <td>56 stk. (blister)</td>\n      <td>5 mg</td>\n      <td>Krka AB</td>\n      <td>AUP_pr_DDD</td>\n      <td>119.304120</td>\n      <td>112.714952</td>\n      <td>98.810736</td>\n      <td>73.193336</td>\n      <td>...</td>\n      <td>1.995500</td>\n      <td>1.757111</td>\n      <td>1.757111</td>\n      <td>1.518723</td>\n      <td>1.513366</td>\n      <td>1.513366</td>\n      <td>1.513366</td>\n      <td>1.513366</td>\n      <td>1.384797</td>\n      <td>1.384797</td>\n    </tr>\n    <tr>\n      <td>10</td>\n      <td>46923</td>\n      <td>88445</td>\n      <td>56 stk. (blister)</td>\n      <td>15 mg</td>\n      <td>Krka AB</td>\n      <td>AUP_pr_DDD</td>\n      <td>29.277679</td>\n      <td>26.837500</td>\n      <td>21.958036</td>\n      <td>20.006250</td>\n      <td>...</td>\n      <td>0.894643</td>\n      <td>0.684821</td>\n      <td>0.580357</td>\n      <td>0.580357</td>\n      <td>0.579464</td>\n      <td>0.579464</td>\n      <td>1.157143</td>\n      <td>1.157143</td>\n      <td>1.157143</td>\n      <td>1.157143</td>\n    </tr>\n    <tr>\n      <td>11</td>\n      <td>46927</td>\n      <td>107657</td>\n      <td>56 stk. (blister)</td>\n      <td>10 mg</td>\n      <td>Krka AB</td>\n      <td>AUP_pr_DDD</td>\n      <td>57.091581</td>\n      <td>53.065652</td>\n      <td>47.575871</td>\n      <td>36.597648</td>\n      <td>...</td>\n      <td>2.357164</td>\n      <td>2.357164</td>\n      <td>2.357164</td>\n      <td>2.357164</td>\n      <td>2.350467</td>\n      <td>2.350467</td>\n      <td>2.350467</td>\n      <td>2.350467</td>\n      <td>2.350467</td>\n      <td>2.350467</td>\n    </tr>\n    <tr>\n      <td>12</td>\n      <td>46931</td>\n      <td>113143</td>\n      <td>56 stk. (blister)</td>\n      <td>30 mg</td>\n      <td>Krka AB</td>\n      <td>AUP_pr_DDD</td>\n      <td>33.058929</td>\n      <td>33.058929</td>\n      <td>31.838839</td>\n      <td>25.739732</td>\n      <td>...</td>\n      <td>0.725000</td>\n      <td>0.725000</td>\n      <td>0.725000</td>\n      <td>0.725000</td>\n      <td>0.723214</td>\n      <td>0.723214</td>\n      <td>0.723214</td>\n      <td>0.723214</td>\n      <td>0.723214</td>\n      <td>0.723214</td>\n    </tr>\n    <tr>\n      <td>13</td>\n      <td>46935</td>\n      <td>114662</td>\n      <td>14 stk. (blister)</td>\n      <td>5 mg</td>\n      <td>Krka AB</td>\n      <td>AUP_pr_DDD</td>\n      <td>140.529248</td>\n      <td>134.668952</td>\n      <td>117.109492</td>\n      <td>99.539319</td>\n      <td>...</td>\n      <td>NaN</td>\n      <td>NaN</td>\n      <td>NaN</td>\n      <td>NaN</td>\n      <td>NaN</td>\n      <td>NaN</td>\n      <td>NaN</td>\n      <td>NaN</td>\n      <td>NaN</td>\n      <td>NaN</td>\n    </tr>\n    <tr>\n      <td>14</td>\n      <td>46939</td>\n      <td>123435</td>\n      <td>28 stk. (blister)</td>\n      <td>15 mg</td>\n      <td>Krka AB</td>\n      <td>AUP_pr_DDD</td>\n      <td>29.766071</td>\n      <td>28.301786</td>\n      <td>22.446429</td>\n      <td>20.494643</td>\n      <td>...</td>\n      <td>NaN</td>\n      <td>NaN</td>\n      <td>NaN</td>\n      <td>NaN</td>\n      <td>NaN</td>\n      <td>NaN</td>\n      <td>NaN</td>\n      <td>NaN</td>\n      <td>NaN</td>\n      <td>NaN</td>\n    </tr>\n    <tr>\n      <td>15</td>\n      <td>46943</td>\n      <td>161996</td>\n      <td>50 stk. (blister)</td>\n      <td>10 mg</td>\n      <td>Krka AB</td>\n      <td>AUP_pr_DDD</td>\n      <td>NaN</td>\n      <td>NaN</td>\n      <td>NaN</td>\n      <td>NaN</td>\n      <td>...</td>\n      <td>2.436024</td>\n      <td>2.436024</td>\n      <td>2.436024</td>\n      <td>2.436024</td>\n      <td>2.430024</td>\n      <td>2.430024</td>\n      <td>2.430024</td>\n      <td>2.430024</td>\n      <td>2.430024</td>\n      <td>2.430024</td>\n    </tr>\n    <tr>\n      <td>16</td>\n      <td>46947</td>\n      <td>184731</td>\n      <td>28 stk. (blister)</td>\n      <td>5 mg</td>\n      <td>Krka AB</td>\n      <td>AUP_pr_DDD</td>\n      <td>120.041787</td>\n      <td>117.116683</td>\n      <td>98.960677</td>\n      <td>80.520733</td>\n      <td>...</td>\n      <td>NaN</td>\n      <td>NaN</td>\n      <td>NaN</td>\n      <td>NaN</td>\n      <td>NaN</td>\n      <td>NaN</td>\n      <td>NaN</td>\n      <td>NaN</td>\n      <td>NaN</td>\n      <td>NaN</td>\n    </tr>\n    <tr>\n      <td>17</td>\n      <td>46951</td>\n      <td>187894</td>\n      <td>50 stk. (blister)</td>\n      <td>15 mg</td>\n      <td>Krka AB</td>\n      <td>AUP_pr_DDD</td>\n      <td>NaN</td>\n      <td>NaN</td>\n      <td>NaN</td>\n      <td>NaN</td>\n      <td>...</td>\n      <td>NaN</td>\n      <td>NaN</td>\n      <td>NaN</td>\n      <td>NaN</td>\n      <td>NaN</td>\n      <td>NaN</td>\n      <td>NaN</td>\n      <td>NaN</td>\n      <td>NaN</td>\n      <td>NaN</td>\n    </tr>\n    <tr>\n      <td>18</td>\n      <td>46955</td>\n      <td>373252</td>\n      <td>28 stk. (blister)</td>\n      <td>10 mg</td>\n      <td>Krka AB</td>\n      <td>AUP_pr_DDD</td>\n      <td>57.823967</td>\n      <td>53.431189</td>\n      <td>49.041089</td>\n      <td>40.258210</td>\n      <td>...</td>\n      <td>3.265120</td>\n      <td>3.265120</td>\n      <td>3.265120</td>\n      <td>3.265120</td>\n      <td>3.257085</td>\n      <td>3.257085</td>\n      <td>3.257085</td>\n      <td>3.257085</td>\n      <td>3.257085</td>\n      <td>3.257085</td>\n    </tr>\n    <tr>\n      <td>19</td>\n      <td>46959</td>\n      <td>418660</td>\n      <td>50 stk. (blister)</td>\n      <td>5 mg</td>\n      <td>Krka AB</td>\n      <td>AUP_pr_DDD</td>\n      <td>NaN</td>\n      <td>NaN</td>\n      <td>NaN</td>\n      <td>NaN</td>\n      <td>...</td>\n      <td>NaN</td>\n      <td>NaN</td>\n      <td>NaN</td>\n      <td>NaN</td>\n      <td>NaN</td>\n      <td>NaN</td>\n      <td>NaN</td>\n      <td>NaN</td>\n      <td>NaN</td>\n      <td>NaN</td>\n    </tr>\n    <tr>\n      <td>20</td>\n      <td>46963</td>\n      <td>494853</td>\n      <td>50 stk. (blister)</td>\n      <td>30 mg</td>\n      <td>Krka AB</td>\n      <td>AUP_pr_DDD</td>\n      <td>NaN</td>\n      <td>NaN</td>\n      <td>NaN</td>\n      <td>NaN</td>\n      <td>...</td>\n      <td>0.717500</td>\n      <td>0.717500</td>\n      <td>0.717500</td>\n      <td>0.717500</td>\n      <td>0.715500</td>\n      <td>0.715500</td>\n      <td>0.715500</td>\n      <td>0.715500</td>\n      <td>0.715500</td>\n      <td>0.715500</td>\n    </tr>\n    <tr>\n      <td>21</td>\n      <td>46967</td>\n      <td>521910</td>\n      <td>28 stk. (blister)</td>\n      <td>30 mg</td>\n      <td>Krka AB</td>\n      <td>AUP_pr_DDD</td>\n      <td>39.280357</td>\n      <td>38.060714</td>\n      <td>35.620536</td>\n      <td>31.716964</td>\n      <td>...</td>\n      <td>NaN</td>\n      <td>NaN</td>\n      <td>NaN</td>\n      <td>NaN</td>\n      <td>NaN</td>\n      <td>NaN</td>\n      <td>NaN</td>\n      <td>NaN</td>\n      <td>NaN</td>\n      <td>NaN</td>\n    </tr>\n    <tr>\n      <td>22</td>\n      <td>46971</td>\n      <td>37768</td>\n      <td>28 stk. (blister)</td>\n      <td>5 mg</td>\n      <td>PharmaCoDane</td>\n      <td>AUP_pr_DDD</td>\n      <td>NaN</td>\n      <td>NaN</td>\n      <td>NaN</td>\n      <td>NaN</td>\n      <td>...</td>\n      <td>3.482267</td>\n      <td>3.482267</td>\n      <td>3.482267</td>\n      <td>3.482267</td>\n      <td>3.476910</td>\n      <td>3.476910</td>\n      <td>3.476910</td>\n      <td>3.059038</td>\n      <td>3.428694</td>\n      <td>3.428694</td>\n    </tr>\n    <tr>\n      <td>23</td>\n      <td>46975</td>\n      <td>63519</td>\n      <td>150 ml</td>\n      <td>1 mg/ml</td>\n      <td>Stada Nordic</td>\n      <td>AUP_pr_DDD</td>\n      <td>NaN</td>\n      <td>NaN</td>\n      <td>NaN</td>\n      <td>NaN</td>\n      <td>...</td>\n      <td>NaN</td>\n      <td>NaN</td>\n      <td>NaN</td>\n      <td>82.375000</td>\n      <td>71.760000</td>\n      <td>54.230000</td>\n      <td>69.470000</td>\n      <td>62.725000</td>\n      <td>49.775000</td>\n      <td>41.685000</td>\n    </tr>\n    <tr>\n      <td>24</td>\n      <td>46979</td>\n      <td>72209</td>\n      <td>28 stk. (blister)</td>\n      <td>15 mg</td>\n      <td>PharmaCoDane</td>\n      <td>AUP_pr_DDD</td>\n      <td>NaN</td>\n      <td>NaN</td>\n      <td>NaN</td>\n      <td>NaN</td>\n      <td>...</td>\n      <td>NaN</td>\n      <td>NaN</td>\n      <td>NaN</td>\n      <td>NaN</td>\n      <td>NaN</td>\n      <td>NaN</td>\n      <td>NaN</td>\n      <td>NaN</td>\n      <td>NaN</td>\n      <td>NaN</td>\n    </tr>\n    <tr>\n      <td>25</td>\n      <td>46983</td>\n      <td>96777</td>\n      <td>28 stk. (blister)</td>\n      <td>10 mg</td>\n      <td>PharmaCoDane</td>\n      <td>AUP_pr_DDD</td>\n      <td>NaN</td>\n      <td>NaN</td>\n      <td>NaN</td>\n      <td>NaN</td>\n      <td>...</td>\n      <td>22.609418</td>\n      <td>20.726416</td>\n      <td>19.277334</td>\n      <td>19.277334</td>\n      <td>17.849681</td>\n      <td>17.849681</td>\n      <td>17.849681</td>\n      <td>32.734237</td>\n      <td>31.218193</td>\n      <td>28.111105</td>\n    </tr>\n    <tr>\n      <td>26</td>\n      <td>46987</td>\n      <td>105533</td>\n      <td>56 stk. (blister)</td>\n      <td>15 mg</td>\n      <td>PharmaCoDane</td>\n      <td>AUP_pr_DDD</td>\n      <td>NaN</td>\n      <td>NaN</td>\n      <td>NaN</td>\n      <td>NaN</td>\n      <td>...</td>\n      <td>0.750000</td>\n      <td>0.661607</td>\n      <td>0.661607</td>\n      <td>1.184821</td>\n      <td>1.181250</td>\n      <td>1.181250</td>\n      <td>1.181250</td>\n      <td>1.181250</td>\n      <td>1.181250</td>\n      <td>1.181250</td>\n    </tr>\n    <tr>\n      <td>27</td>\n      <td>46991</td>\n      <td>115831</td>\n      <td>30 stk. (blister)</td>\n      <td>10 mg</td>\n      <td>PharmaCoDane</td>\n      <td>AUP_pr_DDD</td>\n      <td>NaN</td>\n      <td>NaN</td>\n      <td>NaN</td>\n      <td>NaN</td>\n      <td>...</td>\n      <td>3.047500</td>\n      <td>3.047500</td>\n      <td>3.047500</td>\n      <td>3.047500</td>\n      <td>3.040000</td>\n      <td>3.040000</td>\n      <td>3.040000</td>\n      <td>3.040000</td>\n      <td>3.040000</td>\n      <td>2.432500</td>\n    </tr>\n    <tr>\n      <td>28</td>\n      <td>46995</td>\n      <td>139844</td>\n      <td>14 stk. (blister)</td>\n      <td>5 mg</td>\n      <td>PharmaCoDane</td>\n      <td>AUP_pr_DDD</td>\n      <td>NaN</td>\n      <td>NaN</td>\n      <td>NaN</td>\n      <td>NaN</td>\n      <td>...</td>\n      <td>3.031926</td>\n      <td>3.031926</td>\n      <td>3.031926</td>\n      <td>3.031926</td>\n      <td>3.021213</td>\n      <td>3.021213</td>\n      <td>3.021213</td>\n      <td>3.021213</td>\n      <td>3.021213</td>\n      <td>3.021213</td>\n    </tr>\n    <tr>\n      <td>29</td>\n      <td>46999</td>\n      <td>145932</td>\n      <td>28 stk. (blister)</td>\n      <td>30 mg</td>\n      <td>PharmaCoDane</td>\n      <td>AUP_pr_DDD</td>\n      <td>NaN</td>\n      <td>NaN</td>\n      <td>NaN</td>\n      <td>NaN</td>\n      <td>...</td>\n      <td>NaN</td>\n      <td>NaN</td>\n      <td>NaN</td>\n      <td>NaN</td>\n      <td>NaN</td>\n      <td>NaN</td>\n      <td>NaN</td>\n      <td>NaN</td>\n      <td>NaN</td>\n      <td>NaN</td>\n    </tr>\n    <tr>\n      <td>30</td>\n      <td>47003</td>\n      <td>197123</td>\n      <td>56 stk. (blister)</td>\n      <td>30 mg</td>\n      <td>PharmaCoDane</td>\n      <td>AUP_pr_DDD</td>\n      <td>NaN</td>\n      <td>NaN</td>\n      <td>NaN</td>\n      <td>NaN</td>\n      <td>...</td>\n      <td>0.725000</td>\n      <td>0.725000</td>\n      <td>0.725000</td>\n      <td>0.725000</td>\n      <td>0.723214</td>\n      <td>0.723214</td>\n      <td>0.723214</td>\n      <td>0.723214</td>\n      <td>0.723214</td>\n      <td>0.723214</td>\n    </tr>\n    <tr>\n      <td>31</td>\n      <td>47007</td>\n      <td>396362</td>\n      <td>56 stk. (blister)</td>\n      <td>10 mg</td>\n      <td>PharmaCoDane</td>\n      <td>AUP_pr_DDD</td>\n      <td>NaN</td>\n      <td>NaN</td>\n      <td>NaN</td>\n      <td>NaN</td>\n      <td>...</td>\n      <td>2.357164</td>\n      <td>2.357164</td>\n      <td>2.357164</td>\n      <td>2.357164</td>\n      <td>2.350467</td>\n      <td>2.350467</td>\n      <td>2.350467</td>\n      <td>2.350467</td>\n      <td>2.350467</td>\n      <td>2.025018</td>\n    </tr>\n    <tr>\n      <td>32</td>\n      <td>47011</td>\n      <td>403579</td>\n      <td>28 stk. (blister)</td>\n      <td>15 mg</td>\n      <td>PharmaCoDane</td>\n      <td>AUP_pr_DDD</td>\n      <td>NaN</td>\n      <td>NaN</td>\n      <td>NaN</td>\n      <td>NaN</td>\n      <td>...</td>\n      <td>39.080357</td>\n      <td>39.080357</td>\n      <td>39.080357</td>\n      <td>34.057143</td>\n      <td>33.335714</td>\n      <td>30.687500</td>\n      <td>30.687500</td>\n      <td>25.339286</td>\n      <td>25.339286</td>\n      <td>21.775000</td>\n    </tr>\n    <tr>\n      <td>33</td>\n      <td>47015</td>\n      <td>427375</td>\n      <td>30 stk. (blister)</td>\n      <td>15 mg</td>\n      <td>PharmaCoDane</td>\n      <td>AUP_pr_DDD</td>\n      <td>NaN</td>\n      <td>NaN</td>\n      <td>NaN</td>\n      <td>NaN</td>\n      <td>...</td>\n      <td>1.265000</td>\n      <td>1.265000</td>\n      <td>1.265000</td>\n      <td>1.265000</td>\n      <td>1.261667</td>\n      <td>1.261667</td>\n      <td>1.261667</td>\n      <td>1.261667</td>\n      <td>1.261667</td>\n      <td>1.261667</td>\n    </tr>\n    <tr>\n      <td>34</td>\n      <td>47019</td>\n      <td>440405</td>\n      <td>56 stk. (blister)</td>\n      <td>5 mg</td>\n      <td>PharmaCoDane</td>\n      <td>AUP_pr_DDD</td>\n      <td>NaN</td>\n      <td>NaN</td>\n      <td>NaN</td>\n      <td>NaN</td>\n      <td>...</td>\n      <td>2.032999</td>\n      <td>2.032999</td>\n      <td>2.032999</td>\n      <td>2.032999</td>\n      <td>2.027642</td>\n      <td>2.027642</td>\n      <td>2.027642</td>\n      <td>2.027642</td>\n      <td>2.027642</td>\n      <td>2.027642</td>\n    </tr>\n    <tr>\n      <td>35</td>\n      <td>47023</td>\n      <td>523039</td>\n      <td>28 stk. (blister)</td>\n      <td>10 mg</td>\n      <td>PharmaCoDane</td>\n      <td>AUP_pr_DDD</td>\n      <td>NaN</td>\n      <td>NaN</td>\n      <td>NaN</td>\n      <td>NaN</td>\n      <td>...</td>\n      <td>NaN</td>\n      <td>NaN</td>\n      <td>NaN</td>\n      <td>NaN</td>\n      <td>NaN</td>\n      <td>NaN</td>\n      <td>NaN</td>\n      <td>NaN</td>\n      <td>NaN</td>\n      <td>NaN</td>\n    </tr>\n  </tbody>\n</table>\n<p>36 rows × 141 columns</p>\n</div>",
      "text/plain": "    index  Product_number          Packaging Strength        Company  \\\n0   46883           79410           100 stk.    10 mg  Teva (S›borg)   \n1   46887          113971  28 stk. (blister)    10 mg  Teva (S›borg)   \n2   46891          173895           100 stk.    15 mg  Teva (S›borg)   \n3   46895          178885             150 ml  1 mg/ml  Teva (S›borg)   \n4   46899          418119  56 stk. (blister)     5 mg  Teva (S›borg)   \n5   46903          506809           100 stk.     5 mg  Teva (S›borg)   \n6   46907          540648  56 stk. (blister)    15 mg  Teva (S›borg)   \n7   46911          542634  56 stk. (blister)    10 mg  Teva (S›borg)   \n8   46915          554817  28 stk. (blister)    15 mg  Teva (S›borg)   \n9   46919           52737  56 stk. (blister)     5 mg        Krka AB   \n10  46923           88445  56 stk. (blister)    15 mg        Krka AB   \n11  46927          107657  56 stk. (blister)    10 mg        Krka AB   \n12  46931          113143  56 stk. (blister)    30 mg        Krka AB   \n13  46935          114662  14 stk. (blister)     5 mg        Krka AB   \n14  46939          123435  28 stk. (blister)    15 mg        Krka AB   \n15  46943          161996  50 stk. (blister)    10 mg        Krka AB   \n16  46947          184731  28 stk. (blister)     5 mg        Krka AB   \n17  46951          187894  50 stk. (blister)    15 mg        Krka AB   \n18  46955          373252  28 stk. (blister)    10 mg        Krka AB   \n19  46959          418660  50 stk. (blister)     5 mg        Krka AB   \n20  46963          494853  50 stk. (blister)    30 mg        Krka AB   \n21  46967          521910  28 stk. (blister)    30 mg        Krka AB   \n22  46971           37768  28 stk. (blister)     5 mg   PharmaCoDane   \n23  46975           63519             150 ml  1 mg/ml   Stada Nordic   \n24  46979           72209  28 stk. (blister)    15 mg   PharmaCoDane   \n25  46983           96777  28 stk. (blister)    10 mg   PharmaCoDane   \n26  46987          105533  56 stk. (blister)    15 mg   PharmaCoDane   \n27  46991          115831  30 stk. (blister)    10 mg   PharmaCoDane   \n28  46995          139844  14 stk. (blister)     5 mg   PharmaCoDane   \n29  46999          145932  28 stk. (blister)    30 mg   PharmaCoDane   \n30  47003          197123  56 stk. (blister)    30 mg   PharmaCoDane   \n31  47007          396362  56 stk. (blister)    10 mg   PharmaCoDane   \n32  47011          403579  28 stk. (blister)    15 mg   PharmaCoDane   \n33  47015          427375  30 stk. (blister)    15 mg   PharmaCoDane   \n34  47019          440405  56 stk. (blister)     5 mg   PharmaCoDane   \n35  47023          523039  28 stk. (blister)    10 mg   PharmaCoDane   \n\n     Indicator   e20150202   e20150216   e20150302  e20150316  ...  e20191118  \\\n0   AUP_pr_DDD         NaN         NaN         NaN        NaN  ...   5.579972   \n1   AUP_pr_DDD         NaN         NaN         NaN        NaN  ...        NaN   \n2   AUP_pr_DDD         NaN         NaN         NaN        NaN  ...   0.455000   \n3   AUP_pr_DDD         NaN         NaN         NaN        NaN  ...        NaN   \n4   AUP_pr_DDD         NaN         NaN         NaN        NaN  ...        NaN   \n5   AUP_pr_DDD         NaN         NaN         NaN        NaN  ...   3.816038   \n6   AUP_pr_DDD         NaN         NaN         NaN        NaN  ...        NaN   \n7   AUP_pr_DDD         NaN         NaN         NaN        NaN  ...        NaN   \n8   AUP_pr_DDD         NaN         NaN         NaN        NaN  ...   0.792857   \n9   AUP_pr_DDD  119.304120  112.714952   98.810736  73.193336  ...   1.995500   \n10  AUP_pr_DDD   29.277679   26.837500   21.958036  20.006250  ...   0.894643   \n11  AUP_pr_DDD   57.091581   53.065652   47.575871  36.597648  ...   2.357164   \n12  AUP_pr_DDD   33.058929   33.058929   31.838839  25.739732  ...   0.725000   \n13  AUP_pr_DDD  140.529248  134.668952  117.109492  99.539319  ...        NaN   \n14  AUP_pr_DDD   29.766071   28.301786   22.446429  20.494643  ...        NaN   \n15  AUP_pr_DDD         NaN         NaN         NaN        NaN  ...   2.436024   \n16  AUP_pr_DDD  120.041787  117.116683   98.960677  80.520733  ...        NaN   \n17  AUP_pr_DDD         NaN         NaN         NaN        NaN  ...        NaN   \n18  AUP_pr_DDD   57.823967   53.431189   49.041089  40.258210  ...   3.265120   \n19  AUP_pr_DDD         NaN         NaN         NaN        NaN  ...        NaN   \n20  AUP_pr_DDD         NaN         NaN         NaN        NaN  ...   0.717500   \n21  AUP_pr_DDD   39.280357   38.060714   35.620536  31.716964  ...        NaN   \n22  AUP_pr_DDD         NaN         NaN         NaN        NaN  ...   3.482267   \n23  AUP_pr_DDD         NaN         NaN         NaN        NaN  ...        NaN   \n24  AUP_pr_DDD         NaN         NaN         NaN        NaN  ...        NaN   \n25  AUP_pr_DDD         NaN         NaN         NaN        NaN  ...  22.609418   \n26  AUP_pr_DDD         NaN         NaN         NaN        NaN  ...   0.750000   \n27  AUP_pr_DDD         NaN         NaN         NaN        NaN  ...   3.047500   \n28  AUP_pr_DDD         NaN         NaN         NaN        NaN  ...   3.031926   \n29  AUP_pr_DDD         NaN         NaN         NaN        NaN  ...        NaN   \n30  AUP_pr_DDD         NaN         NaN         NaN        NaN  ...   0.725000   \n31  AUP_pr_DDD         NaN         NaN         NaN        NaN  ...   2.357164   \n32  AUP_pr_DDD         NaN         NaN         NaN        NaN  ...  39.080357   \n33  AUP_pr_DDD         NaN         NaN         NaN        NaN  ...   1.265000   \n34  AUP_pr_DDD         NaN         NaN         NaN        NaN  ...   2.032999   \n35  AUP_pr_DDD         NaN         NaN         NaN        NaN  ...        NaN   \n\n    e20191202  e20191216  e20191230  e20200113  e20200127  e20200210  \\\n0         NaN        NaN        NaN        NaN        NaN        NaN   \n1         NaN        NaN        NaN        NaN        NaN        NaN   \n2         NaN        NaN        NaN        NaN        NaN        NaN   \n3         NaN        NaN        NaN        NaN        NaN        NaN   \n4         NaN        NaN        NaN        NaN        NaN        NaN   \n5         NaN        NaN        NaN        NaN        NaN        NaN   \n6         NaN        NaN        NaN        NaN        NaN        NaN   \n7         NaN        NaN        NaN        NaN        NaN        NaN   \n8         NaN        NaN        NaN        NaN        NaN        NaN   \n9    1.757111   1.757111   1.518723   1.513366   1.513366   1.513366   \n10   0.684821   0.580357   0.580357   0.579464   0.579464   1.157143   \n11   2.357164   2.357164   2.357164   2.350467   2.350467   2.350467   \n12   0.725000   0.725000   0.725000   0.723214   0.723214   0.723214   \n13        NaN        NaN        NaN        NaN        NaN        NaN   \n14        NaN        NaN        NaN        NaN        NaN        NaN   \n15   2.436024   2.436024   2.436024   2.430024   2.430024   2.430024   \n16        NaN        NaN        NaN        NaN        NaN        NaN   \n17        NaN        NaN        NaN        NaN        NaN        NaN   \n18   3.265120   3.265120   3.265120   3.257085   3.257085   3.257085   \n19        NaN        NaN        NaN        NaN        NaN        NaN   \n20   0.717500   0.717500   0.717500   0.715500   0.715500   0.715500   \n21        NaN        NaN        NaN        NaN        NaN        NaN   \n22   3.482267   3.482267   3.482267   3.476910   3.476910   3.476910   \n23        NaN        NaN  82.375000  71.760000  54.230000  69.470000   \n24        NaN        NaN        NaN        NaN        NaN        NaN   \n25  20.726416  19.277334  19.277334  17.849681  17.849681  17.849681   \n26   0.661607   0.661607   1.184821   1.181250   1.181250   1.181250   \n27   3.047500   3.047500   3.047500   3.040000   3.040000   3.040000   \n28   3.031926   3.031926   3.031926   3.021213   3.021213   3.021213   \n29        NaN        NaN        NaN        NaN        NaN        NaN   \n30   0.725000   0.725000   0.725000   0.723214   0.723214   0.723214   \n31   2.357164   2.357164   2.357164   2.350467   2.350467   2.350467   \n32  39.080357  39.080357  34.057143  33.335714  30.687500  30.687500   \n33   1.265000   1.265000   1.265000   1.261667   1.261667   1.261667   \n34   2.032999   2.032999   2.032999   2.027642   2.027642   2.027642   \n35        NaN        NaN        NaN        NaN        NaN        NaN   \n\n    e20200224  e20200309  e20200323  \n0         NaN        NaN        NaN  \n1         NaN        NaN        NaN  \n2         NaN        NaN        NaN  \n3         NaN        NaN        NaN  \n4         NaN        NaN        NaN  \n5         NaN        NaN        NaN  \n6         NaN        NaN        NaN  \n7         NaN        NaN        NaN  \n8         NaN        NaN        NaN  \n9    1.513366   1.384797   1.384797  \n10   1.157143   1.157143   1.157143  \n11   2.350467   2.350467   2.350467  \n12   0.723214   0.723214   0.723214  \n13        NaN        NaN        NaN  \n14        NaN        NaN        NaN  \n15   2.430024   2.430024   2.430024  \n16        NaN        NaN        NaN  \n17        NaN        NaN        NaN  \n18   3.257085   3.257085   3.257085  \n19        NaN        NaN        NaN  \n20   0.715500   0.715500   0.715500  \n21        NaN        NaN        NaN  \n22   3.059038   3.428694   3.428694  \n23  62.725000  49.775000  41.685000  \n24        NaN        NaN        NaN  \n25  32.734237  31.218193  28.111105  \n26   1.181250   1.181250   1.181250  \n27   3.040000   3.040000   2.432500  \n28   3.021213   3.021213   3.021213  \n29        NaN        NaN        NaN  \n30   0.723214   0.723214   0.723214  \n31   2.350467   2.350467   2.025018  \n32  25.339286  25.339286  21.775000  \n33   1.261667   1.261667   1.261667  \n34   2.027642   2.027642   2.027642  \n35        NaN        NaN        NaN  \n\n[36 rows x 141 columns]"
     },
     "execution_count": 211,
     "metadata": {},
     "output_type": "execute_result"
    }
   ],
   "source": [
    "medprices_dk_copy2 = medprices_dk.copy()\n",
    "aripiprazol2=medprices_dk_copy2.loc[medprices_dk_copy2['Medicine'].isin(['Aripiprazol \"Accord Healthcare\"', 'Aripiprazol \"Krka\"','Aripiprazol \"Stada\"','Aripiprazol \"Accord\"','Aripiprazol \"Aristo\"','Aripiprazol \"Medical Valley\"','Aripiprazol \"Sandoz\"','Aripiprazol \"Teva\"']) ]\n",
    "a=aripiprazol2.Indicator.str.contains('AUP_pr_DDD')\n",
    "aripiprazol2=aripiprazol2.loc[a, :]\n",
    "drop_list=['ATC', 'Form', 'Medicine']\n",
    "aripiprazol2.drop(drop_list, axis=1, inplace=True)\n",
    "aripiprazol2.reset_index()"
   ]
  },
  {
   "cell_type": "code",
   "execution_count": 212,
   "metadata": {},
   "outputs": [
    {
     "data": {
      "text/html": "<div>\n<style scoped>\n    .dataframe tbody tr th:only-of-type {\n        vertical-align: middle;\n    }\n\n    .dataframe tbody tr th {\n        vertical-align: top;\n    }\n\n    .dataframe thead th {\n        text-align: right;\n    }\n</style>\n<table border=\"1\" class=\"dataframe\">\n  <thead>\n    <tr style=\"text-align: right;\">\n      <th></th>\n      <th></th>\n      <th>Indicator</th>\n      <th>Packaging</th>\n      <th>Strength</th>\n      <th>Company</th>\n      <th>e</th>\n    </tr>\n    <tr>\n      <th>Product_number</th>\n      <th>Date</th>\n      <th></th>\n      <th></th>\n      <th></th>\n      <th></th>\n      <th></th>\n    </tr>\n  </thead>\n  <tbody>\n    <tr>\n      <td>37768</td>\n      <td>20150202</td>\n      <td>AUP_pr_DDD</td>\n      <td>28 stk. (blister)</td>\n      <td>5 mg</td>\n      <td>PharmaCoDane</td>\n      <td>NaN</td>\n    </tr>\n    <tr>\n      <td>52737</td>\n      <td>20150202</td>\n      <td>AUP_pr_DDD</td>\n      <td>56 stk. (blister)</td>\n      <td>5 mg</td>\n      <td>Krka AB</td>\n      <td>119.30412</td>\n    </tr>\n    <tr>\n      <td>63519</td>\n      <td>20150202</td>\n      <td>AUP_pr_DDD</td>\n      <td>150 ml</td>\n      <td>1 mg/ml</td>\n      <td>Stada Nordic</td>\n      <td>NaN</td>\n    </tr>\n    <tr>\n      <td>72209</td>\n      <td>20150202</td>\n      <td>AUP_pr_DDD</td>\n      <td>28 stk. (blister)</td>\n      <td>15 mg</td>\n      <td>PharmaCoDane</td>\n      <td>NaN</td>\n    </tr>\n    <tr>\n      <td>79410</td>\n      <td>20150202</td>\n      <td>AUP_pr_DDD</td>\n      <td>100 stk.</td>\n      <td>10 mg</td>\n      <td>Teva (S›borg)</td>\n      <td>NaN</td>\n    </tr>\n    <tr>\n      <td>...</td>\n      <td>...</td>\n      <td>...</td>\n      <td>...</td>\n      <td>...</td>\n      <td>...</td>\n      <td>...</td>\n    </tr>\n    <tr>\n      <td>521910</td>\n      <td>20200323</td>\n      <td>AUP_pr_DDD</td>\n      <td>28 stk. (blister)</td>\n      <td>30 mg</td>\n      <td>Krka AB</td>\n      <td>NaN</td>\n    </tr>\n    <tr>\n      <td>523039</td>\n      <td>20200323</td>\n      <td>AUP_pr_DDD</td>\n      <td>28 stk. (blister)</td>\n      <td>10 mg</td>\n      <td>PharmaCoDane</td>\n      <td>NaN</td>\n    </tr>\n    <tr>\n      <td>540648</td>\n      <td>20200323</td>\n      <td>AUP_pr_DDD</td>\n      <td>56 stk. (blister)</td>\n      <td>15 mg</td>\n      <td>Teva (S›borg)</td>\n      <td>NaN</td>\n    </tr>\n    <tr>\n      <td>542634</td>\n      <td>20200323</td>\n      <td>AUP_pr_DDD</td>\n      <td>56 stk. (blister)</td>\n      <td>10 mg</td>\n      <td>Teva (S›borg)</td>\n      <td>NaN</td>\n    </tr>\n    <tr>\n      <td>554817</td>\n      <td>20200323</td>\n      <td>AUP_pr_DDD</td>\n      <td>28 stk. (blister)</td>\n      <td>15 mg</td>\n      <td>Teva (S›borg)</td>\n      <td>NaN</td>\n    </tr>\n  </tbody>\n</table>\n<p>4860 rows × 5 columns</p>\n</div>",
      "text/plain": "                          Indicator          Packaging Strength  \\\nProduct_number Date                                               \n37768          20150202  AUP_pr_DDD  28 stk. (blister)     5 mg   \n52737          20150202  AUP_pr_DDD  56 stk. (blister)     5 mg   \n63519          20150202  AUP_pr_DDD             150 ml  1 mg/ml   \n72209          20150202  AUP_pr_DDD  28 stk. (blister)    15 mg   \n79410          20150202  AUP_pr_DDD           100 stk.    10 mg   \n...                             ...                ...      ...   \n521910         20200323  AUP_pr_DDD  28 stk. (blister)    30 mg   \n523039         20200323  AUP_pr_DDD  28 stk. (blister)    10 mg   \n540648         20200323  AUP_pr_DDD  56 stk. (blister)    15 mg   \n542634         20200323  AUP_pr_DDD  56 stk. (blister)    10 mg   \n554817         20200323  AUP_pr_DDD  28 stk. (blister)    15 mg   \n\n                               Company          e  \nProduct_number Date                                \n37768          20150202   PharmaCoDane        NaN  \n52737          20150202        Krka AB  119.30412  \n63519          20150202   Stada Nordic        NaN  \n72209          20150202   PharmaCoDane        NaN  \n79410          20150202  Teva (S›borg)        NaN  \n...                                ...        ...  \n521910         20200323        Krka AB        NaN  \n523039         20200323   PharmaCoDane        NaN  \n540648         20200323  Teva (S›borg)        NaN  \n542634         20200323  Teva (S›borg)        NaN  \n554817         20200323  Teva (S›borg)        NaN  \n\n[4860 rows x 5 columns]"
     },
     "execution_count": 212,
     "metadata": {},
     "output_type": "execute_result"
    }
   ],
   "source": [
    "# 4. Create long format of dataframe \n",
    "\n",
    "aripiprazol_long= pd.wide_to_long(aripiprazol2, stubnames='e', i=\"Product_number\", j='Date') # Created long format of the lamotrigin Dataframe\n",
    "e_grouped = aripiprazol_long.groupby('Date')['e'] # Grouped by product number\n",
    "aripiprazol_long= aripiprazol_long.sort_values(['Date','Product_number']) # Organized product number by date\n",
    "aripiprazol_long"
   ]
  },
  {
   "cell_type": "code",
   "execution_count": 213,
   "metadata": {},
   "outputs": [
    {
     "data": {
      "text/plain": "Indicator       0\nPackaging       0\nStrength        0\nCompany         0\ne            1623\ndtype: int64"
     },
     "execution_count": 213,
     "metadata": {},
     "output_type": "execute_result"
    }
   ],
   "source": [
    "\n",
    "aripiprazol_long.isnull().sum() # Explore how many null values are in each column of your dataset\n"
   ]
  },
  {
   "cell_type": "code",
   "execution_count": 214,
   "metadata": {},
   "outputs": [
    {
     "data": {
      "text/html": "<div>\n<style scoped>\n    .dataframe tbody tr th:only-of-type {\n        vertical-align: middle;\n    }\n\n    .dataframe tbody tr th {\n        vertical-align: top;\n    }\n\n    .dataframe thead th {\n        text-align: right;\n    }\n</style>\n<table border=\"1\" class=\"dataframe\">\n  <thead>\n    <tr style=\"text-align: right;\">\n      <th></th>\n      <th></th>\n      <th>Indicator</th>\n      <th>Packaging</th>\n      <th>Strength</th>\n      <th>Company</th>\n      <th>e</th>\n    </tr>\n    <tr>\n      <th>Product_number</th>\n      <th>Date</th>\n      <th></th>\n      <th></th>\n      <th></th>\n      <th></th>\n      <th></th>\n    </tr>\n  </thead>\n  <tbody>\n    <tr>\n      <td>52737</td>\n      <td>20150202</td>\n      <td>AUP_pr_DDD</td>\n      <td>56 stk. (blister)</td>\n      <td>5 mg</td>\n      <td>Krka AB</td>\n      <td>119.304120</td>\n    </tr>\n    <tr>\n      <td>88445</td>\n      <td>20150202</td>\n      <td>AUP_pr_DDD</td>\n      <td>56 stk. (blister)</td>\n      <td>15 mg</td>\n      <td>Krka AB</td>\n      <td>29.277679</td>\n    </tr>\n    <tr>\n      <td>107657</td>\n      <td>20150202</td>\n      <td>AUP_pr_DDD</td>\n      <td>56 stk. (blister)</td>\n      <td>10 mg</td>\n      <td>Krka AB</td>\n      <td>57.091581</td>\n    </tr>\n    <tr>\n      <td>113143</td>\n      <td>20150202</td>\n      <td>AUP_pr_DDD</td>\n      <td>56 stk. (blister)</td>\n      <td>30 mg</td>\n      <td>Krka AB</td>\n      <td>33.058929</td>\n    </tr>\n    <tr>\n      <td>114662</td>\n      <td>20150202</td>\n      <td>AUP_pr_DDD</td>\n      <td>14 stk. (blister)</td>\n      <td>5 mg</td>\n      <td>Krka AB</td>\n      <td>140.529248</td>\n    </tr>\n    <tr>\n      <td>...</td>\n      <td>...</td>\n      <td>...</td>\n      <td>...</td>\n      <td>...</td>\n      <td>...</td>\n      <td>...</td>\n    </tr>\n    <tr>\n      <td>396362</td>\n      <td>20200323</td>\n      <td>AUP_pr_DDD</td>\n      <td>56 stk. (blister)</td>\n      <td>10 mg</td>\n      <td>PharmaCoDane</td>\n      <td>2.025018</td>\n    </tr>\n    <tr>\n      <td>403579</td>\n      <td>20200323</td>\n      <td>AUP_pr_DDD</td>\n      <td>28 stk. (blister)</td>\n      <td>15 mg</td>\n      <td>PharmaCoDane</td>\n      <td>21.775000</td>\n    </tr>\n    <tr>\n      <td>427375</td>\n      <td>20200323</td>\n      <td>AUP_pr_DDD</td>\n      <td>30 stk. (blister)</td>\n      <td>15 mg</td>\n      <td>PharmaCoDane</td>\n      <td>1.261667</td>\n    </tr>\n    <tr>\n      <td>440405</td>\n      <td>20200323</td>\n      <td>AUP_pr_DDD</td>\n      <td>56 stk. (blister)</td>\n      <td>5 mg</td>\n      <td>PharmaCoDane</td>\n      <td>2.027642</td>\n    </tr>\n    <tr>\n      <td>494853</td>\n      <td>20200323</td>\n      <td>AUP_pr_DDD</td>\n      <td>50 stk. (blister)</td>\n      <td>30 mg</td>\n      <td>Krka AB</td>\n      <td>0.715500</td>\n    </tr>\n  </tbody>\n</table>\n<p>3237 rows × 5 columns</p>\n</div>",
      "text/plain": "                          Indicator          Packaging Strength       Company  \\\nProduct_number Date                                                             \n52737          20150202  AUP_pr_DDD  56 stk. (blister)     5 mg       Krka AB   \n88445          20150202  AUP_pr_DDD  56 stk. (blister)    15 mg       Krka AB   \n107657         20150202  AUP_pr_DDD  56 stk. (blister)    10 mg       Krka AB   \n113143         20150202  AUP_pr_DDD  56 stk. (blister)    30 mg       Krka AB   \n114662         20150202  AUP_pr_DDD  14 stk. (blister)     5 mg       Krka AB   \n...                             ...                ...      ...           ...   \n396362         20200323  AUP_pr_DDD  56 stk. (blister)    10 mg  PharmaCoDane   \n403579         20200323  AUP_pr_DDD  28 stk. (blister)    15 mg  PharmaCoDane   \n427375         20200323  AUP_pr_DDD  30 stk. (blister)    15 mg  PharmaCoDane   \n440405         20200323  AUP_pr_DDD  56 stk. (blister)     5 mg  PharmaCoDane   \n494853         20200323  AUP_pr_DDD  50 stk. (blister)    30 mg       Krka AB   \n\n                                  e  \nProduct_number Date                  \n52737          20150202  119.304120  \n88445          20150202   29.277679  \n107657         20150202   57.091581  \n113143         20150202   33.058929  \n114662         20150202  140.529248  \n...                             ...  \n396362         20200323    2.025018  \n403579         20200323   21.775000  \n427375         20200323    1.261667  \n440405         20200323    2.027642  \n494853         20200323    0.715500  \n\n[3237 rows x 5 columns]"
     },
     "execution_count": 214,
     "metadata": {},
     "output_type": "execute_result"
    }
   ],
   "source": [
    "aripiprazol_long=aripiprazol_long[aripiprazol_long['e'].notna()]\n",
    "aripiprazol_long"
   ]
  },
  {
   "cell_type": "code",
   "execution_count": 215,
   "metadata": {},
   "outputs": [
    {
     "data": {
      "text/plain": "Indicator    0\nPackaging    0\nStrength     0\nCompany      0\ne            0\ndtype: int64"
     },
     "execution_count": 215,
     "metadata": {},
     "output_type": "execute_result"
    }
   ],
   "source": [
    "aripiprazol_long.isnull().sum() # Explore how many null values are in each column of your dataset"
   ]
  },
  {
   "cell_type": "code",
   "execution_count": 216,
   "metadata": {},
   "outputs": [
    {
     "data": {
      "text/html": "<div>\n<style scoped>\n    .dataframe tbody tr th:only-of-type {\n        vertical-align: middle;\n    }\n\n    .dataframe tbody tr th {\n        vertical-align: top;\n    }\n\n    .dataframe thead th {\n        text-align: right;\n    }\n</style>\n<table border=\"1\" class=\"dataframe\">\n  <thead>\n    <tr style=\"text-align: right;\">\n      <th></th>\n      <th></th>\n      <th>Indicator</th>\n      <th>Packaging</th>\n      <th>Strength</th>\n      <th>Company</th>\n      <th>Price</th>\n    </tr>\n    <tr>\n      <th>Product_number</th>\n      <th>Date</th>\n      <th></th>\n      <th></th>\n      <th></th>\n      <th></th>\n      <th></th>\n    </tr>\n  </thead>\n  <tbody>\n    <tr>\n      <td>52737</td>\n      <td>20150202</td>\n      <td>AUP_pr_DDD</td>\n      <td>56 stk. (blister)</td>\n      <td>5 mg</td>\n      <td>Krka AB</td>\n      <td>119.304120</td>\n    </tr>\n    <tr>\n      <td>88445</td>\n      <td>20150202</td>\n      <td>AUP_pr_DDD</td>\n      <td>56 stk. (blister)</td>\n      <td>15 mg</td>\n      <td>Krka AB</td>\n      <td>29.277679</td>\n    </tr>\n    <tr>\n      <td>107657</td>\n      <td>20150202</td>\n      <td>AUP_pr_DDD</td>\n      <td>56 stk. (blister)</td>\n      <td>10 mg</td>\n      <td>Krka AB</td>\n      <td>57.091581</td>\n    </tr>\n    <tr>\n      <td>113143</td>\n      <td>20150202</td>\n      <td>AUP_pr_DDD</td>\n      <td>56 stk. (blister)</td>\n      <td>30 mg</td>\n      <td>Krka AB</td>\n      <td>33.058929</td>\n    </tr>\n    <tr>\n      <td>114662</td>\n      <td>20150202</td>\n      <td>AUP_pr_DDD</td>\n      <td>14 stk. (blister)</td>\n      <td>5 mg</td>\n      <td>Krka AB</td>\n      <td>140.529248</td>\n    </tr>\n    <tr>\n      <td>...</td>\n      <td>...</td>\n      <td>...</td>\n      <td>...</td>\n      <td>...</td>\n      <td>...</td>\n      <td>...</td>\n    </tr>\n    <tr>\n      <td>396362</td>\n      <td>20200323</td>\n      <td>AUP_pr_DDD</td>\n      <td>56 stk. (blister)</td>\n      <td>10 mg</td>\n      <td>PharmaCoDane</td>\n      <td>2.025018</td>\n    </tr>\n    <tr>\n      <td>403579</td>\n      <td>20200323</td>\n      <td>AUP_pr_DDD</td>\n      <td>28 stk. (blister)</td>\n      <td>15 mg</td>\n      <td>PharmaCoDane</td>\n      <td>21.775000</td>\n    </tr>\n    <tr>\n      <td>427375</td>\n      <td>20200323</td>\n      <td>AUP_pr_DDD</td>\n      <td>30 stk. (blister)</td>\n      <td>15 mg</td>\n      <td>PharmaCoDane</td>\n      <td>1.261667</td>\n    </tr>\n    <tr>\n      <td>440405</td>\n      <td>20200323</td>\n      <td>AUP_pr_DDD</td>\n      <td>56 stk. (blister)</td>\n      <td>5 mg</td>\n      <td>PharmaCoDane</td>\n      <td>2.027642</td>\n    </tr>\n    <tr>\n      <td>494853</td>\n      <td>20200323</td>\n      <td>AUP_pr_DDD</td>\n      <td>50 stk. (blister)</td>\n      <td>30 mg</td>\n      <td>Krka AB</td>\n      <td>0.715500</td>\n    </tr>\n  </tbody>\n</table>\n<p>3237 rows × 5 columns</p>\n</div>",
      "text/plain": "                          Indicator          Packaging Strength       Company  \\\nProduct_number Date                                                             \n52737          20150202  AUP_pr_DDD  56 stk. (blister)     5 mg       Krka AB   \n88445          20150202  AUP_pr_DDD  56 stk. (blister)    15 mg       Krka AB   \n107657         20150202  AUP_pr_DDD  56 stk. (blister)    10 mg       Krka AB   \n113143         20150202  AUP_pr_DDD  56 stk. (blister)    30 mg       Krka AB   \n114662         20150202  AUP_pr_DDD  14 stk. (blister)     5 mg       Krka AB   \n...                             ...                ...      ...           ...   \n396362         20200323  AUP_pr_DDD  56 stk. (blister)    10 mg  PharmaCoDane   \n403579         20200323  AUP_pr_DDD  28 stk. (blister)    15 mg  PharmaCoDane   \n427375         20200323  AUP_pr_DDD  30 stk. (blister)    15 mg  PharmaCoDane   \n440405         20200323  AUP_pr_DDD  56 stk. (blister)     5 mg  PharmaCoDane   \n494853         20200323  AUP_pr_DDD  50 stk. (blister)    30 mg       Krka AB   \n\n                              Price  \nProduct_number Date                  \n52737          20150202  119.304120  \n88445          20150202   29.277679  \n107657         20150202   57.091581  \n113143         20150202   33.058929  \n114662         20150202  140.529248  \n...                             ...  \n396362         20200323    2.025018  \n403579         20200323   21.775000  \n427375         20200323    1.261667  \n440405         20200323    2.027642  \n494853         20200323    0.715500  \n\n[3237 rows x 5 columns]"
     },
     "execution_count": 216,
     "metadata": {},
     "output_type": "execute_result"
    }
   ],
   "source": [
    "aripiprazol_long.rename(columns={\"e\": \"Price\"}, inplace=True)\n",
    "aripiprazol_long"
   ]
  },
  {
   "cell_type": "code",
   "execution_count": 217,
   "metadata": {},
   "outputs": [
    {
     "data": {
      "text/html": "<div>\n<style scoped>\n    .dataframe tbody tr th:only-of-type {\n        vertical-align: middle;\n    }\n\n    .dataframe tbody tr th {\n        vertical-align: top;\n    }\n\n    .dataframe thead th {\n        text-align: right;\n    }\n</style>\n<table border=\"1\" class=\"dataframe\">\n  <thead>\n    <tr style=\"text-align: right;\">\n      <th></th>\n      <th></th>\n      <th>Indicator</th>\n      <th>Packaging</th>\n      <th>Strength</th>\n      <th>Company</th>\n      <th>Price</th>\n    </tr>\n    <tr>\n      <th>Product_number</th>\n      <th>Date</th>\n      <th></th>\n      <th></th>\n      <th></th>\n      <th></th>\n      <th></th>\n    </tr>\n  </thead>\n  <tbody>\n    <tr>\n      <td>52737</td>\n      <td>20150202</td>\n      <td>AUP_pr_DDD</td>\n      <td>56 stk. (blister)</td>\n      <td>5 mg</td>\n      <td>Krka AB</td>\n      <td>119.304120</td>\n    </tr>\n    <tr>\n      <td>88445</td>\n      <td>20150202</td>\n      <td>AUP_pr_DDD</td>\n      <td>56 stk. (blister)</td>\n      <td>15 mg</td>\n      <td>Krka AB</td>\n      <td>29.277679</td>\n    </tr>\n    <tr>\n      <td>107657</td>\n      <td>20150202</td>\n      <td>AUP_pr_DDD</td>\n      <td>56 stk. (blister)</td>\n      <td>10 mg</td>\n      <td>Krka AB</td>\n      <td>57.091581</td>\n    </tr>\n    <tr>\n      <td>113143</td>\n      <td>20150202</td>\n      <td>AUP_pr_DDD</td>\n      <td>56 stk. (blister)</td>\n      <td>30 mg</td>\n      <td>Krka AB</td>\n      <td>33.058929</td>\n    </tr>\n    <tr>\n      <td>52737</td>\n      <td>20150216</td>\n      <td>AUP_pr_DDD</td>\n      <td>56 stk. (blister)</td>\n      <td>5 mg</td>\n      <td>Krka AB</td>\n      <td>112.714952</td>\n    </tr>\n    <tr>\n      <td>...</td>\n      <td>...</td>\n      <td>...</td>\n      <td>...</td>\n      <td>...</td>\n      <td>...</td>\n      <td>...</td>\n    </tr>\n    <tr>\n      <td>107657</td>\n      <td>20200323</td>\n      <td>AUP_pr_DDD</td>\n      <td>56 stk. (blister)</td>\n      <td>10 mg</td>\n      <td>Krka AB</td>\n      <td>2.350467</td>\n    </tr>\n    <tr>\n      <td>113143</td>\n      <td>20200323</td>\n      <td>AUP_pr_DDD</td>\n      <td>56 stk. (blister)</td>\n      <td>30 mg</td>\n      <td>Krka AB</td>\n      <td>0.723214</td>\n    </tr>\n    <tr>\n      <td>197123</td>\n      <td>20200323</td>\n      <td>AUP_pr_DDD</td>\n      <td>56 stk. (blister)</td>\n      <td>30 mg</td>\n      <td>PharmaCoDane</td>\n      <td>0.723214</td>\n    </tr>\n    <tr>\n      <td>396362</td>\n      <td>20200323</td>\n      <td>AUP_pr_DDD</td>\n      <td>56 stk. (blister)</td>\n      <td>10 mg</td>\n      <td>PharmaCoDane</td>\n      <td>2.025018</td>\n    </tr>\n    <tr>\n      <td>440405</td>\n      <td>20200323</td>\n      <td>AUP_pr_DDD</td>\n      <td>56 stk. (blister)</td>\n      <td>5 mg</td>\n      <td>PharmaCoDane</td>\n      <td>2.027642</td>\n    </tr>\n  </tbody>\n</table>\n<p>1218 rows × 5 columns</p>\n</div>",
      "text/plain": "                          Indicator          Packaging Strength       Company  \\\nProduct_number Date                                                             \n52737          20150202  AUP_pr_DDD  56 stk. (blister)     5 mg       Krka AB   \n88445          20150202  AUP_pr_DDD  56 stk. (blister)    15 mg       Krka AB   \n107657         20150202  AUP_pr_DDD  56 stk. (blister)    10 mg       Krka AB   \n113143         20150202  AUP_pr_DDD  56 stk. (blister)    30 mg       Krka AB   \n52737          20150216  AUP_pr_DDD  56 stk. (blister)     5 mg       Krka AB   \n...                             ...                ...      ...           ...   \n107657         20200323  AUP_pr_DDD  56 stk. (blister)    10 mg       Krka AB   \n113143         20200323  AUP_pr_DDD  56 stk. (blister)    30 mg       Krka AB   \n197123         20200323  AUP_pr_DDD  56 stk. (blister)    30 mg  PharmaCoDane   \n396362         20200323  AUP_pr_DDD  56 stk. (blister)    10 mg  PharmaCoDane   \n440405         20200323  AUP_pr_DDD  56 stk. (blister)     5 mg  PharmaCoDane   \n\n                              Price  \nProduct_number Date                  \n52737          20150202  119.304120  \n88445          20150202   29.277679  \n107657         20150202   57.091581  \n113143         20150202   33.058929  \n52737          20150216  112.714952  \n...                             ...  \n107657         20200323    2.350467  \n113143         20200323    0.723214  \n197123         20200323    0.723214  \n396362         20200323    2.025018  \n440405         20200323    2.027642  \n\n[1218 rows x 5 columns]"
     },
     "execution_count": 217,
     "metadata": {},
     "output_type": "execute_result"
    }
   ],
   "source": [
    "aripiprazol_long.loc[aripiprazol_long['Packaging'] == '56 stk. (blister)']"
   ]
  },
  {
   "cell_type": "code",
   "execution_count": 218,
   "metadata": {},
   "outputs": [
    {
     "data": {
      "text/plain": "141.793443325477"
     },
     "execution_count": 218,
     "metadata": {},
     "output_type": "execute_result"
    }
   ],
   "source": [
    "aripiprazol_long['Price'].max()"
   ]
  },
  {
   "cell_type": "code",
   "execution_count": 219,
   "metadata": {},
   "outputs": [
    {
     "data": {
      "text/plain": "0.113392857142857"
     },
     "execution_count": 219,
     "metadata": {},
     "output_type": "execute_result"
    }
   ],
   "source": [
    "aripiprazol_long['Price'].min()"
   ]
  },
  {
   "cell_type": "code",
   "execution_count": 220,
   "metadata": {},
   "outputs": [
    {
     "data": {
      "text/html": "<div>\n<style scoped>\n    .dataframe tbody tr th:only-of-type {\n        vertical-align: middle;\n    }\n\n    .dataframe tbody tr th {\n        vertical-align: top;\n    }\n\n    .dataframe thead th {\n        text-align: right;\n    }\n</style>\n<table border=\"1\" class=\"dataframe\">\n  <thead>\n    <tr style=\"text-align: right;\">\n      <th></th>\n      <th></th>\n      <th>Packaging</th>\n      <th>Strength</th>\n      <th>Company</th>\n      <th>Price</th>\n    </tr>\n    <tr>\n      <th>Product_number</th>\n      <th>Date</th>\n      <th></th>\n      <th></th>\n      <th></th>\n      <th></th>\n    </tr>\n  </thead>\n  <tbody>\n    <tr>\n      <td>52737</td>\n      <td>20150202</td>\n      <td>56 stk. (blister)</td>\n      <td>5 mg</td>\n      <td>Krka AB</td>\n      <td>119.304120</td>\n    </tr>\n    <tr>\n      <td>88445</td>\n      <td>20150202</td>\n      <td>56 stk. (blister)</td>\n      <td>15 mg</td>\n      <td>Krka AB</td>\n      <td>29.277679</td>\n    </tr>\n    <tr>\n      <td>107657</td>\n      <td>20150202</td>\n      <td>56 stk. (blister)</td>\n      <td>10 mg</td>\n      <td>Krka AB</td>\n      <td>57.091581</td>\n    </tr>\n    <tr>\n      <td>113143</td>\n      <td>20150202</td>\n      <td>56 stk. (blister)</td>\n      <td>30 mg</td>\n      <td>Krka AB</td>\n      <td>33.058929</td>\n    </tr>\n    <tr>\n      <td>114662</td>\n      <td>20150202</td>\n      <td>14 stk. (blister)</td>\n      <td>5 mg</td>\n      <td>Krka AB</td>\n      <td>140.529248</td>\n    </tr>\n    <tr>\n      <td>...</td>\n      <td>...</td>\n      <td>...</td>\n      <td>...</td>\n      <td>...</td>\n      <td>...</td>\n    </tr>\n    <tr>\n      <td>396362</td>\n      <td>20200323</td>\n      <td>56 stk. (blister)</td>\n      <td>10 mg</td>\n      <td>PharmaCoDane</td>\n      <td>2.025018</td>\n    </tr>\n    <tr>\n      <td>403579</td>\n      <td>20200323</td>\n      <td>28 stk. (blister)</td>\n      <td>15 mg</td>\n      <td>PharmaCoDane</td>\n      <td>21.775000</td>\n    </tr>\n    <tr>\n      <td>427375</td>\n      <td>20200323</td>\n      <td>30 stk. (blister)</td>\n      <td>15 mg</td>\n      <td>PharmaCoDane</td>\n      <td>1.261667</td>\n    </tr>\n    <tr>\n      <td>440405</td>\n      <td>20200323</td>\n      <td>56 stk. (blister)</td>\n      <td>5 mg</td>\n      <td>PharmaCoDane</td>\n      <td>2.027642</td>\n    </tr>\n    <tr>\n      <td>494853</td>\n      <td>20200323</td>\n      <td>50 stk. (blister)</td>\n      <td>30 mg</td>\n      <td>Krka AB</td>\n      <td>0.715500</td>\n    </tr>\n  </tbody>\n</table>\n<p>3237 rows × 4 columns</p>\n</div>",
      "text/plain": "                                 Packaging Strength       Company       Price\nProduct_number Date                                                          \n52737          20150202  56 stk. (blister)     5 mg       Krka AB  119.304120\n88445          20150202  56 stk. (blister)    15 mg       Krka AB   29.277679\n107657         20150202  56 stk. (blister)    10 mg       Krka AB   57.091581\n113143         20150202  56 stk. (blister)    30 mg       Krka AB   33.058929\n114662         20150202  14 stk. (blister)     5 mg       Krka AB  140.529248\n...                                    ...      ...           ...         ...\n396362         20200323  56 stk. (blister)    10 mg  PharmaCoDane    2.025018\n403579         20200323  28 stk. (blister)    15 mg  PharmaCoDane   21.775000\n427375         20200323  30 stk. (blister)    15 mg  PharmaCoDane    1.261667\n440405         20200323  56 stk. (blister)     5 mg  PharmaCoDane    2.027642\n494853         20200323  50 stk. (blister)    30 mg       Krka AB    0.715500\n\n[3237 rows x 4 columns]"
     },
     "execution_count": 220,
     "metadata": {},
     "output_type": "execute_result"
    }
   ],
   "source": [
    "del aripiprazol_long['Indicator']\n",
    "aripiprazol_long"
   ]
  },
  {
   "cell_type": "code",
   "execution_count": 221,
   "metadata": {},
   "outputs": [
    {
     "data": {
      "text/html": "<div>\n<style scoped>\n    .dataframe tbody tr th:only-of-type {\n        vertical-align: middle;\n    }\n\n    .dataframe tbody tr th {\n        vertical-align: top;\n    }\n\n    .dataframe thead th {\n        text-align: right;\n    }\n</style>\n<table border=\"1\" class=\"dataframe\">\n  <thead>\n    <tr style=\"text-align: right;\">\n      <th></th>\n      <th></th>\n      <th>Strength</th>\n      <th>Company</th>\n      <th>Price</th>\n    </tr>\n    <tr>\n      <th>Product_number</th>\n      <th>Date</th>\n      <th></th>\n      <th></th>\n      <th></th>\n    </tr>\n  </thead>\n  <tbody>\n    <tr>\n      <td>52737</td>\n      <td>20150202</td>\n      <td>5 mg</td>\n      <td>Krka AB</td>\n      <td>119.304120</td>\n    </tr>\n    <tr>\n      <td>88445</td>\n      <td>20150202</td>\n      <td>15 mg</td>\n      <td>Krka AB</td>\n      <td>29.277679</td>\n    </tr>\n    <tr>\n      <td>107657</td>\n      <td>20150202</td>\n      <td>10 mg</td>\n      <td>Krka AB</td>\n      <td>57.091581</td>\n    </tr>\n    <tr>\n      <td>113143</td>\n      <td>20150202</td>\n      <td>30 mg</td>\n      <td>Krka AB</td>\n      <td>33.058929</td>\n    </tr>\n    <tr>\n      <td>114662</td>\n      <td>20150202</td>\n      <td>5 mg</td>\n      <td>Krka AB</td>\n      <td>140.529248</td>\n    </tr>\n    <tr>\n      <td>...</td>\n      <td>...</td>\n      <td>...</td>\n      <td>...</td>\n      <td>...</td>\n    </tr>\n    <tr>\n      <td>396362</td>\n      <td>20200323</td>\n      <td>10 mg</td>\n      <td>PharmaCoDane</td>\n      <td>2.025018</td>\n    </tr>\n    <tr>\n      <td>403579</td>\n      <td>20200323</td>\n      <td>15 mg</td>\n      <td>PharmaCoDane</td>\n      <td>21.775000</td>\n    </tr>\n    <tr>\n      <td>427375</td>\n      <td>20200323</td>\n      <td>15 mg</td>\n      <td>PharmaCoDane</td>\n      <td>1.261667</td>\n    </tr>\n    <tr>\n      <td>440405</td>\n      <td>20200323</td>\n      <td>5 mg</td>\n      <td>PharmaCoDane</td>\n      <td>2.027642</td>\n    </tr>\n    <tr>\n      <td>494853</td>\n      <td>20200323</td>\n      <td>30 mg</td>\n      <td>Krka AB</td>\n      <td>0.715500</td>\n    </tr>\n  </tbody>\n</table>\n<p>3237 rows × 3 columns</p>\n</div>",
      "text/plain": "                        Strength       Company       Price\nProduct_number Date                                       \n52737          20150202     5 mg       Krka AB  119.304120\n88445          20150202    15 mg       Krka AB   29.277679\n107657         20150202    10 mg       Krka AB   57.091581\n113143         20150202    30 mg       Krka AB   33.058929\n114662         20150202     5 mg       Krka AB  140.529248\n...                          ...           ...         ...\n396362         20200323    10 mg  PharmaCoDane    2.025018\n403579         20200323    15 mg  PharmaCoDane   21.775000\n427375         20200323    15 mg  PharmaCoDane    1.261667\n440405         20200323     5 mg  PharmaCoDane    2.027642\n494853         20200323    30 mg       Krka AB    0.715500\n\n[3237 rows x 3 columns]"
     },
     "execution_count": 221,
     "metadata": {},
     "output_type": "execute_result"
    }
   ],
   "source": [
    "\n",
    "del aripiprazol_long['Packaging']\n",
    "#del aripiprazol_long['Strength']\n",
    "aripiprazol_long"
   ]
  },
  {
   "cell_type": "code",
   "execution_count": null,
   "metadata": {},
   "outputs": [],
   "source": [
    "## 4. Analyzing the drug Lamotrigin (price cycles)"
   ]
  },
  {
   "cell_type": "code",
   "execution_count": 222,
   "metadata": {},
   "outputs": [
    {
     "data": {
      "text/html": "<div>\n<style scoped>\n    .dataframe tbody tr th:only-of-type {\n        vertical-align: middle;\n    }\n\n    .dataframe tbody tr th {\n        vertical-align: top;\n    }\n\n    .dataframe thead th {\n        text-align: right;\n    }\n</style>\n<table border=\"1\" class=\"dataframe\">\n  <thead>\n    <tr style=\"text-align: right;\">\n      <th></th>\n      <th></th>\n      <th>Company</th>\n      <th>Price</th>\n    </tr>\n    <tr>\n      <th>Product_number</th>\n      <th>Date</th>\n      <th></th>\n      <th></th>\n    </tr>\n  </thead>\n  <tbody>\n    <tr>\n      <td>52737</td>\n      <td>20150202</td>\n      <td>Krka AB</td>\n      <td>119.304120</td>\n    </tr>\n    <tr>\n      <td>88445</td>\n      <td>20150202</td>\n      <td>Krka AB</td>\n      <td>29.277679</td>\n    </tr>\n    <tr>\n      <td>107657</td>\n      <td>20150202</td>\n      <td>Krka AB</td>\n      <td>57.091581</td>\n    </tr>\n    <tr>\n      <td>113143</td>\n      <td>20150202</td>\n      <td>Krka AB</td>\n      <td>33.058929</td>\n    </tr>\n    <tr>\n      <td>114662</td>\n      <td>20150202</td>\n      <td>Krka AB</td>\n      <td>140.529248</td>\n    </tr>\n    <tr>\n      <td>...</td>\n      <td>...</td>\n      <td>...</td>\n      <td>...</td>\n    </tr>\n    <tr>\n      <td>396362</td>\n      <td>20200323</td>\n      <td>PharmaCoDane</td>\n      <td>2.025018</td>\n    </tr>\n    <tr>\n      <td>403579</td>\n      <td>20200323</td>\n      <td>PharmaCoDane</td>\n      <td>21.775000</td>\n    </tr>\n    <tr>\n      <td>427375</td>\n      <td>20200323</td>\n      <td>PharmaCoDane</td>\n      <td>1.261667</td>\n    </tr>\n    <tr>\n      <td>440405</td>\n      <td>20200323</td>\n      <td>PharmaCoDane</td>\n      <td>2.027642</td>\n    </tr>\n    <tr>\n      <td>494853</td>\n      <td>20200323</td>\n      <td>Krka AB</td>\n      <td>0.715500</td>\n    </tr>\n  </tbody>\n</table>\n<p>3237 rows × 2 columns</p>\n</div>",
      "text/plain": "                              Company       Price\nProduct_number Date                              \n52737          20150202       Krka AB  119.304120\n88445          20150202       Krka AB   29.277679\n107657         20150202       Krka AB   57.091581\n113143         20150202       Krka AB   33.058929\n114662         20150202       Krka AB  140.529248\n...                               ...         ...\n396362         20200323  PharmaCoDane    2.025018\n403579         20200323  PharmaCoDane   21.775000\n427375         20200323  PharmaCoDane    1.261667\n440405         20200323  PharmaCoDane    2.027642\n494853         20200323       Krka AB    0.715500\n\n[3237 rows x 2 columns]"
     },
     "execution_count": 222,
     "metadata": {},
     "output_type": "execute_result"
    }
   ],
   "source": [
    "del aripiprazol_long['Strength']\n",
    "aripiprazol_long"
   ]
  },
  {
   "cell_type": "code",
   "execution_count": 237,
   "metadata": {},
   "outputs": [
    {
     "data": {
      "text/html": "<div>\n<style scoped>\n    .dataframe tbody tr th:only-of-type {\n        vertical-align: middle;\n    }\n\n    .dataframe tbody tr th {\n        vertical-align: top;\n    }\n\n    .dataframe thead th {\n        text-align: right;\n    }\n</style>\n<table border=\"1\" class=\"dataframe\">\n  <thead>\n    <tr style=\"text-align: right;\">\n      <th></th>\n      <th>Company</th>\n      <th>Price</th>\n    </tr>\n    <tr>\n      <th>Date</th>\n      <th></th>\n      <th></th>\n    </tr>\n  </thead>\n  <tbody>\n    <tr>\n      <td>20150202</td>\n      <td>Krka AB</td>\n      <td>29.277679</td>\n    </tr>\n    <tr>\n      <td>20150216</td>\n      <td>Krka AB</td>\n      <td>26.837500</td>\n    </tr>\n    <tr>\n      <td>20150302</td>\n      <td>Krka AB</td>\n      <td>21.958036</td>\n    </tr>\n    <tr>\n      <td>20150316</td>\n      <td>Krka AB</td>\n      <td>20.006250</td>\n    </tr>\n    <tr>\n      <td>20150330</td>\n      <td>Krka AB</td>\n      <td>17.078571</td>\n    </tr>\n    <tr>\n      <td>...</td>\n      <td>...</td>\n      <td>...</td>\n    </tr>\n    <tr>\n      <td>20200127</td>\n      <td>Krka AB</td>\n      <td>0.579464</td>\n    </tr>\n    <tr>\n      <td>20200210</td>\n      <td>Krka AB</td>\n      <td>0.715500</td>\n    </tr>\n    <tr>\n      <td>20200224</td>\n      <td>Krka AB</td>\n      <td>0.715500</td>\n    </tr>\n    <tr>\n      <td>20200309</td>\n      <td>Krka AB</td>\n      <td>0.715500</td>\n    </tr>\n    <tr>\n      <td>20200323</td>\n      <td>Krka AB</td>\n      <td>0.715500</td>\n    </tr>\n  </tbody>\n</table>\n<p>135 rows × 2 columns</p>\n</div>",
      "text/plain": "          Company      Price\nDate                        \n20150202  Krka AB  29.277679\n20150216  Krka AB  26.837500\n20150302  Krka AB  21.958036\n20150316  Krka AB  20.006250\n20150330  Krka AB  17.078571\n...           ...        ...\n20200127  Krka AB   0.579464\n20200210  Krka AB   0.715500\n20200224  Krka AB   0.715500\n20200309  Krka AB   0.715500\n20200323  Krka AB   0.715500\n\n[135 rows x 2 columns]"
     },
     "execution_count": 237,
     "metadata": {},
     "output_type": "execute_result"
    }
   ],
   "source": [
    "e.min = aripiprazol_long.groupby('Date').min()\n",
    "e.min\n"
   ]
  },
  {
   "cell_type": "code",
   "execution_count": 245,
   "metadata": {},
   "outputs": [
    {
     "ename": "TypeError",
     "evalue": "unhashable type: 'numpy.ndarray'",
     "output_type": "error",
     "traceback": [
      "\u001b[0;31m---------------------------------------------------------------------------\u001b[0m",
      "\u001b[0;31mTypeError\u001b[0m                                 Traceback (most recent call last)",
      "\u001b[0;32m<ipython-input-245-7610d244cc09>\u001b[0m in \u001b[0;36m<module>\u001b[0;34m\u001b[0m\n\u001b[0;32m----> 1\u001b[0;31m \u001b[0mplt\u001b[0m\u001b[0;34m.\u001b[0m\u001b[0mscatter\u001b[0m\u001b[0;34m(\u001b[0m\u001b[0me\u001b[0m\u001b[0;34m.\u001b[0m\u001b[0mmin\u001b[0m\u001b[0;34m,\u001b[0m \u001b[0;34m'Date'\u001b[0m\u001b[0;34m)\u001b[0m\u001b[0;34m\u001b[0m\u001b[0;34m\u001b[0m\u001b[0m\n\u001b[0m\u001b[1;32m      2\u001b[0m \u001b[0mplt\u001b[0m\u001b[0;34m.\u001b[0m\u001b[0mshow\u001b[0m\u001b[0;34m\u001b[0m\u001b[0;34m\u001b[0m\u001b[0m\n",
      "\u001b[0;32m~/opt/anaconda3/lib/python3.7/site-packages/matplotlib/pyplot.py\u001b[0m in \u001b[0;36mscatter\u001b[0;34m(x, y, s, c, marker, cmap, norm, vmin, vmax, alpha, linewidths, verts, edgecolors, hold, data, **kwargs)\u001b[0m\n\u001b[1;32m   3473\u001b[0m                          \u001b[0mvmin\u001b[0m\u001b[0;34m=\u001b[0m\u001b[0mvmin\u001b[0m\u001b[0;34m,\u001b[0m \u001b[0mvmax\u001b[0m\u001b[0;34m=\u001b[0m\u001b[0mvmax\u001b[0m\u001b[0;34m,\u001b[0m \u001b[0malpha\u001b[0m\u001b[0;34m=\u001b[0m\u001b[0malpha\u001b[0m\u001b[0;34m,\u001b[0m\u001b[0;34m\u001b[0m\u001b[0;34m\u001b[0m\u001b[0m\n\u001b[1;32m   3474\u001b[0m                          \u001b[0mlinewidths\u001b[0m\u001b[0;34m=\u001b[0m\u001b[0mlinewidths\u001b[0m\u001b[0;34m,\u001b[0m \u001b[0mverts\u001b[0m\u001b[0;34m=\u001b[0m\u001b[0mverts\u001b[0m\u001b[0;34m,\u001b[0m\u001b[0;34m\u001b[0m\u001b[0;34m\u001b[0m\u001b[0m\n\u001b[0;32m-> 3475\u001b[0;31m                          edgecolors=edgecolors, data=data, **kwargs)\n\u001b[0m\u001b[1;32m   3476\u001b[0m     \u001b[0;32mfinally\u001b[0m\u001b[0;34m:\u001b[0m\u001b[0;34m\u001b[0m\u001b[0;34m\u001b[0m\u001b[0m\n\u001b[1;32m   3477\u001b[0m         \u001b[0max\u001b[0m\u001b[0;34m.\u001b[0m\u001b[0m_hold\u001b[0m \u001b[0;34m=\u001b[0m \u001b[0mwashold\u001b[0m\u001b[0;34m\u001b[0m\u001b[0;34m\u001b[0m\u001b[0m\n",
      "\u001b[0;32m~/opt/anaconda3/lib/python3.7/site-packages/matplotlib/__init__.py\u001b[0m in \u001b[0;36minner\u001b[0;34m(ax, *args, **kwargs)\u001b[0m\n\u001b[1;32m   1865\u001b[0m                         \u001b[0;34m\"the Matplotlib list!)\"\u001b[0m \u001b[0;34m%\u001b[0m \u001b[0;34m(\u001b[0m\u001b[0mlabel_namer\u001b[0m\u001b[0;34m,\u001b[0m \u001b[0mfunc\u001b[0m\u001b[0;34m.\u001b[0m\u001b[0m__name__\u001b[0m\u001b[0;34m)\u001b[0m\u001b[0;34m,\u001b[0m\u001b[0;34m\u001b[0m\u001b[0;34m\u001b[0m\u001b[0m\n\u001b[1;32m   1866\u001b[0m                         RuntimeWarning, stacklevel=2)\n\u001b[0;32m-> 1867\u001b[0;31m             \u001b[0;32mreturn\u001b[0m \u001b[0mfunc\u001b[0m\u001b[0;34m(\u001b[0m\u001b[0max\u001b[0m\u001b[0;34m,\u001b[0m \u001b[0;34m*\u001b[0m\u001b[0margs\u001b[0m\u001b[0;34m,\u001b[0m \u001b[0;34m**\u001b[0m\u001b[0mkwargs\u001b[0m\u001b[0;34m)\u001b[0m\u001b[0;34m\u001b[0m\u001b[0;34m\u001b[0m\u001b[0m\n\u001b[0m\u001b[1;32m   1868\u001b[0m \u001b[0;34m\u001b[0m\u001b[0m\n\u001b[1;32m   1869\u001b[0m         inner.__doc__ = _add_data_doc(inner.__doc__,\n",
      "\u001b[0;32m~/opt/anaconda3/lib/python3.7/site-packages/matplotlib/axes/_axes.py\u001b[0m in \u001b[0;36mscatter\u001b[0;34m(self, x, y, s, c, marker, cmap, norm, vmin, vmax, alpha, linewidths, verts, edgecolors, **kwargs)\u001b[0m\n\u001b[1;32m   4245\u001b[0m             \u001b[0medgecolors\u001b[0m \u001b[0;34m=\u001b[0m \u001b[0;34m'face'\u001b[0m\u001b[0;34m\u001b[0m\u001b[0;34m\u001b[0m\u001b[0m\n\u001b[1;32m   4246\u001b[0m \u001b[0;34m\u001b[0m\u001b[0m\n\u001b[0;32m-> 4247\u001b[0;31m         \u001b[0mself\u001b[0m\u001b[0;34m.\u001b[0m\u001b[0m_process_unit_info\u001b[0m\u001b[0;34m(\u001b[0m\u001b[0mxdata\u001b[0m\u001b[0;34m=\u001b[0m\u001b[0mx\u001b[0m\u001b[0;34m,\u001b[0m \u001b[0mydata\u001b[0m\u001b[0;34m=\u001b[0m\u001b[0my\u001b[0m\u001b[0;34m,\u001b[0m \u001b[0mkwargs\u001b[0m\u001b[0;34m=\u001b[0m\u001b[0mkwargs\u001b[0m\u001b[0;34m)\u001b[0m\u001b[0;34m\u001b[0m\u001b[0;34m\u001b[0m\u001b[0m\n\u001b[0m\u001b[1;32m   4248\u001b[0m         \u001b[0mx\u001b[0m \u001b[0;34m=\u001b[0m \u001b[0mself\u001b[0m\u001b[0;34m.\u001b[0m\u001b[0mconvert_xunits\u001b[0m\u001b[0;34m(\u001b[0m\u001b[0mx\u001b[0m\u001b[0;34m)\u001b[0m\u001b[0;34m\u001b[0m\u001b[0;34m\u001b[0m\u001b[0m\n\u001b[1;32m   4249\u001b[0m         \u001b[0my\u001b[0m \u001b[0;34m=\u001b[0m \u001b[0mself\u001b[0m\u001b[0;34m.\u001b[0m\u001b[0mconvert_yunits\u001b[0m\u001b[0;34m(\u001b[0m\u001b[0my\u001b[0m\u001b[0;34m)\u001b[0m\u001b[0;34m\u001b[0m\u001b[0;34m\u001b[0m\u001b[0m\n",
      "\u001b[0;32m~/opt/anaconda3/lib/python3.7/site-packages/matplotlib/axes/_base.py\u001b[0m in \u001b[0;36m_process_unit_info\u001b[0;34m(self, xdata, ydata, kwargs)\u001b[0m\n\u001b[1;32m   2165\u001b[0m             \u001b[0;31m# we only need to update if there is nothing set yet.\u001b[0m\u001b[0;34m\u001b[0m\u001b[0;34m\u001b[0m\u001b[0;34m\u001b[0m\u001b[0m\n\u001b[1;32m   2166\u001b[0m             \u001b[0;32mif\u001b[0m \u001b[0;32mnot\u001b[0m \u001b[0mself\u001b[0m\u001b[0;34m.\u001b[0m\u001b[0mxaxis\u001b[0m\u001b[0;34m.\u001b[0m\u001b[0mhave_units\u001b[0m\u001b[0;34m(\u001b[0m\u001b[0;34m)\u001b[0m\u001b[0;34m:\u001b[0m\u001b[0;34m\u001b[0m\u001b[0;34m\u001b[0m\u001b[0m\n\u001b[0;32m-> 2167\u001b[0;31m                 \u001b[0mself\u001b[0m\u001b[0;34m.\u001b[0m\u001b[0mxaxis\u001b[0m\u001b[0;34m.\u001b[0m\u001b[0mupdate_units\u001b[0m\u001b[0;34m(\u001b[0m\u001b[0mxdata\u001b[0m\u001b[0;34m)\u001b[0m\u001b[0;34m\u001b[0m\u001b[0;34m\u001b[0m\u001b[0m\n\u001b[0m\u001b[1;32m   2168\u001b[0m \u001b[0;34m\u001b[0m\u001b[0m\n\u001b[1;32m   2169\u001b[0m         \u001b[0;32mif\u001b[0m \u001b[0mydata\u001b[0m \u001b[0;32mis\u001b[0m \u001b[0;32mnot\u001b[0m \u001b[0;32mNone\u001b[0m\u001b[0;34m:\u001b[0m\u001b[0;34m\u001b[0m\u001b[0;34m\u001b[0m\u001b[0m\n",
      "\u001b[0;32m~/opt/anaconda3/lib/python3.7/site-packages/matplotlib/axis.py\u001b[0m in \u001b[0;36mupdate_units\u001b[0;34m(self, data)\u001b[0m\n\u001b[1;32m   1467\u001b[0m         \u001b[0mneednew\u001b[0m \u001b[0;34m=\u001b[0m \u001b[0mself\u001b[0m\u001b[0;34m.\u001b[0m\u001b[0mconverter\u001b[0m \u001b[0;34m!=\u001b[0m \u001b[0mconverter\u001b[0m\u001b[0;34m\u001b[0m\u001b[0;34m\u001b[0m\u001b[0m\n\u001b[1;32m   1468\u001b[0m         \u001b[0mself\u001b[0m\u001b[0;34m.\u001b[0m\u001b[0mconverter\u001b[0m \u001b[0;34m=\u001b[0m \u001b[0mconverter\u001b[0m\u001b[0;34m\u001b[0m\u001b[0;34m\u001b[0m\u001b[0m\n\u001b[0;32m-> 1469\u001b[0;31m         \u001b[0mdefault\u001b[0m \u001b[0;34m=\u001b[0m \u001b[0mself\u001b[0m\u001b[0;34m.\u001b[0m\u001b[0mconverter\u001b[0m\u001b[0;34m.\u001b[0m\u001b[0mdefault_units\u001b[0m\u001b[0;34m(\u001b[0m\u001b[0mdata\u001b[0m\u001b[0;34m,\u001b[0m \u001b[0mself\u001b[0m\u001b[0;34m)\u001b[0m\u001b[0;34m\u001b[0m\u001b[0;34m\u001b[0m\u001b[0m\n\u001b[0m\u001b[1;32m   1470\u001b[0m         \u001b[0;32mif\u001b[0m \u001b[0mdefault\u001b[0m \u001b[0;32mis\u001b[0m \u001b[0;32mnot\u001b[0m \u001b[0;32mNone\u001b[0m \u001b[0;32mand\u001b[0m \u001b[0mself\u001b[0m\u001b[0;34m.\u001b[0m\u001b[0munits\u001b[0m \u001b[0;32mis\u001b[0m \u001b[0;32mNone\u001b[0m\u001b[0;34m:\u001b[0m\u001b[0;34m\u001b[0m\u001b[0;34m\u001b[0m\u001b[0m\n\u001b[1;32m   1471\u001b[0m             \u001b[0mself\u001b[0m\u001b[0;34m.\u001b[0m\u001b[0mset_units\u001b[0m\u001b[0;34m(\u001b[0m\u001b[0mdefault\u001b[0m\u001b[0;34m)\u001b[0m\u001b[0;34m\u001b[0m\u001b[0;34m\u001b[0m\u001b[0m\n",
      "\u001b[0;32m~/opt/anaconda3/lib/python3.7/site-packages/matplotlib/category.py\u001b[0m in \u001b[0;36mdefault_units\u001b[0;34m(data, axis)\u001b[0m\n\u001b[1;32m    113\u001b[0m         \u001b[0;31m# default_units->axis_info->convert\u001b[0m\u001b[0;34m\u001b[0m\u001b[0;34m\u001b[0m\u001b[0;34m\u001b[0m\u001b[0m\n\u001b[1;32m    114\u001b[0m         \u001b[0;32mif\u001b[0m \u001b[0maxis\u001b[0m\u001b[0;34m.\u001b[0m\u001b[0munits\u001b[0m \u001b[0;32mis\u001b[0m \u001b[0;32mNone\u001b[0m\u001b[0;34m:\u001b[0m\u001b[0;34m\u001b[0m\u001b[0;34m\u001b[0m\u001b[0m\n\u001b[0;32m--> 115\u001b[0;31m             \u001b[0maxis\u001b[0m\u001b[0;34m.\u001b[0m\u001b[0mset_units\u001b[0m\u001b[0;34m(\u001b[0m\u001b[0mUnitData\u001b[0m\u001b[0;34m(\u001b[0m\u001b[0mdata\u001b[0m\u001b[0;34m)\u001b[0m\u001b[0;34m)\u001b[0m\u001b[0;34m\u001b[0m\u001b[0;34m\u001b[0m\u001b[0m\n\u001b[0m\u001b[1;32m    116\u001b[0m         \u001b[0;32melse\u001b[0m\u001b[0;34m:\u001b[0m\u001b[0;34m\u001b[0m\u001b[0;34m\u001b[0m\u001b[0m\n\u001b[1;32m    117\u001b[0m             \u001b[0maxis\u001b[0m\u001b[0;34m.\u001b[0m\u001b[0munits\u001b[0m\u001b[0;34m.\u001b[0m\u001b[0mupdate\u001b[0m\u001b[0;34m(\u001b[0m\u001b[0mdata\u001b[0m\u001b[0;34m)\u001b[0m\u001b[0;34m\u001b[0m\u001b[0;34m\u001b[0m\u001b[0m\n",
      "\u001b[0;32m~/opt/anaconda3/lib/python3.7/site-packages/matplotlib/category.py\u001b[0m in \u001b[0;36m__init__\u001b[0;34m(self, data)\u001b[0m\n\u001b[1;32m    180\u001b[0m         \u001b[0mself\u001b[0m\u001b[0;34m.\u001b[0m\u001b[0m_counter\u001b[0m \u001b[0;34m=\u001b[0m \u001b[0mitertools\u001b[0m\u001b[0;34m.\u001b[0m\u001b[0mcount\u001b[0m\u001b[0;34m(\u001b[0m\u001b[0mstart\u001b[0m\u001b[0;34m=\u001b[0m\u001b[0;36m0\u001b[0m\u001b[0;34m)\u001b[0m\u001b[0;34m\u001b[0m\u001b[0;34m\u001b[0m\u001b[0m\n\u001b[1;32m    181\u001b[0m         \u001b[0;32mif\u001b[0m \u001b[0mdata\u001b[0m \u001b[0;32mis\u001b[0m \u001b[0;32mnot\u001b[0m \u001b[0;32mNone\u001b[0m\u001b[0;34m:\u001b[0m\u001b[0;34m\u001b[0m\u001b[0;34m\u001b[0m\u001b[0m\n\u001b[0;32m--> 182\u001b[0;31m             \u001b[0mself\u001b[0m\u001b[0;34m.\u001b[0m\u001b[0mupdate\u001b[0m\u001b[0;34m(\u001b[0m\u001b[0mdata\u001b[0m\u001b[0;34m)\u001b[0m\u001b[0;34m\u001b[0m\u001b[0;34m\u001b[0m\u001b[0m\n\u001b[0m\u001b[1;32m    183\u001b[0m \u001b[0;34m\u001b[0m\u001b[0m\n\u001b[1;32m    184\u001b[0m     \u001b[0;32mdef\u001b[0m \u001b[0mupdate\u001b[0m\u001b[0;34m(\u001b[0m\u001b[0mself\u001b[0m\u001b[0;34m,\u001b[0m \u001b[0mdata\u001b[0m\u001b[0;34m)\u001b[0m\u001b[0;34m:\u001b[0m\u001b[0;34m\u001b[0m\u001b[0;34m\u001b[0m\u001b[0m\n",
      "\u001b[0;32m~/opt/anaconda3/lib/python3.7/site-packages/matplotlib/category.py\u001b[0m in \u001b[0;36mupdate\u001b[0;34m(self, data)\u001b[0m\n\u001b[1;32m    197\u001b[0m         \u001b[0mdata\u001b[0m \u001b[0;34m=\u001b[0m \u001b[0mnp\u001b[0m\u001b[0;34m.\u001b[0m\u001b[0matleast_1d\u001b[0m\u001b[0;34m(\u001b[0m\u001b[0mnp\u001b[0m\u001b[0;34m.\u001b[0m\u001b[0marray\u001b[0m\u001b[0;34m(\u001b[0m\u001b[0mdata\u001b[0m\u001b[0;34m,\u001b[0m \u001b[0mdtype\u001b[0m\u001b[0;34m=\u001b[0m\u001b[0mobject\u001b[0m\u001b[0;34m)\u001b[0m\u001b[0;34m)\u001b[0m\u001b[0;34m\u001b[0m\u001b[0;34m\u001b[0m\u001b[0m\n\u001b[1;32m    198\u001b[0m \u001b[0;34m\u001b[0m\u001b[0m\n\u001b[0;32m--> 199\u001b[0;31m         \u001b[0;32mfor\u001b[0m \u001b[0mval\u001b[0m \u001b[0;32min\u001b[0m \u001b[0mOrderedDict\u001b[0m\u001b[0;34m.\u001b[0m\u001b[0mfromkeys\u001b[0m\u001b[0;34m(\u001b[0m\u001b[0mdata\u001b[0m\u001b[0;34m)\u001b[0m\u001b[0;34m:\u001b[0m\u001b[0;34m\u001b[0m\u001b[0;34m\u001b[0m\u001b[0m\n\u001b[0m\u001b[1;32m    200\u001b[0m             \u001b[0;32mif\u001b[0m \u001b[0;32mnot\u001b[0m \u001b[0misinstance\u001b[0m\u001b[0;34m(\u001b[0m\u001b[0mval\u001b[0m\u001b[0;34m,\u001b[0m \u001b[0mVALID_TYPES\u001b[0m\u001b[0;34m)\u001b[0m\u001b[0;34m:\u001b[0m\u001b[0;34m\u001b[0m\u001b[0;34m\u001b[0m\u001b[0m\n\u001b[1;32m    201\u001b[0m                 \u001b[0;32mraise\u001b[0m \u001b[0mTypeError\u001b[0m\u001b[0;34m(\u001b[0m\u001b[0;34m\"{val!r} is not a string\"\u001b[0m\u001b[0;34m.\u001b[0m\u001b[0mformat\u001b[0m\u001b[0;34m(\u001b[0m\u001b[0mval\u001b[0m\u001b[0;34m=\u001b[0m\u001b[0mval\u001b[0m\u001b[0;34m)\u001b[0m\u001b[0;34m)\u001b[0m\u001b[0;34m\u001b[0m\u001b[0;34m\u001b[0m\u001b[0m\n",
      "\u001b[0;31mTypeError\u001b[0m: unhashable type: 'numpy.ndarray'"
     ]
    }
   ],
   "source": [
    "plt.scatter(e.min, 'Date')\n",
    "plt.show"
   ]
  },
  {
   "cell_type": "code",
   "execution_count": null,
   "metadata": {},
   "outputs": [],
   "source": [
    "medprices_dk_copy = medprices_dk.copy()\n",
    "lamotrigin=medprices_dk_copy.loc[medprices_dk_copy['Medicine'].isin(['Lamotrigin \"1A Farma\"', 'Lamotrigin \"Stada\"', 'Lamotrigin \"Orifarm\"','Lamotrigin \"Bluefish\"','Lamotrigin \"Aurobindo\"', 'Lamotrigin \"Amneal\"', 'Lamotrigin \"Abacus Medicine\"', 'Lamotrigin \"Mylan\"']) ]\n",
    "I=lamotrigin.Indicator.str.contains('AUP_pr_DDD')\n",
    "lamotrigin=lamotrigin.loc[I, :]\n",
    "drop_list=['ATC', 'Form', 'Medicine']\n",
    "lamotrigin.drop(drop_list, axis=1, inplace=True)\n",
    "lamotrigin.reset_index()\n"
   ]
  },
  {
   "cell_type": "code",
   "execution_count": null,
   "metadata": {},
   "outputs": [],
   "source": [
    "# 4. Create long format of dataframe \n",
    "\n",
    "lamotrigin_long= pd.wide_to_long(lamotrigin, stubnames='e', i=\"Product_number\", j='Date') # Created long format of the lamotrigin Dataframe\n",
    "e_grouped = lamotrigin_long.groupby('Product_number')['e'] # Grouped by product number\n",
    "lamotrigin_long= lamotrigin_long.sort_values(['Product_number','Date']) # Organized product number by date\n",
    "lamotrigin_long"
   ]
  },
  {
   "cell_type": "markdown",
   "metadata": {},
   "source": [
    "Average price per daily dose"
   ]
  },
  {
   "cell_type": "code",
   "execution_count": null,
   "metadata": {},
   "outputs": [],
   "source": [
    "# Calculated mean value of each product number \n",
    "e_mean = lamotrigin_long.groupby('Product_number')['e'].mean() \n",
    "e_mean.name ='e_mean'\n",
    "lamotrigin_new = lamotrigin.set_index('Product_number').join(e_mean, how='left') #merged mean values into original wide dataframe\n",
    "\n",
    "# Plot the distribution of price per daily dose in lamotrigin_new\n",
    "plt.hist(lamotrigin_new['e_mean'], bins=50, align='left', color='b', edgecolor='red',\n",
    "              linewidth=1)\n",
    " \n",
    "# Add axis labels\n",
    "plt.xlabel(\"Price DKK/daily dose\")\n",
    "plt.ylabel(\"Frequency\")\n",
    "plt.title(\"Distribution of the avarage price per daily dose\")\n",
    "plt.axvline(lamotrigin_new['e_mean'].mean(), color='red', linestyle='dashed', linewidth=1)\n",
    "\n",
    "plt.show()"
   ]
  },
  {
   "cell_type": "code",
   "execution_count": null,
   "metadata": {},
   "outputs": [],
   "source": [
    "#ax = sns.scatterplot(x='e', y='Date')\n"
   ]
  },
  {
   "cell_type": "code",
   "execution_count": null,
   "metadata": {},
   "outputs": [],
   "source": [
    "Date = pd.DataFrame(columns=['Date'])\n",
    "e = pd.DataFrame(columns=['e'])\n",
    "plt.scatter(date, e)\n",
    "plt.xlabel(\"Date\")\n",
    "plt.ylabel(\"Price\")\n",
    "plt.show"
   ]
  },
  {
   "cell_type": "markdown",
   "metadata": {},
   "source": [
    "## 5. Conclusion"
   ]
  },
  {
   "cell_type": "markdown",
   "metadata": {},
   "source": [
    "Even though it can not be visualised, the prices behaves as price cycles. Whether or not there is tacit collusion in the medicin market, can only be speculated, and not proven in this assignment. However the data has been cleaned, and structured, and therefore ready to be analyzed."
   ]
  }
 ]
}
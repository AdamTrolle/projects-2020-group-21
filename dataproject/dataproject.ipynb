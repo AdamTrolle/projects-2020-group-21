{
 "cells": [
  {
   "cell_type": "markdown",
   "metadata": {},
   "source": []
  },
  {
   "cell_type": "markdown",
   "metadata": {},
   "source": [
    "# Data project: Price cycles in the market for prescription drugs after patent expiry"
   ]
  },
  {
   "cell_type": "markdown",
   "metadata": {},
   "source": [
    "## Content\n",
    "### 1. Introduction\n",
    "### 2. Data reading, cleaning and selecting\n",
    "### 3. Expectations to the market mechanisms (normal situation)\n",
    "### 4. Analyzing the drug Lamotrigin (price cycles)\n",
    "### 5. Coonclusion\n"
   ]
  },
  {
   "cell_type": "markdown",
   "metadata": {},
   "source": [
    "## 1. Introduction"
   ]
  },
  {
   "cell_type": "markdown",
   "metadata": {},
   "source": [
    "In this project we will attempt to show the cyclic behaviour in some medical prices after the patent has expired, observed by the study \"Priscykler i markedet for receptpligtig medicin efter patentudløb”. It will serve to demonstrate the matter of possible colusion by involving key points from competition theory by Maskin and Tirole (1988). In the empirical analysis we will investigate whether these cycles appears in data for the danish medicine prices in the period 2nd febuary 2015 - 23rd of marts 2020. \n",
    "\n",
    "Pharmaceutical manufacturers in Denmark sell medicines through two channels: the primary healthcare sector, which involves sales to the pharmacies, and the secondary sector in which sales are made to\n",
    "hospitals. \n",
    "\n",
    "Before the competing phase, the company that developed the drug has a patent. The patent creates an incentive for the company to invest in new medicines, and with the exclusive right to sell the drug for a number of years, the company can receive research and production costs. In the period when the patent is valid, the market can be characterized as monopolistic and may have an inelastic demand curve, depending on of the type of drug. \n",
    "\n",
    "After the expiry of the patent, the prices of drugs that are sold to the pharmacies directly by the competing companies. Every 14 days, companies have the opportunity to report a new price electronically, where the company has\n",
    "has bid the lowest price in the same substitution group, wins the bidding round. The pharmacists are obliged to offer patients the cheapest drug within the same substitute group,\n",
    "and thus the company secures the largest market share, approx. 70 per cent until the next bidding round (”Priscykler i markedet for receptpligtig medicin efter patentudløb” p. 2). \n",
    "\n",
    "The data we will be working with in this project is containing these exactly 14-days prices."
   ]
  },
  {
   "cell_type": "markdown",
   "metadata": {},
   "source": [
    "## 2. Data reading, cleaning and selecting"
   ]
  },
  {
   "cell_type": "markdown",
   "metadata": {},
   "source": [
    "Import and set magics: "
   ]
  },
  {
   "cell_type": "code",
   "execution_count": 1,
   "metadata": {},
   "outputs": [],
   "source": [
    "import numpy as np\n",
    "import pandas as pd\n",
    "import datetime\n",
    "import matplotlib.pyplot as plt\n",
    "plt.style.use('seaborn-whitegrid')\n",
    "import ipywidgets as widgets\n",
    "import seaborn as sns; sns.set()\n",
    "import dataproject\n",
    "import pylab"
   ]
  },
  {
   "cell_type": "code",
   "execution_count": 2,
   "metadata": {},
   "outputs": [],
   "source": [
    "#1. Importing excel sheet for analysis\n",
    "medprices_dk = pd.read_excel('meddata.xlsx')"
   ]
  },
  {
   "cell_type": "code",
   "execution_count": 3,
   "metadata": {},
   "outputs": [],
   "source": [
    "# 2. Editing frame structure\n",
    "\n",
    "english = {'Lægemiddel':'Medicine', \n",
    "                  'Varenummer':'Product_number', \n",
    "                  'Pakning':'Packaging', \n",
    "                  'Styrke':'Strength', \n",
    "                  'Firma':'Company', \n",
    "                  'Indikator':'Indicator'}\n",
    "medprices_dk.rename(columns = english, inplace=True) # Convert columns from Danish to English\n",
    "\n",
    "column_v = list(medprices_dk.columns.values) # Create list of dataframes column names\n",
    "column_v= column_v[8:]# narrow list to only focus on date variables, as the variables start from coloumn 9 i the datasheet\n",
    "\n",
    "date_to_string = {} # Create dictionary for renaming date variables\n",
    "\n",
    "# Loop throught all possible date variables and add an e in front as variables in python cannot begin with a numbers\n",
    "for i in column_v:\n",
    "    date_to_string[i] = f'e{i}'\n",
    "\n",
    "medprices_dk.rename(columns = date_to_string, inplace=True) # Rename date variables in primary dataframe\n",
    "\n",
    "\n",
    "\n"
   ]
  },
  {
   "cell_type": "markdown",
   "metadata": {},
   "source": [
    "## 3. Expectations to the market mechanisms (normal situation)"
   ]
  },
  {
   "cell_type": "markdown",
   "metadata": {},
   "source": [
    "According to theory, the transition from a monopolistic market state to complete competition should push down the prices of medicines, as several players can enter the market. As the price moves towards marginal costs, fiercer competition arises. Of course, there may be supply or demand shocks, costly entry barriers, etc., but all else equal, the price should fall after patent expiry. \n",
    "\n",
    "In order to illustrate this, we have found a drug with an expiry of the patent in april 2015. \n",
    "The drug is named Aripiprazole, and is a treatment of psychoses.\n"
   ]
  },
  {
   "cell_type": "code",
   "execution_count": 4,
   "metadata": {},
   "outputs": [],
   "source": [
    "# 3. Focusing on the medicine Aripiprazol\n",
    "\n",
    "medprices_dk_copy2 = medprices_dk.copy() # Making a copy of the dataset\n",
    "\n",
    "aripiprazol2=medprices_dk_copy2.loc[medprices_dk_copy2['Medicine'].isin(['Aripiprazol \"Accord Healthcare\"', 'Aripiprazol \"Krka\"','Aripiprazol \"Stada\"','Aripiprazol \"Accord\"','Aripiprazol \"Aristo\"','Aripiprazol \"Medical Valley\"','Aripiprazol \"Sandoz\"','Aripiprazol \"Teva\"']) ] # Narrowing down to only companies selling Aripiprazol\n",
    "\n",
    "a=aripiprazol2.Indicator.str.contains('AUP_pr_DDD') # Focusing on the relative price\n",
    "aripiprazol2=aripiprazol2.loc[a, :] # Creating an index for dataframe  \n",
    "\n",
    "drop_list=['ATC', 'Form', 'Medicine'] # Dropping columns"
   ]
  },
  {
   "cell_type": "code",
   "execution_count": 5,
   "metadata": {},
   "outputs": [],
   "source": [
    "# 4. Create long format of dataframe \n",
    "\n",
    "aripiprazol_long= pd.wide_to_long(aripiprazol2, stubnames='e', i=\"Product_number\", j='Date') # Created long format of the lamotrigin Dataframe\n",
    "\n",
    "aripiprazol_long= aripiprazol_long.sort_values(['Date','Product_number']) # Organized product number by date"
   ]
  },
  {
   "cell_type": "code",
   "execution_count": 6,
   "metadata": {},
   "outputs": [
    {
     "output_type": "execute_result",
     "data": {
      "text/plain": "Indicator       0\nForm            0\nPackaging       0\nATC             0\nCompany         0\nStrength        0\nMedicine        0\ne            1623\ndtype: int64"
     },
     "metadata": {},
     "execution_count": 6
    }
   ],
   "source": [
    "\n",
    "aripiprazol_long.isnull().sum() # Explore how many null values are in each column of your dataset\n"
   ]
  },
  {
   "cell_type": "code",
   "execution_count": 7,
   "metadata": {},
   "outputs": [
    {
     "output_type": "execute_result",
     "data": {
      "text/plain": "Indicator    0\nForm         0\nPackaging    0\nATC          0\nCompany      0\nStrength     0\nMedicine     0\ne            0\ndtype: int64"
     },
     "metadata": {},
     "execution_count": 7
    }
   ],
   "source": [
    "aripiprazol_long=aripiprazol_long[aripiprazol_long['e'].notna()] # Deleting all the empty prices in the dataset\n",
    "\n",
    "aripiprazol_long.isnull().sum() # Explore how many null values are in each column of the dataset now"
   ]
  },
  {
   "cell_type": "code",
   "execution_count": 8,
   "metadata": {},
   "outputs": [],
   "source": [
    "aripiprazol_long.rename(columns={\"e\": \"Price\"}, inplace=True) #Renaming the price column 'e' to 'Price'"
   ]
  },
  {
   "cell_type": "code",
   "execution_count": 9,
   "metadata": {},
   "outputs": [
    {
     "output_type": "execute_result",
     "data": {
      "text/plain": "                          Indicator       Form          Packaging      ATC  \\\nProduct_number Date                                                          \n52737          20150202  AUP_pr_DDD  tabletter  56 stk. (blister)  N05AX12   \n88445          20150202  AUP_pr_DDD  tabletter  56 stk. (blister)  N05AX12   \n107657         20150202  AUP_pr_DDD  tabletter  56 stk. (blister)  N05AX12   \n113143         20150202  AUP_pr_DDD  tabletter  56 stk. (blister)  N05AX12   \n52737          20150216  AUP_pr_DDD  tabletter  56 stk. (blister)  N05AX12   \n...                             ...        ...                ...      ...   \n107657         20200323  AUP_pr_DDD  tabletter  56 stk. (blister)  N05AX12   \n113143         20200323  AUP_pr_DDD  tabletter  56 stk. (blister)  N05AX12   \n197123         20200323  AUP_pr_DDD  tabletter  56 stk. (blister)  N05AX12   \n396362         20200323  AUP_pr_DDD  tabletter  56 stk. (blister)  N05AX12   \n440405         20200323  AUP_pr_DDD  tabletter  56 stk. (blister)  N05AX12   \n\n                              Company Strength             Medicine  \\\nProduct_number Date                                                   \n52737          20150202       Krka AB     5 mg   Aripiprazol \"Krka\"   \n88445          20150202       Krka AB    15 mg   Aripiprazol \"Krka\"   \n107657         20150202       Krka AB    10 mg   Aripiprazol \"Krka\"   \n113143         20150202       Krka AB    30 mg   Aripiprazol \"Krka\"   \n52737          20150216       Krka AB     5 mg   Aripiprazol \"Krka\"   \n...                               ...      ...                  ...   \n107657         20200323       Krka AB    10 mg   Aripiprazol \"Krka\"   \n113143         20200323       Krka AB    30 mg   Aripiprazol \"Krka\"   \n197123         20200323  PharmaCoDane    30 mg  Aripiprazol \"Stada\"   \n396362         20200323  PharmaCoDane    10 mg  Aripiprazol \"Stada\"   \n440405         20200323  PharmaCoDane     5 mg  Aripiprazol \"Stada\"   \n\n                              Price  \nProduct_number Date                  \n52737          20150202  119.304120  \n88445          20150202   29.277679  \n107657         20150202   57.091581  \n113143         20150202   33.058929  \n52737          20150216  112.714952  \n...                             ...  \n107657         20200323    2.350467  \n113143         20200323    0.723214  \n197123         20200323    0.723214  \n396362         20200323    2.025018  \n440405         20200323    2.027642  \n\n[1218 rows x 8 columns]",
      "text/html": "<div>\n<style scoped>\n    .dataframe tbody tr th:only-of-type {\n        vertical-align: middle;\n    }\n\n    .dataframe tbody tr th {\n        vertical-align: top;\n    }\n\n    .dataframe thead th {\n        text-align: right;\n    }\n</style>\n<table border=\"1\" class=\"dataframe\">\n  <thead>\n    <tr style=\"text-align: right;\">\n      <th></th>\n      <th></th>\n      <th>Indicator</th>\n      <th>Form</th>\n      <th>Packaging</th>\n      <th>ATC</th>\n      <th>Company</th>\n      <th>Strength</th>\n      <th>Medicine</th>\n      <th>Price</th>\n    </tr>\n    <tr>\n      <th>Product_number</th>\n      <th>Date</th>\n      <th></th>\n      <th></th>\n      <th></th>\n      <th></th>\n      <th></th>\n      <th></th>\n      <th></th>\n      <th></th>\n    </tr>\n  </thead>\n  <tbody>\n    <tr>\n      <td>52737</td>\n      <td>20150202</td>\n      <td>AUP_pr_DDD</td>\n      <td>tabletter</td>\n      <td>56 stk. (blister)</td>\n      <td>N05AX12</td>\n      <td>Krka AB</td>\n      <td>5 mg</td>\n      <td>Aripiprazol \"Krka\"</td>\n      <td>119.304120</td>\n    </tr>\n    <tr>\n      <td>88445</td>\n      <td>20150202</td>\n      <td>AUP_pr_DDD</td>\n      <td>tabletter</td>\n      <td>56 stk. (blister)</td>\n      <td>N05AX12</td>\n      <td>Krka AB</td>\n      <td>15 mg</td>\n      <td>Aripiprazol \"Krka\"</td>\n      <td>29.277679</td>\n    </tr>\n    <tr>\n      <td>107657</td>\n      <td>20150202</td>\n      <td>AUP_pr_DDD</td>\n      <td>tabletter</td>\n      <td>56 stk. (blister)</td>\n      <td>N05AX12</td>\n      <td>Krka AB</td>\n      <td>10 mg</td>\n      <td>Aripiprazol \"Krka\"</td>\n      <td>57.091581</td>\n    </tr>\n    <tr>\n      <td>113143</td>\n      <td>20150202</td>\n      <td>AUP_pr_DDD</td>\n      <td>tabletter</td>\n      <td>56 stk. (blister)</td>\n      <td>N05AX12</td>\n      <td>Krka AB</td>\n      <td>30 mg</td>\n      <td>Aripiprazol \"Krka\"</td>\n      <td>33.058929</td>\n    </tr>\n    <tr>\n      <td>52737</td>\n      <td>20150216</td>\n      <td>AUP_pr_DDD</td>\n      <td>tabletter</td>\n      <td>56 stk. (blister)</td>\n      <td>N05AX12</td>\n      <td>Krka AB</td>\n      <td>5 mg</td>\n      <td>Aripiprazol \"Krka\"</td>\n      <td>112.714952</td>\n    </tr>\n    <tr>\n      <td>...</td>\n      <td>...</td>\n      <td>...</td>\n      <td>...</td>\n      <td>...</td>\n      <td>...</td>\n      <td>...</td>\n      <td>...</td>\n      <td>...</td>\n      <td>...</td>\n    </tr>\n    <tr>\n      <td>107657</td>\n      <td>20200323</td>\n      <td>AUP_pr_DDD</td>\n      <td>tabletter</td>\n      <td>56 stk. (blister)</td>\n      <td>N05AX12</td>\n      <td>Krka AB</td>\n      <td>10 mg</td>\n      <td>Aripiprazol \"Krka\"</td>\n      <td>2.350467</td>\n    </tr>\n    <tr>\n      <td>113143</td>\n      <td>20200323</td>\n      <td>AUP_pr_DDD</td>\n      <td>tabletter</td>\n      <td>56 stk. (blister)</td>\n      <td>N05AX12</td>\n      <td>Krka AB</td>\n      <td>30 mg</td>\n      <td>Aripiprazol \"Krka\"</td>\n      <td>0.723214</td>\n    </tr>\n    <tr>\n      <td>197123</td>\n      <td>20200323</td>\n      <td>AUP_pr_DDD</td>\n      <td>tabletter</td>\n      <td>56 stk. (blister)</td>\n      <td>N05AX12</td>\n      <td>PharmaCoDane</td>\n      <td>30 mg</td>\n      <td>Aripiprazol \"Stada\"</td>\n      <td>0.723214</td>\n    </tr>\n    <tr>\n      <td>396362</td>\n      <td>20200323</td>\n      <td>AUP_pr_DDD</td>\n      <td>tabletter</td>\n      <td>56 stk. (blister)</td>\n      <td>N05AX12</td>\n      <td>PharmaCoDane</td>\n      <td>10 mg</td>\n      <td>Aripiprazol \"Stada\"</td>\n      <td>2.025018</td>\n    </tr>\n    <tr>\n      <td>440405</td>\n      <td>20200323</td>\n      <td>AUP_pr_DDD</td>\n      <td>tabletter</td>\n      <td>56 stk. (blister)</td>\n      <td>N05AX12</td>\n      <td>PharmaCoDane</td>\n      <td>5 mg</td>\n      <td>Aripiprazol \"Stada\"</td>\n      <td>2.027642</td>\n    </tr>\n  </tbody>\n</table>\n<p>1218 rows × 8 columns</p>\n</div>"
     },
     "metadata": {},
     "execution_count": 9
    }
   ],
   "source": [
    "aripiprazol_long.loc[aripiprazol_long['Packaging'] == '56 stk. (blister)'] #Focusing on a specific packaging, the make sure the price is compatable"
   ]
  },
  {
   "cell_type": "code",
   "execution_count": 10,
   "metadata": {},
   "outputs": [],
   "source": [
    "del aripiprazol_long['Indicator'] #Deleting column"
   ]
  },
  {
   "cell_type": "code",
   "execution_count": 11,
   "metadata": {},
   "outputs": [],
   "source": [
    "del aripiprazol_long['Packaging'] #Deleting column"
   ]
  },
  {
   "cell_type": "code",
   "execution_count": 12,
   "metadata": {},
   "outputs": [],
   "source": [
    "del aripiprazol_long['Strength'] #Deleting column"
   ]
  },
  {
   "cell_type": "code",
   "execution_count": 13,
   "metadata": {},
   "outputs": [
    {
     "output_type": "execute_result",
     "data": {
      "text/plain": "                    Form      ATC  Company            Medicine      Price\nDate                                                                     \n20150202       tabletter  N05AX12  Krka AB  Aripiprazol \"Krka\"  29.277679\n20150216       tabletter  N05AX12  Krka AB  Aripiprazol \"Krka\"  26.837500\n20150302       tabletter  N05AX12  Krka AB  Aripiprazol \"Krka\"  21.958036\n20150316       tabletter  N05AX12  Krka AB  Aripiprazol \"Krka\"  20.006250\n20150330       tabletter  N05AX12  Krka AB  Aripiprazol \"Krka\"  17.078571\n...                  ...      ...      ...                 ...        ...\n20200127  oral opløsning  N05AX12  Krka AB  Aripiprazol \"Krka\"   0.579464\n20200210  oral opløsning  N05AX12  Krka AB  Aripiprazol \"Krka\"   0.715500\n20200224  oral opløsning  N05AX12  Krka AB  Aripiprazol \"Krka\"   0.715500\n20200309  oral opløsning  N05AX12  Krka AB  Aripiprazol \"Krka\"   0.715500\n20200323  oral opløsning  N05AX12  Krka AB  Aripiprazol \"Krka\"   0.715500\n\n[135 rows x 5 columns]",
      "text/html": "<div>\n<style scoped>\n    .dataframe tbody tr th:only-of-type {\n        vertical-align: middle;\n    }\n\n    .dataframe tbody tr th {\n        vertical-align: top;\n    }\n\n    .dataframe thead th {\n        text-align: right;\n    }\n</style>\n<table border=\"1\" class=\"dataframe\">\n  <thead>\n    <tr style=\"text-align: right;\">\n      <th></th>\n      <th>Form</th>\n      <th>ATC</th>\n      <th>Company</th>\n      <th>Medicine</th>\n      <th>Price</th>\n    </tr>\n    <tr>\n      <th>Date</th>\n      <th></th>\n      <th></th>\n      <th></th>\n      <th></th>\n      <th></th>\n    </tr>\n  </thead>\n  <tbody>\n    <tr>\n      <td>20150202</td>\n      <td>tabletter</td>\n      <td>N05AX12</td>\n      <td>Krka AB</td>\n      <td>Aripiprazol \"Krka\"</td>\n      <td>29.277679</td>\n    </tr>\n    <tr>\n      <td>20150216</td>\n      <td>tabletter</td>\n      <td>N05AX12</td>\n      <td>Krka AB</td>\n      <td>Aripiprazol \"Krka\"</td>\n      <td>26.837500</td>\n    </tr>\n    <tr>\n      <td>20150302</td>\n      <td>tabletter</td>\n      <td>N05AX12</td>\n      <td>Krka AB</td>\n      <td>Aripiprazol \"Krka\"</td>\n      <td>21.958036</td>\n    </tr>\n    <tr>\n      <td>20150316</td>\n      <td>tabletter</td>\n      <td>N05AX12</td>\n      <td>Krka AB</td>\n      <td>Aripiprazol \"Krka\"</td>\n      <td>20.006250</td>\n    </tr>\n    <tr>\n      <td>20150330</td>\n      <td>tabletter</td>\n      <td>N05AX12</td>\n      <td>Krka AB</td>\n      <td>Aripiprazol \"Krka\"</td>\n      <td>17.078571</td>\n    </tr>\n    <tr>\n      <td>...</td>\n      <td>...</td>\n      <td>...</td>\n      <td>...</td>\n      <td>...</td>\n      <td>...</td>\n    </tr>\n    <tr>\n      <td>20200127</td>\n      <td>oral opløsning</td>\n      <td>N05AX12</td>\n      <td>Krka AB</td>\n      <td>Aripiprazol \"Krka\"</td>\n      <td>0.579464</td>\n    </tr>\n    <tr>\n      <td>20200210</td>\n      <td>oral opløsning</td>\n      <td>N05AX12</td>\n      <td>Krka AB</td>\n      <td>Aripiprazol \"Krka\"</td>\n      <td>0.715500</td>\n    </tr>\n    <tr>\n      <td>20200224</td>\n      <td>oral opløsning</td>\n      <td>N05AX12</td>\n      <td>Krka AB</td>\n      <td>Aripiprazol \"Krka\"</td>\n      <td>0.715500</td>\n    </tr>\n    <tr>\n      <td>20200309</td>\n      <td>oral opløsning</td>\n      <td>N05AX12</td>\n      <td>Krka AB</td>\n      <td>Aripiprazol \"Krka\"</td>\n      <td>0.715500</td>\n    </tr>\n    <tr>\n      <td>20200323</td>\n      <td>oral opløsning</td>\n      <td>N05AX12</td>\n      <td>Krka AB</td>\n      <td>Aripiprazol \"Krka\"</td>\n      <td>0.715500</td>\n    </tr>\n  </tbody>\n</table>\n<p>135 rows × 5 columns</p>\n</div>"
     },
     "metadata": {},
     "execution_count": 13
    }
   ],
   "source": [
    "e_min = aripiprazol_long.groupby('Date').min() # Finding the lowest price per date. Thereby the company who won the oppportunity to sell the drug to the bidding price.\n",
    "e_min\n"
   ]
  },
  {
   "cell_type": "code",
   "execution_count": 14,
   "metadata": {},
   "outputs": [
    {
     "output_type": "execute_result",
     "data": {
      "text/plain": "Form         object\nATC          object\nCompany      object\nMedicine     object\nPrice       float64\nDate1         int64\ndtype: object"
     },
     "metadata": {},
     "execution_count": 14
    }
   ],
   "source": [
    "# Creating a new variable Date1\n",
    "e_min['Date1'] = e_min.index #indexing by e_min\n",
    "e_min\n",
    "e_min.dtypes #Checking the variable type of Date1"
   ]
  },
  {
   "cell_type": "code",
   "execution_count": 15,
   "metadata": {},
   "outputs": [],
   "source": [
    "# convert date to date format\n",
    "e_min['DateTime'] = e_min['Date1'].apply(lambda x: pd.to_datetime(str(x), format='%Y%m%d'))"
   ]
  },
  {
   "cell_type": "markdown",
   "metadata": {},
   "source": [
    "#### Plotting Asipiprazol"
   ]
  },
  {
   "cell_type": "code",
   "execution_count": 16,
   "metadata": {},
   "outputs": [
    {
     "output_type": "execute_result",
     "data": {
      "text/plain": "(array([735234., 735599., 735964., 736330., 736695., 737060., 737425.]),\n <a list of 7 Text xticklabel objects>)"
     },
     "metadata": {},
     "execution_count": 16
    },
    {
     "output_type": "display_data",
     "data": {
      "text/plain": "<Figure size 432x288 with 1 Axes>",
      "image/svg+xml": "<?xml version=\"1.0\" encoding=\"utf-8\" standalone=\"no\"?>\r\n<!DOCTYPE svg PUBLIC \"-//W3C//DTD SVG 1.1//EN\"\r\n  \"http://www.w3.org/Graphics/SVG/1.1/DTD/svg11.dtd\">\r\n<!-- Created with matplotlib (https://matplotlib.org/) -->\r\n<svg height=\"265.808125pt\" version=\"1.1\" viewBox=\"0 0 370.934063 265.808125\" width=\"370.934063pt\" xmlns=\"http://www.w3.org/2000/svg\" xmlns:xlink=\"http://www.w3.org/1999/xlink\">\r\n <defs>\r\n  <style type=\"text/css\">\r\n*{stroke-linecap:butt;stroke-linejoin:round;}\r\n  </style>\r\n </defs>\r\n <g id=\"figure_1\">\r\n  <g id=\"patch_1\">\r\n   <path d=\"M 0 265.808125 \r\nL 370.934063 265.808125 \r\nL 370.934063 0 \r\nL 0 0 \r\nz\r\n\" style=\"fill:none;\"/>\r\n  </g>\r\n  <g id=\"axes_1\">\r\n   <g id=\"patch_2\">\r\n    <path d=\"M 28.934062 224.64 \r\nL 363.734062 224.64 \r\nL 363.734062 7.2 \r\nL 28.934062 7.2 \r\nz\r\n\" style=\"fill:#eaeaf2;\"/>\r\n   </g>\r\n   <g id=\"matplotlib.axis_1\">\r\n    <g id=\"xtick_1\">\r\n     <g id=\"line2d_1\">\r\n      <path clip-path=\"url(#p8757ac78c8)\" d=\"M 38.96054 224.64 \r\nL 38.96054 7.2 \r\n\" style=\"fill:none;stroke:#ffffff;stroke-linecap:round;\"/>\r\n     </g>\r\n     <g id=\"text_1\">\r\n      <!-- 2015 -->\r\n      <defs>\r\n       <path d=\"M 50.34375 8.453125 \r\nL 50.34375 0 \r\nL 3.03125 0 \r\nQ 2.9375 3.171875 4.046875 6.109375 \r\nQ 5.859375 10.9375 9.828125 15.625 \r\nQ 13.8125 20.3125 21.34375 26.46875 \r\nQ 33.015625 36.03125 37.109375 41.625 \r\nQ 41.21875 47.21875 41.21875 52.203125 \r\nQ 41.21875 57.421875 37.46875 61 \r\nQ 33.734375 64.59375 27.734375 64.59375 \r\nQ 21.390625 64.59375 17.578125 60.78125 \r\nQ 13.765625 56.984375 13.71875 50.25 \r\nL 4.6875 51.171875 \r\nQ 5.609375 61.28125 11.65625 66.578125 \r\nQ 17.71875 71.875 27.9375 71.875 \r\nQ 38.234375 71.875 44.234375 66.15625 \r\nQ 50.25 60.453125 50.25 52 \r\nQ 50.25 47.703125 48.484375 43.546875 \r\nQ 46.734375 39.40625 42.65625 34.8125 \r\nQ 38.578125 30.21875 29.109375 22.21875 \r\nQ 21.1875 15.578125 18.9375 13.203125 \r\nQ 16.703125 10.84375 15.234375 8.453125 \r\nz\r\n\" id=\"ArialMT-50\"/>\r\n       <path d=\"M 4.15625 35.296875 \r\nQ 4.15625 48 6.765625 55.734375 \r\nQ 9.375 63.484375 14.515625 67.671875 \r\nQ 19.671875 71.875 27.484375 71.875 \r\nQ 33.25 71.875 37.59375 69.546875 \r\nQ 41.9375 67.234375 44.765625 62.859375 \r\nQ 47.609375 58.5 49.21875 52.21875 \r\nQ 50.828125 45.953125 50.828125 35.296875 \r\nQ 50.828125 22.703125 48.234375 14.96875 \r\nQ 45.65625 7.234375 40.5 3 \r\nQ 35.359375 -1.21875 27.484375 -1.21875 \r\nQ 17.140625 -1.21875 11.234375 6.203125 \r\nQ 4.15625 15.140625 4.15625 35.296875 \r\nz\r\nM 13.1875 35.296875 \r\nQ 13.1875 17.671875 17.3125 11.828125 \r\nQ 21.4375 6 27.484375 6 \r\nQ 33.546875 6 37.671875 11.859375 \r\nQ 41.796875 17.71875 41.796875 35.296875 \r\nQ 41.796875 52.984375 37.671875 58.78125 \r\nQ 33.546875 64.59375 27.390625 64.59375 \r\nQ 21.34375 64.59375 17.71875 59.46875 \r\nQ 13.1875 52.9375 13.1875 35.296875 \r\nz\r\n\" id=\"ArialMT-48\"/>\r\n       <path d=\"M 37.25 0 \r\nL 28.46875 0 \r\nL 28.46875 56 \r\nQ 25.296875 52.984375 20.140625 49.953125 \r\nQ 14.984375 46.921875 10.890625 45.40625 \r\nL 10.890625 53.90625 \r\nQ 18.265625 57.375 23.78125 62.296875 \r\nQ 29.296875 67.234375 31.59375 71.875 \r\nL 37.25 71.875 \r\nz\r\n\" id=\"ArialMT-49\"/>\r\n       <path d=\"M 4.15625 18.75 \r\nL 13.375 19.53125 \r\nQ 14.40625 12.796875 18.140625 9.390625 \r\nQ 21.875 6 27.15625 6 \r\nQ 33.5 6 37.890625 10.78125 \r\nQ 42.28125 15.578125 42.28125 23.484375 \r\nQ 42.28125 31 38.0625 35.34375 \r\nQ 33.84375 39.703125 27 39.703125 \r\nQ 22.75 39.703125 19.328125 37.765625 \r\nQ 15.921875 35.84375 13.96875 32.765625 \r\nL 5.71875 33.84375 \r\nL 12.640625 70.609375 \r\nL 48.25 70.609375 \r\nL 48.25 62.203125 \r\nL 19.671875 62.203125 \r\nL 15.828125 42.96875 \r\nQ 22.265625 47.46875 29.34375 47.46875 \r\nQ 38.71875 47.46875 45.15625 40.96875 \r\nQ 51.609375 34.46875 51.609375 24.265625 \r\nQ 51.609375 14.546875 45.953125 7.46875 \r\nQ 39.0625 -1.21875 27.15625 -1.21875 \r\nQ 17.390625 -1.21875 11.203125 4.25 \r\nQ 5.03125 9.71875 4.15625 18.75 \r\nz\r\n\" id=\"ArialMT-53\"/>\r\n      </defs>\r\n      <g style=\"fill:#262626;\" transform=\"translate(41.804212 258.608125)rotate(-90)scale(0.11 -0.11)\">\r\n       <use xlink:href=\"#ArialMT-50\"/>\r\n       <use x=\"55.615234\" xlink:href=\"#ArialMT-48\"/>\r\n       <use x=\"111.230469\" xlink:href=\"#ArialMT-49\"/>\r\n       <use x=\"166.845703\" xlink:href=\"#ArialMT-53\"/>\r\n      </g>\r\n     </g>\r\n    </g>\r\n    <g id=\"xtick_2\">\r\n     <g id=\"line2d_2\">\r\n      <path clip-path=\"url(#p8757ac78c8)\" d=\"M 98.178412 224.64 \r\nL 98.178412 7.2 \r\n\" style=\"fill:none;stroke:#ffffff;stroke-linecap:round;\"/>\r\n     </g>\r\n     <g id=\"text_2\">\r\n      <!-- 2016 -->\r\n      <defs>\r\n       <path d=\"M 49.75 54.046875 \r\nL 41.015625 53.375 \r\nQ 39.84375 58.546875 37.703125 60.890625 \r\nQ 34.125 64.65625 28.90625 64.65625 \r\nQ 24.703125 64.65625 21.53125 62.3125 \r\nQ 17.390625 59.28125 14.984375 53.46875 \r\nQ 12.59375 47.65625 12.5 36.921875 \r\nQ 15.671875 41.75 20.265625 44.09375 \r\nQ 24.859375 46.4375 29.890625 46.4375 \r\nQ 38.671875 46.4375 44.84375 39.96875 \r\nQ 51.03125 33.5 51.03125 23.25 \r\nQ 51.03125 16.5 48.125 10.71875 \r\nQ 45.21875 4.9375 40.140625 1.859375 \r\nQ 35.0625 -1.21875 28.609375 -1.21875 \r\nQ 17.625 -1.21875 10.6875 6.859375 \r\nQ 3.765625 14.9375 3.765625 33.5 \r\nQ 3.765625 54.25 11.421875 63.671875 \r\nQ 18.109375 71.875 29.4375 71.875 \r\nQ 37.890625 71.875 43.28125 67.140625 \r\nQ 48.6875 62.40625 49.75 54.046875 \r\nz\r\nM 13.875 23.1875 \r\nQ 13.875 18.65625 15.796875 14.5 \r\nQ 17.71875 10.359375 21.1875 8.171875 \r\nQ 24.65625 6 28.46875 6 \r\nQ 34.03125 6 38.03125 10.484375 \r\nQ 42.046875 14.984375 42.046875 22.703125 \r\nQ 42.046875 30.125 38.078125 34.390625 \r\nQ 34.125 38.671875 28.125 38.671875 \r\nQ 22.171875 38.671875 18.015625 34.390625 \r\nQ 13.875 30.125 13.875 23.1875 \r\nz\r\n\" id=\"ArialMT-54\"/>\r\n      </defs>\r\n      <g style=\"fill:#262626;\" transform=\"translate(101.022084 258.608125)rotate(-90)scale(0.11 -0.11)\">\r\n       <use xlink:href=\"#ArialMT-50\"/>\r\n       <use x=\"55.615234\" xlink:href=\"#ArialMT-48\"/>\r\n       <use x=\"111.230469\" xlink:href=\"#ArialMT-49\"/>\r\n       <use x=\"166.845703\" xlink:href=\"#ArialMT-54\"/>\r\n      </g>\r\n     </g>\r\n    </g>\r\n    <g id=\"xtick_3\">\r\n     <g id=\"line2d_3\">\r\n      <path clip-path=\"url(#p8757ac78c8)\" d=\"M 157.558525 224.64 \r\nL 157.558525 7.2 \r\n\" style=\"fill:none;stroke:#ffffff;stroke-linecap:round;\"/>\r\n     </g>\r\n     <g id=\"text_3\">\r\n      <!-- 2017 -->\r\n      <defs>\r\n       <path d=\"M 4.734375 62.203125 \r\nL 4.734375 70.65625 \r\nL 51.078125 70.65625 \r\nL 51.078125 63.8125 \r\nQ 44.234375 56.546875 37.515625 44.484375 \r\nQ 30.8125 32.421875 27.15625 19.671875 \r\nQ 24.515625 10.6875 23.78125 0 \r\nL 14.75 0 \r\nQ 14.890625 8.453125 18.0625 20.40625 \r\nQ 21.234375 32.375 27.171875 43.484375 \r\nQ 33.109375 54.59375 39.796875 62.203125 \r\nz\r\n\" id=\"ArialMT-55\"/>\r\n      </defs>\r\n      <g style=\"fill:#262626;\" transform=\"translate(160.402196 258.608125)rotate(-90)scale(0.11 -0.11)\">\r\n       <use xlink:href=\"#ArialMT-50\"/>\r\n       <use x=\"55.615234\" xlink:href=\"#ArialMT-48\"/>\r\n       <use x=\"111.230469\" xlink:href=\"#ArialMT-49\"/>\r\n       <use x=\"166.845703\" xlink:href=\"#ArialMT-55\"/>\r\n      </g>\r\n     </g>\r\n    </g>\r\n    <g id=\"xtick_4\">\r\n     <g id=\"line2d_4\">\r\n      <path clip-path=\"url(#p8757ac78c8)\" d=\"M 216.776396 224.64 \r\nL 216.776396 7.2 \r\n\" style=\"fill:none;stroke:#ffffff;stroke-linecap:round;\"/>\r\n     </g>\r\n     <g id=\"text_4\">\r\n      <!-- 2018 -->\r\n      <defs>\r\n       <path d=\"M 17.671875 38.8125 \r\nQ 12.203125 40.828125 9.5625 44.53125 \r\nQ 6.9375 48.25 6.9375 53.421875 \r\nQ 6.9375 61.234375 12.546875 66.546875 \r\nQ 18.171875 71.875 27.484375 71.875 \r\nQ 36.859375 71.875 42.578125 66.421875 \r\nQ 48.296875 60.984375 48.296875 53.171875 \r\nQ 48.296875 48.1875 45.671875 44.5 \r\nQ 43.0625 40.828125 37.75 38.8125 \r\nQ 44.34375 36.671875 47.78125 31.875 \r\nQ 51.21875 27.09375 51.21875 20.453125 \r\nQ 51.21875 11.28125 44.71875 5.03125 \r\nQ 38.234375 -1.21875 27.640625 -1.21875 \r\nQ 17.046875 -1.21875 10.546875 5.046875 \r\nQ 4.046875 11.328125 4.046875 20.703125 \r\nQ 4.046875 27.6875 7.59375 32.390625 \r\nQ 11.140625 37.109375 17.671875 38.8125 \r\nz\r\nM 15.921875 53.71875 \r\nQ 15.921875 48.640625 19.1875 45.40625 \r\nQ 22.46875 42.1875 27.6875 42.1875 \r\nQ 32.765625 42.1875 36.015625 45.375 \r\nQ 39.265625 48.578125 39.265625 53.21875 \r\nQ 39.265625 58.0625 35.90625 61.359375 \r\nQ 32.5625 64.65625 27.59375 64.65625 \r\nQ 22.5625 64.65625 19.234375 61.421875 \r\nQ 15.921875 58.203125 15.921875 53.71875 \r\nz\r\nM 13.09375 20.65625 \r\nQ 13.09375 16.890625 14.875 13.375 \r\nQ 16.65625 9.859375 20.171875 7.921875 \r\nQ 23.6875 6 27.734375 6 \r\nQ 34.03125 6 38.125 10.046875 \r\nQ 42.234375 14.109375 42.234375 20.359375 \r\nQ 42.234375 26.703125 38.015625 30.859375 \r\nQ 33.796875 35.015625 27.4375 35.015625 \r\nQ 21.234375 35.015625 17.15625 30.90625 \r\nQ 13.09375 26.8125 13.09375 20.65625 \r\nz\r\n\" id=\"ArialMT-56\"/>\r\n      </defs>\r\n      <g style=\"fill:#262626;\" transform=\"translate(219.620068 258.608125)rotate(-90)scale(0.11 -0.11)\">\r\n       <use xlink:href=\"#ArialMT-50\"/>\r\n       <use x=\"55.615234\" xlink:href=\"#ArialMT-48\"/>\r\n       <use x=\"111.230469\" xlink:href=\"#ArialMT-49\"/>\r\n       <use x=\"166.845703\" xlink:href=\"#ArialMT-56\"/>\r\n      </g>\r\n     </g>\r\n    </g>\r\n    <g id=\"xtick_5\">\r\n     <g id=\"line2d_5\">\r\n      <path clip-path=\"url(#p8757ac78c8)\" d=\"M 275.994268 224.64 \r\nL 275.994268 7.2 \r\n\" style=\"fill:none;stroke:#ffffff;stroke-linecap:round;\"/>\r\n     </g>\r\n     <g id=\"text_5\">\r\n      <!-- 2019 -->\r\n      <defs>\r\n       <path d=\"M 5.46875 16.546875 \r\nL 13.921875 17.328125 \r\nQ 14.984375 11.375 18.015625 8.6875 \r\nQ 21.046875 6 25.78125 6 \r\nQ 29.828125 6 32.875 7.859375 \r\nQ 35.9375 9.71875 37.890625 12.8125 \r\nQ 39.84375 15.921875 41.15625 21.1875 \r\nQ 42.484375 26.46875 42.484375 31.9375 \r\nQ 42.484375 32.515625 42.4375 33.6875 \r\nQ 39.796875 29.5 35.234375 26.875 \r\nQ 30.671875 24.265625 25.34375 24.265625 \r\nQ 16.453125 24.265625 10.296875 30.703125 \r\nQ 4.15625 37.15625 4.15625 47.703125 \r\nQ 4.15625 58.59375 10.578125 65.234375 \r\nQ 17 71.875 26.65625 71.875 \r\nQ 33.640625 71.875 39.421875 68.109375 \r\nQ 45.21875 64.359375 48.21875 57.390625 \r\nQ 51.21875 50.4375 51.21875 37.25 \r\nQ 51.21875 23.53125 48.234375 15.40625 \r\nQ 45.265625 7.28125 39.375 3.03125 \r\nQ 33.5 -1.21875 25.59375 -1.21875 \r\nQ 17.1875 -1.21875 11.859375 3.4375 \r\nQ 6.546875 8.109375 5.46875 16.546875 \r\nz\r\nM 41.453125 48.140625 \r\nQ 41.453125 55.71875 37.421875 60.15625 \r\nQ 33.40625 64.59375 27.734375 64.59375 \r\nQ 21.875 64.59375 17.53125 59.8125 \r\nQ 13.1875 55.03125 13.1875 47.40625 \r\nQ 13.1875 40.578125 17.3125 36.296875 \r\nQ 21.4375 32.03125 27.484375 32.03125 \r\nQ 33.59375 32.03125 37.515625 36.296875 \r\nQ 41.453125 40.578125 41.453125 48.140625 \r\nz\r\n\" id=\"ArialMT-57\"/>\r\n      </defs>\r\n      <g style=\"fill:#262626;\" transform=\"translate(278.83794 258.608125)rotate(-90)scale(0.11 -0.11)\">\r\n       <use xlink:href=\"#ArialMT-50\"/>\r\n       <use x=\"55.615234\" xlink:href=\"#ArialMT-48\"/>\r\n       <use x=\"111.230469\" xlink:href=\"#ArialMT-49\"/>\r\n       <use x=\"166.845703\" xlink:href=\"#ArialMT-57\"/>\r\n      </g>\r\n     </g>\r\n    </g>\r\n    <g id=\"xtick_6\">\r\n     <g id=\"line2d_6\">\r\n      <path clip-path=\"url(#p8757ac78c8)\" d=\"M 335.21214 224.64 \r\nL 335.21214 7.2 \r\n\" style=\"fill:none;stroke:#ffffff;stroke-linecap:round;\"/>\r\n     </g>\r\n     <g id=\"text_6\">\r\n      <!-- 2020 -->\r\n      <g style=\"fill:#262626;\" transform=\"translate(338.055812 258.608125)rotate(-90)scale(0.11 -0.11)\">\r\n       <use xlink:href=\"#ArialMT-50\"/>\r\n       <use x=\"55.615234\" xlink:href=\"#ArialMT-48\"/>\r\n       <use x=\"111.230469\" xlink:href=\"#ArialMT-50\"/>\r\n       <use x=\"166.845703\" xlink:href=\"#ArialMT-48\"/>\r\n      </g>\r\n     </g>\r\n    </g>\r\n   </g>\r\n   <g id=\"matplotlib.axis_2\">\r\n    <g id=\"ytick_1\">\r\n     <g id=\"line2d_7\">\r\n      <path clip-path=\"url(#p8757ac78c8)\" d=\"M 28.934062 215.52493 \r\nL 363.734062 215.52493 \r\n\" style=\"fill:none;stroke:#ffffff;stroke-linecap:round;\"/>\r\n     </g>\r\n     <g id=\"text_7\">\r\n      <!-- 0 -->\r\n      <g style=\"fill:#262626;\" transform=\"translate(13.317031 219.461726)scale(0.11 -0.11)\">\r\n       <use xlink:href=\"#ArialMT-48\"/>\r\n      </g>\r\n     </g>\r\n    </g>\r\n    <g id=\"ytick_2\">\r\n     <g id=\"line2d_8\">\r\n      <path clip-path=\"url(#p8757ac78c8)\" d=\"M 28.934062 181.63541 \r\nL 363.734062 181.63541 \r\n\" style=\"fill:none;stroke:#ffffff;stroke-linecap:round;\"/>\r\n     </g>\r\n     <g id=\"text_8\">\r\n      <!-- 5 -->\r\n      <g style=\"fill:#262626;\" transform=\"translate(13.317031 185.572207)scale(0.11 -0.11)\">\r\n       <use xlink:href=\"#ArialMT-53\"/>\r\n      </g>\r\n     </g>\r\n    </g>\r\n    <g id=\"ytick_3\">\r\n     <g id=\"line2d_9\">\r\n      <path clip-path=\"url(#p8757ac78c8)\" d=\"M 28.934062 147.74589 \r\nL 363.734062 147.74589 \r\n\" style=\"fill:none;stroke:#ffffff;stroke-linecap:round;\"/>\r\n     </g>\r\n     <g id=\"text_9\">\r\n      <!-- 10 -->\r\n      <g style=\"fill:#262626;\" transform=\"translate(7.2 151.682687)scale(0.11 -0.11)\">\r\n       <use xlink:href=\"#ArialMT-49\"/>\r\n       <use x=\"55.615234\" xlink:href=\"#ArialMT-48\"/>\r\n      </g>\r\n     </g>\r\n    </g>\r\n    <g id=\"ytick_4\">\r\n     <g id=\"line2d_10\">\r\n      <path clip-path=\"url(#p8757ac78c8)\" d=\"M 28.934062 113.85637 \r\nL 363.734062 113.85637 \r\n\" style=\"fill:none;stroke:#ffffff;stroke-linecap:round;\"/>\r\n     </g>\r\n     <g id=\"text_10\">\r\n      <!-- 15 -->\r\n      <g style=\"fill:#262626;\" transform=\"translate(7.2 117.793167)scale(0.11 -0.11)\">\r\n       <use xlink:href=\"#ArialMT-49\"/>\r\n       <use x=\"55.615234\" xlink:href=\"#ArialMT-53\"/>\r\n      </g>\r\n     </g>\r\n    </g>\r\n    <g id=\"ytick_5\">\r\n     <g id=\"line2d_11\">\r\n      <path clip-path=\"url(#p8757ac78c8)\" d=\"M 28.934062 79.966851 \r\nL 363.734062 79.966851 \r\n\" style=\"fill:none;stroke:#ffffff;stroke-linecap:round;\"/>\r\n     </g>\r\n     <g id=\"text_11\">\r\n      <!-- 20 -->\r\n      <g style=\"fill:#262626;\" transform=\"translate(7.2 83.903647)scale(0.11 -0.11)\">\r\n       <use xlink:href=\"#ArialMT-50\"/>\r\n       <use x=\"55.615234\" xlink:href=\"#ArialMT-48\"/>\r\n      </g>\r\n     </g>\r\n    </g>\r\n    <g id=\"ytick_6\">\r\n     <g id=\"line2d_12\">\r\n      <path clip-path=\"url(#p8757ac78c8)\" d=\"M 28.934062 46.077331 \r\nL 363.734062 46.077331 \r\n\" style=\"fill:none;stroke:#ffffff;stroke-linecap:round;\"/>\r\n     </g>\r\n     <g id=\"text_12\">\r\n      <!-- 25 -->\r\n      <g style=\"fill:#262626;\" transform=\"translate(7.2 50.014128)scale(0.11 -0.11)\">\r\n       <use xlink:href=\"#ArialMT-50\"/>\r\n       <use x=\"55.615234\" xlink:href=\"#ArialMT-53\"/>\r\n      </g>\r\n     </g>\r\n    </g>\r\n    <g id=\"ytick_7\">\r\n     <g id=\"line2d_13\">\r\n      <path clip-path=\"url(#p8757ac78c8)\" d=\"M 28.934062 12.187811 \r\nL 363.734062 12.187811 \r\n\" style=\"fill:none;stroke:#ffffff;stroke-linecap:round;\"/>\r\n     </g>\r\n     <g id=\"text_13\">\r\n      <!-- 30 -->\r\n      <defs>\r\n       <path d=\"M 4.203125 18.890625 \r\nL 12.984375 20.0625 \r\nQ 14.5 12.59375 18.140625 9.296875 \r\nQ 21.78125 6 27 6 \r\nQ 33.203125 6 37.46875 10.296875 \r\nQ 41.75 14.59375 41.75 20.953125 \r\nQ 41.75 27 37.796875 30.921875 \r\nQ 33.84375 34.859375 27.734375 34.859375 \r\nQ 25.25 34.859375 21.53125 33.890625 \r\nL 22.515625 41.609375 \r\nQ 23.390625 41.5 23.921875 41.5 \r\nQ 29.546875 41.5 34.03125 44.421875 \r\nQ 38.53125 47.359375 38.53125 53.46875 \r\nQ 38.53125 58.296875 35.25 61.46875 \r\nQ 31.984375 64.65625 26.8125 64.65625 \r\nQ 21.6875 64.65625 18.265625 61.421875 \r\nQ 14.84375 58.203125 13.875 51.765625 \r\nL 5.078125 53.328125 \r\nQ 6.6875 62.15625 12.390625 67.015625 \r\nQ 18.109375 71.875 26.609375 71.875 \r\nQ 32.46875 71.875 37.390625 69.359375 \r\nQ 42.328125 66.84375 44.9375 62.5 \r\nQ 47.5625 58.15625 47.5625 53.265625 \r\nQ 47.5625 48.640625 45.0625 44.828125 \r\nQ 42.578125 41.015625 37.703125 38.765625 \r\nQ 44.046875 37.3125 47.5625 32.6875 \r\nQ 51.078125 28.078125 51.078125 21.140625 \r\nQ 51.078125 11.765625 44.234375 5.25 \r\nQ 37.40625 -1.265625 26.953125 -1.265625 \r\nQ 17.53125 -1.265625 11.296875 4.34375 \r\nQ 5.078125 9.96875 4.203125 18.890625 \r\nz\r\n\" id=\"ArialMT-51\"/>\r\n      </defs>\r\n      <g style=\"fill:#262626;\" transform=\"translate(7.2 16.124608)scale(0.11 -0.11)\">\r\n       <use xlink:href=\"#ArialMT-51\"/>\r\n       <use x=\"55.615234\" xlink:href=\"#ArialMT-48\"/>\r\n      </g>\r\n     </g>\r\n    </g>\r\n   </g>\r\n   <g id=\"line2d_14\">\r\n    <path clip-path=\"url(#p8757ac78c8)\" d=\"M 44.152244 17.083636 \r\nL 46.423615 33.622932 \r\nL 48.694985 66.695473 \r\nL 50.966356 79.924489 \r\nL 53.237726 99.768013 \r\nL 55.509096 149.367746 \r\nL 57.780467 173.078306 \r\nL 60.051837 164.61803 \r\nL 62.323208 50.833967 \r\nL 69.137319 149.997122 \r\nL 71.408689 169.56832 \r\nL 73.68006 169.56832 \r\nL 75.95143 135.651568 \r\nL 78.222801 148.021242 \r\nL 80.494171 162.863037 \r\nL 82.765541 182.761026 \r\nL 85.036912 191.99592 \r\nL 87.308282 203.70596 \r\nL 89.579653 206.671292 \r\nL 91.851023 205.079695 \r\nL 94.122394 205.079695 \r\nL 96.393764 205.975347 \r\nL 98.665134 207.572996 \r\nL 100.936505 207.572996 \r\nL 103.207875 205.975347 \r\nL 105.479246 205.975347 \r\nL 107.750616 209.902658 \r\nL 114.564727 209.902658 \r\nL 116.836098 210.072348 \r\nL 119.107468 211.857599 \r\nL 121.378839 211.857599 \r\nL 123.650209 212.462769 \r\nL 128.19295 212.462769 \r\nL 130.46432 212.871259 \r\nL 139.549802 212.871259 \r\nL 141.821172 212.217676 \r\nL 150.906654 212.217676 \r\nL 153.178025 212.739211 \r\nL 155.449395 212.739211 \r\nL 157.720765 212.864602 \r\nL 189.519951 212.956104 \r\nL 194.062692 213.054359 \r\nL 205.419544 212.956104 \r\nL 209.962285 212.864602 \r\nL 221.319137 212.864602 \r\nL 223.590508 214.462856 \r\nL 232.675989 214.559683 \r\nL 234.94736 214.756364 \r\nL 237.21873 213.261594 \r\nL 246.304212 213.261594 \r\nL 248.575582 213.70942 \r\nL 253.118323 213.70942 \r\nL 255.389693 212.349482 \r\nL 257.661064 212.681599 \r\nL 266.746546 212.681599 \r\nL 269.017916 212.349482 \r\nL 284.917509 212.440983 \r\nL 289.46025 212.656424 \r\nL 294.002991 212.656424 \r\nL 296.274361 212.913621 \r\nL 300.817102 212.913621 \r\nL 303.088472 213.062291 \r\nL 312.173954 213.062291 \r\nL 314.445324 213.367297 \r\nL 316.716695 213.058862 \r\nL 318.988065 212.440983 \r\nL 328.073547 212.440983 \r\nL 330.344917 211.04062 \r\nL 332.616288 211.591325 \r\nL 339.430399 211.597376 \r\nL 341.701769 210.675339 \r\nL 348.515881 210.675339 \r\nL 348.515881 210.675339 \r\n\" style=\"fill:none;stroke:#4c72b0;stroke-linecap:round;stroke-width:1.5;\"/>\r\n   </g>\r\n   <g id=\"patch_3\">\r\n    <path d=\"M 28.934062 224.64 \r\nL 28.934062 7.2 \r\n\" style=\"fill:none;stroke:#ffffff;stroke-linecap:square;stroke-linejoin:miter;stroke-width:1.25;\"/>\r\n   </g>\r\n   <g id=\"patch_4\">\r\n    <path d=\"M 363.734062 224.64 \r\nL 363.734062 7.2 \r\n\" style=\"fill:none;stroke:#ffffff;stroke-linecap:square;stroke-linejoin:miter;stroke-width:1.25;\"/>\r\n   </g>\r\n   <g id=\"patch_5\">\r\n    <path d=\"M 28.934063 224.64 \r\nL 363.734063 224.64 \r\n\" style=\"fill:none;stroke:#ffffff;stroke-linecap:square;stroke-linejoin:miter;stroke-width:1.25;\"/>\r\n   </g>\r\n   <g id=\"patch_6\">\r\n    <path d=\"M 28.934063 7.2 \r\nL 363.734063 7.2 \r\n\" style=\"fill:none;stroke:#ffffff;stroke-linecap:square;stroke-linejoin:miter;stroke-width:1.25;\"/>\r\n   </g>\r\n  </g>\r\n </g>\r\n <defs>\r\n  <clipPath id=\"p8757ac78c8\">\r\n   <rect height=\"217.44\" width=\"334.8\" x=\"28.934062\" y=\"7.2\"/>\r\n  </clipPath>\r\n </defs>\r\n</svg>\r\n",
      "image/png": "[encoded data removed]"
     },
     "metadata": {
      "needs_background": "light"
     }
    }
   ],
   "source": [
    "# Creating plot\n",
    "e_min_plot=e_min.sort_values('DateTime', ascending=True)\n",
    "plt.plot(e_min_plot['DateTime'], e_min_plot['Price'])\n",
    "plt.xticks(rotation='vertical')"
   ]
  },
  {
   "cell_type": "markdown",
   "metadata": {},
   "source": [
    "At the beginning of 2015,full-year forecasts were expected to see a major fall in prices for the drug immediately following the expiry of the patent, ie April 2015. However, the price falls did not break through until the end of 2015. Price falls are now at 80-90%.\n",
    "When the patent expires every company is allowed to bid in order to sell the medicine in the pharmacy. There is a bidding every two weeks, where the company there bids the lowest price win. This i visualizedin the graph, where it i showned that the biddingwar accelerate in the end of 2015, and pushes the price down to marginal cost.  "
   ]
  },
  {
   "cell_type": "markdown",
   "metadata": {},
   "source": [
    "## 4. Analyzing the drug Lamotrigin (price cycles)\n"
   ]
  },
  {
   "cell_type": "markdown",
   "metadata": {},
   "source": [
    "### We have showned how the price bidding pushes the price down, which is compatable to theory of perfect competition. However this is not always the case, for medicine after the patent expires. Some Companies engage in price cycles, where they push the price down, until a certain point, and then they raise the price again, and continuing this behavior.\n",
    "### In this section we will visualize this behavior, which is found for the drug Lamotrigin"
   ]
  },
  {
   "cell_type": "code",
   "execution_count": 17,
   "metadata": {},
   "outputs": [],
   "source": [
    "# 5. Focusing on the medicine Aripiprazol\n",
    "medprices_dk_copy = medprices_dk.copy()\n",
    "\n",
    "lamotrigin=medprices_dk_copy.loc[medprices_dk_copy['Medicine'].isin(['Lamotrigin \"1A Farma\"', 'Lamotrigin \"Stada\"', 'Lamotrigin \"Orifarm\"','Lamotrigin \"Bluefish\"','Lamotrigin \"Aurobindo\"', 'Lamotrigin \"Amneal\"', 'Lamotrigin \"Abacus Medicine\"', 'Lamotrigin \"Mylan\"']) ] # Narrowing down to only companies selling Lamotrigin \n",
    "\n",
    "I=lamotrigin.Indicator.str.contains('AUP_pr_DDD') # Focusing on the relative price\n",
    "lamotrigin=lamotrigin.loc[I, :] # Creatin an index for the datafram\n",
    "\n",
    "drop_list=['ATC', 'Form', 'Medicine'] # Dropping columns\n",
    "lamotrigin.drop(drop_list, axis=1, inplace=True)\n"
   ]
  },
  {
   "cell_type": "code",
   "execution_count": 18,
   "metadata": {},
   "outputs": [],
   "source": [
    "# 6. Create long format of dataframe \n",
    "\n",
    "lamotrigin_long= pd.wide_to_long(lamotrigin, stubnames='e', i=\"Product_number\", j='Date') # Created long format of the lamotrigin Dataframe\n",
    "\n",
    "lamotrigin_long= lamotrigin_long.sort_values(['Product_number','Date']) # Organized product number by date"
   ]
  },
  {
   "cell_type": "code",
   "execution_count": 19,
   "metadata": {},
   "outputs": [
    {
     "output_type": "execute_result",
     "data": {
      "text/plain": "Company         0\nIndicator       0\nStrength        0\nPackaging       0\ne            2517\ndtype: int64"
     },
     "metadata": {},
     "execution_count": 19
    }
   ],
   "source": [
    "lamotrigin_long.isnull().sum() # Explore how many null values are in each column of your dataset"
   ]
  },
  {
   "cell_type": "code",
   "execution_count": 20,
   "metadata": {},
   "outputs": [
    {
     "output_type": "execute_result",
     "data": {
      "text/plain": "Company      0\nIndicator    0\nStrength     0\nPackaging    0\ne            0\ndtype: int64"
     },
     "metadata": {},
     "execution_count": 20
    }
   ],
   "source": [
    "lamotrigin_long=lamotrigin_long[lamotrigin_long['e'].notna()] # Deleting all the nulls in the price column 'e'\n",
    "\n",
    "lamotrigin_long.isnull().sum() # Making sure there are no more missing variables"
   ]
  },
  {
   "cell_type": "code",
   "execution_count": 21,
   "metadata": {},
   "outputs": [],
   "source": [
    "lamotrigin_long.rename(columns={\"e\": \"Price\"}, inplace=True) #Renaming the 'e' column to 'Price'"
   ]
  },
  {
   "cell_type": "code",
   "execution_count": 22,
   "metadata": {},
   "outputs": [
    {
     "output_type": "execute_result",
     "data": {
      "text/plain": "                              Company   Indicator Strength          Packaging  \\\nProduct_number Date                                                             \n172849         20150202  1A Farma A/S  AUP_pr_DDD   200 mg  50 stk. (blister)   \n               20150216  1A Farma A/S  AUP_pr_DDD   200 mg  50 stk. (blister)   \n               20150302  1A Farma A/S  AUP_pr_DDD   200 mg  50 stk. (blister)   \n               20150316  1A Farma A/S  AUP_pr_DDD   200 mg  50 stk. (blister)   \n               20150330  1A Farma A/S  AUP_pr_DDD   200 mg  50 stk. (blister)   \n...                               ...         ...      ...                ...   \n552640         20150427  1A Farma A/S  AUP_pr_DDD    50 mg  50 stk. (blister)   \n               20150511  1A Farma A/S  AUP_pr_DDD    50 mg  50 stk. (blister)   \n               20150525  1A Farma A/S  AUP_pr_DDD    50 mg  50 stk. (blister)   \n               20150608  1A Farma A/S  AUP_pr_DDD    50 mg  50 stk. (blister)   \n               20150622  1A Farma A/S  AUP_pr_DDD    50 mg  50 stk. (blister)   \n\n                            Price  \nProduct_number Date                \n172849         20150202  1.599016  \n               20150216  1.764018  \n               20150302  1.764018  \n               20150316  1.624516  \n               20150330  1.624516  \n...                           ...  \n552640         20150427  4.944198  \n               20150511  3.984159  \n               20150525  3.384135  \n               20150608  3.870155  \n               20150622  3.708148  \n\n[223 rows x 5 columns]",
      "text/html": "<div>\n<style scoped>\n    .dataframe tbody tr th:only-of-type {\n        vertical-align: middle;\n    }\n\n    .dataframe tbody tr th {\n        vertical-align: top;\n    }\n\n    .dataframe thead th {\n        text-align: right;\n    }\n</style>\n<table border=\"1\" class=\"dataframe\">\n  <thead>\n    <tr style=\"text-align: right;\">\n      <th></th>\n      <th></th>\n      <th>Company</th>\n      <th>Indicator</th>\n      <th>Strength</th>\n      <th>Packaging</th>\n      <th>Price</th>\n    </tr>\n    <tr>\n      <th>Product_number</th>\n      <th>Date</th>\n      <th></th>\n      <th></th>\n      <th></th>\n      <th></th>\n      <th></th>\n    </tr>\n  </thead>\n  <tbody>\n    <tr>\n      <td rowspan=\"5\" valign=\"top\">172849</td>\n      <td>20150202</td>\n      <td>1A Farma A/S</td>\n      <td>AUP_pr_DDD</td>\n      <td>200 mg</td>\n      <td>50 stk. (blister)</td>\n      <td>1.599016</td>\n    </tr>\n    <tr>\n      <td>20150216</td>\n      <td>1A Farma A/S</td>\n      <td>AUP_pr_DDD</td>\n      <td>200 mg</td>\n      <td>50 stk. (blister)</td>\n      <td>1.764018</td>\n    </tr>\n    <tr>\n      <td>20150302</td>\n      <td>1A Farma A/S</td>\n      <td>AUP_pr_DDD</td>\n      <td>200 mg</td>\n      <td>50 stk. (blister)</td>\n      <td>1.764018</td>\n    </tr>\n    <tr>\n      <td>20150316</td>\n      <td>1A Farma A/S</td>\n      <td>AUP_pr_DDD</td>\n      <td>200 mg</td>\n      <td>50 stk. (blister)</td>\n      <td>1.624516</td>\n    </tr>\n    <tr>\n      <td>20150330</td>\n      <td>1A Farma A/S</td>\n      <td>AUP_pr_DDD</td>\n      <td>200 mg</td>\n      <td>50 stk. (blister)</td>\n      <td>1.624516</td>\n    </tr>\n    <tr>\n      <td>...</td>\n      <td>...</td>\n      <td>...</td>\n      <td>...</td>\n      <td>...</td>\n      <td>...</td>\n      <td>...</td>\n    </tr>\n    <tr>\n      <td rowspan=\"5\" valign=\"top\">552640</td>\n      <td>20150427</td>\n      <td>1A Farma A/S</td>\n      <td>AUP_pr_DDD</td>\n      <td>50 mg</td>\n      <td>50 stk. (blister)</td>\n      <td>4.944198</td>\n    </tr>\n    <tr>\n      <td>20150511</td>\n      <td>1A Farma A/S</td>\n      <td>AUP_pr_DDD</td>\n      <td>50 mg</td>\n      <td>50 stk. (blister)</td>\n      <td>3.984159</td>\n    </tr>\n    <tr>\n      <td>20150525</td>\n      <td>1A Farma A/S</td>\n      <td>AUP_pr_DDD</td>\n      <td>50 mg</td>\n      <td>50 stk. (blister)</td>\n      <td>3.384135</td>\n    </tr>\n    <tr>\n      <td>20150608</td>\n      <td>1A Farma A/S</td>\n      <td>AUP_pr_DDD</td>\n      <td>50 mg</td>\n      <td>50 stk. (blister)</td>\n      <td>3.870155</td>\n    </tr>\n    <tr>\n      <td>20150622</td>\n      <td>1A Farma A/S</td>\n      <td>AUP_pr_DDD</td>\n      <td>50 mg</td>\n      <td>50 stk. (blister)</td>\n      <td>3.708148</td>\n    </tr>\n  </tbody>\n</table>\n<p>223 rows × 5 columns</p>\n</div>"
     },
     "metadata": {},
     "execution_count": 22
    }
   ],
   "source": [
    "lamotrigin_long.loc[lamotrigin_long['Packaging'] == '50 stk. (blister)'] #Focusing on a specific packaging in order for the price to be compatable"
   ]
  },
  {
   "cell_type": "code",
   "execution_count": 23,
   "metadata": {},
   "outputs": [
    {
     "output_type": "execute_result",
     "data": {
      "text/plain": "Empty DataFrame\nColumns: [Company, Indicator, Strength, Packaging, Price]\nIndex: []",
      "text/html": "<div>\n<style scoped>\n    .dataframe tbody tr th:only-of-type {\n        vertical-align: middle;\n    }\n\n    .dataframe tbody tr th {\n        vertical-align: top;\n    }\n\n    .dataframe thead th {\n        text-align: right;\n    }\n</style>\n<table border=\"1\" class=\"dataframe\">\n  <thead>\n    <tr style=\"text-align: right;\">\n      <th></th>\n      <th>Company</th>\n      <th>Indicator</th>\n      <th>Strength</th>\n      <th>Packaging</th>\n      <th>Price</th>\n    </tr>\n    <tr>\n      <th>Date</th>\n      <th></th>\n      <th></th>\n      <th></th>\n      <th></th>\n      <th></th>\n    </tr>\n  </thead>\n  <tbody>\n  </tbody>\n</table>\n</div>"
     },
     "metadata": {},
     "execution_count": 23
    }
   ],
   "source": [
    "min_price = lamotrigin_long.groupby('Date').min() #Finding the lowest price per date. Thereby the company who won the oppportunity to sell the drug to the bidding price.\n",
    "min_price.loc[min_price['Packaging'] == '50 stk. (blister)']"
   ]
  },
  {
   "cell_type": "code",
   "execution_count": 24,
   "metadata": {},
   "outputs": [
    {
     "output_type": "execute_result",
     "data": {
      "text/plain": "Company       object\nIndicator     object\nStrength      object\nPackaging     object\nPrice        float64\nDate2          int64\ndtype: object"
     },
     "metadata": {},
     "execution_count": 24
    }
   ],
   "source": [
    "# Creating a new variable Date1\n",
    "min_price['Date2'] = min_price.index # Indexing by min_price\n",
    "min_price\n",
    "min_price.dtypes #Checking the variable type of Date2"
   ]
  },
  {
   "cell_type": "code",
   "execution_count": 25,
   "metadata": {},
   "outputs": [],
   "source": [
    "# convert date to dateformat\n",
    "min_price['DateTime'] = min_price['Date2'].apply(lambda x: pd.to_datetime(str(x), format='%Y%m%d'))"
   ]
  },
  {
   "cell_type": "markdown",
   "metadata": {},
   "source": [
    "#### Plotting Lamotrigin"
   ]
  },
  {
   "cell_type": "code",
   "execution_count": 26,
   "metadata": {},
   "outputs": [
    {
     "output_type": "execute_result",
     "data": {
      "text/plain": "(array([735234., 735599., 735964., 736330., 736695., 737060., 737425.]),\n <a list of 7 Text xticklabel objects>)"
     },
     "metadata": {},
     "execution_count": 26
    },
    {
     "output_type": "display_data",
     "data": {
      "text/plain": "<Figure size 432x288 with 1 Axes>",
      "image/svg+xml": "<?xml version=\"1.0\" encoding=\"utf-8\" standalone=\"no\"?>\r\n<!DOCTYPE svg PUBLIC \"-//W3C//DTD SVG 1.1//EN\"\r\n  \"http://www.w3.org/Graphics/SVG/1.1/DTD/svg11.dtd\">\r\n<!-- Created with matplotlib (https://matplotlib.org/) -->\r\n<svg height=\"265.808125pt\" version=\"1.1\" viewBox=\"0 0 373.99 265.808125\" width=\"373.99pt\" xmlns=\"http://www.w3.org/2000/svg\" xmlns:xlink=\"http://www.w3.org/1999/xlink\">\r\n <defs>\r\n  <style type=\"text/css\">\r\n*{stroke-linecap:butt;stroke-linejoin:round;}\r\n  </style>\r\n </defs>\r\n <g id=\"figure_1\">\r\n  <g id=\"patch_1\">\r\n   <path d=\"M 0 265.808125 \r\nL 373.99 265.808125 \r\nL 373.99 0 \r\nL 0 0 \r\nz\r\n\" style=\"fill:none;\"/>\r\n  </g>\r\n  <g id=\"axes_1\">\r\n   <g id=\"patch_2\">\r\n    <path d=\"M 31.99 224.64 \r\nL 366.79 224.64 \r\nL 366.79 7.2 \r\nL 31.99 7.2 \r\nz\r\n\" style=\"fill:#eaeaf2;\"/>\r\n   </g>\r\n   <g id=\"matplotlib.axis_1\">\r\n    <g id=\"xtick_1\">\r\n     <g id=\"line2d_1\">\r\n      <path clip-path=\"url(#pce8b8caf15)\" d=\"M 42.016478 224.64 \r\nL 42.016478 7.2 \r\n\" style=\"fill:none;stroke:#ffffff;stroke-linecap:round;\"/>\r\n     </g>\r\n     <g id=\"text_1\">\r\n      <!-- 2015 -->\r\n      <defs>\r\n       <path d=\"M 50.34375 8.453125 \r\nL 50.34375 0 \r\nL 3.03125 0 \r\nQ 2.9375 3.171875 4.046875 6.109375 \r\nQ 5.859375 10.9375 9.828125 15.625 \r\nQ 13.8125 20.3125 21.34375 26.46875 \r\nQ 33.015625 36.03125 37.109375 41.625 \r\nQ 41.21875 47.21875 41.21875 52.203125 \r\nQ 41.21875 57.421875 37.46875 61 \r\nQ 33.734375 64.59375 27.734375 64.59375 \r\nQ 21.390625 64.59375 17.578125 60.78125 \r\nQ 13.765625 56.984375 13.71875 50.25 \r\nL 4.6875 51.171875 \r\nQ 5.609375 61.28125 11.65625 66.578125 \r\nQ 17.71875 71.875 27.9375 71.875 \r\nQ 38.234375 71.875 44.234375 66.15625 \r\nQ 50.25 60.453125 50.25 52 \r\nQ 50.25 47.703125 48.484375 43.546875 \r\nQ 46.734375 39.40625 42.65625 34.8125 \r\nQ 38.578125 30.21875 29.109375 22.21875 \r\nQ 21.1875 15.578125 18.9375 13.203125 \r\nQ 16.703125 10.84375 15.234375 8.453125 \r\nz\r\n\" id=\"ArialMT-50\"/>\r\n       <path d=\"M 4.15625 35.296875 \r\nQ 4.15625 48 6.765625 55.734375 \r\nQ 9.375 63.484375 14.515625 67.671875 \r\nQ 19.671875 71.875 27.484375 71.875 \r\nQ 33.25 71.875 37.59375 69.546875 \r\nQ 41.9375 67.234375 44.765625 62.859375 \r\nQ 47.609375 58.5 49.21875 52.21875 \r\nQ 50.828125 45.953125 50.828125 35.296875 \r\nQ 50.828125 22.703125 48.234375 14.96875 \r\nQ 45.65625 7.234375 40.5 3 \r\nQ 35.359375 -1.21875 27.484375 -1.21875 \r\nQ 17.140625 -1.21875 11.234375 6.203125 \r\nQ 4.15625 15.140625 4.15625 35.296875 \r\nz\r\nM 13.1875 35.296875 \r\nQ 13.1875 17.671875 17.3125 11.828125 \r\nQ 21.4375 6 27.484375 6 \r\nQ 33.546875 6 37.671875 11.859375 \r\nQ 41.796875 17.71875 41.796875 35.296875 \r\nQ 41.796875 52.984375 37.671875 58.78125 \r\nQ 33.546875 64.59375 27.390625 64.59375 \r\nQ 21.34375 64.59375 17.71875 59.46875 \r\nQ 13.1875 52.9375 13.1875 35.296875 \r\nz\r\n\" id=\"ArialMT-48\"/>\r\n       <path d=\"M 37.25 0 \r\nL 28.46875 0 \r\nL 28.46875 56 \r\nQ 25.296875 52.984375 20.140625 49.953125 \r\nQ 14.984375 46.921875 10.890625 45.40625 \r\nL 10.890625 53.90625 \r\nQ 18.265625 57.375 23.78125 62.296875 \r\nQ 29.296875 67.234375 31.59375 71.875 \r\nL 37.25 71.875 \r\nz\r\n\" id=\"ArialMT-49\"/>\r\n       <path d=\"M 4.15625 18.75 \r\nL 13.375 19.53125 \r\nQ 14.40625 12.796875 18.140625 9.390625 \r\nQ 21.875 6 27.15625 6 \r\nQ 33.5 6 37.890625 10.78125 \r\nQ 42.28125 15.578125 42.28125 23.484375 \r\nQ 42.28125 31 38.0625 35.34375 \r\nQ 33.84375 39.703125 27 39.703125 \r\nQ 22.75 39.703125 19.328125 37.765625 \r\nQ 15.921875 35.84375 13.96875 32.765625 \r\nL 5.71875 33.84375 \r\nL 12.640625 70.609375 \r\nL 48.25 70.609375 \r\nL 48.25 62.203125 \r\nL 19.671875 62.203125 \r\nL 15.828125 42.96875 \r\nQ 22.265625 47.46875 29.34375 47.46875 \r\nQ 38.71875 47.46875 45.15625 40.96875 \r\nQ 51.609375 34.46875 51.609375 24.265625 \r\nQ 51.609375 14.546875 45.953125 7.46875 \r\nQ 39.0625 -1.21875 27.15625 -1.21875 \r\nQ 17.390625 -1.21875 11.203125 4.25 \r\nQ 5.03125 9.71875 4.15625 18.75 \r\nz\r\n\" id=\"ArialMT-53\"/>\r\n      </defs>\r\n      <g style=\"fill:#262626;\" transform=\"translate(44.86015 258.608125)rotate(-90)scale(0.11 -0.11)\">\r\n       <use xlink:href=\"#ArialMT-50\"/>\r\n       <use x=\"55.615234\" xlink:href=\"#ArialMT-48\"/>\r\n       <use x=\"111.230469\" xlink:href=\"#ArialMT-49\"/>\r\n       <use x=\"166.845703\" xlink:href=\"#ArialMT-53\"/>\r\n      </g>\r\n     </g>\r\n    </g>\r\n    <g id=\"xtick_2\">\r\n     <g id=\"line2d_2\">\r\n      <path clip-path=\"url(#pce8b8caf15)\" d=\"M 101.23435 224.64 \r\nL 101.23435 7.2 \r\n\" style=\"fill:none;stroke:#ffffff;stroke-linecap:round;\"/>\r\n     </g>\r\n     <g id=\"text_2\">\r\n      <!-- 2016 -->\r\n      <defs>\r\n       <path d=\"M 49.75 54.046875 \r\nL 41.015625 53.375 \r\nQ 39.84375 58.546875 37.703125 60.890625 \r\nQ 34.125 64.65625 28.90625 64.65625 \r\nQ 24.703125 64.65625 21.53125 62.3125 \r\nQ 17.390625 59.28125 14.984375 53.46875 \r\nQ 12.59375 47.65625 12.5 36.921875 \r\nQ 15.671875 41.75 20.265625 44.09375 \r\nQ 24.859375 46.4375 29.890625 46.4375 \r\nQ 38.671875 46.4375 44.84375 39.96875 \r\nQ 51.03125 33.5 51.03125 23.25 \r\nQ 51.03125 16.5 48.125 10.71875 \r\nQ 45.21875 4.9375 40.140625 1.859375 \r\nQ 35.0625 -1.21875 28.609375 -1.21875 \r\nQ 17.625 -1.21875 10.6875 6.859375 \r\nQ 3.765625 14.9375 3.765625 33.5 \r\nQ 3.765625 54.25 11.421875 63.671875 \r\nQ 18.109375 71.875 29.4375 71.875 \r\nQ 37.890625 71.875 43.28125 67.140625 \r\nQ 48.6875 62.40625 49.75 54.046875 \r\nz\r\nM 13.875 23.1875 \r\nQ 13.875 18.65625 15.796875 14.5 \r\nQ 17.71875 10.359375 21.1875 8.171875 \r\nQ 24.65625 6 28.46875 6 \r\nQ 34.03125 6 38.03125 10.484375 \r\nQ 42.046875 14.984375 42.046875 22.703125 \r\nQ 42.046875 30.125 38.078125 34.390625 \r\nQ 34.125 38.671875 28.125 38.671875 \r\nQ 22.171875 38.671875 18.015625 34.390625 \r\nQ 13.875 30.125 13.875 23.1875 \r\nz\r\n\" id=\"ArialMT-54\"/>\r\n      </defs>\r\n      <g style=\"fill:#262626;\" transform=\"translate(104.078022 258.608125)rotate(-90)scale(0.11 -0.11)\">\r\n       <use xlink:href=\"#ArialMT-50\"/>\r\n       <use x=\"55.615234\" xlink:href=\"#ArialMT-48\"/>\r\n       <use x=\"111.230469\" xlink:href=\"#ArialMT-49\"/>\r\n       <use x=\"166.845703\" xlink:href=\"#ArialMT-54\"/>\r\n      </g>\r\n     </g>\r\n    </g>\r\n    <g id=\"xtick_3\">\r\n     <g id=\"line2d_3\">\r\n      <path clip-path=\"url(#pce8b8caf15)\" d=\"M 160.614462 224.64 \r\nL 160.614462 7.2 \r\n\" style=\"fill:none;stroke:#ffffff;stroke-linecap:round;\"/>\r\n     </g>\r\n     <g id=\"text_3\">\r\n      <!-- 2017 -->\r\n      <defs>\r\n       <path d=\"M 4.734375 62.203125 \r\nL 4.734375 70.65625 \r\nL 51.078125 70.65625 \r\nL 51.078125 63.8125 \r\nQ 44.234375 56.546875 37.515625 44.484375 \r\nQ 30.8125 32.421875 27.15625 19.671875 \r\nQ 24.515625 10.6875 23.78125 0 \r\nL 14.75 0 \r\nQ 14.890625 8.453125 18.0625 20.40625 \r\nQ 21.234375 32.375 27.171875 43.484375 \r\nQ 33.109375 54.59375 39.796875 62.203125 \r\nz\r\n\" id=\"ArialMT-55\"/>\r\n      </defs>\r\n      <g style=\"fill:#262626;\" transform=\"translate(163.458134 258.608125)rotate(-90)scale(0.11 -0.11)\">\r\n       <use xlink:href=\"#ArialMT-50\"/>\r\n       <use x=\"55.615234\" xlink:href=\"#ArialMT-48\"/>\r\n       <use x=\"111.230469\" xlink:href=\"#ArialMT-49\"/>\r\n       <use x=\"166.845703\" xlink:href=\"#ArialMT-55\"/>\r\n      </g>\r\n     </g>\r\n    </g>\r\n    <g id=\"xtick_4\">\r\n     <g id=\"line2d_4\">\r\n      <path clip-path=\"url(#pce8b8caf15)\" d=\"M 219.832334 224.64 \r\nL 219.832334 7.2 \r\n\" style=\"fill:none;stroke:#ffffff;stroke-linecap:round;\"/>\r\n     </g>\r\n     <g id=\"text_4\">\r\n      <!-- 2018 -->\r\n      <defs>\r\n       <path d=\"M 17.671875 38.8125 \r\nQ 12.203125 40.828125 9.5625 44.53125 \r\nQ 6.9375 48.25 6.9375 53.421875 \r\nQ 6.9375 61.234375 12.546875 66.546875 \r\nQ 18.171875 71.875 27.484375 71.875 \r\nQ 36.859375 71.875 42.578125 66.421875 \r\nQ 48.296875 60.984375 48.296875 53.171875 \r\nQ 48.296875 48.1875 45.671875 44.5 \r\nQ 43.0625 40.828125 37.75 38.8125 \r\nQ 44.34375 36.671875 47.78125 31.875 \r\nQ 51.21875 27.09375 51.21875 20.453125 \r\nQ 51.21875 11.28125 44.71875 5.03125 \r\nQ 38.234375 -1.21875 27.640625 -1.21875 \r\nQ 17.046875 -1.21875 10.546875 5.046875 \r\nQ 4.046875 11.328125 4.046875 20.703125 \r\nQ 4.046875 27.6875 7.59375 32.390625 \r\nQ 11.140625 37.109375 17.671875 38.8125 \r\nz\r\nM 15.921875 53.71875 \r\nQ 15.921875 48.640625 19.1875 45.40625 \r\nQ 22.46875 42.1875 27.6875 42.1875 \r\nQ 32.765625 42.1875 36.015625 45.375 \r\nQ 39.265625 48.578125 39.265625 53.21875 \r\nQ 39.265625 58.0625 35.90625 61.359375 \r\nQ 32.5625 64.65625 27.59375 64.65625 \r\nQ 22.5625 64.65625 19.234375 61.421875 \r\nQ 15.921875 58.203125 15.921875 53.71875 \r\nz\r\nM 13.09375 20.65625 \r\nQ 13.09375 16.890625 14.875 13.375 \r\nQ 16.65625 9.859375 20.171875 7.921875 \r\nQ 23.6875 6 27.734375 6 \r\nQ 34.03125 6 38.125 10.046875 \r\nQ 42.234375 14.109375 42.234375 20.359375 \r\nQ 42.234375 26.703125 38.015625 30.859375 \r\nQ 33.796875 35.015625 27.4375 35.015625 \r\nQ 21.234375 35.015625 17.15625 30.90625 \r\nQ 13.09375 26.8125 13.09375 20.65625 \r\nz\r\n\" id=\"ArialMT-56\"/>\r\n      </defs>\r\n      <g style=\"fill:#262626;\" transform=\"translate(222.676006 258.608125)rotate(-90)scale(0.11 -0.11)\">\r\n       <use xlink:href=\"#ArialMT-50\"/>\r\n       <use x=\"55.615234\" xlink:href=\"#ArialMT-48\"/>\r\n       <use x=\"111.230469\" xlink:href=\"#ArialMT-49\"/>\r\n       <use x=\"166.845703\" xlink:href=\"#ArialMT-56\"/>\r\n      </g>\r\n     </g>\r\n    </g>\r\n    <g id=\"xtick_5\">\r\n     <g id=\"line2d_5\">\r\n      <path clip-path=\"url(#pce8b8caf15)\" d=\"M 279.050205 224.64 \r\nL 279.050205 7.2 \r\n\" style=\"fill:none;stroke:#ffffff;stroke-linecap:round;\"/>\r\n     </g>\r\n     <g id=\"text_5\">\r\n      <!-- 2019 -->\r\n      <defs>\r\n       <path d=\"M 5.46875 16.546875 \r\nL 13.921875 17.328125 \r\nQ 14.984375 11.375 18.015625 8.6875 \r\nQ 21.046875 6 25.78125 6 \r\nQ 29.828125 6 32.875 7.859375 \r\nQ 35.9375 9.71875 37.890625 12.8125 \r\nQ 39.84375 15.921875 41.15625 21.1875 \r\nQ 42.484375 26.46875 42.484375 31.9375 \r\nQ 42.484375 32.515625 42.4375 33.6875 \r\nQ 39.796875 29.5 35.234375 26.875 \r\nQ 30.671875 24.265625 25.34375 24.265625 \r\nQ 16.453125 24.265625 10.296875 30.703125 \r\nQ 4.15625 37.15625 4.15625 47.703125 \r\nQ 4.15625 58.59375 10.578125 65.234375 \r\nQ 17 71.875 26.65625 71.875 \r\nQ 33.640625 71.875 39.421875 68.109375 \r\nQ 45.21875 64.359375 48.21875 57.390625 \r\nQ 51.21875 50.4375 51.21875 37.25 \r\nQ 51.21875 23.53125 48.234375 15.40625 \r\nQ 45.265625 7.28125 39.375 3.03125 \r\nQ 33.5 -1.21875 25.59375 -1.21875 \r\nQ 17.1875 -1.21875 11.859375 3.4375 \r\nQ 6.546875 8.109375 5.46875 16.546875 \r\nz\r\nM 41.453125 48.140625 \r\nQ 41.453125 55.71875 37.421875 60.15625 \r\nQ 33.40625 64.59375 27.734375 64.59375 \r\nQ 21.875 64.59375 17.53125 59.8125 \r\nQ 13.1875 55.03125 13.1875 47.40625 \r\nQ 13.1875 40.578125 17.3125 36.296875 \r\nQ 21.4375 32.03125 27.484375 32.03125 \r\nQ 33.59375 32.03125 37.515625 36.296875 \r\nQ 41.453125 40.578125 41.453125 48.140625 \r\nz\r\n\" id=\"ArialMT-57\"/>\r\n      </defs>\r\n      <g style=\"fill:#262626;\" transform=\"translate(281.893877 258.608125)rotate(-90)scale(0.11 -0.11)\">\r\n       <use xlink:href=\"#ArialMT-50\"/>\r\n       <use x=\"55.615234\" xlink:href=\"#ArialMT-48\"/>\r\n       <use x=\"111.230469\" xlink:href=\"#ArialMT-49\"/>\r\n       <use x=\"166.845703\" xlink:href=\"#ArialMT-57\"/>\r\n      </g>\r\n     </g>\r\n    </g>\r\n    <g id=\"xtick_6\">\r\n     <g id=\"line2d_6\">\r\n      <path clip-path=\"url(#pce8b8caf15)\" d=\"M 338.268077 224.64 \r\nL 338.268077 7.2 \r\n\" style=\"fill:none;stroke:#ffffff;stroke-linecap:round;\"/>\r\n     </g>\r\n     <g id=\"text_6\">\r\n      <!-- 2020 -->\r\n      <g style=\"fill:#262626;\" transform=\"translate(341.111749 258.608125)rotate(-90)scale(0.11 -0.11)\">\r\n       <use xlink:href=\"#ArialMT-50\"/>\r\n       <use x=\"55.615234\" xlink:href=\"#ArialMT-48\"/>\r\n       <use x=\"111.230469\" xlink:href=\"#ArialMT-50\"/>\r\n       <use x=\"166.845703\" xlink:href=\"#ArialMT-48\"/>\r\n      </g>\r\n     </g>\r\n    </g>\r\n   </g>\r\n   <g id=\"matplotlib.axis_2\">\r\n    <g id=\"ytick_1\">\r\n     <g id=\"line2d_7\">\r\n      <path clip-path=\"url(#pce8b8caf15)\" d=\"M 31.99 206.490809 \r\nL 366.79 206.490809 \r\n\" style=\"fill:none;stroke:#ffffff;stroke-linecap:round;\"/>\r\n     </g>\r\n     <g id=\"text_7\">\r\n      <!-- 0.5 -->\r\n      <defs>\r\n       <path d=\"M 9.078125 0 \r\nL 9.078125 10.015625 \r\nL 19.09375 10.015625 \r\nL 19.09375 0 \r\nz\r\n\" id=\"ArialMT-46\"/>\r\n      </defs>\r\n      <g style=\"fill:#262626;\" transform=\"translate(7.2 210.427606)scale(0.11 -0.11)\">\r\n       <use xlink:href=\"#ArialMT-48\"/>\r\n       <use x=\"55.615234\" xlink:href=\"#ArialMT-46\"/>\r\n       <use x=\"83.398438\" xlink:href=\"#ArialMT-53\"/>\r\n      </g>\r\n     </g>\r\n    </g>\r\n    <g id=\"ytick_2\">\r\n     <g id=\"line2d_8\">\r\n      <path clip-path=\"url(#pce8b8caf15)\" d=\"M 31.99 176.627464 \r\nL 366.79 176.627464 \r\n\" style=\"fill:none;stroke:#ffffff;stroke-linecap:round;\"/>\r\n     </g>\r\n     <g id=\"text_8\">\r\n      <!-- 1.0 -->\r\n      <g style=\"fill:#262626;\" transform=\"translate(7.2 180.56426)scale(0.11 -0.11)\">\r\n       <use xlink:href=\"#ArialMT-49\"/>\r\n       <use x=\"55.615234\" xlink:href=\"#ArialMT-46\"/>\r\n       <use x=\"83.398438\" xlink:href=\"#ArialMT-48\"/>\r\n      </g>\r\n     </g>\r\n    </g>\r\n    <g id=\"ytick_3\">\r\n     <g id=\"line2d_9\">\r\n      <path clip-path=\"url(#pce8b8caf15)\" d=\"M 31.99 146.764118 \r\nL 366.79 146.764118 \r\n\" style=\"fill:none;stroke:#ffffff;stroke-linecap:round;\"/>\r\n     </g>\r\n     <g id=\"text_9\">\r\n      <!-- 1.5 -->\r\n      <g style=\"fill:#262626;\" transform=\"translate(7.2 150.700915)scale(0.11 -0.11)\">\r\n       <use xlink:href=\"#ArialMT-49\"/>\r\n       <use x=\"55.615234\" xlink:href=\"#ArialMT-46\"/>\r\n       <use x=\"83.398438\" xlink:href=\"#ArialMT-53\"/>\r\n      </g>\r\n     </g>\r\n    </g>\r\n    <g id=\"ytick_4\">\r\n     <g id=\"line2d_10\">\r\n      <path clip-path=\"url(#pce8b8caf15)\" d=\"M 31.99 116.900772 \r\nL 366.79 116.900772 \r\n\" style=\"fill:none;stroke:#ffffff;stroke-linecap:round;\"/>\r\n     </g>\r\n     <g id=\"text_10\">\r\n      <!-- 2.0 -->\r\n      <g style=\"fill:#262626;\" transform=\"translate(7.2 120.837569)scale(0.11 -0.11)\">\r\n       <use xlink:href=\"#ArialMT-50\"/>\r\n       <use x=\"55.615234\" xlink:href=\"#ArialMT-46\"/>\r\n       <use x=\"83.398438\" xlink:href=\"#ArialMT-48\"/>\r\n      </g>\r\n     </g>\r\n    </g>\r\n    <g id=\"ytick_5\">\r\n     <g id=\"line2d_11\">\r\n      <path clip-path=\"url(#pce8b8caf15)\" d=\"M 31.99 87.037427 \r\nL 366.79 87.037427 \r\n\" style=\"fill:none;stroke:#ffffff;stroke-linecap:round;\"/>\r\n     </g>\r\n     <g id=\"text_11\">\r\n      <!-- 2.5 -->\r\n      <g style=\"fill:#262626;\" transform=\"translate(7.2 90.974224)scale(0.11 -0.11)\">\r\n       <use xlink:href=\"#ArialMT-50\"/>\r\n       <use x=\"55.615234\" xlink:href=\"#ArialMT-46\"/>\r\n       <use x=\"83.398438\" xlink:href=\"#ArialMT-53\"/>\r\n      </g>\r\n     </g>\r\n    </g>\r\n    <g id=\"ytick_6\">\r\n     <g id=\"line2d_12\">\r\n      <path clip-path=\"url(#pce8b8caf15)\" d=\"M 31.99 57.174081 \r\nL 366.79 57.174081 \r\n\" style=\"fill:none;stroke:#ffffff;stroke-linecap:round;\"/>\r\n     </g>\r\n     <g id=\"text_12\">\r\n      <!-- 3.0 -->\r\n      <defs>\r\n       <path d=\"M 4.203125 18.890625 \r\nL 12.984375 20.0625 \r\nQ 14.5 12.59375 18.140625 9.296875 \r\nQ 21.78125 6 27 6 \r\nQ 33.203125 6 37.46875 10.296875 \r\nQ 41.75 14.59375 41.75 20.953125 \r\nQ 41.75 27 37.796875 30.921875 \r\nQ 33.84375 34.859375 27.734375 34.859375 \r\nQ 25.25 34.859375 21.53125 33.890625 \r\nL 22.515625 41.609375 \r\nQ 23.390625 41.5 23.921875 41.5 \r\nQ 29.546875 41.5 34.03125 44.421875 \r\nQ 38.53125 47.359375 38.53125 53.46875 \r\nQ 38.53125 58.296875 35.25 61.46875 \r\nQ 31.984375 64.65625 26.8125 64.65625 \r\nQ 21.6875 64.65625 18.265625 61.421875 \r\nQ 14.84375 58.203125 13.875 51.765625 \r\nL 5.078125 53.328125 \r\nQ 6.6875 62.15625 12.390625 67.015625 \r\nQ 18.109375 71.875 26.609375 71.875 \r\nQ 32.46875 71.875 37.390625 69.359375 \r\nQ 42.328125 66.84375 44.9375 62.5 \r\nQ 47.5625 58.15625 47.5625 53.265625 \r\nQ 47.5625 48.640625 45.0625 44.828125 \r\nQ 42.578125 41.015625 37.703125 38.765625 \r\nQ 44.046875 37.3125 47.5625 32.6875 \r\nQ 51.078125 28.078125 51.078125 21.140625 \r\nQ 51.078125 11.765625 44.234375 5.25 \r\nQ 37.40625 -1.265625 26.953125 -1.265625 \r\nQ 17.53125 -1.265625 11.296875 4.34375 \r\nQ 5.078125 9.96875 4.203125 18.890625 \r\nz\r\n\" id=\"ArialMT-51\"/>\r\n      </defs>\r\n      <g style=\"fill:#262626;\" transform=\"translate(7.2 61.110878)scale(0.11 -0.11)\">\r\n       <use xlink:href=\"#ArialMT-51\"/>\r\n       <use x=\"55.615234\" xlink:href=\"#ArialMT-46\"/>\r\n       <use x=\"83.398438\" xlink:href=\"#ArialMT-48\"/>\r\n      </g>\r\n     </g>\r\n    </g>\r\n    <g id=\"ytick_7\">\r\n     <g id=\"line2d_13\">\r\n      <path clip-path=\"url(#pce8b8caf15)\" d=\"M 31.99 27.310736 \r\nL 366.79 27.310736 \r\n\" style=\"fill:none;stroke:#ffffff;stroke-linecap:round;\"/>\r\n     </g>\r\n     <g id=\"text_13\">\r\n      <!-- 3.5 -->\r\n      <g style=\"fill:#262626;\" transform=\"translate(7.2 31.247533)scale(0.11 -0.11)\">\r\n       <use xlink:href=\"#ArialMT-51\"/>\r\n       <use x=\"55.615234\" xlink:href=\"#ArialMT-46\"/>\r\n       <use x=\"83.398438\" xlink:href=\"#ArialMT-53\"/>\r\n      </g>\r\n     </g>\r\n    </g>\r\n   </g>\r\n   <g id=\"line2d_14\">\r\n    <path clip-path=\"url(#pce8b8caf15)\" d=\"M 47.208182 149.407459 \r\nL 49.479552 151.244045 \r\nL 54.022293 151.244045 \r\nL 56.293664 154.362541 \r\nL 58.565034 154.362541 \r\nL 60.836404 157.482222 \r\nL 63.107775 137.282506 \r\nL 65.379145 133.250954 \r\nL 67.650516 142.284616 \r\nL 69.921886 142.284616 \r\nL 72.193256 136.99781 \r\nL 74.464627 126.875677 \r\nL 76.735997 130.54885 \r\nL 79.007368 146.406208 \r\nL 81.278738 146.406208 \r\nL 83.550109 147.615667 \r\nL 88.092849 147.615667 \r\nL 92.63559 154.962013 \r\nL 94.906961 147.884436 \r\nL 97.178331 150.079381 \r\nL 99.449701 151.109661 \r\nL 101.721072 154.782834 \r\nL 103.992442 154.782834 \r\nL 106.263813 136.759897 \r\nL 108.535183 136.281083 \r\nL 110.806554 138.444169 \r\nL 113.077924 142.807225 \r\nL 115.349294 148.854552 \r\nL 117.620665 148.854552 \r\nL 119.892035 145.121634 \r\nL 122.163406 160.79989 \r\nL 124.434776 148.630577 \r\nL 126.706147 155.402434 \r\nL 128.977517 149.765817 \r\nL 131.248887 154.603655 \r\nL 133.520258 154.603655 \r\nL 135.791628 157.649701 \r\nL 138.062999 157.649701 \r\nL 140.334369 158.85916 \r\nL 144.87711 158.85916 \r\nL 147.14848 160.650952 \r\nL 149.419851 160.650952 \r\nL 151.691221 166.20133 \r\nL 153.962592 166.743044 \r\nL 156.233962 155.363952 \r\nL 158.505332 155.363952 \r\nL 160.776703 147.436043 \r\nL 163.048073 169.321011 \r\nL 165.319444 159.16205 \r\nL 172.133555 159.16205 \r\nL 174.404925 139.004112 \r\nL 176.676296 139.004112 \r\nL 178.947666 126.205421 \r\nL 181.219037 125.113192 \r\nL 183.490407 129.24511 \r\nL 185.761777 129.24511 \r\nL 188.033148 143.563645 \r\nL 190.304518 136.844333 \r\nL 192.575889 147.361385 \r\nL 194.847259 136.844333 \r\nL 197.11863 160.601903 \r\nL 199.39 154.682508 \r\nL 201.66137 159.45604 \r\nL 203.932741 161.401821 \r\nL 206.204111 164.041551 \r\nL 208.475482 164.041551 \r\nL 210.746852 164.841469 \r\nL 213.018223 173.641129 \r\nL 215.289593 173.641129 \r\nL 217.560963 158.362132 \r\nL 219.832334 214.756364 \r\nL 222.103704 214.756364 \r\nL 224.375075 149.803007 \r\nL 226.646445 161.173182 \r\nL 228.917815 149.803007 \r\nL 231.189186 151.802803 \r\nL 233.460556 151.802803 \r\nL 235.731927 158.762091 \r\nL 238.003297 175.358271 \r\nL 240.274668 185.43715 \r\nL 244.817408 185.43715 \r\nL 247.088779 173.715787 \r\nL 253.90289 173.715787 \r\nL 256.174261 158.842083 \r\nL 258.445631 131.683128 \r\nL 260.717001 136.16263 \r\nL 262.988372 138.92412 \r\nL 265.259742 138.92412 \r\nL 267.531113 168.862994 \r\nL 269.802483 174.089079 \r\nL 272.073853 174.089079 \r\nL 274.345224 141.090082 \r\nL 276.616594 145.375927 \r\nL 278.887965 145.375927 \r\nL 281.159335 146.630182 \r\nL 283.430706 152.202762 \r\nL 285.702076 146.630182 \r\nL 287.973446 146.630182 \r\nL 290.244817 154.7625 \r\nL 292.516187 160.601903 \r\nL 294.787558 162.361723 \r\nL 297.058928 163.321624 \r\nL 299.330299 163.481608 \r\nL 301.601669 163.481608 \r\nL 303.873039 151.082876 \r\nL 306.14441 154.042574 \r\nL 308.41578 165.055417 \r\nL 310.687151 169.684236 \r\nL 312.958521 161.023865 \r\nL 315.229891 146.630182 \r\nL 317.501262 146.630182 \r\nL 319.772632 156.922279 \r\nL 322.044003 156.922279 \r\nL 324.315373 146.630182 \r\nL 326.586744 128.045233 \r\nL 328.858114 128.045233 \r\nL 331.129484 74.718797 \r\nL 333.400855 94.876555 \r\nL 335.672225 17.083636 \r\nL 337.943596 27.879182 \r\nL 340.214966 45.483536 \r\nL 342.486336 59.862665 \r\nL 344.757707 64.700503 \r\nL 347.029077 76.795097 \r\nL 349.300448 82.842394 \r\nL 351.571818 36.882935 \r\nL 351.571818 36.882935 \r\n\" style=\"fill:none;stroke:#4c72b0;stroke-linecap:round;stroke-width:1.5;\"/>\r\n   </g>\r\n   <g id=\"patch_3\">\r\n    <path d=\"M 31.99 224.64 \r\nL 31.99 7.2 \r\n\" style=\"fill:none;stroke:#ffffff;stroke-linecap:square;stroke-linejoin:miter;stroke-width:1.25;\"/>\r\n   </g>\r\n   <g id=\"patch_4\">\r\n    <path d=\"M 366.79 224.64 \r\nL 366.79 7.2 \r\n\" style=\"fill:none;stroke:#ffffff;stroke-linecap:square;stroke-linejoin:miter;stroke-width:1.25;\"/>\r\n   </g>\r\n   <g id=\"patch_5\">\r\n    <path d=\"M 31.99 224.64 \r\nL 366.79 224.64 \r\n\" style=\"fill:none;stroke:#ffffff;stroke-linecap:square;stroke-linejoin:miter;stroke-width:1.25;\"/>\r\n   </g>\r\n   <g id=\"patch_6\">\r\n    <path d=\"M 31.99 7.2 \r\nL 366.79 7.2 \r\n\" style=\"fill:none;stroke:#ffffff;stroke-linecap:square;stroke-linejoin:miter;stroke-width:1.25;\"/>\r\n   </g>\r\n  </g>\r\n </g>\r\n <defs>\r\n  <clipPath id=\"pce8b8caf15\">\r\n   <rect height=\"217.44\" width=\"334.8\" x=\"31.99\" y=\"7.2\"/>\r\n  </clipPath>\r\n </defs>\r\n</svg>\r\n",
      "image/png": "[encoded data removed]"
     },
     "metadata": {
      "needs_background": "light"
     }
    }
   ],
   "source": [
    "# 7. Creating plot\n",
    "min_price_plot=min_price.sort_values('DateTime', ascending=True)\n",
    "plt.plot(min_price_plot['DateTime'], min_price_plot['Price'])\n",
    "plt.xticks(rotation='vertical')"
   ]
  },
  {
   "cell_type": "markdown",
   "metadata": {},
   "source": [
    "It is visualized on the graph that the price bidding for the drug Lamotrigin behaves as price cycles. "
   ]
  },
  {
   "cell_type": "markdown",
   "metadata": {},
   "source": [
    "## 5. Conclusion"
   ]
  },
  {
   "cell_type": "markdown",
   "metadata": {},
   "source": [
    "This project has showned the cleaning of the dataset for medicinprices from 2015-2020. The project has focused on the drugs Asipiprazol and Lamotrigin.\n",
    "The project focused on the theory of perfect competition in medicine prices. Th drug Asipiprazol perefctly shows how this theory exists after patent expirey, whereas the drug Lamotrigin expirenced price cycles, and therefore does not follow the theory of perefct competition, but more the thory of price cycles from Maskin and Tirole. \n",
    "Whether or not there is tacit collusion in the medicine market can be speculated, but not proven in this project."
   ]
  }
 ],
 "metadata": {
  "language_info": {
   "name": "python",
   "codemirror_mode": {
    "name": "ipython",
    "version": 3
   },
   "version": "3.7.4-final"
  },
  "orig_nbformat": 2,
  "file_extension": ".py",
  "mimetype": "text/x-python",
  "name": "python",
  "npconvert_exporter": "python",
  "pygments_lexer": "ipython3",
  "version": 3,
  "kernelspec": {
   "name": "python3",
   "display_name": "Python 3"
  }
 },
 "nbformat": 4,
 "nbformat_minor": 2
}
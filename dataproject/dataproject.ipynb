{
 "cells": [
  {
   "cell_type": "markdown",
   "metadata": {},
   "source": []
  },
  {
   "cell_type": "markdown",
   "metadata": {},
   "source": [
    "# Data project: Price cycles in the market for prescription drugs after patent expiry"
   ]
  },
  {
   "cell_type": "markdown",
   "metadata": {},
   "source": [
    "## Content\n",
    "### 1. Introduction\n",
    "### 2. Data reading, cleaning and selecting\n",
    "### 3. Expectations to the market mechanisms (normal situation)\n",
    "### 4. Analyzing the drug Lamotrigin (price cycles)\n",
    "### 5. Coonclusion\n"
   ]
  },
  {
   "cell_type": "markdown",
   "metadata": {},
   "source": [
    "## 1. Introduction"
   ]
  },
  {
   "cell_type": "markdown",
   "metadata": {},
   "source": [
    "In this project we will attempt to show the cyclic behaviour in some medical prices after the patent has expired, observed by the study \"Priscykler i markedet for receptpligtig medicin efter patentudløb”. It will serve to demonstrate the matter of possible colusion by involving key points from competition theory by Maskin and Tirole (1988). In the empirical analysis we will investigate whether these cycles appears in data for the danish medicine prices in the period 2nd febuary 2015 - 23rd of marts 2020. \n",
    "\n",
    "Pharmaceutical manufacturers in Denmark sell medicines through two channels: the primary healthcare sector, which involves sales to the pharmacies, and the secondary sector in which sales are made to\n",
    "hospitals. \n",
    "\n",
    "Before the competing phase, the company that developed the drug has a patent. The patent creates an incentive for the company to invest in new medicines, and with the exclusive right to sell the drug for a number of years, the company can receive research and production costs. In the period when the patent is valid, the market can be characterized as monopolistic and may have an inelastic demand curve, depending on of the type of drug. \n",
    "\n",
    "After the expiry of the patent, the prices of drugs that are sold to the pharmacies directly by the competing companies. Every 14 days, companies have the opportunity to report a new price electronically, where the company has\n",
    "has bid the lowest price in the same substitution group, wins the bidding round. The pharmacists are obliged to offer patients the cheapest drug within the same substitute group,\n",
    "and thus the company secures the largest market share, approx. 70 per cent until the next bidding round (”Priscykler i markedet for receptpligtig medicin efter patentudløb” p. 2). \n",
    "\n",
    "The data we will be working with in this project is containing these exactly 14-days prices."
   ]
  },
  {
   "cell_type": "markdown",
   "metadata": {},
   "source": [
    "## 2. Data reading, cleaning and selecting"
   ]
  },
  {
   "cell_type": "markdown",
   "metadata": {},
   "source": [
    "Import and set magics: "
   ]
  },
  {
   "cell_type": "code",
   "execution_count": 1,
   "metadata": {},
   "outputs": [],
   "source": [
    "import numpy as np\n",
    "import pandas as pd\n",
    "import datetime\n",
    "import matplotlib.pyplot as plt\n",
    "import dataproject"
   ]
  },
  {
   "cell_type": "code",
   "execution_count": 2,
   "metadata": {},
   "outputs": [],
   "source": [
    "#1. Importing excel sheet for analysis\n",
    "medprices_dk = pd.read_excel('meddata.xlsx')"
   ]
  },
  {
   "cell_type": "code",
   "execution_count": 3,
   "metadata": {},
   "outputs": [],
   "source": [
    "# 2. Editing frame structure\n",
    "\n",
    "english = {'Lægemiddel':'Medicine', \n",
    "                  'Varenummer':'Product_number', \n",
    "                  'Pakning':'Packaging', \n",
    "                  'Styrke':'Strength', \n",
    "                  'Firma':'Company', \n",
    "                  'Indikator':'Indicator'}\n",
    "medprices_dk.rename(columns = english, inplace=True) # Convert columns from Danish to English\n",
    "\n",
    "column_v = list(medprices_dk.columns.values) # Create list of dataframes column names\n",
    "column_v= column_v[8:]# narrow list to only focus on date variables, as the variables start from coloumn 9 i the datasheet\n",
    "\n",
    "date_to_string = {} # Create dictionary for renaming date variables\n",
    "\n",
    "# Loop throught all possible date variables and add an e in front as variables in python cannot begin with a numbers\n",
    "for i in column_v:\n",
    "    date_to_string[i] = f'e{i}'\n",
    "\n",
    "medprices_dk.rename(columns = date_to_string, inplace=True) # Rename date variables in primary dataframe\n",
    "\n",
    "\n",
    "\n"
   ]
  },
  {
   "cell_type": "markdown",
   "metadata": {},
   "source": [
    "## 3. Expectations to the market mechanisms (normal situation)"
   ]
  },
  {
   "cell_type": "markdown",
   "metadata": {},
   "source": [
    "According to theory, the transition from a monopolistic market state to complete competition should push down the prices of medicines, as several players can enter the market. As the price moves towards marginal costs, fiercer competition arises. Of course, there may be supply or demand shocks, costly entry barriers, etc., but all else equal, the price should fall after patent expiry. \n",
    "\n",
    "In order to illustrate this, we have found a drug with an expiry of the patent in april 2015. \n",
    "The drug is named Aripiprazole, and is a treatment of psychoses.\n"
   ]
  },
  {
   "cell_type": "code",
   "execution_count": 4,
   "metadata": {},
   "outputs": [],
   "source": [
    "# 3. Focusing on the medicine Aripiprazol\n",
    "\n",
    "medprices_dk_copy2 = medprices_dk.copy() # Making a copy of the dataset\n",
    "\n",
    "aripiprazol2=medprices_dk_copy2.loc[medprices_dk_copy2['Medicine'].isin(['Aripiprazol \"Accord Healthcare\"', 'Aripiprazol \"Krka\"','Aripiprazol \"Stada\"','Aripiprazol \"Accord\"','Aripiprazol \"Aristo\"','Aripiprazol \"Medical Valley\"','Aripiprazol \"Sandoz\"','Aripiprazol \"Teva\"']) ] # Narrowing down to only companies selling Aripiprazol\n",
    "\n",
    "a=aripiprazol2.Indicator.str.contains('AUP_pr_DDD') # Focusing on the relative price\n",
    "aripiprazol2=aripiprazol2.loc[a, :] # Creating an index for dataframe  \n",
    "\n",
    "drop_list=['ATC', 'Form', 'Medicine'] # Dropping columns"
   ]
  },
  {
   "cell_type": "code",
   "execution_count": 5,
   "metadata": {},
   "outputs": [],
   "source": [
    "# 4. Create long format of dataframe \n",
    "\n",
    "aripiprazol_long= pd.wide_to_long(aripiprazol2, stubnames='e', i=\"Product_number\", j='Date') # Created long format of the lamotrigin Dataframe\n",
    "\n",
    "aripiprazol_long= aripiprazol_long.sort_values(['Date','Product_number']) # Organized product number by date"
   ]
  },
  {
   "cell_type": "code",
   "execution_count": 6,
   "metadata": {},
   "outputs": [
    {
     "output_type": "execute_result",
     "data": {
      "text/plain": "Form            0\nPackaging       0\nMedicine        0\nStrength        0\nCompany         0\nIndicator       0\nATC             0\ne            1623\ndtype: int64"
     },
     "metadata": {},
     "execution_count": 6
    }
   ],
   "source": [
    "\n",
    "aripiprazol_long.isnull().sum() # Explore how many null values are in each column of your dataset\n"
   ]
  },
  {
   "cell_type": "code",
   "execution_count": 7,
   "metadata": {},
   "outputs": [
    {
     "output_type": "execute_result",
     "data": {
      "text/plain": "Form         0\nPackaging    0\nMedicine     0\nStrength     0\nCompany      0\nIndicator    0\nATC          0\ne            0\ndtype: int64"
     },
     "metadata": {},
     "execution_count": 7
    }
   ],
   "source": [
    "aripiprazol_long=aripiprazol_long[aripiprazol_long['e'].notna()] # Deleting all the empty prices in the dataset\n",
    "\n",
    "aripiprazol_long.isnull().sum() # Explore how many null values are in each column of the dataset now"
   ]
  },
  {
   "cell_type": "code",
   "execution_count": 8,
   "metadata": {},
   "outputs": [],
   "source": [
    "aripiprazol_long.rename(columns={\"e\": \"Price\"}, inplace=True) #Renaming the price column 'e' to 'Price'"
   ]
  },
  {
   "cell_type": "code",
   "execution_count": 9,
   "metadata": {},
   "outputs": [
    {
     "output_type": "execute_result",
     "data": {
      "text/plain": "                              Form          Packaging             Medicine  \\\nProduct_number Date                                                          \n52737          20150202  tabletter  56 stk. (blister)   Aripiprazol \"Krka\"   \n88445          20150202  tabletter  56 stk. (blister)   Aripiprazol \"Krka\"   \n107657         20150202  tabletter  56 stk. (blister)   Aripiprazol \"Krka\"   \n113143         20150202  tabletter  56 stk. (blister)   Aripiprazol \"Krka\"   \n52737          20150216  tabletter  56 stk. (blister)   Aripiprazol \"Krka\"   \n...                            ...                ...                  ...   \n107657         20200323  tabletter  56 stk. (blister)   Aripiprazol \"Krka\"   \n113143         20200323  tabletter  56 stk. (blister)   Aripiprazol \"Krka\"   \n197123         20200323  tabletter  56 stk. (blister)  Aripiprazol \"Stada\"   \n396362         20200323  tabletter  56 stk. (blister)  Aripiprazol \"Stada\"   \n440405         20200323  tabletter  56 stk. (blister)  Aripiprazol \"Stada\"   \n\n                        Strength       Company   Indicator      ATC  \\\nProduct_number Date                                                   \n52737          20150202     5 mg       Krka AB  AUP_pr_DDD  N05AX12   \n88445          20150202    15 mg       Krka AB  AUP_pr_DDD  N05AX12   \n107657         20150202    10 mg       Krka AB  AUP_pr_DDD  N05AX12   \n113143         20150202    30 mg       Krka AB  AUP_pr_DDD  N05AX12   \n52737          20150216     5 mg       Krka AB  AUP_pr_DDD  N05AX12   \n...                          ...           ...         ...      ...   \n107657         20200323    10 mg       Krka AB  AUP_pr_DDD  N05AX12   \n113143         20200323    30 mg       Krka AB  AUP_pr_DDD  N05AX12   \n197123         20200323    30 mg  PharmaCoDane  AUP_pr_DDD  N05AX12   \n396362         20200323    10 mg  PharmaCoDane  AUP_pr_DDD  N05AX12   \n440405         20200323     5 mg  PharmaCoDane  AUP_pr_DDD  N05AX12   \n\n                              Price  \nProduct_number Date                  \n52737          20150202  119.304120  \n88445          20150202   29.277679  \n107657         20150202   57.091581  \n113143         20150202   33.058929  \n52737          20150216  112.714952  \n...                             ...  \n107657         20200323    2.350467  \n113143         20200323    0.723214  \n197123         20200323    0.723214  \n396362         20200323    2.025018  \n440405         20200323    2.027642  \n\n[1218 rows x 8 columns]",
      "text/html": "<div>\n<style scoped>\n    .dataframe tbody tr th:only-of-type {\n        vertical-align: middle;\n    }\n\n    .dataframe tbody tr th {\n        vertical-align: top;\n    }\n\n    .dataframe thead th {\n        text-align: right;\n    }\n</style>\n<table border=\"1\" class=\"dataframe\">\n  <thead>\n    <tr style=\"text-align: right;\">\n      <th></th>\n      <th></th>\n      <th>Form</th>\n      <th>Packaging</th>\n      <th>Medicine</th>\n      <th>Strength</th>\n      <th>Company</th>\n      <th>Indicator</th>\n      <th>ATC</th>\n      <th>Price</th>\n    </tr>\n    <tr>\n      <th>Product_number</th>\n      <th>Date</th>\n      <th></th>\n      <th></th>\n      <th></th>\n      <th></th>\n      <th></th>\n      <th></th>\n      <th></th>\n      <th></th>\n    </tr>\n  </thead>\n  <tbody>\n    <tr>\n      <td>52737</td>\n      <td>20150202</td>\n      <td>tabletter</td>\n      <td>56 stk. (blister)</td>\n      <td>Aripiprazol \"Krka\"</td>\n      <td>5 mg</td>\n      <td>Krka AB</td>\n      <td>AUP_pr_DDD</td>\n      <td>N05AX12</td>\n      <td>119.304120</td>\n    </tr>\n    <tr>\n      <td>88445</td>\n      <td>20150202</td>\n      <td>tabletter</td>\n      <td>56 stk. (blister)</td>\n      <td>Aripiprazol \"Krka\"</td>\n      <td>15 mg</td>\n      <td>Krka AB</td>\n      <td>AUP_pr_DDD</td>\n      <td>N05AX12</td>\n      <td>29.277679</td>\n    </tr>\n    <tr>\n      <td>107657</td>\n      <td>20150202</td>\n      <td>tabletter</td>\n      <td>56 stk. (blister)</td>\n      <td>Aripiprazol \"Krka\"</td>\n      <td>10 mg</td>\n      <td>Krka AB</td>\n      <td>AUP_pr_DDD</td>\n      <td>N05AX12</td>\n      <td>57.091581</td>\n    </tr>\n    <tr>\n      <td>113143</td>\n      <td>20150202</td>\n      <td>tabletter</td>\n      <td>56 stk. (blister)</td>\n      <td>Aripiprazol \"Krka\"</td>\n      <td>30 mg</td>\n      <td>Krka AB</td>\n      <td>AUP_pr_DDD</td>\n      <td>N05AX12</td>\n      <td>33.058929</td>\n    </tr>\n    <tr>\n      <td>52737</td>\n      <td>20150216</td>\n      <td>tabletter</td>\n      <td>56 stk. (blister)</td>\n      <td>Aripiprazol \"Krka\"</td>\n      <td>5 mg</td>\n      <td>Krka AB</td>\n      <td>AUP_pr_DDD</td>\n      <td>N05AX12</td>\n      <td>112.714952</td>\n    </tr>\n    <tr>\n      <td>...</td>\n      <td>...</td>\n      <td>...</td>\n      <td>...</td>\n      <td>...</td>\n      <td>...</td>\n      <td>...</td>\n      <td>...</td>\n      <td>...</td>\n      <td>...</td>\n    </tr>\n    <tr>\n      <td>107657</td>\n      <td>20200323</td>\n      <td>tabletter</td>\n      <td>56 stk. (blister)</td>\n      <td>Aripiprazol \"Krka\"</td>\n      <td>10 mg</td>\n      <td>Krka AB</td>\n      <td>AUP_pr_DDD</td>\n      <td>N05AX12</td>\n      <td>2.350467</td>\n    </tr>\n    <tr>\n      <td>113143</td>\n      <td>20200323</td>\n      <td>tabletter</td>\n      <td>56 stk. (blister)</td>\n      <td>Aripiprazol \"Krka\"</td>\n      <td>30 mg</td>\n      <td>Krka AB</td>\n      <td>AUP_pr_DDD</td>\n      <td>N05AX12</td>\n      <td>0.723214</td>\n    </tr>\n    <tr>\n      <td>197123</td>\n      <td>20200323</td>\n      <td>tabletter</td>\n      <td>56 stk. (blister)</td>\n      <td>Aripiprazol \"Stada\"</td>\n      <td>30 mg</td>\n      <td>PharmaCoDane</td>\n      <td>AUP_pr_DDD</td>\n      <td>N05AX12</td>\n      <td>0.723214</td>\n    </tr>\n    <tr>\n      <td>396362</td>\n      <td>20200323</td>\n      <td>tabletter</td>\n      <td>56 stk. (blister)</td>\n      <td>Aripiprazol \"Stada\"</td>\n      <td>10 mg</td>\n      <td>PharmaCoDane</td>\n      <td>AUP_pr_DDD</td>\n      <td>N05AX12</td>\n      <td>2.025018</td>\n    </tr>\n    <tr>\n      <td>440405</td>\n      <td>20200323</td>\n      <td>tabletter</td>\n      <td>56 stk. (blister)</td>\n      <td>Aripiprazol \"Stada\"</td>\n      <td>5 mg</td>\n      <td>PharmaCoDane</td>\n      <td>AUP_pr_DDD</td>\n      <td>N05AX12</td>\n      <td>2.027642</td>\n    </tr>\n  </tbody>\n</table>\n<p>1218 rows × 8 columns</p>\n</div>"
     },
     "metadata": {},
     "execution_count": 9
    }
   ],
   "source": [
    "aripiprazol_long.loc[aripiprazol_long['Packaging'] == '56 stk. (blister)'] #Focusing on a specific packaging, the make sure the price is compatable"
   ]
  },
  {
   "cell_type": "code",
   "execution_count": 10,
   "metadata": {},
   "outputs": [],
   "source": [
    "del aripiprazol_long['Indicator'] #Deleting column"
   ]
  },
  {
   "cell_type": "code",
   "execution_count": 11,
   "metadata": {},
   "outputs": [],
   "source": [
    "del aripiprazol_long['Packaging'] #Deleting column"
   ]
  },
  {
   "cell_type": "code",
   "execution_count": 12,
   "metadata": {},
   "outputs": [],
   "source": [
    "del aripiprazol_long['Strength'] #Deleting column"
   ]
  },
  {
   "cell_type": "code",
   "execution_count": 13,
   "metadata": {},
   "outputs": [
    {
     "output_type": "execute_result",
     "data": {
      "text/plain": "                    Form            Medicine  Company      ATC      Price\nDate                                                                     \n20150202       tabletter  Aripiprazol \"Krka\"  Krka AB  N05AX12  29.277679\n20150216       tabletter  Aripiprazol \"Krka\"  Krka AB  N05AX12  26.837500\n20150302       tabletter  Aripiprazol \"Krka\"  Krka AB  N05AX12  21.958036\n20150316       tabletter  Aripiprazol \"Krka\"  Krka AB  N05AX12  20.006250\n20150330       tabletter  Aripiprazol \"Krka\"  Krka AB  N05AX12  17.078571\n...                  ...                 ...      ...      ...        ...\n20200127  oral opløsning  Aripiprazol \"Krka\"  Krka AB  N05AX12   0.579464\n20200210  oral opløsning  Aripiprazol \"Krka\"  Krka AB  N05AX12   0.715500\n20200224  oral opløsning  Aripiprazol \"Krka\"  Krka AB  N05AX12   0.715500\n20200309  oral opløsning  Aripiprazol \"Krka\"  Krka AB  N05AX12   0.715500\n20200323  oral opløsning  Aripiprazol \"Krka\"  Krka AB  N05AX12   0.715500\n\n[135 rows x 5 columns]",
      "text/html": "<div>\n<style scoped>\n    .dataframe tbody tr th:only-of-type {\n        vertical-align: middle;\n    }\n\n    .dataframe tbody tr th {\n        vertical-align: top;\n    }\n\n    .dataframe thead th {\n        text-align: right;\n    }\n</style>\n<table border=\"1\" class=\"dataframe\">\n  <thead>\n    <tr style=\"text-align: right;\">\n      <th></th>\n      <th>Form</th>\n      <th>Medicine</th>\n      <th>Company</th>\n      <th>ATC</th>\n      <th>Price</th>\n    </tr>\n    <tr>\n      <th>Date</th>\n      <th></th>\n      <th></th>\n      <th></th>\n      <th></th>\n      <th></th>\n    </tr>\n  </thead>\n  <tbody>\n    <tr>\n      <td>20150202</td>\n      <td>tabletter</td>\n      <td>Aripiprazol \"Krka\"</td>\n      <td>Krka AB</td>\n      <td>N05AX12</td>\n      <td>29.277679</td>\n    </tr>\n    <tr>\n      <td>20150216</td>\n      <td>tabletter</td>\n      <td>Aripiprazol \"Krka\"</td>\n      <td>Krka AB</td>\n      <td>N05AX12</td>\n      <td>26.837500</td>\n    </tr>\n    <tr>\n      <td>20150302</td>\n      <td>tabletter</td>\n      <td>Aripiprazol \"Krka\"</td>\n      <td>Krka AB</td>\n      <td>N05AX12</td>\n      <td>21.958036</td>\n    </tr>\n    <tr>\n      <td>20150316</td>\n      <td>tabletter</td>\n      <td>Aripiprazol \"Krka\"</td>\n      <td>Krka AB</td>\n      <td>N05AX12</td>\n      <td>20.006250</td>\n    </tr>\n    <tr>\n      <td>20150330</td>\n      <td>tabletter</td>\n      <td>Aripiprazol \"Krka\"</td>\n      <td>Krka AB</td>\n      <td>N05AX12</td>\n      <td>17.078571</td>\n    </tr>\n    <tr>\n      <td>...</td>\n      <td>...</td>\n      <td>...</td>\n      <td>...</td>\n      <td>...</td>\n      <td>...</td>\n    </tr>\n    <tr>\n      <td>20200127</td>\n      <td>oral opløsning</td>\n      <td>Aripiprazol \"Krka\"</td>\n      <td>Krka AB</td>\n      <td>N05AX12</td>\n      <td>0.579464</td>\n    </tr>\n    <tr>\n      <td>20200210</td>\n      <td>oral opløsning</td>\n      <td>Aripiprazol \"Krka\"</td>\n      <td>Krka AB</td>\n      <td>N05AX12</td>\n      <td>0.715500</td>\n    </tr>\n    <tr>\n      <td>20200224</td>\n      <td>oral opløsning</td>\n      <td>Aripiprazol \"Krka\"</td>\n      <td>Krka AB</td>\n      <td>N05AX12</td>\n      <td>0.715500</td>\n    </tr>\n    <tr>\n      <td>20200309</td>\n      <td>oral opløsning</td>\n      <td>Aripiprazol \"Krka\"</td>\n      <td>Krka AB</td>\n      <td>N05AX12</td>\n      <td>0.715500</td>\n    </tr>\n    <tr>\n      <td>20200323</td>\n      <td>oral opløsning</td>\n      <td>Aripiprazol \"Krka\"</td>\n      <td>Krka AB</td>\n      <td>N05AX12</td>\n      <td>0.715500</td>\n    </tr>\n  </tbody>\n</table>\n<p>135 rows × 5 columns</p>\n</div>"
     },
     "metadata": {},
     "execution_count": 13
    }
   ],
   "source": [
    "e_min = aripiprazol_long.groupby('Date').min() # Finding the lowest price per date. Thereby the company who won the oppportunity to sell the drug to the bidding price.\n",
    "e_min\n"
   ]
  },
  {
   "cell_type": "code",
   "execution_count": 14,
   "metadata": {},
   "outputs": [
    {
     "output_type": "execute_result",
     "data": {
      "text/plain": "Form         object\nMedicine     object\nCompany      object\nATC          object\nPrice       float64\nDate1         int64\ndtype: object"
     },
     "metadata": {},
     "execution_count": 14
    }
   ],
   "source": [
    "# Creating a new variable Date1\n",
    "e_min['Date1'] = e_min.index #indexing by e_min\n",
    "e_min\n",
    "e_min.dtypes #Checking the variable type of Date1"
   ]
  },
  {
   "cell_type": "code",
   "execution_count": 15,
   "metadata": {},
   "outputs": [],
   "source": [
    "# convert date to date format\n",
    "e_min['DateTime'] = e_min['Date1'].apply(lambda x: pd.to_datetime(str(x), format='%Y%m%d'))"
   ]
  },
  {
   "cell_type": "markdown",
   "metadata": {},
   "source": [
    "#### Plotting Asipiprazol"
   ]
  },
  {
   "cell_type": "code",
   "execution_count": 16,
   "metadata": {},
   "outputs": [
    {
     "output_type": "execute_result",
     "data": {
      "text/plain": "(array([735234., 735599., 735964., 736330., 736695., 737060., 737425.]),\n <a list of 7 Text xticklabel objects>)"
     },
     "metadata": {},
     "execution_count": 16
    },
    {
     "output_type": "display_data",
     "data": {
      "text/plain": "<Figure size 432x288 with 1 Axes>",
      "image/svg+xml": "<?xml version=\"1.0\" encoding=\"utf-8\" standalone=\"no\"?>\r\n<!DOCTYPE svg PUBLIC \"-//W3C//DTD SVG 1.1//EN\"\r\n  \"http://www.w3.org/Graphics/SVG/1.1/DTD/svg11.dtd\">\r\n<!-- Created with matplotlib (https://matplotlib.org/) -->\r\n<svg height=\"264.29pt\" version=\"1.1\" viewBox=\"0 0 368.925 264.29\" width=\"368.925pt\" xmlns=\"http://www.w3.org/2000/svg\" xmlns:xlink=\"http://www.w3.org/1999/xlink\">\r\n <defs>\r\n  <style type=\"text/css\">\r\n*{stroke-linecap:butt;stroke-linejoin:round;}\r\n  </style>\r\n </defs>\r\n <g id=\"figure_1\">\r\n  <g id=\"patch_1\">\r\n   <path d=\"M -0 264.29 \r\nL 368.925 264.29 \r\nL 368.925 0 \r\nL -0 0 \r\nz\r\n\" style=\"fill:none;\"/>\r\n  </g>\r\n  <g id=\"axes_1\">\r\n   <g id=\"patch_2\">\r\n    <path d=\"M 26.925 224.64 \r\nL 361.725 224.64 \r\nL 361.725 7.2 \r\nL 26.925 7.2 \r\nz\r\n\" style=\"fill:#ffffff;\"/>\r\n   </g>\r\n   <g id=\"matplotlib.axis_1\">\r\n    <g id=\"xtick_1\">\r\n     <g id=\"line2d_1\">\r\n      <defs>\r\n       <path d=\"M 0 0 \r\nL 0 3.5 \r\n\" id=\"mca66066a7f\" style=\"stroke:#000000;stroke-width:0.8;\"/>\r\n      </defs>\r\n      <g>\r\n       <use style=\"stroke:#000000;stroke-width:0.8;\" x=\"36.951478\" xlink:href=\"#mca66066a7f\" y=\"224.64\"/>\r\n      </g>\r\n     </g>\r\n     <g id=\"text_1\">\r\n      <!-- 2015 -->\r\n      <defs>\r\n       <path d=\"M 19.1875 8.296875 \r\nL 53.609375 8.296875 \r\nL 53.609375 0 \r\nL 7.328125 0 \r\nL 7.328125 8.296875 \r\nQ 12.9375 14.109375 22.625 23.890625 \r\nQ 32.328125 33.6875 34.8125 36.53125 \r\nQ 39.546875 41.84375 41.421875 45.53125 \r\nQ 43.3125 49.21875 43.3125 52.78125 \r\nQ 43.3125 58.59375 39.234375 62.25 \r\nQ 35.15625 65.921875 28.609375 65.921875 \r\nQ 23.96875 65.921875 18.8125 64.3125 \r\nQ 13.671875 62.703125 7.8125 59.421875 \r\nL 7.8125 69.390625 \r\nQ 13.765625 71.78125 18.9375 73 \r\nQ 24.125 74.21875 28.421875 74.21875 \r\nQ 39.75 74.21875 46.484375 68.546875 \r\nQ 53.21875 62.890625 53.21875 53.421875 \r\nQ 53.21875 48.921875 51.53125 44.890625 \r\nQ 49.859375 40.875 45.40625 35.40625 \r\nQ 44.1875 33.984375 37.640625 27.21875 \r\nQ 31.109375 20.453125 19.1875 8.296875 \r\nz\r\n\" id=\"DejaVuSans-50\"/>\r\n       <path d=\"M 31.78125 66.40625 \r\nQ 24.171875 66.40625 20.328125 58.90625 \r\nQ 16.5 51.421875 16.5 36.375 \r\nQ 16.5 21.390625 20.328125 13.890625 \r\nQ 24.171875 6.390625 31.78125 6.390625 \r\nQ 39.453125 6.390625 43.28125 13.890625 \r\nQ 47.125 21.390625 47.125 36.375 \r\nQ 47.125 51.421875 43.28125 58.90625 \r\nQ 39.453125 66.40625 31.78125 66.40625 \r\nz\r\nM 31.78125 74.21875 \r\nQ 44.046875 74.21875 50.515625 64.515625 \r\nQ 56.984375 54.828125 56.984375 36.375 \r\nQ 56.984375 17.96875 50.515625 8.265625 \r\nQ 44.046875 -1.421875 31.78125 -1.421875 \r\nQ 19.53125 -1.421875 13.0625 8.265625 \r\nQ 6.59375 17.96875 6.59375 36.375 \r\nQ 6.59375 54.828125 13.0625 64.515625 \r\nQ 19.53125 74.21875 31.78125 74.21875 \r\nz\r\n\" id=\"DejaVuSans-48\"/>\r\n       <path d=\"M 12.40625 8.296875 \r\nL 28.515625 8.296875 \r\nL 28.515625 63.921875 \r\nL 10.984375 60.40625 \r\nL 10.984375 69.390625 \r\nL 28.421875 72.90625 \r\nL 38.28125 72.90625 \r\nL 38.28125 8.296875 \r\nL 54.390625 8.296875 \r\nL 54.390625 0 \r\nL 12.40625 0 \r\nz\r\n\" id=\"DejaVuSans-49\"/>\r\n       <path d=\"M 10.796875 72.90625 \r\nL 49.515625 72.90625 \r\nL 49.515625 64.59375 \r\nL 19.828125 64.59375 \r\nL 19.828125 46.734375 \r\nQ 21.96875 47.46875 24.109375 47.828125 \r\nQ 26.265625 48.1875 28.421875 48.1875 \r\nQ 40.625 48.1875 47.75 41.5 \r\nQ 54.890625 34.8125 54.890625 23.390625 \r\nQ 54.890625 11.625 47.5625 5.09375 \r\nQ 40.234375 -1.421875 26.90625 -1.421875 \r\nQ 22.3125 -1.421875 17.546875 -0.640625 \r\nQ 12.796875 0.140625 7.71875 1.703125 \r\nL 7.71875 11.625 \r\nQ 12.109375 9.234375 16.796875 8.0625 \r\nQ 21.484375 6.890625 26.703125 6.890625 \r\nQ 35.15625 6.890625 40.078125 11.328125 \r\nQ 45.015625 15.765625 45.015625 23.390625 \r\nQ 45.015625 31 40.078125 35.4375 \r\nQ 35.15625 39.890625 26.703125 39.890625 \r\nQ 22.75 39.890625 18.8125 39.015625 \r\nQ 14.890625 38.140625 10.796875 36.28125 \r\nz\r\n\" id=\"DejaVuSans-53\"/>\r\n      </defs>\r\n      <g transform=\"translate(39.710853 257.09)rotate(-90)scale(0.1 -0.1)\">\r\n       <use xlink:href=\"#DejaVuSans-50\"/>\r\n       <use x=\"63.623047\" xlink:href=\"#DejaVuSans-48\"/>\r\n       <use x=\"127.246094\" xlink:href=\"#DejaVuSans-49\"/>\r\n       <use x=\"190.869141\" xlink:href=\"#DejaVuSans-53\"/>\r\n      </g>\r\n     </g>\r\n    </g>\r\n    <g id=\"xtick_2\">\r\n     <g id=\"line2d_2\">\r\n      <g>\r\n       <use style=\"stroke:#000000;stroke-width:0.8;\" x=\"96.16935\" xlink:href=\"#mca66066a7f\" y=\"224.64\"/>\r\n      </g>\r\n     </g>\r\n     <g id=\"text_2\">\r\n      <!-- 2016 -->\r\n      <defs>\r\n       <path d=\"M 33.015625 40.375 \r\nQ 26.375 40.375 22.484375 35.828125 \r\nQ 18.609375 31.296875 18.609375 23.390625 \r\nQ 18.609375 15.53125 22.484375 10.953125 \r\nQ 26.375 6.390625 33.015625 6.390625 \r\nQ 39.65625 6.390625 43.53125 10.953125 \r\nQ 47.40625 15.53125 47.40625 23.390625 \r\nQ 47.40625 31.296875 43.53125 35.828125 \r\nQ 39.65625 40.375 33.015625 40.375 \r\nz\r\nM 52.59375 71.296875 \r\nL 52.59375 62.3125 \r\nQ 48.875 64.0625 45.09375 64.984375 \r\nQ 41.3125 65.921875 37.59375 65.921875 \r\nQ 27.828125 65.921875 22.671875 59.328125 \r\nQ 17.53125 52.734375 16.796875 39.40625 \r\nQ 19.671875 43.65625 24.015625 45.921875 \r\nQ 28.375 48.1875 33.59375 48.1875 \r\nQ 44.578125 48.1875 50.953125 41.515625 \r\nQ 57.328125 34.859375 57.328125 23.390625 \r\nQ 57.328125 12.15625 50.6875 5.359375 \r\nQ 44.046875 -1.421875 33.015625 -1.421875 \r\nQ 20.359375 -1.421875 13.671875 8.265625 \r\nQ 6.984375 17.96875 6.984375 36.375 \r\nQ 6.984375 53.65625 15.1875 63.9375 \r\nQ 23.390625 74.21875 37.203125 74.21875 \r\nQ 40.921875 74.21875 44.703125 73.484375 \r\nQ 48.484375 72.75 52.59375 71.296875 \r\nz\r\n\" id=\"DejaVuSans-54\"/>\r\n      </defs>\r\n      <g transform=\"translate(98.928725 257.09)rotate(-90)scale(0.1 -0.1)\">\r\n       <use xlink:href=\"#DejaVuSans-50\"/>\r\n       <use x=\"63.623047\" xlink:href=\"#DejaVuSans-48\"/>\r\n       <use x=\"127.246094\" xlink:href=\"#DejaVuSans-49\"/>\r\n       <use x=\"190.869141\" xlink:href=\"#DejaVuSans-54\"/>\r\n      </g>\r\n     </g>\r\n    </g>\r\n    <g id=\"xtick_3\">\r\n     <g id=\"line2d_3\">\r\n      <g>\r\n       <use style=\"stroke:#000000;stroke-width:0.8;\" x=\"155.549462\" xlink:href=\"#mca66066a7f\" y=\"224.64\"/>\r\n      </g>\r\n     </g>\r\n     <g id=\"text_3\">\r\n      <!-- 2017 -->\r\n      <defs>\r\n       <path d=\"M 8.203125 72.90625 \r\nL 55.078125 72.90625 \r\nL 55.078125 68.703125 \r\nL 28.609375 0 \r\nL 18.3125 0 \r\nL 43.21875 64.59375 \r\nL 8.203125 64.59375 \r\nz\r\n\" id=\"DejaVuSans-55\"/>\r\n      </defs>\r\n      <g transform=\"translate(158.308837 257.09)rotate(-90)scale(0.1 -0.1)\">\r\n       <use xlink:href=\"#DejaVuSans-50\"/>\r\n       <use x=\"63.623047\" xlink:href=\"#DejaVuSans-48\"/>\r\n       <use x=\"127.246094\" xlink:href=\"#DejaVuSans-49\"/>\r\n       <use x=\"190.869141\" xlink:href=\"#DejaVuSans-55\"/>\r\n      </g>\r\n     </g>\r\n    </g>\r\n    <g id=\"xtick_4\">\r\n     <g id=\"line2d_4\">\r\n      <g>\r\n       <use style=\"stroke:#000000;stroke-width:0.8;\" x=\"214.767334\" xlink:href=\"#mca66066a7f\" y=\"224.64\"/>\r\n      </g>\r\n     </g>\r\n     <g id=\"text_4\">\r\n      <!-- 2018 -->\r\n      <defs>\r\n       <path d=\"M 31.78125 34.625 \r\nQ 24.75 34.625 20.71875 30.859375 \r\nQ 16.703125 27.09375 16.703125 20.515625 \r\nQ 16.703125 13.921875 20.71875 10.15625 \r\nQ 24.75 6.390625 31.78125 6.390625 \r\nQ 38.8125 6.390625 42.859375 10.171875 \r\nQ 46.921875 13.96875 46.921875 20.515625 \r\nQ 46.921875 27.09375 42.890625 30.859375 \r\nQ 38.875 34.625 31.78125 34.625 \r\nz\r\nM 21.921875 38.8125 \r\nQ 15.578125 40.375 12.03125 44.71875 \r\nQ 8.5 49.078125 8.5 55.328125 \r\nQ 8.5 64.0625 14.71875 69.140625 \r\nQ 20.953125 74.21875 31.78125 74.21875 \r\nQ 42.671875 74.21875 48.875 69.140625 \r\nQ 55.078125 64.0625 55.078125 55.328125 \r\nQ 55.078125 49.078125 51.53125 44.71875 \r\nQ 48 40.375 41.703125 38.8125 \r\nQ 48.828125 37.15625 52.796875 32.3125 \r\nQ 56.78125 27.484375 56.78125 20.515625 \r\nQ 56.78125 9.90625 50.3125 4.234375 \r\nQ 43.84375 -1.421875 31.78125 -1.421875 \r\nQ 19.734375 -1.421875 13.25 4.234375 \r\nQ 6.78125 9.90625 6.78125 20.515625 \r\nQ 6.78125 27.484375 10.78125 32.3125 \r\nQ 14.796875 37.15625 21.921875 38.8125 \r\nz\r\nM 18.3125 54.390625 \r\nQ 18.3125 48.734375 21.84375 45.5625 \r\nQ 25.390625 42.390625 31.78125 42.390625 \r\nQ 38.140625 42.390625 41.71875 45.5625 \r\nQ 45.3125 48.734375 45.3125 54.390625 \r\nQ 45.3125 60.0625 41.71875 63.234375 \r\nQ 38.140625 66.40625 31.78125 66.40625 \r\nQ 25.390625 66.40625 21.84375 63.234375 \r\nQ 18.3125 60.0625 18.3125 54.390625 \r\nz\r\n\" id=\"DejaVuSans-56\"/>\r\n      </defs>\r\n      <g transform=\"translate(217.526709 257.09)rotate(-90)scale(0.1 -0.1)\">\r\n       <use xlink:href=\"#DejaVuSans-50\"/>\r\n       <use x=\"63.623047\" xlink:href=\"#DejaVuSans-48\"/>\r\n       <use x=\"127.246094\" xlink:href=\"#DejaVuSans-49\"/>\r\n       <use x=\"190.869141\" xlink:href=\"#DejaVuSans-56\"/>\r\n      </g>\r\n     </g>\r\n    </g>\r\n    <g id=\"xtick_5\">\r\n     <g id=\"line2d_5\">\r\n      <g>\r\n       <use style=\"stroke:#000000;stroke-width:0.8;\" x=\"273.985205\" xlink:href=\"#mca66066a7f\" y=\"224.64\"/>\r\n      </g>\r\n     </g>\r\n     <g id=\"text_5\">\r\n      <!-- 2019 -->\r\n      <defs>\r\n       <path d=\"M 10.984375 1.515625 \r\nL 10.984375 10.5 \r\nQ 14.703125 8.734375 18.5 7.8125 \r\nQ 22.3125 6.890625 25.984375 6.890625 \r\nQ 35.75 6.890625 40.890625 13.453125 \r\nQ 46.046875 20.015625 46.78125 33.40625 \r\nQ 43.953125 29.203125 39.59375 26.953125 \r\nQ 35.25 24.703125 29.984375 24.703125 \r\nQ 19.046875 24.703125 12.671875 31.3125 \r\nQ 6.296875 37.9375 6.296875 49.421875 \r\nQ 6.296875 60.640625 12.9375 67.421875 \r\nQ 19.578125 74.21875 30.609375 74.21875 \r\nQ 43.265625 74.21875 49.921875 64.515625 \r\nQ 56.59375 54.828125 56.59375 36.375 \r\nQ 56.59375 19.140625 48.40625 8.859375 \r\nQ 40.234375 -1.421875 26.421875 -1.421875 \r\nQ 22.703125 -1.421875 18.890625 -0.6875 \r\nQ 15.09375 0.046875 10.984375 1.515625 \r\nz\r\nM 30.609375 32.421875 \r\nQ 37.25 32.421875 41.125 36.953125 \r\nQ 45.015625 41.5 45.015625 49.421875 \r\nQ 45.015625 57.28125 41.125 61.84375 \r\nQ 37.25 66.40625 30.609375 66.40625 \r\nQ 23.96875 66.40625 20.09375 61.84375 \r\nQ 16.21875 57.28125 16.21875 49.421875 \r\nQ 16.21875 41.5 20.09375 36.953125 \r\nQ 23.96875 32.421875 30.609375 32.421875 \r\nz\r\n\" id=\"DejaVuSans-57\"/>\r\n      </defs>\r\n      <g transform=\"translate(276.74458 257.09)rotate(-90)scale(0.1 -0.1)\">\r\n       <use xlink:href=\"#DejaVuSans-50\"/>\r\n       <use x=\"63.623047\" xlink:href=\"#DejaVuSans-48\"/>\r\n       <use x=\"127.246094\" xlink:href=\"#DejaVuSans-49\"/>\r\n       <use x=\"190.869141\" xlink:href=\"#DejaVuSans-57\"/>\r\n      </g>\r\n     </g>\r\n    </g>\r\n    <g id=\"xtick_6\">\r\n     <g id=\"line2d_6\">\r\n      <g>\r\n       <use style=\"stroke:#000000;stroke-width:0.8;\" x=\"333.203077\" xlink:href=\"#mca66066a7f\" y=\"224.64\"/>\r\n      </g>\r\n     </g>\r\n     <g id=\"text_6\">\r\n      <!-- 2020 -->\r\n      <g transform=\"translate(335.962452 257.09)rotate(-90)scale(0.1 -0.1)\">\r\n       <use xlink:href=\"#DejaVuSans-50\"/>\r\n       <use x=\"63.623047\" xlink:href=\"#DejaVuSans-48\"/>\r\n       <use x=\"127.246094\" xlink:href=\"#DejaVuSans-50\"/>\r\n       <use x=\"190.869141\" xlink:href=\"#DejaVuSans-48\"/>\r\n      </g>\r\n     </g>\r\n    </g>\r\n   </g>\r\n   <g id=\"matplotlib.axis_2\">\r\n    <g id=\"ytick_1\">\r\n     <g id=\"line2d_7\">\r\n      <defs>\r\n       <path d=\"M 0 0 \r\nL -3.5 0 \r\n\" id=\"m7da70e648b\" style=\"stroke:#000000;stroke-width:0.8;\"/>\r\n      </defs>\r\n      <g>\r\n       <use style=\"stroke:#000000;stroke-width:0.8;\" x=\"26.925\" xlink:href=\"#m7da70e648b\" y=\"215.52493\"/>\r\n      </g>\r\n     </g>\r\n     <g id=\"text_7\">\r\n      <!-- 0 -->\r\n      <g transform=\"translate(13.5625 219.324148)scale(0.1 -0.1)\">\r\n       <use xlink:href=\"#DejaVuSans-48\"/>\r\n      </g>\r\n     </g>\r\n    </g>\r\n    <g id=\"ytick_2\">\r\n     <g id=\"line2d_8\">\r\n      <g>\r\n       <use style=\"stroke:#000000;stroke-width:0.8;\" x=\"26.925\" xlink:href=\"#m7da70e648b\" y=\"181.63541\"/>\r\n      </g>\r\n     </g>\r\n     <g id=\"text_8\">\r\n      <!-- 5 -->\r\n      <g transform=\"translate(13.5625 185.434629)scale(0.1 -0.1)\">\r\n       <use xlink:href=\"#DejaVuSans-53\"/>\r\n      </g>\r\n     </g>\r\n    </g>\r\n    <g id=\"ytick_3\">\r\n     <g id=\"line2d_9\">\r\n      <g>\r\n       <use style=\"stroke:#000000;stroke-width:0.8;\" x=\"26.925\" xlink:href=\"#m7da70e648b\" y=\"147.74589\"/>\r\n      </g>\r\n     </g>\r\n     <g id=\"text_9\">\r\n      <!-- 10 -->\r\n      <g transform=\"translate(7.2 151.545109)scale(0.1 -0.1)\">\r\n       <use xlink:href=\"#DejaVuSans-49\"/>\r\n       <use x=\"63.623047\" xlink:href=\"#DejaVuSans-48\"/>\r\n      </g>\r\n     </g>\r\n    </g>\r\n    <g id=\"ytick_4\">\r\n     <g id=\"line2d_10\">\r\n      <g>\r\n       <use style=\"stroke:#000000;stroke-width:0.8;\" x=\"26.925\" xlink:href=\"#m7da70e648b\" y=\"113.85637\"/>\r\n      </g>\r\n     </g>\r\n     <g id=\"text_10\">\r\n      <!-- 15 -->\r\n      <g transform=\"translate(7.2 117.655589)scale(0.1 -0.1)\">\r\n       <use xlink:href=\"#DejaVuSans-49\"/>\r\n       <use x=\"63.623047\" xlink:href=\"#DejaVuSans-53\"/>\r\n      </g>\r\n     </g>\r\n    </g>\r\n    <g id=\"ytick_5\">\r\n     <g id=\"line2d_11\">\r\n      <g>\r\n       <use style=\"stroke:#000000;stroke-width:0.8;\" x=\"26.925\" xlink:href=\"#m7da70e648b\" y=\"79.966851\"/>\r\n      </g>\r\n     </g>\r\n     <g id=\"text_11\">\r\n      <!-- 20 -->\r\n      <g transform=\"translate(7.2 83.766069)scale(0.1 -0.1)\">\r\n       <use xlink:href=\"#DejaVuSans-50\"/>\r\n       <use x=\"63.623047\" xlink:href=\"#DejaVuSans-48\"/>\r\n      </g>\r\n     </g>\r\n    </g>\r\n    <g id=\"ytick_6\">\r\n     <g id=\"line2d_12\">\r\n      <g>\r\n       <use style=\"stroke:#000000;stroke-width:0.8;\" x=\"26.925\" xlink:href=\"#m7da70e648b\" y=\"46.077331\"/>\r\n      </g>\r\n     </g>\r\n     <g id=\"text_12\">\r\n      <!-- 25 -->\r\n      <g transform=\"translate(7.2 49.87655)scale(0.1 -0.1)\">\r\n       <use xlink:href=\"#DejaVuSans-50\"/>\r\n       <use x=\"63.623047\" xlink:href=\"#DejaVuSans-53\"/>\r\n      </g>\r\n     </g>\r\n    </g>\r\n    <g id=\"ytick_7\">\r\n     <g id=\"line2d_13\">\r\n      <g>\r\n       <use style=\"stroke:#000000;stroke-width:0.8;\" x=\"26.925\" xlink:href=\"#m7da70e648b\" y=\"12.187811\"/>\r\n      </g>\r\n     </g>\r\n     <g id=\"text_13\">\r\n      <!-- 30 -->\r\n      <defs>\r\n       <path d=\"M 40.578125 39.3125 \r\nQ 47.65625 37.796875 51.625 33 \r\nQ 55.609375 28.21875 55.609375 21.1875 \r\nQ 55.609375 10.40625 48.1875 4.484375 \r\nQ 40.765625 -1.421875 27.09375 -1.421875 \r\nQ 22.515625 -1.421875 17.65625 -0.515625 \r\nQ 12.796875 0.390625 7.625 2.203125 \r\nL 7.625 11.71875 \r\nQ 11.71875 9.328125 16.59375 8.109375 \r\nQ 21.484375 6.890625 26.8125 6.890625 \r\nQ 36.078125 6.890625 40.9375 10.546875 \r\nQ 45.796875 14.203125 45.796875 21.1875 \r\nQ 45.796875 27.640625 41.28125 31.265625 \r\nQ 36.765625 34.90625 28.71875 34.90625 \r\nL 20.21875 34.90625 \r\nL 20.21875 43.015625 \r\nL 29.109375 43.015625 \r\nQ 36.375 43.015625 40.234375 45.921875 \r\nQ 44.09375 48.828125 44.09375 54.296875 \r\nQ 44.09375 59.90625 40.109375 62.90625 \r\nQ 36.140625 65.921875 28.71875 65.921875 \r\nQ 24.65625 65.921875 20.015625 65.03125 \r\nQ 15.375 64.15625 9.8125 62.3125 \r\nL 9.8125 71.09375 \r\nQ 15.4375 72.65625 20.34375 73.4375 \r\nQ 25.25 74.21875 29.59375 74.21875 \r\nQ 40.828125 74.21875 47.359375 69.109375 \r\nQ 53.90625 64.015625 53.90625 55.328125 \r\nQ 53.90625 49.265625 50.4375 45.09375 \r\nQ 46.96875 40.921875 40.578125 39.3125 \r\nz\r\n\" id=\"DejaVuSans-51\"/>\r\n      </defs>\r\n      <g transform=\"translate(7.2 15.98703)scale(0.1 -0.1)\">\r\n       <use xlink:href=\"#DejaVuSans-51\"/>\r\n       <use x=\"63.623047\" xlink:href=\"#DejaVuSans-48\"/>\r\n      </g>\r\n     </g>\r\n    </g>\r\n   </g>\r\n   <g id=\"line2d_14\">\r\n    <path clip-path=\"url(#p4c491a2a90)\" d=\"M 42.143182 17.083636 \r\nL 44.414552 33.622932 \r\nL 46.685923 66.695473 \r\nL 48.957293 79.924489 \r\nL 51.228664 99.768013 \r\nL 53.500034 149.367746 \r\nL 55.771404 173.078306 \r\nL 58.042775 164.61803 \r\nL 60.314145 50.833967 \r\nL 67.128256 149.997122 \r\nL 69.399627 169.56832 \r\nL 71.670997 169.56832 \r\nL 73.942368 135.651568 \r\nL 76.213738 148.021242 \r\nL 78.485109 162.863037 \r\nL 80.756479 182.761026 \r\nL 83.027849 191.99592 \r\nL 85.29922 203.70596 \r\nL 87.57059 206.671292 \r\nL 89.841961 205.079695 \r\nL 92.113331 205.079695 \r\nL 94.384701 205.975347 \r\nL 96.656072 207.572996 \r\nL 98.927442 207.572996 \r\nL 101.198813 205.975347 \r\nL 103.470183 205.975347 \r\nL 105.741554 209.902658 \r\nL 112.555665 209.902658 \r\nL 114.827035 210.072348 \r\nL 117.098406 211.857599 \r\nL 119.369776 211.857599 \r\nL 121.641147 212.462769 \r\nL 126.183887 212.462769 \r\nL 128.455258 212.871259 \r\nL 137.540739 212.871259 \r\nL 139.81211 212.217676 \r\nL 148.897592 212.217676 \r\nL 151.168962 212.739211 \r\nL 153.440332 212.739211 \r\nL 155.711703 212.864602 \r\nL 187.510889 212.956104 \r\nL 192.05363 213.054359 \r\nL 203.410482 212.956104 \r\nL 207.953223 212.864602 \r\nL 219.310075 212.864602 \r\nL 221.581445 214.462856 \r\nL 230.666927 214.559683 \r\nL 232.938297 214.756364 \r\nL 235.209668 213.261594 \r\nL 244.295149 213.261594 \r\nL 246.56652 213.70942 \r\nL 251.109261 213.70942 \r\nL 253.380631 212.349482 \r\nL 255.652001 212.681599 \r\nL 264.737483 212.681599 \r\nL 267.008853 212.349482 \r\nL 282.908446 212.440983 \r\nL 287.451187 212.656424 \r\nL 291.993928 212.656424 \r\nL 294.265299 212.913621 \r\nL 298.808039 212.913621 \r\nL 301.07941 213.062291 \r\nL 310.164891 213.062291 \r\nL 312.436262 213.367297 \r\nL 314.707632 213.058862 \r\nL 316.979003 212.440983 \r\nL 326.064484 212.440983 \r\nL 328.335855 211.04062 \r\nL 330.607225 211.591325 \r\nL 337.421336 211.597376 \r\nL 339.692707 210.675339 \r\nL 346.506818 210.675339 \r\nL 346.506818 210.675339 \r\n\" style=\"fill:none;stroke:#1f77b4;stroke-linecap:square;stroke-width:1.5;\"/>\r\n   </g>\r\n   <g id=\"patch_3\">\r\n    <path d=\"M 26.925 224.64 \r\nL 26.925 7.2 \r\n\" style=\"fill:none;stroke:#000000;stroke-linecap:square;stroke-linejoin:miter;stroke-width:0.8;\"/>\r\n   </g>\r\n   <g id=\"patch_4\">\r\n    <path d=\"M 361.725 224.64 \r\nL 361.725 7.2 \r\n\" style=\"fill:none;stroke:#000000;stroke-linecap:square;stroke-linejoin:miter;stroke-width:0.8;\"/>\r\n   </g>\r\n   <g id=\"patch_5\">\r\n    <path d=\"M 26.925 224.64 \r\nL 361.725 224.64 \r\n\" style=\"fill:none;stroke:#000000;stroke-linecap:square;stroke-linejoin:miter;stroke-width:0.8;\"/>\r\n   </g>\r\n   <g id=\"patch_6\">\r\n    <path d=\"M 26.925 7.2 \r\nL 361.725 7.2 \r\n\" style=\"fill:none;stroke:#000000;stroke-linecap:square;stroke-linejoin:miter;stroke-width:0.8;\"/>\r\n   </g>\r\n  </g>\r\n </g>\r\n <defs>\r\n  <clipPath id=\"p4c491a2a90\">\r\n   <rect height=\"217.44\" width=\"334.8\" x=\"26.925\" y=\"7.2\"/>\r\n  </clipPath>\r\n </defs>\r\n</svg>\r\n",
      "image/png": "[encoded data removed]"
     },
     "metadata": {
      "needs_background": "light"
     }
    }
   ],
   "source": [
    "# Creating plot\n",
    "e_min_plot=e_min.sort_values('DateTime', ascending=True)\n",
    "plt.plot(e_min_plot['DateTime'], e_min_plot['Price'])\n",
    "plt.xticks(rotation='vertical')"
   ]
  },
  {
   "cell_type": "markdown",
   "metadata": {},
   "source": [
    "At the beginning of 2015,full-year forecasts were expected to see a major fall in prices for the drug immediately following the expiry of the patent, ie April 2015. However, the price falls did not break through until the end of 2015. Price falls are now at 80-90%.\n",
    "When the patent expires every company is allowed to bid in order to sell the medicine in the pharmacy. There is a bidding every two weeks, where the company there bids the lowest price win. This i visualizedin the graph, where it i showned that the biddingwar accelerate in the end of 2015, and pushes the price down to marginal cost.  "
   ]
  },
  {
   "cell_type": "markdown",
   "metadata": {},
   "source": [
    "## 4. Analyzing the drug Lamotrigin (price cycles)\n"
   ]
  },
  {
   "cell_type": "markdown",
   "metadata": {},
   "source": [
    "### We have showned how the price bidding pushes the price down, which is compatable to theory of perfect competition. However this is not always the case, for medicine after the patent expires. Some Companies engage in price cycles, where they push the price down, until a certain point, and then they raise the price again, and continuing this behavior.\n",
    "### In this section we will visualize this behavior, which is found for the drug Lamotrigin"
   ]
  },
  {
   "cell_type": "code",
   "execution_count": 17,
   "metadata": {},
   "outputs": [],
   "source": [
    "# 5. Focusing on the medicine Aripiprazol\n",
    "medprices_dk_copy = medprices_dk.copy()\n",
    "\n",
    "lamotrigin=medprices_dk_copy.loc[medprices_dk_copy['Medicine'].isin(['Lamotrigin \"1A Farma\"', 'Lamotrigin \"Stada\"', 'Lamotrigin \"Orifarm\"','Lamotrigin \"Bluefish\"','Lamotrigin \"Aurobindo\"', 'Lamotrigin \"Amneal\"', 'Lamotrigin \"Abacus Medicine\"', 'Lamotrigin \"Mylan\"']) ] # Narrowing down to only companies selling Lamotrigin \n",
    "\n",
    "I=lamotrigin.Indicator.str.contains('AUP_pr_DDD') # Focusing on the relative price\n",
    "lamotrigin=lamotrigin.loc[I, :] # Creatin an index for the datafram\n",
    "\n",
    "drop_list=['ATC', 'Form', 'Medicine'] # Dropping columns\n",
    "lamotrigin.drop(drop_list, axis=1, inplace=True)\n"
   ]
  },
  {
   "cell_type": "code",
   "execution_count": 18,
   "metadata": {},
   "outputs": [],
   "source": [
    "# 6. Create long format of dataframe \n",
    "\n",
    "lamotrigin_long= pd.wide_to_long(lamotrigin, stubnames='e', i=\"Product_number\", j='Date') # Created long format of the lamotrigin Dataframe\n",
    "\n",
    "lamotrigin_long= lamotrigin_long.sort_values(['Product_number','Date']) # Organized product number by date"
   ]
  },
  {
   "cell_type": "code",
   "execution_count": 19,
   "metadata": {},
   "outputs": [
    {
     "output_type": "execute_result",
     "data": {
      "text/plain": "Indicator       0\nPackaging       0\nStrength        0\nCompany         0\ne            2517\ndtype: int64"
     },
     "metadata": {},
     "execution_count": 19
    }
   ],
   "source": [
    "lamotrigin_long.isnull().sum() # Explore how many null values are in each column of your dataset"
   ]
  },
  {
   "cell_type": "code",
   "execution_count": 20,
   "metadata": {},
   "outputs": [
    {
     "output_type": "execute_result",
     "data": {
      "text/plain": "Indicator    0\nPackaging    0\nStrength     0\nCompany      0\ne            0\ndtype: int64"
     },
     "metadata": {},
     "execution_count": 20
    }
   ],
   "source": [
    "lamotrigin_long=lamotrigin_long[lamotrigin_long['e'].notna()] # Deleting all the nulls in the price column 'e'\n",
    "\n",
    "lamotrigin_long.isnull().sum() # Making sure there are no more missing variables"
   ]
  },
  {
   "cell_type": "code",
   "execution_count": 21,
   "metadata": {},
   "outputs": [],
   "source": [
    "lamotrigin_long.rename(columns={\"e\": \"Price\"}, inplace=True) #Renaming the 'e' column to 'Price'"
   ]
  },
  {
   "cell_type": "code",
   "execution_count": 22,
   "metadata": {},
   "outputs": [
    {
     "output_type": "execute_result",
     "data": {
      "text/plain": "                          Indicator          Packaging Strength       Company  \\\nProduct_number Date                                                             \n172849         20150202  AUP_pr_DDD  50 stk. (blister)   200 mg  1A Farma A/S   \n               20150216  AUP_pr_DDD  50 stk. (blister)   200 mg  1A Farma A/S   \n               20150302  AUP_pr_DDD  50 stk. (blister)   200 mg  1A Farma A/S   \n               20150316  AUP_pr_DDD  50 stk. (blister)   200 mg  1A Farma A/S   \n               20150330  AUP_pr_DDD  50 stk. (blister)   200 mg  1A Farma A/S   \n...                             ...                ...      ...           ...   \n552640         20150427  AUP_pr_DDD  50 stk. (blister)    50 mg  1A Farma A/S   \n               20150511  AUP_pr_DDD  50 stk. (blister)    50 mg  1A Farma A/S   \n               20150525  AUP_pr_DDD  50 stk. (blister)    50 mg  1A Farma A/S   \n               20150608  AUP_pr_DDD  50 stk. (blister)    50 mg  1A Farma A/S   \n               20150622  AUP_pr_DDD  50 stk. (blister)    50 mg  1A Farma A/S   \n\n                            Price  \nProduct_number Date                \n172849         20150202  1.599016  \n               20150216  1.764018  \n               20150302  1.764018  \n               20150316  1.624516  \n               20150330  1.624516  \n...                           ...  \n552640         20150427  4.944198  \n               20150511  3.984159  \n               20150525  3.384135  \n               20150608  3.870155  \n               20150622  3.708148  \n\n[223 rows x 5 columns]",
      "text/html": "<div>\n<style scoped>\n    .dataframe tbody tr th:only-of-type {\n        vertical-align: middle;\n    }\n\n    .dataframe tbody tr th {\n        vertical-align: top;\n    }\n\n    .dataframe thead th {\n        text-align: right;\n    }\n</style>\n<table border=\"1\" class=\"dataframe\">\n  <thead>\n    <tr style=\"text-align: right;\">\n      <th></th>\n      <th></th>\n      <th>Indicator</th>\n      <th>Packaging</th>\n      <th>Strength</th>\n      <th>Company</th>\n      <th>Price</th>\n    </tr>\n    <tr>\n      <th>Product_number</th>\n      <th>Date</th>\n      <th></th>\n      <th></th>\n      <th></th>\n      <th></th>\n      <th></th>\n    </tr>\n  </thead>\n  <tbody>\n    <tr>\n      <td rowspan=\"5\" valign=\"top\">172849</td>\n      <td>20150202</td>\n      <td>AUP_pr_DDD</td>\n      <td>50 stk. (blister)</td>\n      <td>200 mg</td>\n      <td>1A Farma A/S</td>\n      <td>1.599016</td>\n    </tr>\n    <tr>\n      <td>20150216</td>\n      <td>AUP_pr_DDD</td>\n      <td>50 stk. (blister)</td>\n      <td>200 mg</td>\n      <td>1A Farma A/S</td>\n      <td>1.764018</td>\n    </tr>\n    <tr>\n      <td>20150302</td>\n      <td>AUP_pr_DDD</td>\n      <td>50 stk. (blister)</td>\n      <td>200 mg</td>\n      <td>1A Farma A/S</td>\n      <td>1.764018</td>\n    </tr>\n    <tr>\n      <td>20150316</td>\n      <td>AUP_pr_DDD</td>\n      <td>50 stk. (blister)</td>\n      <td>200 mg</td>\n      <td>1A Farma A/S</td>\n      <td>1.624516</td>\n    </tr>\n    <tr>\n      <td>20150330</td>\n      <td>AUP_pr_DDD</td>\n      <td>50 stk. (blister)</td>\n      <td>200 mg</td>\n      <td>1A Farma A/S</td>\n      <td>1.624516</td>\n    </tr>\n    <tr>\n      <td>...</td>\n      <td>...</td>\n      <td>...</td>\n      <td>...</td>\n      <td>...</td>\n      <td>...</td>\n      <td>...</td>\n    </tr>\n    <tr>\n      <td rowspan=\"5\" valign=\"top\">552640</td>\n      <td>20150427</td>\n      <td>AUP_pr_DDD</td>\n      <td>50 stk. (blister)</td>\n      <td>50 mg</td>\n      <td>1A Farma A/S</td>\n      <td>4.944198</td>\n    </tr>\n    <tr>\n      <td>20150511</td>\n      <td>AUP_pr_DDD</td>\n      <td>50 stk. (blister)</td>\n      <td>50 mg</td>\n      <td>1A Farma A/S</td>\n      <td>3.984159</td>\n    </tr>\n    <tr>\n      <td>20150525</td>\n      <td>AUP_pr_DDD</td>\n      <td>50 stk. (blister)</td>\n      <td>50 mg</td>\n      <td>1A Farma A/S</td>\n      <td>3.384135</td>\n    </tr>\n    <tr>\n      <td>20150608</td>\n      <td>AUP_pr_DDD</td>\n      <td>50 stk. (blister)</td>\n      <td>50 mg</td>\n      <td>1A Farma A/S</td>\n      <td>3.870155</td>\n    </tr>\n    <tr>\n      <td>20150622</td>\n      <td>AUP_pr_DDD</td>\n      <td>50 stk. (blister)</td>\n      <td>50 mg</td>\n      <td>1A Farma A/S</td>\n      <td>3.708148</td>\n    </tr>\n  </tbody>\n</table>\n<p>223 rows × 5 columns</p>\n</div>"
     },
     "metadata": {},
     "execution_count": 22
    }
   ],
   "source": [
    "lamotrigin_long.loc[lamotrigin_long['Packaging'] == '50 stk. (blister)'] #Focusing on a specific packaging in order for the price to be compatable"
   ]
  },
  {
   "cell_type": "code",
   "execution_count": 23,
   "metadata": {},
   "outputs": [
    {
     "output_type": "execute_result",
     "data": {
      "text/plain": "Empty DataFrame\nColumns: [Indicator, Packaging, Strength, Company, Price]\nIndex: []",
      "text/html": "<div>\n<style scoped>\n    .dataframe tbody tr th:only-of-type {\n        vertical-align: middle;\n    }\n\n    .dataframe tbody tr th {\n        vertical-align: top;\n    }\n\n    .dataframe thead th {\n        text-align: right;\n    }\n</style>\n<table border=\"1\" class=\"dataframe\">\n  <thead>\n    <tr style=\"text-align: right;\">\n      <th></th>\n      <th>Indicator</th>\n      <th>Packaging</th>\n      <th>Strength</th>\n      <th>Company</th>\n      <th>Price</th>\n    </tr>\n    <tr>\n      <th>Date</th>\n      <th></th>\n      <th></th>\n      <th></th>\n      <th></th>\n      <th></th>\n    </tr>\n  </thead>\n  <tbody>\n  </tbody>\n</table>\n</div>"
     },
     "metadata": {},
     "execution_count": 23
    }
   ],
   "source": [
    "min_price = lamotrigin_long.groupby('Date').min() #Finding the lowest price per date. Thereby the company who won the oppportunity to sell the drug to the bidding price.\n",
    "min_price.loc[min_price['Packaging'] == '50 stk. (blister)']"
   ]
  },
  {
   "cell_type": "code",
   "execution_count": 24,
   "metadata": {},
   "outputs": [
    {
     "output_type": "execute_result",
     "data": {
      "text/plain": "Indicator     object\nPackaging     object\nStrength      object\nCompany       object\nPrice        float64\nDate2          int64\ndtype: object"
     },
     "metadata": {},
     "execution_count": 24
    }
   ],
   "source": [
    "# Creating a new variable Date1\n",
    "min_price['Date2'] = min_price.index # Indexing by min_price\n",
    "min_price\n",
    "min_price.dtypes #Checking the variable type of Date2"
   ]
  },
  {
   "cell_type": "code",
   "execution_count": 25,
   "metadata": {},
   "outputs": [],
   "source": [
    "# convert date to dateformat\n",
    "min_price['DateTime'] = min_price['Date2'].apply(lambda x: pd.to_datetime(str(x), format='%Y%m%d'))"
   ]
  },
  {
   "cell_type": "markdown",
   "metadata": {},
   "source": [
    "#### Plotting Lamotrigin"
   ]
  },
  {
   "cell_type": "code",
   "execution_count": 26,
   "metadata": {},
   "outputs": [
    {
     "output_type": "execute_result",
     "data": {
      "text/plain": "(array([735234., 735599., 735964., 736330., 736695., 737060., 737425.]),\n <a list of 7 Text xticklabel objects>)"
     },
     "metadata": {},
     "execution_count": 26
    },
    {
     "output_type": "display_data",
     "data": {
      "text/plain": "<Figure size 432x288 with 1 Axes>",
      "image/svg+xml": "<?xml version=\"1.0\" encoding=\"utf-8\" standalone=\"no\"?>\r\n<!DOCTYPE svg PUBLIC \"-//W3C//DTD SVG 1.1//EN\"\r\n  \"http://www.w3.org/Graphics/SVG/1.1/DTD/svg11.dtd\">\r\n<!-- Created with matplotlib (https://matplotlib.org/) -->\r\n<svg height=\"264.29pt\" version=\"1.1\" viewBox=\"0 0 372.103125 264.29\" width=\"372.103125pt\" xmlns=\"http://www.w3.org/2000/svg\" xmlns:xlink=\"http://www.w3.org/1999/xlink\">\r\n <defs>\r\n  <style type=\"text/css\">\r\n*{stroke-linecap:butt;stroke-linejoin:round;}\r\n  </style>\r\n </defs>\r\n <g id=\"figure_1\">\r\n  <g id=\"patch_1\">\r\n   <path d=\"M 0 264.29 \r\nL 372.103125 264.29 \r\nL 372.103125 0 \r\nL 0 0 \r\nz\r\n\" style=\"fill:none;\"/>\r\n  </g>\r\n  <g id=\"axes_1\">\r\n   <g id=\"patch_2\">\r\n    <path d=\"M 30.103125 224.64 \r\nL 364.903125 224.64 \r\nL 364.903125 7.2 \r\nL 30.103125 7.2 \r\nz\r\n\" style=\"fill:#ffffff;\"/>\r\n   </g>\r\n   <g id=\"matplotlib.axis_1\">\r\n    <g id=\"xtick_1\">\r\n     <g id=\"line2d_1\">\r\n      <defs>\r\n       <path d=\"M 0 0 \r\nL 0 3.5 \r\n\" id=\"m4f1254ad8a\" style=\"stroke:#000000;stroke-width:0.8;\"/>\r\n      </defs>\r\n      <g>\r\n       <use style=\"stroke:#000000;stroke-width:0.8;\" x=\"40.129603\" xlink:href=\"#m4f1254ad8a\" y=\"224.64\"/>\r\n      </g>\r\n     </g>\r\n     <g id=\"text_1\">\r\n      <!-- 2015 -->\r\n      <defs>\r\n       <path d=\"M 19.1875 8.296875 \r\nL 53.609375 8.296875 \r\nL 53.609375 0 \r\nL 7.328125 0 \r\nL 7.328125 8.296875 \r\nQ 12.9375 14.109375 22.625 23.890625 \r\nQ 32.328125 33.6875 34.8125 36.53125 \r\nQ 39.546875 41.84375 41.421875 45.53125 \r\nQ 43.3125 49.21875 43.3125 52.78125 \r\nQ 43.3125 58.59375 39.234375 62.25 \r\nQ 35.15625 65.921875 28.609375 65.921875 \r\nQ 23.96875 65.921875 18.8125 64.3125 \r\nQ 13.671875 62.703125 7.8125 59.421875 \r\nL 7.8125 69.390625 \r\nQ 13.765625 71.78125 18.9375 73 \r\nQ 24.125 74.21875 28.421875 74.21875 \r\nQ 39.75 74.21875 46.484375 68.546875 \r\nQ 53.21875 62.890625 53.21875 53.421875 \r\nQ 53.21875 48.921875 51.53125 44.890625 \r\nQ 49.859375 40.875 45.40625 35.40625 \r\nQ 44.1875 33.984375 37.640625 27.21875 \r\nQ 31.109375 20.453125 19.1875 8.296875 \r\nz\r\n\" id=\"DejaVuSans-50\"/>\r\n       <path d=\"M 31.78125 66.40625 \r\nQ 24.171875 66.40625 20.328125 58.90625 \r\nQ 16.5 51.421875 16.5 36.375 \r\nQ 16.5 21.390625 20.328125 13.890625 \r\nQ 24.171875 6.390625 31.78125 6.390625 \r\nQ 39.453125 6.390625 43.28125 13.890625 \r\nQ 47.125 21.390625 47.125 36.375 \r\nQ 47.125 51.421875 43.28125 58.90625 \r\nQ 39.453125 66.40625 31.78125 66.40625 \r\nz\r\nM 31.78125 74.21875 \r\nQ 44.046875 74.21875 50.515625 64.515625 \r\nQ 56.984375 54.828125 56.984375 36.375 \r\nQ 56.984375 17.96875 50.515625 8.265625 \r\nQ 44.046875 -1.421875 31.78125 -1.421875 \r\nQ 19.53125 -1.421875 13.0625 8.265625 \r\nQ 6.59375 17.96875 6.59375 36.375 \r\nQ 6.59375 54.828125 13.0625 64.515625 \r\nQ 19.53125 74.21875 31.78125 74.21875 \r\nz\r\n\" id=\"DejaVuSans-48\"/>\r\n       <path d=\"M 12.40625 8.296875 \r\nL 28.515625 8.296875 \r\nL 28.515625 63.921875 \r\nL 10.984375 60.40625 \r\nL 10.984375 69.390625 \r\nL 28.421875 72.90625 \r\nL 38.28125 72.90625 \r\nL 38.28125 8.296875 \r\nL 54.390625 8.296875 \r\nL 54.390625 0 \r\nL 12.40625 0 \r\nz\r\n\" id=\"DejaVuSans-49\"/>\r\n       <path d=\"M 10.796875 72.90625 \r\nL 49.515625 72.90625 \r\nL 49.515625 64.59375 \r\nL 19.828125 64.59375 \r\nL 19.828125 46.734375 \r\nQ 21.96875 47.46875 24.109375 47.828125 \r\nQ 26.265625 48.1875 28.421875 48.1875 \r\nQ 40.625 48.1875 47.75 41.5 \r\nQ 54.890625 34.8125 54.890625 23.390625 \r\nQ 54.890625 11.625 47.5625 5.09375 \r\nQ 40.234375 -1.421875 26.90625 -1.421875 \r\nQ 22.3125 -1.421875 17.546875 -0.640625 \r\nQ 12.796875 0.140625 7.71875 1.703125 \r\nL 7.71875 11.625 \r\nQ 12.109375 9.234375 16.796875 8.0625 \r\nQ 21.484375 6.890625 26.703125 6.890625 \r\nQ 35.15625 6.890625 40.078125 11.328125 \r\nQ 45.015625 15.765625 45.015625 23.390625 \r\nQ 45.015625 31 40.078125 35.4375 \r\nQ 35.15625 39.890625 26.703125 39.890625 \r\nQ 22.75 39.890625 18.8125 39.015625 \r\nQ 14.890625 38.140625 10.796875 36.28125 \r\nz\r\n\" id=\"DejaVuSans-53\"/>\r\n      </defs>\r\n      <g transform=\"translate(42.888978 257.09)rotate(-90)scale(0.1 -0.1)\">\r\n       <use xlink:href=\"#DejaVuSans-50\"/>\r\n       <use x=\"63.623047\" xlink:href=\"#DejaVuSans-48\"/>\r\n       <use x=\"127.246094\" xlink:href=\"#DejaVuSans-49\"/>\r\n       <use x=\"190.869141\" xlink:href=\"#DejaVuSans-53\"/>\r\n      </g>\r\n     </g>\r\n    </g>\r\n    <g id=\"xtick_2\">\r\n     <g id=\"line2d_2\">\r\n      <g>\r\n       <use style=\"stroke:#000000;stroke-width:0.8;\" x=\"99.347475\" xlink:href=\"#m4f1254ad8a\" y=\"224.64\"/>\r\n      </g>\r\n     </g>\r\n     <g id=\"text_2\">\r\n      <!-- 2016 -->\r\n      <defs>\r\n       <path d=\"M 33.015625 40.375 \r\nQ 26.375 40.375 22.484375 35.828125 \r\nQ 18.609375 31.296875 18.609375 23.390625 \r\nQ 18.609375 15.53125 22.484375 10.953125 \r\nQ 26.375 6.390625 33.015625 6.390625 \r\nQ 39.65625 6.390625 43.53125 10.953125 \r\nQ 47.40625 15.53125 47.40625 23.390625 \r\nQ 47.40625 31.296875 43.53125 35.828125 \r\nQ 39.65625 40.375 33.015625 40.375 \r\nz\r\nM 52.59375 71.296875 \r\nL 52.59375 62.3125 \r\nQ 48.875 64.0625 45.09375 64.984375 \r\nQ 41.3125 65.921875 37.59375 65.921875 \r\nQ 27.828125 65.921875 22.671875 59.328125 \r\nQ 17.53125 52.734375 16.796875 39.40625 \r\nQ 19.671875 43.65625 24.015625 45.921875 \r\nQ 28.375 48.1875 33.59375 48.1875 \r\nQ 44.578125 48.1875 50.953125 41.515625 \r\nQ 57.328125 34.859375 57.328125 23.390625 \r\nQ 57.328125 12.15625 50.6875 5.359375 \r\nQ 44.046875 -1.421875 33.015625 -1.421875 \r\nQ 20.359375 -1.421875 13.671875 8.265625 \r\nQ 6.984375 17.96875 6.984375 36.375 \r\nQ 6.984375 53.65625 15.1875 63.9375 \r\nQ 23.390625 74.21875 37.203125 74.21875 \r\nQ 40.921875 74.21875 44.703125 73.484375 \r\nQ 48.484375 72.75 52.59375 71.296875 \r\nz\r\n\" id=\"DejaVuSans-54\"/>\r\n      </defs>\r\n      <g transform=\"translate(102.10685 257.09)rotate(-90)scale(0.1 -0.1)\">\r\n       <use xlink:href=\"#DejaVuSans-50\"/>\r\n       <use x=\"63.623047\" xlink:href=\"#DejaVuSans-48\"/>\r\n       <use x=\"127.246094\" xlink:href=\"#DejaVuSans-49\"/>\r\n       <use x=\"190.869141\" xlink:href=\"#DejaVuSans-54\"/>\r\n      </g>\r\n     </g>\r\n    </g>\r\n    <g id=\"xtick_3\">\r\n     <g id=\"line2d_3\">\r\n      <g>\r\n       <use style=\"stroke:#000000;stroke-width:0.8;\" x=\"158.727587\" xlink:href=\"#m4f1254ad8a\" y=\"224.64\"/>\r\n      </g>\r\n     </g>\r\n     <g id=\"text_3\">\r\n      <!-- 2017 -->\r\n      <defs>\r\n       <path d=\"M 8.203125 72.90625 \r\nL 55.078125 72.90625 \r\nL 55.078125 68.703125 \r\nL 28.609375 0 \r\nL 18.3125 0 \r\nL 43.21875 64.59375 \r\nL 8.203125 64.59375 \r\nz\r\n\" id=\"DejaVuSans-55\"/>\r\n      </defs>\r\n      <g transform=\"translate(161.486962 257.09)rotate(-90)scale(0.1 -0.1)\">\r\n       <use xlink:href=\"#DejaVuSans-50\"/>\r\n       <use x=\"63.623047\" xlink:href=\"#DejaVuSans-48\"/>\r\n       <use x=\"127.246094\" xlink:href=\"#DejaVuSans-49\"/>\r\n       <use x=\"190.869141\" xlink:href=\"#DejaVuSans-55\"/>\r\n      </g>\r\n     </g>\r\n    </g>\r\n    <g id=\"xtick_4\">\r\n     <g id=\"line2d_4\">\r\n      <g>\r\n       <use style=\"stroke:#000000;stroke-width:0.8;\" x=\"217.945459\" xlink:href=\"#m4f1254ad8a\" y=\"224.64\"/>\r\n      </g>\r\n     </g>\r\n     <g id=\"text_4\">\r\n      <!-- 2018 -->\r\n      <defs>\r\n       <path d=\"M 31.78125 34.625 \r\nQ 24.75 34.625 20.71875 30.859375 \r\nQ 16.703125 27.09375 16.703125 20.515625 \r\nQ 16.703125 13.921875 20.71875 10.15625 \r\nQ 24.75 6.390625 31.78125 6.390625 \r\nQ 38.8125 6.390625 42.859375 10.171875 \r\nQ 46.921875 13.96875 46.921875 20.515625 \r\nQ 46.921875 27.09375 42.890625 30.859375 \r\nQ 38.875 34.625 31.78125 34.625 \r\nz\r\nM 21.921875 38.8125 \r\nQ 15.578125 40.375 12.03125 44.71875 \r\nQ 8.5 49.078125 8.5 55.328125 \r\nQ 8.5 64.0625 14.71875 69.140625 \r\nQ 20.953125 74.21875 31.78125 74.21875 \r\nQ 42.671875 74.21875 48.875 69.140625 \r\nQ 55.078125 64.0625 55.078125 55.328125 \r\nQ 55.078125 49.078125 51.53125 44.71875 \r\nQ 48 40.375 41.703125 38.8125 \r\nQ 48.828125 37.15625 52.796875 32.3125 \r\nQ 56.78125 27.484375 56.78125 20.515625 \r\nQ 56.78125 9.90625 50.3125 4.234375 \r\nQ 43.84375 -1.421875 31.78125 -1.421875 \r\nQ 19.734375 -1.421875 13.25 4.234375 \r\nQ 6.78125 9.90625 6.78125 20.515625 \r\nQ 6.78125 27.484375 10.78125 32.3125 \r\nQ 14.796875 37.15625 21.921875 38.8125 \r\nz\r\nM 18.3125 54.390625 \r\nQ 18.3125 48.734375 21.84375 45.5625 \r\nQ 25.390625 42.390625 31.78125 42.390625 \r\nQ 38.140625 42.390625 41.71875 45.5625 \r\nQ 45.3125 48.734375 45.3125 54.390625 \r\nQ 45.3125 60.0625 41.71875 63.234375 \r\nQ 38.140625 66.40625 31.78125 66.40625 \r\nQ 25.390625 66.40625 21.84375 63.234375 \r\nQ 18.3125 60.0625 18.3125 54.390625 \r\nz\r\n\" id=\"DejaVuSans-56\"/>\r\n      </defs>\r\n      <g transform=\"translate(220.704834 257.09)rotate(-90)scale(0.1 -0.1)\">\r\n       <use xlink:href=\"#DejaVuSans-50\"/>\r\n       <use x=\"63.623047\" xlink:href=\"#DejaVuSans-48\"/>\r\n       <use x=\"127.246094\" xlink:href=\"#DejaVuSans-49\"/>\r\n       <use x=\"190.869141\" xlink:href=\"#DejaVuSans-56\"/>\r\n      </g>\r\n     </g>\r\n    </g>\r\n    <g id=\"xtick_5\">\r\n     <g id=\"line2d_5\">\r\n      <g>\r\n       <use style=\"stroke:#000000;stroke-width:0.8;\" x=\"277.16333\" xlink:href=\"#m4f1254ad8a\" y=\"224.64\"/>\r\n      </g>\r\n     </g>\r\n     <g id=\"text_5\">\r\n      <!-- 2019 -->\r\n      <defs>\r\n       <path d=\"M 10.984375 1.515625 \r\nL 10.984375 10.5 \r\nQ 14.703125 8.734375 18.5 7.8125 \r\nQ 22.3125 6.890625 25.984375 6.890625 \r\nQ 35.75 6.890625 40.890625 13.453125 \r\nQ 46.046875 20.015625 46.78125 33.40625 \r\nQ 43.953125 29.203125 39.59375 26.953125 \r\nQ 35.25 24.703125 29.984375 24.703125 \r\nQ 19.046875 24.703125 12.671875 31.3125 \r\nQ 6.296875 37.9375 6.296875 49.421875 \r\nQ 6.296875 60.640625 12.9375 67.421875 \r\nQ 19.578125 74.21875 30.609375 74.21875 \r\nQ 43.265625 74.21875 49.921875 64.515625 \r\nQ 56.59375 54.828125 56.59375 36.375 \r\nQ 56.59375 19.140625 48.40625 8.859375 \r\nQ 40.234375 -1.421875 26.421875 -1.421875 \r\nQ 22.703125 -1.421875 18.890625 -0.6875 \r\nQ 15.09375 0.046875 10.984375 1.515625 \r\nz\r\nM 30.609375 32.421875 \r\nQ 37.25 32.421875 41.125 36.953125 \r\nQ 45.015625 41.5 45.015625 49.421875 \r\nQ 45.015625 57.28125 41.125 61.84375 \r\nQ 37.25 66.40625 30.609375 66.40625 \r\nQ 23.96875 66.40625 20.09375 61.84375 \r\nQ 16.21875 57.28125 16.21875 49.421875 \r\nQ 16.21875 41.5 20.09375 36.953125 \r\nQ 23.96875 32.421875 30.609375 32.421875 \r\nz\r\n\" id=\"DejaVuSans-57\"/>\r\n      </defs>\r\n      <g transform=\"translate(279.922705 257.09)rotate(-90)scale(0.1 -0.1)\">\r\n       <use xlink:href=\"#DejaVuSans-50\"/>\r\n       <use x=\"63.623047\" xlink:href=\"#DejaVuSans-48\"/>\r\n       <use x=\"127.246094\" xlink:href=\"#DejaVuSans-49\"/>\r\n       <use x=\"190.869141\" xlink:href=\"#DejaVuSans-57\"/>\r\n      </g>\r\n     </g>\r\n    </g>\r\n    <g id=\"xtick_6\">\r\n     <g id=\"line2d_6\">\r\n      <g>\r\n       <use style=\"stroke:#000000;stroke-width:0.8;\" x=\"336.381202\" xlink:href=\"#m4f1254ad8a\" y=\"224.64\"/>\r\n      </g>\r\n     </g>\r\n     <g id=\"text_6\">\r\n      <!-- 2020 -->\r\n      <g transform=\"translate(339.140577 257.09)rotate(-90)scale(0.1 -0.1)\">\r\n       <use xlink:href=\"#DejaVuSans-50\"/>\r\n       <use x=\"63.623047\" xlink:href=\"#DejaVuSans-48\"/>\r\n       <use x=\"127.246094\" xlink:href=\"#DejaVuSans-50\"/>\r\n       <use x=\"190.869141\" xlink:href=\"#DejaVuSans-48\"/>\r\n      </g>\r\n     </g>\r\n    </g>\r\n   </g>\r\n   <g id=\"matplotlib.axis_2\">\r\n    <g id=\"ytick_1\">\r\n     <g id=\"line2d_7\">\r\n      <defs>\r\n       <path d=\"M 0 0 \r\nL -3.5 0 \r\n\" id=\"m724d5746f1\" style=\"stroke:#000000;stroke-width:0.8;\"/>\r\n      </defs>\r\n      <g>\r\n       <use style=\"stroke:#000000;stroke-width:0.8;\" x=\"30.103125\" xlink:href=\"#m724d5746f1\" y=\"206.490809\"/>\r\n      </g>\r\n     </g>\r\n     <g id=\"text_7\">\r\n      <!-- 0.5 -->\r\n      <defs>\r\n       <path d=\"M 10.6875 12.40625 \r\nL 21 12.40625 \r\nL 21 0 \r\nL 10.6875 0 \r\nz\r\n\" id=\"DejaVuSans-46\"/>\r\n      </defs>\r\n      <g transform=\"translate(7.2 210.290028)scale(0.1 -0.1)\">\r\n       <use xlink:href=\"#DejaVuSans-48\"/>\r\n       <use x=\"63.623047\" xlink:href=\"#DejaVuSans-46\"/>\r\n       <use x=\"95.410156\" xlink:href=\"#DejaVuSans-53\"/>\r\n      </g>\r\n     </g>\r\n    </g>\r\n    <g id=\"ytick_2\">\r\n     <g id=\"line2d_8\">\r\n      <g>\r\n       <use style=\"stroke:#000000;stroke-width:0.8;\" x=\"30.103125\" xlink:href=\"#m724d5746f1\" y=\"176.627464\"/>\r\n      </g>\r\n     </g>\r\n     <g id=\"text_8\">\r\n      <!-- 1.0 -->\r\n      <g transform=\"translate(7.2 180.426682)scale(0.1 -0.1)\">\r\n       <use xlink:href=\"#DejaVuSans-49\"/>\r\n       <use x=\"63.623047\" xlink:href=\"#DejaVuSans-46\"/>\r\n       <use x=\"95.410156\" xlink:href=\"#DejaVuSans-48\"/>\r\n      </g>\r\n     </g>\r\n    </g>\r\n    <g id=\"ytick_3\">\r\n     <g id=\"line2d_9\">\r\n      <g>\r\n       <use style=\"stroke:#000000;stroke-width:0.8;\" x=\"30.103125\" xlink:href=\"#m724d5746f1\" y=\"146.764118\"/>\r\n      </g>\r\n     </g>\r\n     <g id=\"text_9\">\r\n      <!-- 1.5 -->\r\n      <g transform=\"translate(7.2 150.563337)scale(0.1 -0.1)\">\r\n       <use xlink:href=\"#DejaVuSans-49\"/>\r\n       <use x=\"63.623047\" xlink:href=\"#DejaVuSans-46\"/>\r\n       <use x=\"95.410156\" xlink:href=\"#DejaVuSans-53\"/>\r\n      </g>\r\n     </g>\r\n    </g>\r\n    <g id=\"ytick_4\">\r\n     <g id=\"line2d_10\">\r\n      <g>\r\n       <use style=\"stroke:#000000;stroke-width:0.8;\" x=\"30.103125\" xlink:href=\"#m724d5746f1\" y=\"116.900772\"/>\r\n      </g>\r\n     </g>\r\n     <g id=\"text_10\">\r\n      <!-- 2.0 -->\r\n      <g transform=\"translate(7.2 120.699991)scale(0.1 -0.1)\">\r\n       <use xlink:href=\"#DejaVuSans-50\"/>\r\n       <use x=\"63.623047\" xlink:href=\"#DejaVuSans-46\"/>\r\n       <use x=\"95.410156\" xlink:href=\"#DejaVuSans-48\"/>\r\n      </g>\r\n     </g>\r\n    </g>\r\n    <g id=\"ytick_5\">\r\n     <g id=\"line2d_11\">\r\n      <g>\r\n       <use style=\"stroke:#000000;stroke-width:0.8;\" x=\"30.103125\" xlink:href=\"#m724d5746f1\" y=\"87.037427\"/>\r\n      </g>\r\n     </g>\r\n     <g id=\"text_11\">\r\n      <!-- 2.5 -->\r\n      <g transform=\"translate(7.2 90.836646)scale(0.1 -0.1)\">\r\n       <use xlink:href=\"#DejaVuSans-50\"/>\r\n       <use x=\"63.623047\" xlink:href=\"#DejaVuSans-46\"/>\r\n       <use x=\"95.410156\" xlink:href=\"#DejaVuSans-53\"/>\r\n      </g>\r\n     </g>\r\n    </g>\r\n    <g id=\"ytick_6\">\r\n     <g id=\"line2d_12\">\r\n      <g>\r\n       <use style=\"stroke:#000000;stroke-width:0.8;\" x=\"30.103125\" xlink:href=\"#m724d5746f1\" y=\"57.174081\"/>\r\n      </g>\r\n     </g>\r\n     <g id=\"text_12\">\r\n      <!-- 3.0 -->\r\n      <defs>\r\n       <path d=\"M 40.578125 39.3125 \r\nQ 47.65625 37.796875 51.625 33 \r\nQ 55.609375 28.21875 55.609375 21.1875 \r\nQ 55.609375 10.40625 48.1875 4.484375 \r\nQ 40.765625 -1.421875 27.09375 -1.421875 \r\nQ 22.515625 -1.421875 17.65625 -0.515625 \r\nQ 12.796875 0.390625 7.625 2.203125 \r\nL 7.625 11.71875 \r\nQ 11.71875 9.328125 16.59375 8.109375 \r\nQ 21.484375 6.890625 26.8125 6.890625 \r\nQ 36.078125 6.890625 40.9375 10.546875 \r\nQ 45.796875 14.203125 45.796875 21.1875 \r\nQ 45.796875 27.640625 41.28125 31.265625 \r\nQ 36.765625 34.90625 28.71875 34.90625 \r\nL 20.21875 34.90625 \r\nL 20.21875 43.015625 \r\nL 29.109375 43.015625 \r\nQ 36.375 43.015625 40.234375 45.921875 \r\nQ 44.09375 48.828125 44.09375 54.296875 \r\nQ 44.09375 59.90625 40.109375 62.90625 \r\nQ 36.140625 65.921875 28.71875 65.921875 \r\nQ 24.65625 65.921875 20.015625 65.03125 \r\nQ 15.375 64.15625 9.8125 62.3125 \r\nL 9.8125 71.09375 \r\nQ 15.4375 72.65625 20.34375 73.4375 \r\nQ 25.25 74.21875 29.59375 74.21875 \r\nQ 40.828125 74.21875 47.359375 69.109375 \r\nQ 53.90625 64.015625 53.90625 55.328125 \r\nQ 53.90625 49.265625 50.4375 45.09375 \r\nQ 46.96875 40.921875 40.578125 39.3125 \r\nz\r\n\" id=\"DejaVuSans-51\"/>\r\n      </defs>\r\n      <g transform=\"translate(7.2 60.9733)scale(0.1 -0.1)\">\r\n       <use xlink:href=\"#DejaVuSans-51\"/>\r\n       <use x=\"63.623047\" xlink:href=\"#DejaVuSans-46\"/>\r\n       <use x=\"95.410156\" xlink:href=\"#DejaVuSans-48\"/>\r\n      </g>\r\n     </g>\r\n    </g>\r\n    <g id=\"ytick_7\">\r\n     <g id=\"line2d_13\">\r\n      <g>\r\n       <use style=\"stroke:#000000;stroke-width:0.8;\" x=\"30.103125\" xlink:href=\"#m724d5746f1\" y=\"27.310736\"/>\r\n      </g>\r\n     </g>\r\n     <g id=\"text_13\">\r\n      <!-- 3.5 -->\r\n      <g transform=\"translate(7.2 31.109955)scale(0.1 -0.1)\">\r\n       <use xlink:href=\"#DejaVuSans-51\"/>\r\n       <use x=\"63.623047\" xlink:href=\"#DejaVuSans-46\"/>\r\n       <use x=\"95.410156\" xlink:href=\"#DejaVuSans-53\"/>\r\n      </g>\r\n     </g>\r\n    </g>\r\n   </g>\r\n   <g id=\"line2d_14\">\r\n    <path clip-path=\"url(#p0f2db7e4c8)\" d=\"M 45.321307 149.407459 \r\nL 47.592677 151.244045 \r\nL 52.135418 151.244045 \r\nL 54.406789 154.362541 \r\nL 56.678159 154.362541 \r\nL 58.949529 157.482222 \r\nL 61.2209 137.282506 \r\nL 63.49227 133.250954 \r\nL 65.763641 142.284616 \r\nL 68.035011 142.284616 \r\nL 70.306381 136.99781 \r\nL 72.577752 126.875677 \r\nL 74.849122 130.54885 \r\nL 77.120493 146.406208 \r\nL 79.391863 146.406208 \r\nL 81.663234 147.615667 \r\nL 86.205974 147.615667 \r\nL 90.748715 154.962013 \r\nL 93.020086 147.884436 \r\nL 95.291456 150.079381 \r\nL 97.562826 151.109661 \r\nL 99.834197 154.782834 \r\nL 102.105567 154.782834 \r\nL 104.376938 136.759897 \r\nL 106.648308 136.281083 \r\nL 108.919679 138.444169 \r\nL 111.191049 142.807225 \r\nL 113.462419 148.854552 \r\nL 115.73379 148.854552 \r\nL 118.00516 145.121634 \r\nL 120.276531 160.79989 \r\nL 122.547901 148.630577 \r\nL 124.819272 155.402434 \r\nL 127.090642 149.765817 \r\nL 129.362012 154.603655 \r\nL 131.633383 154.603655 \r\nL 133.904753 157.649701 \r\nL 136.176124 157.649701 \r\nL 138.447494 158.85916 \r\nL 142.990235 158.85916 \r\nL 145.261605 160.650952 \r\nL 147.532976 160.650952 \r\nL 149.804346 166.20133 \r\nL 152.075717 166.743044 \r\nL 154.347087 155.363952 \r\nL 156.618457 155.363952 \r\nL 158.889828 147.436043 \r\nL 161.161198 169.321011 \r\nL 163.432569 159.16205 \r\nL 170.24668 159.16205 \r\nL 172.51805 139.004112 \r\nL 174.789421 139.004112 \r\nL 177.060791 126.205421 \r\nL 179.332162 125.113192 \r\nL 181.603532 129.24511 \r\nL 183.874902 129.24511 \r\nL 186.146273 143.563645 \r\nL 188.417643 136.844333 \r\nL 190.689014 147.361385 \r\nL 192.960384 136.844333 \r\nL 195.231755 160.601903 \r\nL 197.503125 154.682508 \r\nL 199.774495 159.45604 \r\nL 202.045866 161.401821 \r\nL 204.317236 164.041551 \r\nL 206.588607 164.041551 \r\nL 208.859977 164.841469 \r\nL 211.131348 173.641129 \r\nL 213.402718 173.641129 \r\nL 215.674088 158.362132 \r\nL 217.945459 214.756364 \r\nL 220.216829 214.756364 \r\nL 222.4882 149.803007 \r\nL 224.75957 161.173182 \r\nL 227.03094 149.803007 \r\nL 229.302311 151.802803 \r\nL 231.573681 151.802803 \r\nL 233.845052 158.762091 \r\nL 236.116422 175.358271 \r\nL 238.387793 185.43715 \r\nL 242.930533 185.43715 \r\nL 245.201904 173.715787 \r\nL 252.016015 173.715787 \r\nL 254.287386 158.842083 \r\nL 256.558756 131.683128 \r\nL 258.830126 136.16263 \r\nL 261.101497 138.92412 \r\nL 263.372867 138.92412 \r\nL 265.644238 168.862994 \r\nL 267.915608 174.089079 \r\nL 270.186978 174.089079 \r\nL 272.458349 141.090082 \r\nL 274.729719 145.375927 \r\nL 277.00109 145.375927 \r\nL 279.27246 146.630182 \r\nL 281.543831 152.202762 \r\nL 283.815201 146.630182 \r\nL 286.086571 146.630182 \r\nL 288.357942 154.7625 \r\nL 290.629312 160.601903 \r\nL 292.900683 162.361723 \r\nL 295.172053 163.321624 \r\nL 297.443424 163.481608 \r\nL 299.714794 163.481608 \r\nL 301.986164 151.082876 \r\nL 304.257535 154.042574 \r\nL 306.528905 165.055417 \r\nL 308.800276 169.684236 \r\nL 311.071646 161.023865 \r\nL 313.343016 146.630182 \r\nL 315.614387 146.630182 \r\nL 317.885757 156.922279 \r\nL 320.157128 156.922279 \r\nL 322.428498 146.630182 \r\nL 324.699869 128.045233 \r\nL 326.971239 128.045233 \r\nL 329.242609 74.718797 \r\nL 331.51398 94.876555 \r\nL 333.78535 17.083636 \r\nL 336.056721 27.879182 \r\nL 338.328091 45.483536 \r\nL 340.599461 59.862665 \r\nL 342.870832 64.700503 \r\nL 345.142202 76.795097 \r\nL 347.413573 82.842394 \r\nL 349.684943 36.882935 \r\nL 349.684943 36.882935 \r\n\" style=\"fill:none;stroke:#1f77b4;stroke-linecap:square;stroke-width:1.5;\"/>\r\n   </g>\r\n   <g id=\"patch_3\">\r\n    <path d=\"M 30.103125 224.64 \r\nL 30.103125 7.2 \r\n\" style=\"fill:none;stroke:#000000;stroke-linecap:square;stroke-linejoin:miter;stroke-width:0.8;\"/>\r\n   </g>\r\n   <g id=\"patch_4\">\r\n    <path d=\"M 364.903125 224.64 \r\nL 364.903125 7.2 \r\n\" style=\"fill:none;stroke:#000000;stroke-linecap:square;stroke-linejoin:miter;stroke-width:0.8;\"/>\r\n   </g>\r\n   <g id=\"patch_5\">\r\n    <path d=\"M 30.103125 224.64 \r\nL 364.903125 224.64 \r\n\" style=\"fill:none;stroke:#000000;stroke-linecap:square;stroke-linejoin:miter;stroke-width:0.8;\"/>\r\n   </g>\r\n   <g id=\"patch_6\">\r\n    <path d=\"M 30.103125 7.2 \r\nL 364.903125 7.2 \r\n\" style=\"fill:none;stroke:#000000;stroke-linecap:square;stroke-linejoin:miter;stroke-width:0.8;\"/>\r\n   </g>\r\n  </g>\r\n </g>\r\n <defs>\r\n  <clipPath id=\"p0f2db7e4c8\">\r\n   <rect height=\"217.44\" width=\"334.8\" x=\"30.103125\" y=\"7.2\"/>\r\n  </clipPath>\r\n </defs>\r\n</svg>\r\n",
      "image/png": "[encoded data removed]"
     },
     "metadata": {
      "needs_background": "light"
     }
    }
   ],
   "source": [
    "# 7. Creating plot\n",
    "min_price_plot=min_price.sort_values('DateTime', ascending=True)\n",
    "plt.plot(min_price_plot['DateTime'], min_price_plot['Price'])\n",
    "plt.xticks(rotation='vertical')"
   ]
  },
  {
   "cell_type": "markdown",
   "metadata": {},
   "source": [
    "It is visualized on the graph that the price bidding for the drug Lamotrigin behaves as price cycles. "
   ]
  },
  {
   "cell_type": "markdown",
   "metadata": {},
   "source": [
    "## 5. Conclusion"
   ]
  },
  {
   "cell_type": "markdown",
   "metadata": {},
   "source": [
    "This project has showned the cleaning of the dataset for medicinprices from 2015-2020. The project has focused on the drugs Asipiprazol and Lamotrigin.\n",
    "The project focused on the theory of perfect competition in medicine prices. Th drug Asipiprazol perefctly shows how this theory exists after patent expirey, whereas the drug Lamotrigin expirenced price cycles, and therefore does not follow the theory of perefct competition, but more the thory of price cycles from Maskin and Tirole. \n",
    "Whether or not there is tacit collusion in the medicine market can be speculated, but not proven in this project."
   ]
  }
 ],
 "metadata": {
  "language_info": {
   "name": "python",
   "codemirror_mode": {
    "name": "ipython",
    "version": 3
   },
   "version": "3.7.4-final"
  },
  "orig_nbformat": 2,
  "file_extension": ".py",
  "mimetype": "text/x-python",
  "name": "python",
  "npconvert_exporter": "python",
  "pygments_lexer": "ipython3",
  "version": 3,
  "kernelspec": {
   "name": "python3",
   "display_name": "Python 3"
  }
 },
 "nbformat": 4,
 "nbformat_minor": 2
}
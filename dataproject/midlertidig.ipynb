{
 "cells": [
  {
   "cell_type": "markdown",
   "metadata": {},
   "source": [
    "# YOUR PROJECT TITLE"
   ]
  },
  {
   "cell_type": "markdown",
   "metadata": {},
   "source": [
    "> **Note the following:** \n",
    "> 1. This is *not* meant to be an example of an actual **data analysis project**, just an example of how to structure such a project.\n",
    "> 1. Remember the general advice on structuring and commenting your code from [lecture 5](https://numeconcopenhagen.netlify.com/lectures/Workflow_and_debugging).\n",
    "> 1. Remember this [guide](https://www.markdownguide.org/basic-syntax/) on markdown and (a bit of) latex.\n",
    "> 1. Turn on automatic numbering by clicking on the small icon on top of the table of contents in the left sidebar.\n",
    "> 1. The `dataproject.py` file includes a function which will be used multiple times in this notebook."
   ]
  },
  {
   "cell_type": "markdown",
   "metadata": {},
   "source": [
    "Imports and set magics:"
   ]
  },
  {
   "cell_type": "code",
   "execution_count": 30,
   "metadata": {},
   "outputs": [
    {
     "name": "stdout",
     "output_type": "stream",
     "text": "The autoreload extension is already loaded. To reload it, use:\n  %reload_ext autoreload\n"
    }
   ],
   "source": [
    "import pandas as pd\n",
    "import matplotlib.pyplot as plt\n",
    "import ipywidgets as widgets\n",
    "import numpy as np\n",
    "import datetime as dt\n",
    "\n",
    "# autoreload modules when code is run\n",
    "%load_ext autoreload\n",
    "%autoreload 2\n",
    "\n",
    "# local modules\n",
    "import dataproject"
   ]
  },
  {
   "cell_type": "markdown",
   "metadata": {
    "toc-hr-collapsed": true
   },
   "source": [
    "# Read and clean data"
   ]
  },
  {
   "cell_type": "markdown",
   "metadata": {},
   "source": [
    "Import the excelfile of the deescription and the data"
   ]
  },
  {
   "cell_type": "code",
   "execution_count": 16,
   "metadata": {},
   "outputs": [
    {
     "data": {
      "text/html": "<div>\n<style scoped>\n    .dataframe tbody tr th:only-of-type {\n        vertical-align: middle;\n    }\n\n    .dataframe tbody tr th {\n        vertical-align: top;\n    }\n\n    .dataframe thead th {\n        text-align: right;\n    }\n</style>\n<table border=\"1\" class=\"dataframe\">\n  <thead>\n    <tr style=\"text-align: right;\">\n      <th></th>\n      <th>Unnamed: 0</th>\n      <th>Unnamed: 1</th>\n    </tr>\n  </thead>\n  <tbody>\n    <tr>\n      <td>0</td>\n      <td>På baggrund af data fra Lægemiddelstyrelsen op...</td>\n      <td>NaN</td>\n    </tr>\n    <tr>\n      <td>1</td>\n      <td>NaN</td>\n      <td>NaN</td>\n    </tr>\n    <tr>\n      <td>2</td>\n      <td>Ord og begreber i opgørelsen:</td>\n      <td>NaN</td>\n    </tr>\n    <tr>\n      <td>3</td>\n      <td>ATC</td>\n      <td>Lægemiddelklassifikation som fastsættes af WHO...</td>\n    </tr>\n    <tr>\n      <td>4</td>\n      <td>Lægemiddel</td>\n      <td>Lægemidlets handelsnavn. Navnet fra den senest...</td>\n    </tr>\n    <tr>\n      <td>5</td>\n      <td>Varenummer</td>\n      <td>Lægemidlets varenummer som også er trykt på pa...</td>\n    </tr>\n    <tr>\n      <td>6</td>\n      <td>Pakning</td>\n      <td>Pakningsstørrelse, f.eks. 100 stk.</td>\n    </tr>\n    <tr>\n      <td>7</td>\n      <td>Styrke</td>\n      <td>Lægemidlets styrke, f.eks. 5 mg eller 0,01%. F...</td>\n    </tr>\n    <tr>\n      <td>8</td>\n      <td>Form</td>\n      <td>Lægemiddelform, f.eks. tabletter, kapsler, mik...</td>\n    </tr>\n    <tr>\n      <td>9</td>\n      <td>Firma</td>\n      <td>Distributør af lægemidlet.</td>\n    </tr>\n    <tr>\n      <td>10</td>\n      <td>NaN</td>\n      <td>NaN</td>\n    </tr>\n    <tr>\n      <td>11</td>\n      <td>Indikatorer:</td>\n      <td>NaN</td>\n    </tr>\n    <tr>\n      <td>12</td>\n      <td>AIP</td>\n      <td>Apotekets indkøbspris er ekskl. moms og eventu...</td>\n    </tr>\n    <tr>\n      <td>13</td>\n      <td>AUP</td>\n      <td>Registerpris (tidligere kaldet apotekets udsal...</td>\n    </tr>\n    <tr>\n      <td>14</td>\n      <td>DDD</td>\n      <td>Definerede døgndoser fastsat af WHO. En anslåe...</td>\n    </tr>\n    <tr>\n      <td>15</td>\n      <td>AUP_pr_DDD</td>\n      <td>Apotekets udsalgspris pr. defineret døgndosis,...</td>\n    </tr>\n  </tbody>\n</table>\n</div>",
      "text/plain": "                                           Unnamed: 0  \\\n0   På baggrund af data fra Lægemiddelstyrelsen op...   \n1                                                 NaN   \n2                       Ord og begreber i opgørelsen:   \n3                                                 ATC   \n4                                          Lægemiddel   \n5                                          Varenummer   \n6                                             Pakning   \n7                                              Styrke   \n8                                                Form   \n9                                               Firma   \n10                                                NaN   \n11                                       Indikatorer:   \n12                                                AIP   \n13                                                AUP   \n14                                                DDD   \n15                                         AUP_pr_DDD   \n\n                                           Unnamed: 1  \n0                                                 NaN  \n1                                                 NaN  \n2                                                 NaN  \n3   Lægemiddelklassifikation som fastsættes af WHO...  \n4   Lægemidlets handelsnavn. Navnet fra den senest...  \n5   Lægemidlets varenummer som også er trykt på pa...  \n6                  Pakningsstørrelse, f.eks. 100 stk.  \n7   Lægemidlets styrke, f.eks. 5 mg eller 0,01%. F...  \n8   Lægemiddelform, f.eks. tabletter, kapsler, mik...  \n9                         Distributør af lægemidlet.   \n10                                                NaN  \n11                                                NaN  \n12  Apotekets indkøbspris er ekskl. moms og eventu...  \n13  Registerpris (tidligere kaldet apotekets udsal...  \n14  Definerede døgndoser fastsat af WHO. En anslåe...  \n15  Apotekets udsalgspris pr. defineret døgndosis,...  "
     },
     "execution_count": 16,
     "metadata": {},
     "output_type": "execute_result"
    }
   ],
   "source": [
    "meddef = pd.read_excel('medpriser.xlsx')\n",
    "meddef"
   ]
  },
  {
   "cell_type": "code",
   "execution_count": 70,
   "metadata": {},
   "outputs": [],
   "source": [
    "medprice = pd.read_excel('meddata.xlsx')"
   ]
  },
  {
   "cell_type": "markdown",
   "metadata": {},
   "source": [
    "Clean data: Are there any missing variables"
   ]
  },
  {
   "cell_type": "code",
   "execution_count": 73,
   "metadata": {},
   "outputs": [
    {
     "data": {
      "text/html": "<div>\n<style scoped>\n    .dataframe tbody tr th:only-of-type {\n        vertical-align: middle;\n    }\n\n    .dataframe tbody tr th {\n        vertical-align: top;\n    }\n\n    .dataframe thead th {\n        text-align: right;\n    }\n</style>\n<table border=\"1\" class=\"dataframe\">\n  <thead>\n    <tr style=\"text-align: right;\">\n      <th></th>\n      <th>ATC</th>\n      <th>Lægemiddel</th>\n      <th>Varenummer</th>\n      <th>Pakning</th>\n      <th>Styrke</th>\n      <th>Form</th>\n      <th>Firma</th>\n      <th>Indikator</th>\n      <th>20150202</th>\n      <th>20150216</th>\n      <th>...</th>\n      <th>20191118</th>\n      <th>20191202</th>\n      <th>20191216</th>\n      <th>20191230</th>\n      <th>20200113</th>\n      <th>20200127</th>\n      <th>20200210</th>\n      <th>20200224</th>\n      <th>20200309</th>\n      <th>20200323</th>\n    </tr>\n  </thead>\n  <tbody>\n    <tr>\n      <td>0</td>\n      <td>A01AA01</td>\n      <td>Bifluorid</td>\n      <td>42846</td>\n      <td>4 g + solvens</td>\n      <td>NaN</td>\n      <td>dentalsuspension</td>\n      <td>Voco</td>\n      <td>AIP</td>\n      <td>407.36</td>\n      <td>407.36</td>\n      <td>...</td>\n      <td>NaN</td>\n      <td>NaN</td>\n      <td>NaN</td>\n      <td>NaN</td>\n      <td>NaN</td>\n      <td>NaN</td>\n      <td>NaN</td>\n      <td>NaN</td>\n      <td>NaN</td>\n      <td>NaN</td>\n    </tr>\n    <tr>\n      <td>1</td>\n      <td>A01AA01</td>\n      <td>Bifluorid</td>\n      <td>42846</td>\n      <td>4 g + solvens</td>\n      <td>NaN</td>\n      <td>dentalsuspension</td>\n      <td>Voco</td>\n      <td>AUP</td>\n      <td>570.25</td>\n      <td>570.25</td>\n      <td>...</td>\n      <td>NaN</td>\n      <td>NaN</td>\n      <td>NaN</td>\n      <td>NaN</td>\n      <td>NaN</td>\n      <td>NaN</td>\n      <td>NaN</td>\n      <td>NaN</td>\n      <td>NaN</td>\n      <td>NaN</td>\n    </tr>\n    <tr>\n      <td>2</td>\n      <td>A01AA01</td>\n      <td>Bifluorid</td>\n      <td>42846</td>\n      <td>4 g + solvens</td>\n      <td>NaN</td>\n      <td>dentalsuspension</td>\n      <td>Voco</td>\n      <td>DDD</td>\n      <td>NaN</td>\n      <td>NaN</td>\n      <td>...</td>\n      <td>NaN</td>\n      <td>NaN</td>\n      <td>NaN</td>\n      <td>NaN</td>\n      <td>NaN</td>\n      <td>NaN</td>\n      <td>NaN</td>\n      <td>NaN</td>\n      <td>NaN</td>\n      <td>NaN</td>\n    </tr>\n    <tr>\n      <td>3</td>\n      <td>A01AA01</td>\n      <td>Bifluorid</td>\n      <td>42846</td>\n      <td>4 g + solvens</td>\n      <td>NaN</td>\n      <td>dentalsuspension</td>\n      <td>Voco</td>\n      <td>AUP_pr_DDD</td>\n      <td>NaN</td>\n      <td>NaN</td>\n      <td>...</td>\n      <td>NaN</td>\n      <td>NaN</td>\n      <td>NaN</td>\n      <td>NaN</td>\n      <td>NaN</td>\n      <td>NaN</td>\n      <td>NaN</td>\n      <td>NaN</td>\n      <td>NaN</td>\n      <td>NaN</td>\n    </tr>\n    <tr>\n      <td>4</td>\n      <td>A01AA01</td>\n      <td>Bifluorid</td>\n      <td>43158</td>\n      <td>10 g</td>\n      <td>NaN</td>\n      <td>dentalsuspension</td>\n      <td>Voco</td>\n      <td>AIP</td>\n      <td>602.07</td>\n      <td>602.07</td>\n      <td>...</td>\n      <td>NaN</td>\n      <td>NaN</td>\n      <td>NaN</td>\n      <td>NaN</td>\n      <td>NaN</td>\n      <td>NaN</td>\n      <td>NaN</td>\n      <td>NaN</td>\n      <td>NaN</td>\n      <td>NaN</td>\n    </tr>\n  </tbody>\n</table>\n<p>5 rows × 143 columns</p>\n</div>",
      "text/plain": "       ATC Lægemiddel  Varenummer        Pakning Styrke              Form  \\\n0  A01AA01  Bifluorid       42846  4 g + solvens    NaN  dentalsuspension   \n1  A01AA01  Bifluorid       42846  4 g + solvens    NaN  dentalsuspension   \n2  A01AA01  Bifluorid       42846  4 g + solvens    NaN  dentalsuspension   \n3  A01AA01  Bifluorid       42846  4 g + solvens    NaN  dentalsuspension   \n4  A01AA01  Bifluorid       43158           10 g    NaN  dentalsuspension   \n\n  Firma   Indikator  20150202  20150216  ...  20191118  20191202  20191216  \\\n0  Voco         AIP    407.36    407.36  ...       NaN       NaN       NaN   \n1  Voco         AUP    570.25    570.25  ...       NaN       NaN       NaN   \n2  Voco         DDD       NaN       NaN  ...       NaN       NaN       NaN   \n3  Voco  AUP_pr_DDD       NaN       NaN  ...       NaN       NaN       NaN   \n4  Voco         AIP    602.07    602.07  ...       NaN       NaN       NaN   \n\n   20191230  20200113  20200127  20200210  20200224  20200309  20200323  \n0       NaN       NaN       NaN       NaN       NaN       NaN       NaN  \n1       NaN       NaN       NaN       NaN       NaN       NaN       NaN  \n2       NaN       NaN       NaN       NaN       NaN       NaN       NaN  \n3       NaN       NaN       NaN       NaN       NaN       NaN       NaN  \n4       NaN       NaN       NaN       NaN       NaN       NaN       NaN  \n\n[5 rows x 143 columns]"
     },
     "execution_count": 73,
     "metadata": {},
     "output_type": "execute_result"
    }
   ],
   "source": [
    "medprice.head()"
   ]
  },
  {
   "cell_type": "code",
   "execution_count": 23,
   "metadata": {},
   "outputs": [
    {
     "data": {
      "text/html": "<div>\n<style scoped>\n    .dataframe tbody tr th:only-of-type {\n        vertical-align: middle;\n    }\n\n    .dataframe tbody tr th {\n        vertical-align: top;\n    }\n\n    .dataframe thead th {\n        text-align: right;\n    }\n</style>\n<table border=\"1\" class=\"dataframe\">\n  <thead>\n    <tr style=\"text-align: right;\">\n      <th></th>\n      <th>ATC</th>\n      <th>Lægemiddel</th>\n      <th>Varenummer</th>\n      <th>Pakning</th>\n      <th>Styrke</th>\n      <th>Form</th>\n      <th>Firma</th>\n      <th>Indikator</th>\n      <th>20150202</th>\n      <th>20150216</th>\n      <th>...</th>\n      <th>20191118</th>\n      <th>20191202</th>\n      <th>20191216</th>\n      <th>20191230</th>\n      <th>20200113</th>\n      <th>20200127</th>\n      <th>20200210</th>\n      <th>20200224</th>\n      <th>20200309</th>\n      <th>20200323</th>\n    </tr>\n  </thead>\n  <tbody>\n    <tr>\n      <td>0</td>\n      <td>False</td>\n      <td>False</td>\n      <td>False</td>\n      <td>False</td>\n      <td>True</td>\n      <td>False</td>\n      <td>False</td>\n      <td>False</td>\n      <td>False</td>\n      <td>False</td>\n      <td>...</td>\n      <td>True</td>\n      <td>True</td>\n      <td>True</td>\n      <td>True</td>\n      <td>True</td>\n      <td>True</td>\n      <td>True</td>\n      <td>True</td>\n      <td>True</td>\n      <td>True</td>\n    </tr>\n    <tr>\n      <td>1</td>\n      <td>False</td>\n      <td>False</td>\n      <td>False</td>\n      <td>False</td>\n      <td>True</td>\n      <td>False</td>\n      <td>False</td>\n      <td>False</td>\n      <td>False</td>\n      <td>False</td>\n      <td>...</td>\n      <td>True</td>\n      <td>True</td>\n      <td>True</td>\n      <td>True</td>\n      <td>True</td>\n      <td>True</td>\n      <td>True</td>\n      <td>True</td>\n      <td>True</td>\n      <td>True</td>\n    </tr>\n    <tr>\n      <td>2</td>\n      <td>False</td>\n      <td>False</td>\n      <td>False</td>\n      <td>False</td>\n      <td>True</td>\n      <td>False</td>\n      <td>False</td>\n      <td>False</td>\n      <td>True</td>\n      <td>True</td>\n      <td>...</td>\n      <td>True</td>\n      <td>True</td>\n      <td>True</td>\n      <td>True</td>\n      <td>True</td>\n      <td>True</td>\n      <td>True</td>\n      <td>True</td>\n      <td>True</td>\n      <td>True</td>\n    </tr>\n    <tr>\n      <td>3</td>\n      <td>False</td>\n      <td>False</td>\n      <td>False</td>\n      <td>False</td>\n      <td>True</td>\n      <td>False</td>\n      <td>False</td>\n      <td>False</td>\n      <td>True</td>\n      <td>True</td>\n      <td>...</td>\n      <td>True</td>\n      <td>True</td>\n      <td>True</td>\n      <td>True</td>\n      <td>True</td>\n      <td>True</td>\n      <td>True</td>\n      <td>True</td>\n      <td>True</td>\n      <td>True</td>\n    </tr>\n    <tr>\n      <td>4</td>\n      <td>False</td>\n      <td>False</td>\n      <td>False</td>\n      <td>False</td>\n      <td>True</td>\n      <td>False</td>\n      <td>False</td>\n      <td>False</td>\n      <td>False</td>\n      <td>False</td>\n      <td>...</td>\n      <td>True</td>\n      <td>True</td>\n      <td>True</td>\n      <td>True</td>\n      <td>True</td>\n      <td>True</td>\n      <td>True</td>\n      <td>True</td>\n      <td>True</td>\n      <td>True</td>\n    </tr>\n    <tr>\n      <td>...</td>\n      <td>...</td>\n      <td>...</td>\n      <td>...</td>\n      <td>...</td>\n      <td>...</td>\n      <td>...</td>\n      <td>...</td>\n      <td>...</td>\n      <td>...</td>\n      <td>...</td>\n      <td>...</td>\n      <td>...</td>\n      <td>...</td>\n      <td>...</td>\n      <td>...</td>\n      <td>...</td>\n      <td>...</td>\n      <td>...</td>\n      <td>...</td>\n      <td>...</td>\n      <td>...</td>\n    </tr>\n    <tr>\n      <td>64863</td>\n      <td>False</td>\n      <td>False</td>\n      <td>False</td>\n      <td>False</td>\n      <td>False</td>\n      <td>False</td>\n      <td>False</td>\n      <td>False</td>\n      <td>True</td>\n      <td>True</td>\n      <td>...</td>\n      <td>True</td>\n      <td>True</td>\n      <td>True</td>\n      <td>True</td>\n      <td>True</td>\n      <td>True</td>\n      <td>True</td>\n      <td>True</td>\n      <td>True</td>\n      <td>True</td>\n    </tr>\n    <tr>\n      <td>64864</td>\n      <td>False</td>\n      <td>False</td>\n      <td>False</td>\n      <td>False</td>\n      <td>False</td>\n      <td>False</td>\n      <td>False</td>\n      <td>False</td>\n      <td>True</td>\n      <td>True</td>\n      <td>...</td>\n      <td>True</td>\n      <td>True</td>\n      <td>True</td>\n      <td>True</td>\n      <td>True</td>\n      <td>True</td>\n      <td>True</td>\n      <td>True</td>\n      <td>True</td>\n      <td>True</td>\n    </tr>\n    <tr>\n      <td>64865</td>\n      <td>False</td>\n      <td>False</td>\n      <td>False</td>\n      <td>False</td>\n      <td>False</td>\n      <td>False</td>\n      <td>False</td>\n      <td>False</td>\n      <td>True</td>\n      <td>True</td>\n      <td>...</td>\n      <td>True</td>\n      <td>True</td>\n      <td>True</td>\n      <td>True</td>\n      <td>True</td>\n      <td>True</td>\n      <td>True</td>\n      <td>True</td>\n      <td>True</td>\n      <td>True</td>\n    </tr>\n    <tr>\n      <td>64866</td>\n      <td>False</td>\n      <td>False</td>\n      <td>False</td>\n      <td>False</td>\n      <td>False</td>\n      <td>False</td>\n      <td>False</td>\n      <td>False</td>\n      <td>True</td>\n      <td>True</td>\n      <td>...</td>\n      <td>True</td>\n      <td>True</td>\n      <td>True</td>\n      <td>True</td>\n      <td>True</td>\n      <td>True</td>\n      <td>True</td>\n      <td>True</td>\n      <td>True</td>\n      <td>True</td>\n    </tr>\n    <tr>\n      <td>64867</td>\n      <td>False</td>\n      <td>False</td>\n      <td>False</td>\n      <td>False</td>\n      <td>False</td>\n      <td>False</td>\n      <td>False</td>\n      <td>False</td>\n      <td>True</td>\n      <td>True</td>\n      <td>...</td>\n      <td>True</td>\n      <td>True</td>\n      <td>True</td>\n      <td>True</td>\n      <td>True</td>\n      <td>True</td>\n      <td>True</td>\n      <td>True</td>\n      <td>True</td>\n      <td>True</td>\n    </tr>\n  </tbody>\n</table>\n<p>64868 rows × 143 columns</p>\n</div>",
      "text/plain": "         ATC  Lægemiddel  Varenummer  Pakning  Styrke   Form  Firma  \\\n0      False       False       False    False    True  False  False   \n1      False       False       False    False    True  False  False   \n2      False       False       False    False    True  False  False   \n3      False       False       False    False    True  False  False   \n4      False       False       False    False    True  False  False   \n...      ...         ...         ...      ...     ...    ...    ...   \n64863  False       False       False    False   False  False  False   \n64864  False       False       False    False   False  False  False   \n64865  False       False       False    False   False  False  False   \n64866  False       False       False    False   False  False  False   \n64867  False       False       False    False   False  False  False   \n\n       Indikator  20150202  20150216  ...  20191118  20191202  20191216  \\\n0          False     False     False  ...      True      True      True   \n1          False     False     False  ...      True      True      True   \n2          False      True      True  ...      True      True      True   \n3          False      True      True  ...      True      True      True   \n4          False     False     False  ...      True      True      True   \n...          ...       ...       ...  ...       ...       ...       ...   \n64863      False      True      True  ...      True      True      True   \n64864      False      True      True  ...      True      True      True   \n64865      False      True      True  ...      True      True      True   \n64866      False      True      True  ...      True      True      True   \n64867      False      True      True  ...      True      True      True   \n\n       20191230  20200113  20200127  20200210  20200224  20200309  20200323  \n0          True      True      True      True      True      True      True  \n1          True      True      True      True      True      True      True  \n2          True      True      True      True      True      True      True  \n3          True      True      True      True      True      True      True  \n4          True      True      True      True      True      True      True  \n...         ...       ...       ...       ...       ...       ...       ...  \n64863      True      True      True      True      True      True      True  \n64864      True      True      True      True      True      True      True  \n64865      True      True      True      True      True      True      True  \n64866      True      True      True      True      True      True      True  \n64867      True      True      True      True      True      True      True  \n\n[64868 rows x 143 columns]"
     },
     "execution_count": 23,
     "metadata": {},
     "output_type": "execute_result"
    }
   ],
   "source": [
    "#There is a lot of missing variables in the dataset. This can occour because the firms no longer bids on the auctions. We need to check, that python correctly sees the missing values, as missing.\n",
    "medprice.isnull()"
   ]
  },
  {
   "cell_type": "markdown",
   "metadata": {},
   "source": [
    "The isnull method correctly recognizes the missing values of the medicine prices."
   ]
  },
  {
   "cell_type": "markdown",
   "metadata": {},
   "source": [
    "Coverting the data to long format"
   ]
  },
  {
   "cell_type": "code",
   "execution_count": 45,
   "metadata": {},
   "outputs": [],
   "source": [
    "drops = ['Varenummer'] \n",
    "medprice.drop(drops, axis=1, inplace=True)"
   ]
  },
  {
   "cell_type": "code",
   "execution_count": 1,
   "metadata": {},
   "outputs": [
    {
     "ename": "NameError",
     "evalue": "name 'medprice' is not defined",
     "output_type": "error",
     "traceback": [
      "\u001b[0;31m---------------------------------------------------------------------------\u001b[0m",
      "\u001b[0;31mNameError\u001b[0m                                 Traceback (most recent call last)",
      "\u001b[0;32m<ipython-input-1-b629f568f002>\u001b[0m in \u001b[0;36m<module>\u001b[0;34m\u001b[0m\n\u001b[0;32m----> 1\u001b[0;31m \u001b[0mdf\u001b[0m \u001b[0;34m=\u001b[0m \u001b[0mmedprice\u001b[0m\u001b[0;34m[\u001b[0m\u001b[0mmedprice\u001b[0m\u001b[0;34m.\u001b[0m\u001b[0mATC\u001b[0m \u001b[0;34m!=\u001b[0m \u001b[0;34m'N03AX09'\u001b[0m\u001b[0;34m]\u001b[0m\u001b[0;34m\u001b[0m\u001b[0;34m\u001b[0m\u001b[0m\n\u001b[0m\u001b[1;32m      2\u001b[0m \u001b[0mdf1\u001b[0m \u001b[0;34m=\u001b[0m \u001b[0mmedprice\u001b[0m\u001b[0;34m[\u001b[0m\u001b[0mmedprice\u001b[0m\u001b[0;34m.\u001b[0m\u001b[0mPakning\u001b[0m \u001b[0;34m!=\u001b[0m \u001b[0;34m'50 stk. (blister)'\u001b[0m\u001b[0;34m]\u001b[0m\u001b[0;34m\u001b[0m\u001b[0;34m\u001b[0m\u001b[0m\n\u001b[1;32m      3\u001b[0m \u001b[0mdf2\u001b[0m \u001b[0;34m=\u001b[0m \u001b[0mmedprice\u001b[0m\u001b[0;34m[\u001b[0m\u001b[0mmedprice\u001b[0m\u001b[0;34m.\u001b[0m\u001b[0mLægemiddel\u001b[0m \u001b[0;34m!=\u001b[0m \u001b[0;34m'Lamotrigin \"1A Farma\"'\u001b[0m\u001b[0;34m]\u001b[0m\u001b[0;34m\u001b[0m\u001b[0;34m\u001b[0m\u001b[0m\n\u001b[1;32m      4\u001b[0m \u001b[0mdf3\u001b[0m\u001b[0;34m=\u001b[0m \u001b[0mmedprice\u001b[0m\u001b[0;34m[\u001b[0m\u001b[0mmedprice\u001b[0m\u001b[0;34m.\u001b[0m\u001b[0mLægemiddel\u001b[0m \u001b[0;34m!=\u001b[0m \u001b[0;34m'Lamotrigin \"Stada\"'\u001b[0m\u001b[0;34m]\u001b[0m\u001b[0;34m\u001b[0m\u001b[0;34m\u001b[0m\u001b[0m\n\u001b[1;32m      5\u001b[0m \u001b[0mdf4\u001b[0m \u001b[0;34m=\u001b[0m \u001b[0mmedprice\u001b[0m\u001b[0;34m[\u001b[0m\u001b[0mmedprice\u001b[0m\u001b[0;34m.\u001b[0m\u001b[0mLægemiddel\u001b[0m \u001b[0;34m!=\u001b[0m \u001b[0;34m'Lamotrigin \"Teva\"'\u001b[0m\u001b[0;34m]\u001b[0m\u001b[0;34m\u001b[0m\u001b[0;34m\u001b[0m\u001b[0m\n",
      "\u001b[0;31mNameError\u001b[0m: name 'medprice' is not defined"
     ]
    }
   ],
   "source": [
    "df = medprice[medprice.ATC != 'N03AX09']\n",
    "df1 = medprice[medprice.Pakning != '50 stk. (blister)'] \n",
    "df2 = medprice[medprice.Lægemiddel != 'Lamotrigin \"1A Farma\"'] \n",
    "df3= medprice[medprice.Lægemiddel != 'Lamotrigin \"Stada\"'] \n",
    "df4 = medprice[medprice.Lægemiddel != 'Lamotrigin \"Teva\"']\n",
    "df.drop(df.index)\n",
    "df1.drop(df1.index)\n",
    "df2.drop(df2.index)\n",
    "df3.drop(df3.index)\n",
    "df4.drop(df4.index)\n",
    "medprice.head()"
   ]
  },
  {
   "cell_type": "code",
   "execution_count": 38,
   "metadata": {},
   "outputs": [],
   "source": [
    "#med_long = medprice.set_index('ATC')\n",
    "#med_long.index = pd.to_datetime(med_long.index)\n",
    "#del med_long.index.name\n",
    "#med_long"
   ]
  },
  {
   "cell_type": "code",
   "execution_count": null,
   "metadata": {},
   "outputs": [],
   "source": []
  }
 ],
 "metadata": {
  "kernelspec": {
   "display_name": "Python 3",
   "language": "python",
   "name": "python3"
  },
  "language_info": {
   "codemirror_mode": {
    "name": "ipython",
    "version": 3
   },
   "file_extension": ".py",
   "mimetype": "text/x-python",
   "name": "python",
   "nbconvert_exporter": "python",
   "pygments_lexer": "ipython3",
   "version": "3.7.4-final"
  },
  "toc-autonumbering": true
 },
 "nbformat": 4,
 "nbformat_minor": 4
}

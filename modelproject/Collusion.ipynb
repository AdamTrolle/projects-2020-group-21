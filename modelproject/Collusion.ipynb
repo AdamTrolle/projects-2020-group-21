{
 "cells": [
  {
   "cell_type": "markdown",
   "metadata": {},
   "source": []
  },
  {
   "cell_type": "code",
   "execution_count": null,
   "metadata": {},
   "outputs": [],
   "source": [
    "import numpy as np\n",
    "from scipy import optimize\n",
    "import sympy as sm\n",
    "import matplotlib.pyplot as plt\n",
    "\n",
    "# autoreload modules when code is run\n",
    "%load_ext autoreload\n",
    "%autoreload 2\n",
    "\n",
    "# local modules\n",
    "import modelproject"
   ]
  },
  {
   "cell_type": "markdown",
   "metadata": {},
   "source": [
    "# Model Description"
   ]
  },
  {
   "cell_type": "markdown",
   "metadata": {},
   "source": [
    "Cournot competition is where the companies compete on output.\n",
    "This project considers 2 companies, 1 and 2.\n",
    "The Linear demand finction is, \n",
    "$$ p_1(x_1,x_2)=70-x_1-bx_2$$\n",
    "The marginal cost is constant at, $c=10$\n",
    "This implies a total cost of,\n",
    "$$c_1(x_1)=10x_1$$ \n",
    "Therefore the profit function is\n",
    "$$\\pi_1=(70-x_1-bx_2)x_1-10x_1$$\n",
    "These functions are equivalient for company 2."
   ]
  },
  {
   "cell_type": "markdown",
   "metadata": {},
   "source": []
  }
 ],
 "metadata": {
  "language_info": {
   "codemirror_mode": {
    "name": "ipython",
    "version": 3
   },
   "file_extension": ".py",
   "mimetype": "text/x-python",
   "name": "python",
   "nbconvert_exporter": "python",
   "pygments_lexer": "ipython3",
   "version": 3
  },
  "orig_nbformat": 2
 },
 "nbformat": 4,
 "nbformat_minor": 2
}
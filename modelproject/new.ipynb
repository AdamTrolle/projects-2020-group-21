{
 "cells": [
  {
   "cell_type": "code",
   "execution_count": null,
   "metadata": {},
   "outputs": [],
   "source": []
  },
  {
   "cell_type": "code",
   "execution_count": 1,
   "metadata": {},
   "outputs": [],
   "source": [
    "import numpy as np\n",
    "from scipy import optimize\n",
    "import sympy as sm\n",
    "from sympy import *\n",
    "\n",
    "# local modules\n",
    "import modelproject"
   ]
  },
  {
   "cell_type": "code",
   "execution_count": 2,
   "metadata": {},
   "outputs": [],
   "source": [
    "q1, q2 = symbols('q1 q2')\n",
    "e = symbols('e')\n",
    "c = symbols('c')"
   ]
  },
  {
   "cell_type": "code",
   "execution_count": 3,
   "metadata": {},
   "outputs": [],
   "source": [
    "def p(q1,q2):\n",
    "    return 70- q1 - e* q2\n",
    "\n",
    "def cost(q,c):\n",
    "    return c*q\n"
   ]
  },
  {
   "cell_type": "code",
   "execution_count": 4,
   "metadata": {},
   "outputs": [],
   "source": [
    "def profit(q1,q2,c):\n",
    "    return p(q1,q2)*q1 - cost(q1,c)\n",
    "\n",
    "foc1 = diff(profit(q1,q2,c),q1)\n",
    "foc2 = diff(profit(q2,q1,c),q2)\n",
    "\n"
   ]
  },
  {
   "cell_type": "code",
   "execution_count": 5,
   "metadata": {},
   "outputs": [
    {
     "output_type": "execute_result",
     "data": {
      "text/plain": "-c/2 - e*(-c/2 - e*q1/2 + 35)/2 + 35",
      "text/latex": "$\\displaystyle - \\frac{c}{2} - \\frac{e \\left(- \\frac{c}{2} - \\frac{e q_{1}}{2} + 35\\right)}{2} + 35$"
     },
     "metadata": {},
     "execution_count": 5
    }
   ],
   "source": [
    "BR1 = sm.solve(foc1,q1)[0]\n",
    "BR2 = sm.solve(foc2,q2)[0]\n",
    "BRR = BR1.subs(q2, BR2)\n",
    "BRR"
   ]
  },
  {
   "cell_type": "code",
   "execution_count": 6,
   "metadata": {},
   "outputs": [
    {
     "output_type": "execute_result",
     "data": {
      "text/plain": "(2*c + e*(70 - c) - 140)/e**2",
      "text/latex": "$\\displaystyle \\frac{2 c + e \\left(70 - c\\right) - 140}{e^{2}}$"
     },
     "metadata": {},
     "execution_count": 6
    }
   ],
   "source": [
    "BRq1 = sm.solve(BRR,q1)[0]\n",
    "BRq1"
   ]
  },
  {
   "cell_type": "markdown",
   "metadata": {},
   "source": [
    "### Numerical analysis"
   ]
  },
  {
   "cell_type": "code",
   "execution_count": 9,
   "metadata": {},
   "outputs": [
    {
     "output_type": "execute_result",
     "data": {
      "text/plain": "-e*q2 - 2*q1 + 60",
      "text/latex": "$\\displaystyle - e q_{2} - 2 q_{1} + 60$"
     },
     "metadata": {},
     "execution_count": 9
    }
   ],
   "source": [
    "# Defining model parameters\n",
    "c0 = 10\n",
    "\n",
    "def p(q1,q2):\n",
    "    return 70- q1 - e* q2\n",
    "\n",
    "def cost(q,c0):\n",
    "    return c0*q\n",
    "\n",
    "def profit(q1,q2,c0):\n",
    "    return p(q1,q2)*q1 - cost(q1,c0)\n",
    "\n",
    "foc1 = diff(profit(q1,q2,c0),q1)\n",
    "foc2 = diff(profit(q2,q1,c0),q2)\n",
    "foc1"
   ]
  },
  {
   "cell_type": "code",
   "execution_count": 17,
   "metadata": {},
   "outputs": [
    {
     "output_type": "execute_result",
     "data": {
      "text/plain": "-e*q2/2 + 30",
      "text/latex": "$\\displaystyle - \\frac{e q_{2}}{2} + 30$"
     },
     "metadata": {},
     "execution_count": 17
    }
   ],
   "source": [
    "BR1 = sm.solve(foc1,q1)[0]\n",
    "BR2 = sm.solve(foc2,q2)[0]\n",
    "BR1"
   ]
  },
  {
   "cell_type": "code",
   "execution_count": 13,
   "metadata": {},
   "outputs": [
    {
     "output_type": "execute_result",
     "data": {
      "text/plain": "-e*(-e*q1/2 + 30)/2 + 30",
      "text/latex": "$\\displaystyle - \\frac{e \\left(- \\frac{e q_{1}}{2} + 30\\right)}{2} + 30$"
     },
     "metadata": {},
     "execution_count": 13
    }
   ],
   "source": [
    "BRR = BR1.subs(q2, BR2)\n",
    "BRR"
   ]
  },
  {
   "cell_type": "code",
   "execution_count": 19,
   "metadata": {},
   "outputs": [
    {
     "output_type": "execute_result",
     "data": {
      "text/plain": "60*(e - 2)/e**2",
      "text/latex": "$\\displaystyle \\frac{60 \\left(e - 2\\right)}{e^{2}}$"
     },
     "metadata": {},
     "execution_count": 19
    }
   ],
   "source": [
    "BRq1 = sm.solve(BRR,q1)[0]\n",
    "BRq1"
   ]
  },
  {
   "cell_type": "code",
   "execution_count": 8,
   "metadata": {},
   "outputs": [],
   "source": [
    "#fig = plot_data_with_model(xd, yd, ____)"
   ]
  },
  {
   "cell_type": "code",
   "execution_count": null,
   "metadata": {},
   "outputs": [],
   "source": [
    "#lol"
   ]
  }
 ],
 "metadata": {
  "language_info": {
   "codemirror_mode": {
    "name": "ipython",
    "version": 3
   },
   "file_extension": ".py",
   "mimetype": "text/x-python",
   "name": "python",
   "nbconvert_exporter": "python",
   "pygments_lexer": "ipython3",
   "version": "3.7.4-final"
  },
  "orig_nbformat": 2,
  "kernelspec": {
   "name": "python3",
   "display_name": "Python 3"
  }
 },
 "nbformat": 4,
 "nbformat_minor": 2
}
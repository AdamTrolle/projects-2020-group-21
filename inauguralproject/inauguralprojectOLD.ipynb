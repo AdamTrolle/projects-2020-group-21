{
 "cells": [
  {
   "cell_type": "markdown",
   "execution_count": null,
   "metadata": {},
   "outputs": [],
   "source": [
    "# Inaugural Project"
   ]
  },
  {
   "cell_type": "markdown",
   "execution_count": null,
   "metadata": {},
   "outputs": [],
   "source": [
    "Group 21\n",
    "By Terese Pasquali, SMV416 and Bettina Juul-Nielsen, NGV557."
   ]
  },
  {
   "cell_type": "markdown",
   "execution_count": null,
   "metadata": {},
   "outputs": [],
   "source": [
    "Imports and set magics:"
   ]
  },
  {
   "cell_type": "code",
   "execution_count": 59,
   "metadata": {},
   "outputs": [
    {
     "name": "stdout",
     "output_type": "stream",
     "text": "The autoreload extension is already loaded. To reload it, use:\n  %reload_ext autoreload\n"
    }
   ],
   "source": [
    "import numpy as np\n",
    "from scipy import optimize\n",
    "\n",
    "# autoreload modules when code is run\n",
    "%load_ext autoreload\n",
    "%autoreload 2\n",
    "\n",
    "# local modules\n",
    "import inauguralproject"
   ]
  },
  {
   "cell_type": "markdown",
   "execution_count": null,
   "metadata": {
    "toc-hr-collapsed": true
   },
   "outputs": [],
   "source": [
    "# Question 1"
   ]
  },
  {
   "cell_type": "markdown",
   "execution_count": null,
   "metadata": {},
   "outputs": [],
   "source": [
    "To solve the model giving in the problemset, we use scipy.optimizer\n",
    "\n",
    "We start by defining the utility, which consist of consumption, and a disutility of working.\n",
    "\n",
    "After that we define the budget constraint, which consist of consumers, cash, the wage, and the taxes paid. In equilibrium, we know the consumer spends all its budget/ ressources on consumption.\n",
    "\n"
   ]
  },
  {
   "cell_type": "code",
   "execution_count": 100,
   "metadata": {},
   "outputs": [
    {
     "name": "stdout",
     "output_type": "stream",
     "text": "Optimal labour supply is: 0.400\nOptimal consumption is: 1.240\nreturning a utility of: 0.172\n"
    }
   ],
   "source": [
    "#Defining variables, so the model can be constructed.\n",
    "m=1 #Money\n",
    "v=10 #Disutility\n",
    "e=0.3 #Elasicity\n",
    "tau0=0.4 #Lower tax\n",
    "tau1=0.1 #Top tax\n",
    "k=0.4 #Cutoff\n",
    "w=1 #Wage\n",
    "\n",
    "# Defining utility function and budget constraint:\n",
    "def utility(l,c,e,v):\n",
    "    u=np.log(c)-v*(l**(1+1/e)/(1+1/e))\n",
    "    return u\n",
    "\n",
    "def budget(m,w,l,tau0,tau1,k):\n",
    "    budget=m+w*l-w*l*tau0-tau1*max((w*l-k),0)\n",
    "    return budget\n",
    "\n",
    "# Defining a function, setting consumption equal to budget\n",
    "# We want to optimize the utility. Therefore we set consumption equal to the budget, and makes it return the utility. (negative since scipy only can minimize)\n",
    "def model(l,w,e,v,tau0,tau1,k):\n",
    "    c=budget(m,w,l,tau0,tau1,k)\n",
    "    return -utility(l,c,e,v)\n",
    "\n",
    "# Defining the optimizer-function. Since the labour is bounded between 0 and 1, the method used is bounded. Th elabour is optimized upon the varibales in the args (all varibles in the args are floats). \n",
    "def optimizer(w,e,v,tau0,tau1,k,m):\n",
    "    solve_l = optimize.minimize_scalar(\n",
    "        model,method='bounded',\n",
    "        bounds=(0,1),args=(w,e,v,tau0,tau1,k))\n",
    "\n",
    "\n",
    "# The optimizer will return the optimal labour, and the optimal consumption and utility will be build upon this.\n",
    "\n",
    "    l_star = solve_l.x\n",
    "    c_star = budget(m,w,l_star,tau0,tau1,k)\n",
    "    u_star = utility(l_star,c_star,e,v)\n",
    "    return [l_star,c_star,u_star]\n",
    "\n",
    "# Defning the optiizer-list\n",
    "l_star = optimizer(w,e,v,tau0,tau1,k,m)[0]\n",
    "c_star = optimizer(w,e,v,tau0,tau1,k,m)[1]\n",
    "u_star = optimizer(w,e,v,tau0,tau1,k,m)[2]\n",
    "\n",
    "def printsolution(w,e,v,tau0,tau1,k,m):\n",
    "    print(f'Optimal labour supply is: {l_star:.3f}')\n",
    "    print(f'Optimal consumption is: {c_star:.3f}')\n",
    "    print(f'returning a utility of: {u_star:.3f}')\n",
    "\n",
    "printsolution(w,e,v,tau0,tau1,k,m)"
   ]
  },
  {
   "cell_type": "markdown",
   "execution_count": null,
   "metadata": {},
   "outputs": [],
   "source": [
    "# Question 2"
   ]
  },
  {
   "cell_type": "markdown",
   "execution_count": null,
   "metadata": {},
   "outputs": [],
   "source": [
    "Now the wagerate will be set between 0.5 and 1.5. in 10.000 observtaions.\n",
    "Since we shall plot it, we import pyplot, and use the seaborn-colorblind style."
   ]
  },
  {
   "cell_type": "code",
   "execution_count": 110,
   "metadata": {},
   "outputs": [
    {
     "data": {
      "image/png": "[encoded data removed]",
      "text/plain": "<Figure size 432x288 with 1 Axes>"
     },
     "metadata": {
      "needs_background": "light"
     },
     "output_type": "display_data"
    }
   ],
   "source": [
    "import matplotlib.pyplot as plt\n",
    "plt.style.use(\"seaborn-colorblind\")\n",
    "\n",
    "N = 10000\n",
    "w_vec=np.linspace(0.5,1.5,N)\n",
    "#Creating vectors for optimal labout and consumption giving wages\n",
    "l_vec=np.empty(N)\n",
    "c_vec=np.empty(N)\n",
    "for i,w in enumerate(w_vec):\n",
    "    bundle=optimizer(w,e,v,tau0,tau1,k,m)\n",
    "    l_vec[i]=bundle[0]\n",
    "    c_vec[i]=bundle[1]\n",
    "\n",
    "#Creating the plot\n",
    "plt.plot(w_vec, l_vec)\n",
    "plt.plot(w_vec, c_vec)\n",
    "plt.grid(True)\n",
    "plt.xlabel(\"w\")\n",
    "plt.ylabel(\"optimal consumption, optimal labour\")\n",
    "plt.legend([\"Labour Supply\", \"Consumption\"])\n",
    "plt.title(\"Optimal consumption and labour supply\")\n",
    "plt.show()"
   ]
  },
  {
   "cell_type": "markdown",
   "metadata": {},
   "source": [
    "We see  that both labour and consumption increases as wage increases. But there is a jump in both curves for w=1.  "
   ]
  },
  {
   "cell_type": "markdown",
   "execution_count": null,
   "metadata": {},
   "outputs": [],
   "source": [
    "# Question 3"
   ]
  },
  {
   "cell_type": "markdown",
   "execution_count": null,
   "metadata": {},
   "outputs": [],
   "source": [
    "ADD ANSWER."
   ]
  },
  {
   "cell_type": "code",
   "execution_count": 109,
   "metadata": {},
   "outputs": [
    {
     "name": "stdout",
     "output_type": "stream",
     "text": "[0.27129149 0.24271908 0.15999961 ... 0.1463684  0.22402787 0.2629671 ]\n"
    },
    {
     "data": {
      "text/plain": "1621.3496415789318"
     },
     "execution_count": 109,
     "metadata": {},
     "output_type": "execute_result"
    }
   ],
   "source": [
    "N=10000\n",
    "np.random.seed(2020)\n",
    "wi_vec=np.random.uniform(0.5,1.5,size=N)\n",
    "l_vec=np.empty(N)\n",
    "c_vec=np.empty(N)\n",
    "for i,w in enumerate(wi_vec):\n",
    "    bundle=optimizer(w,e,v,tau0,tau1,k,m)\n",
    "    l_vec[i]=bundle[0]\n",
    "\n",
    "\n",
    "tax_rev=lambda l_vec,wi_vec: tau0*wi_vec*l_vec+tau1*np.fmax(wi_vec*l_vec-k,0)\n",
    "tax=tax_rev(l_vec,wi_vec)\n",
    "print(tax)\n",
    "np.sum(tax)"
   ]
  },
  {
   "cell_type": "markdown",
   "metadata": {},
   "source": [
    "The total tax revenue is 1,621. "
   ]
  },
  {
   "cell_type": "markdown",
   "execution_count": null,
   "metadata": {},
   "outputs": [],
   "source": [
    "# Question 4"
   ]
  },
  {
   "cell_type": "markdown",
   "execution_count": null,
   "metadata": {},
   "outputs": [],
   "source": [
    "The Frisch elasticity of labour supply captures the elasticity of hours worked to the wage rate. Thereby measures the substitution effect of a change in the wage rate on labor supply. In the function, the elasticity appears as an inverse function, therefore we expect an increase in tax revenue from a decrease in the elasticity of labor supply."
   ]
  },
  {
   "cell_type": "code",
   "execution_count": 12,
   "metadata": {},
   "outputs": [
    {
     "name": "stdout",
     "output_type": "stream",
     "text": "[0.50715955 0.46304062 0.32209523 ... 0.28946898 0.43394289 0.49434736]\n"
    },
    {
     "data": {
      "text/plain": "3181.1600001472725"
     },
     "execution_count": 12,
     "metadata": {},
     "output_type": "execute_result"
    }
   ],
   "source": [
    "#Defining a new value for the elasticity\n",
    "e = 0.1\n",
    "N=10000\n",
    "np.random.seed(2020)\n",
    "wi_vec=np.random.uniform(0.5,1.5,size=N)\n",
    "l_vec=np.empty(N)\n",
    "c_vec=np.empty(N)\n",
    "for i,w in enumerate(wi_vec):\n",
    "    bundle=optimizer(w,e,v,tau0,tau1,k,m)\n",
    "    l_vec[i]=bundle[0]\n",
    "\n",
    "\n",
    "tax_rev=lambda l_vec,wi_vec: tau0*wi_vec*l_vec+tau1*np.fmax(wi_vec*l_vec-k,0)\n",
    "tax=tax_rev(l_vec,wi_vec,)\n",
    "print(tax)\n",
    "np.sum(tax)\n"
   ]
  },
  {
   "cell_type": "code",
   "execution_count": 42,
   "metadata": {},
   "outputs": [
    {
     "data": {
      "text/plain": "0.6871625400152538"
     },
     "execution_count": 42,
     "metadata": {},
     "output_type": "execute_result"
    }
   ],
   "source": [
    "min(l_vec)"
   ]
  },
  {
   "cell_type": "code",
   "execution_count": 43,
   "metadata": {},
   "outputs": [
    {
     "data": {
      "text/plain": "0.7367083104055421"
     },
     "execution_count": 43,
     "metadata": {},
     "output_type": "execute_result"
    }
   ],
   "source": [
    "max(l_vec)"
   ]
  },
  {
   "cell_type": "markdown",
   "metadata": {},
   "source": [
    "We see that the labour vector is still within the boundires.\n",
    "By lowering the Frisch elasticity, the substitution effect will be lowered. Therefore we got as expected. "
   ]
  },
  {
   "cell_type": "markdown",
   "execution_count": null,
   "metadata": {},
   "outputs": [],
   "source": [
    "# Question 5"
   ]
  },
  {
   "cell_type": "markdown",
   "execution_count": null,
   "metadata": {},
   "outputs": [],
   "source": [
    "ADD ANSWER."
   ]
  },
  {
   "cell_type": "markdown",
   "execution_count": null,
   "metadata": {},
   "outputs": [],
   "source": [
    "# Conclusion"
   ]
  },
  {
   "cell_type": "markdown",
   "execution_count": null,
   "metadata": {},
   "outputs": [],
   "source": [
    "We investegated the optimal consumptionlevel given labour, and disutiltiy of this. In addition to this the tax revenue was investegated, and the substitution effect on this. The method used for this assignement was mainly the optimize function.  "
   ]
  }
 ],
 "metadata": {
  "kernelspec": {
   "display_name": "Python 3",
   "language": "python",
   "name": "python3"
  },
  "language_info": {
   "codemirror_mode": {
    "name": "ipython",
    "version": 3
   },
   "file_extension": ".py",
   "mimetype": "text/x-python",
   "name": "python",
   "nbconvert_exporter": "python",
   "pygments_lexer": "ipython3",
   "version": "3.7.4-final"
  },
  "toc-autonumbering": true
 },
 "nbformat": 4,
 "nbformat_minor": 4
}
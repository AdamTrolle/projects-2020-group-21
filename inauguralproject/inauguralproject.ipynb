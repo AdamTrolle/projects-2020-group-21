{
 "cells": [
  {
   "cell_type": "markdown",
   "metadata": {},
   "source": [
    "# Inaugural Project"
   ]
  },
  {
   "cell_type": "markdown",
   "metadata": {},
   "source": [
    "> **Note the following:** \n",
    "> 1. This is an example of how to structure your **inaugural project**.\n",
    "> 1. Remember the general advice on structuring and commenting your code from [lecture 5](https://numeconcopenhagen.netlify.com/lectures/Workflow_and_debugging).\n",
    "> 1. Remember this [guide](https://www.markdownguide.org/basic-syntax/) on markdown and (a bit of) latex.\n",
    "> 1. Turn on automatic numbering by clicking on the small icon on top of the table of contents in the left sidebar.\n",
    "> 1. The `inauguralproject.py` file includes a function which can be used multiple times in this notebook."
   ]
  },
  {
   "cell_type": "markdown",
   "metadata": {},
   "source": [
    "Imports and set magics:"
   ]
  },
  {
   "cell_type": "code",
   "execution_count": 2,
   "metadata": {},
   "outputs": [
    {
     "name": "stdout",
     "output_type": "stream",
     "text": "The autoreload extension is already loaded. To reload it, use:\n  %reload_ext autoreload\n"
    }
   ],
   "source": [
    "import numpy as np\n",
    "from scipy import optimize\n",
    "\n",
    "# autoreload modules when code is run\n",
    "%load_ext autoreload\n",
    "%autoreload 2\n",
    "\n",
    "# local modules\n",
    "import inauguralproject"
   ]
  },
  {
   "cell_type": "markdown",
   "metadata": {
    "toc-hr-collapsed": true
   },
   "source": [
    "# Question 1"
   ]
  },
  {
   "cell_type": "markdown",
   "metadata": {},
   "source": [
    "BRIEFLY EXPLAIN HOW YOU SOLVE THE MODEL.\n",
    "\n",
    "undersøger mulighederne hvor alle arbjeder l=1 eller ingen arbejder l=0"
   ]
  },
  {
   "cell_type": "code",
   "execution_count": 3,
   "metadata": {},
   "outputs": [
    {
     "name": "stdout",
     "output_type": "stream",
     "text": "Optimal labour supply is: 0.339\nOptimal consumption is: 1.102\nyielding a utility of: 0.076\n"
    }
   ],
   "source": [
    "m=1 #money\n",
    "v=10 #v\n",
    "e=0.3 #frisch\n",
    "tau_0=0.4 #ltax\n",
    "tau_1=0.1 #ttax\n",
    "kappa=0.4 #cutoff\n",
    "w=0.5\n",
    "\n",
    "# Defining utility function and budget constraint:\n",
    "def utility(l,c,e,v):\n",
    "    # Returning utility from labour supply and consumption\n",
    "    u=np.log(c)-v*l**(1+1/e)/(1+1/e)\n",
    "    return u\n",
    "\n",
    "def budget_constraint(m,w,l,tau_0,tau_1,kappa):\n",
    "    # Returning total resources in terms of wage less taxes and cash\n",
    "    budget=m+w*l-w*l*tau_0-tau_1*max((w*l-kappa),0)\n",
    "    return budget\n",
    "\n",
    "# Defining a function, setting consumption equal to budget (as we know, the consumer chooses to spend entire budget.),\n",
    "# Making this function return the utility, while c = m (negatively, as scipy only can minimize).\n",
    "# This is what we want to optimize.\n",
    "def decision(l,w,e,v,tau_0,tau_1,kappa):\n",
    "    c=budget_constraint(m,w,l,tau_0,tau_1,kappa)\n",
    "    return -utility(l,c,e,v)\n",
    "\n",
    "# Defining the optimizer-function, optimizing the consumer's decision function for l, given all other values in decision.\n",
    "def optimizer(w,e,v,tau_0,tau_1,kappa,m):\n",
    "    # Call the solver\n",
    "    sol_case1 = optimize.minimize_scalar(\n",
    "        decision,method='bounded',\n",
    "        bounds=(0,1),args=(w,e,v,tau_0,tau_1,kappa))\n",
    "\n",
    "    # Making the optimizer-function create a list of the three solution-values, l, c, and u.\n",
    "    # Optimal labor equals the optimized solution in the function:\n",
    "    lstar = sol_case1.x\n",
    "\n",
    "    # Optimal consumption equals the budget constraint-function as we know, given the optimal l.\n",
    "    cstar = budget_constraint(m,w,lstar,tau_0,tau_1,kappa)\n",
    "\n",
    "    # Optimal utility must then be equal to the utility function given optimal l and c.\n",
    "    ustar = utility(lstar,cstar,e,v)\n",
    "    return [lstar,cstar,ustar]\n",
    "\n",
    "# Draws out variables from the optimizer-list.\n",
    "lstar = optimizer(w,e,v,tau_0,tau_1,kappa,m)[0]\n",
    "cstar = optimizer(w,e,v,tau_0,tau_1,kappa,m)[1]\n",
    "ustar = optimizer(w,e,v,tau_0,tau_1,kappa,m)[2]\n",
    "\n",
    "def printsolution(w,e,v,tau_0,tau_1,kappa,m):\n",
    "    print(f'Optimal labour supply is: {lstar:.3f}')\n",
    "    print(f'Optimal consumption is: {cstar:.3f}')\n",
    "    print(f'yielding a utility of: {ustar:.3f}')\n",
    "\n",
    "printsolution(w,e,v,tau_0,tau_1,kappa,m)"
   ]
  },
  {
   "cell_type": "markdown",
   "metadata": {},
   "source": [
    "# Question 2"
   ]
  },
  {
   "cell_type": "markdown",
   "metadata": {},
   "source": [
    "indsætter de givne værdier fra problemformuleringen"
   ]
  },
  {
   "cell_type": "code",
   "execution_count": 4,
   "metadata": {},
   "outputs": [
    {
     "data": {
      "text/plain": "<function matplotlib.pyplot.show(*args, **kw)>"
     },
     "execution_count": 4,
     "metadata": {},
     "output_type": "execute_result"
    }
   ],
   "source": [
    "import matplotlib.pyplot as plt\n",
    "plt.style.use(\"seaborn-colorblind\")\n",
    "\n",
    "N=1000\n",
    "w_vec=np.linspace(0.5,1.5,N)\n",
    "l_vec=np.empty(N)\n",
    "c_vec=np.empty(N)\n",
    "for i,w in enumerate(w_vec):\n",
    "    bundle=optimizer(w,e,v,tau_0,tau_1,kappa,m)\n",
    "    l_vec[i]=bundle[0]\n",
    "    c_vec[i]=bundle[1]\n",
    "\n",
    "# a. create a figure\n",
    "fig = plt.figure(figsize=(10,5))\n",
    "\n",
    "# c. left plot\n",
    "ax_left = fig.add_subplot(1,2,1)\n",
    "\n",
    "ax_left.plot(w_vec,l_vec)\n",
    "\n",
    "ax_left.set_title('Optimal labour supply given wage')\n",
    "ax_left.set_xlabel('$w$')\n",
    "ax_left.set_ylabel('$l^\\star$')\n",
    "ax_left.grid(True)\n",
    "\n",
    "# c. right plot\n",
    "ax_right = fig.add_subplot(1,2,2)\n",
    "\n",
    "ax_right.plot(w_vec,c_vec)\n",
    "\n",
    "ax_right.set_title('Optimal consumption given wage')\n",
    "ax_right.set_xlabel('$w$')\n",
    "ax_right.set_ylabel('$c^\\star$')\n",
    "ax_right.grid(True)\n",
    "\n",
    "plt.show"
   ]
  },
  {
   "cell_type": "markdown",
   "metadata": {},
   "source": [
    "# Question 3"
   ]
  },
  {
   "cell_type": "markdown",
   "metadata": {},
   "source": [
    "ADD ANSWER."
   ]
  },
  {
   "cell_type": "code",
   "execution_count": 5,
   "metadata": {},
   "outputs": [
    {
     "name": "stdout",
     "output_type": "stream",
     "text": "[1 4 9]\n"
    }
   ],
   "source": [
    "a = np.array([1,2,3])\n",
    "b = inauguralproject.square(a)\n",
    "print(b)"
   ]
  },
  {
   "cell_type": "markdown",
   "metadata": {},
   "source": [
    "# Question 4"
   ]
  },
  {
   "cell_type": "markdown",
   "metadata": {},
   "source": [
    "ADD ANSWER."
   ]
  },
  {
   "cell_type": "code",
   "execution_count": 5,
   "metadata": {},
   "outputs": [],
   "source": [
    "# code"
   ]
  },
  {
   "cell_type": "markdown",
   "metadata": {},
   "source": [
    "# Question 5"
   ]
  },
  {
   "cell_type": "markdown",
   "metadata": {},
   "source": [
    "ADD ANSWER."
   ]
  },
  {
   "cell_type": "code",
   "execution_count": 6,
   "metadata": {},
   "outputs": [],
   "source": [
    "# code"
   ]
  },
  {
   "cell_type": "markdown",
   "metadata": {},
   "source": [
    "# Conclusion"
   ]
  },
  {
   "cell_type": "markdown",
   "metadata": {},
   "source": [
    "ADD CONCISE CONLUSION."
   ]
  }
 ],
 "metadata": {
  "kernelspec": {
   "display_name": "Python 3",
   "language": "python",
   "name": "python3"
  },
  "language_info": {
   "codemirror_mode": {
    "name": "ipython",
    "version": 3
   },
   "file_extension": ".py",
   "mimetype": "text/x-python",
   "name": "python",
   "nbconvert_exporter": "python",
   "pygments_lexer": "ipython3",
   "version": "3.7.4-final"
  },
  "toc-autonumbering": true
 },
 "nbformat": 4,
 "nbformat_minor": 4
}
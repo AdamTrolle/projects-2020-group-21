{
 "cells": [
  {
   "cell_type": "markdown",
   "execution_count": null,
   "metadata": {},
   "outputs": [],
   "source": [
    "# Inaugural Project"
   ]
  },
  {
   "cell_type": "markdown",
   "execution_count": null,
   "metadata": {},
   "outputs": [],
   "source": [
    "> **Note the following:** \n",
    "> 1. This is an example of how to structure your **inaugural project**.\n",
    "> 1. Remember the general advice on structuring and commenting your code from [lecture 5](https://numeconcopenhagen.netlify.com/lectures/Workflow_and_debugging).\n",
    "> 1. Remember this [guide](https://www.markdownguide.org/basic-syntax/) on markdown and (a bit of) latex.\n",
    "> 1. Turn on automatic numbering by clicking on the small icon on top of the table of contents in the left sidebar.\n",
    "> 1. The `inauguralproject.py` file includes a function which can be used multiple times in this notebook."
   ]
  },
  {
   "cell_type": "markdown",
   "execution_count": null,
   "metadata": {},
   "outputs": [],
   "source": [
    "Imports and set magics:"
   ]
  },
  {
   "cell_type": "code",
   "execution_count": 19,
   "metadata": {},
   "outputs": [
    {
     "name": "stdout",
     "output_type": "stream",
     "text": "The autoreload extension is already loaded. To reload it, use:\n  %reload_ext autoreload\n"
    }
   ],
   "source": [
    "import numpy as np\n",
    "from scipy import optimize\n",
    "\n",
    "# autoreload modules when code is run\n",
    "%load_ext autoreload\n",
    "%autoreload 2\n",
    "\n",
    "# local modules\n",
    "import inauguralproject"
   ]
  },
  {
   "cell_type": "markdown",
   "execution_count": null,
   "metadata": {
    "toc-hr-collapsed": true
   },
   "outputs": [],
   "source": [
    "# Question 1"
   ]
  },
  {
   "cell_type": "markdown",
   "execution_count": null,
   "metadata": {},
   "outputs": [],
   "source": [
    "To solve the model giving in the problemset, we use scipy.optimizer\n",
    "\n",
    "We start by defining the utility, which consist of cinsumption, and a disutility of working.\n",
    "\n",
    "After that we define the budget constraint, which consist of consumers, cash, the wage, and the taxes paid. In equilibrium, we know the consumer spends all its budget/ ressources on consumption.\n",
    "\n"
   ]
  },
  {
   "cell_type": "code",
   "execution_count": 20,
   "metadata": {},
   "outputs": [
    {
     "ename": "NameError",
     "evalue": "name 'tau_0' is not defined",
     "output_type": "error",
     "traceback": [
      "\u001b[1;31m---------------------------------------------------------------------------\u001b[0m",
      "\u001b[1;31mNameError\u001b[0m                                 Traceback (most recent call last)",
      "\u001b[1;32m<ipython-input-20-bb282f59dc6a>\u001b[0m in \u001b[0;36m<module>\u001b[1;34m\u001b[0m\n\u001b[0;32m     37\u001b[0m     \u001b[0mprint\u001b[0m\u001b[1;33m(\u001b[0m\u001b[1;34mf'yielding a utility of: {ustar:.3f}'\u001b[0m\u001b[1;33m)\u001b[0m\u001b[1;33m\u001b[0m\u001b[1;33m\u001b[0m\u001b[0m\n\u001b[0;32m     38\u001b[0m \u001b[1;33m\u001b[0m\u001b[0m\n\u001b[1;32m---> 39\u001b[1;33m \u001b[0mprintsolution\u001b[0m\u001b[1;33m(\u001b[0m\u001b[0mw\u001b[0m\u001b[1;33m,\u001b[0m\u001b[0me\u001b[0m\u001b[1;33m,\u001b[0m\u001b[0mv\u001b[0m\u001b[1;33m,\u001b[0m\u001b[0mtau_0\u001b[0m\u001b[1;33m,\u001b[0m\u001b[0mtau_1\u001b[0m\u001b[1;33m,\u001b[0m\u001b[0mkappa\u001b[0m\u001b[1;33m,\u001b[0m\u001b[0mm\u001b[0m\u001b[1;33m)\u001b[0m\u001b[1;33m\u001b[0m\u001b[1;33m\u001b[0m\u001b[0m\n\u001b[0m",
      "\u001b[1;31mNameError\u001b[0m: name 'tau_0' is not defined"
     ]
    }
   ],
   "source": [
    "#Defining variables:\n",
    "m=None #money\n",
    "v=None #v\n",
    "e=None #frisch\n",
    "tau0=None #ltax\n",
    "tau1=None #ttax\n",
    "k=None #cutoff\n",
    "w=None\n",
    "\n",
    "def utility(l,c,e,v):\n",
    "    u=np.log(c)-v*((l**(1+1/e))/(1+1/e))\n",
    "    return u\n",
    "\n",
    "def budget(m,w,l,tau0,tau1,k):\n",
    "    c=m+w*l-w*l*tau0-tau1*max((w*l-k),0)\n",
    "    return budget\n",
    "\n",
    "\n",
    "def model(l,w,e,v,tau0,tau1,k):\n",
    "    l=budget(m,w,l,tau0,tau1,k)-utility(l,c,e,v)\n",
    "    return l\n",
    "\n",
    "def optimizer(w,e,v,tau0,tau1,k,m):\n",
    "    solve_l = optimize.minimize_scalar(\n",
    "        model,method='bounded',\n",
    "        bounds=(0,1),args=(m,e,v,tau0,tau1,k))\n",
    "\n",
    "    l_star = solve_l.x\n",
    "\n",
    "    c_star = budget(m,w,l_star,tau0,tau1,k)\n",
    "\n",
    "    u_star = utility(l_star,c_star,e,v)\n",
    "\n",
    "def printsolution(w,e,v,tau_0,tau_1,kappa,m):\n",
    "    print(f'Optimal labour supply is: {lstar:.3f}')\n",
    "    print(f'Optimal consumption is: {cstar:.3f}')\n",
    "    print(f'yielding a utility of: {ustar:.3f}')\n",
    "\n",
    "printsolution(w,e,v,tau_0,tau_1,kappa,m)"
   ]
  },
  {
   "cell_type": "markdown",
   "execution_count": null,
   "metadata": {},
   "outputs": [],
   "source": [
    "# Question 2"
   ]
  },
  {
   "cell_type": "markdown",
   "execution_count": null,
   "metadata": {},
   "outputs": [],
   "source": [
    "bla bla"
   ]
  },
  {
   "cell_type": "code",
   "execution_count": null,
   "metadata": {},
   "outputs": [],
   "source": [
    "#Defining variables:\n",
    "m=1 #money\n",
    "v=10 #v\n",
    "e=0.3 #frisch\n",
    "tau0=0.4 #ltax\n",
    "tau1=0.1 #ttax\n",
    "k=0.4 #cutoff\n",
    "w=1\n",
    "\n",
    "import matplotlib.pyplot as plt\n",
    "plt.style.use(\"seaborn-colorblind\")\n",
    "\n",
    "N = 1000\n",
    "w_vec=np.linspace(0.5,1.5,N)\n",
    "l_vec=np.empty(N)\n",
    "c_vec=np.empty(N)\n",
    "for i,w in enumerate(w_vec):\n",
    "    bundle=optimizer(w,e,v,tau0,tau1,k,m)\n",
    "    l_vec[i]=bundle[0]\n",
    "    c_vec[i]=bundle[1]\n",
    "\n",
    "#create figure\n",
    "fig = plt.figure(figsize=(10,5))\n",
    "\n",
    "#left figure\n",
    "ax_left = fig.add_subplot(1,2,1)\n",
    "\n",
    "ax_left.plot(w_vec,l_vec)\n",
    "\n",
    "ax_left.set_title('Optimal labour supply given wage')\n",
    "ax_left.set_xlabel('$w$')\n",
    "ax_left.set_ylabel('$l^\\star$')\n",
    "ax_left.grid(True)\n",
    "\n",
    "# c. right plot\n",
    "ax_right = fig.add_subplot(1,2,2)\n",
    "\n",
    "ax_right.plot(w_vec,c_vec)\n",
    "\n",
    "ax_right.set_title('Optimal consumption given wage')\n",
    "ax_right.set_xlabel('$w$')\n",
    "ax_right.set_ylabel('$c^\\star$')\n",
    "ax_right.grid(True)\n",
    "\n",
    "plt.show"
   ]
  },
  {
   "cell_type": "markdown",
   "execution_count": null,
   "metadata": {},
   "outputs": [],
   "source": [
    "# Question 3"
   ]
  },
  {
   "cell_type": "markdown",
   "execution_count": null,
   "metadata": {},
   "outputs": [],
   "source": [
    "ADD ANSWER."
   ]
  },
  {
   "cell_type": "code",
   "execution_count": null,
   "metadata": {},
   "outputs": [],
   "source": [
    "N=10000\n",
    "np.random.seed(2020)\n",
    "wi_vec=np.random.uniform(0.5,1.5,size=N)\n",
    "l_vec=np.empty(N)\n",
    "c_vec=np.empty(N)\n",
    "for i,w in enumerate(wi_vec):\n",
    "    bundle=optimizer(w,e,v,tau0,tau1,k,m)\n",
    "    l_vec[i]=bundle[0]\n",
    "\n",
    "\n",
    "tax_rev=lambda l_vec,wi_vec: tau0*wi_vec*l_vec+tau1*np.fmax(wi_vec*l_vec-k,0)\n",
    "tax=tax_rev(l_vec,wi_vec)\n",
    "print(tax)\n",
    "np.sum(tax)"
   ]
  },
  {
   "cell_type": "markdown",
   "execution_count": null,
   "metadata": {},
   "outputs": [],
   "source": [
    "# Question 4"
   ]
  },
  {
   "cell_type": "markdown",
   "execution_count": null,
   "metadata": {},
   "outputs": [],
   "source": [
    "The Frisch elasticity of labour supply captures the elasticity of hours worked to the wage rate. Thereby measures the substitution effect of a change in the wage rate on labor supply. In the function, the elasticity appears as an inverse function, therefore we expect an increase in tax revenue from a decrease in the elasticity of labor supply."
   ]
  },
  {
   "cell_type": "code",
   "execution_count": null,
   "metadata": {},
   "outputs": [],
   "source": [
    "e = 0.1\n",
    "N=10000\n",
    "np.random.seed(2020)\n",
    "wi_vec=np.random.uniform(0.5,1.5,size=N)\n",
    "l_vec=np.empty(N)\n",
    "c_vec=np.empty(N)\n",
    "for i,w in enumerate(wi_vec):\n",
    "    bundle=optimizer(w,e,v,tau0,tau1,k,m)\n",
    "    l_vec[i]=bundle[0]\n",
    "\n",
    "\n",
    "tax_rev=lambda l_vec,wi_vec: tau0*wi_vec*l_vec+tau1*np.fmax(wi_vec*l_vec-k,0)\n",
    "tax=tax_rev(l_vec,wi_vec)\n",
    "print(tax)\n",
    "np.sum(tax)"
   ]
  },
  {
   "cell_type": "markdown",
   "execution_count": null,
   "metadata": {},
   "outputs": [],
   "source": [
    "We got as expected"
   ]
  },
  {
   "cell_type": "markdown",
   "execution_count": null,
   "metadata": {},
   "outputs": [],
   "source": [
    "# Question 5"
   ]
  },
  {
   "cell_type": "markdown",
   "execution_count": null,
   "metadata": {},
   "outputs": [],
   "source": [
    "ADD ANSWER."
   ]
  },
  {
   "cell_type": "code",
   "execution_count": null,
   "metadata": {},
   "outputs": [],
   "source": [
    "def taxrev(tau0,tau1,wi_vec,l_vec,k):\n",
    "    tax = np.sum(tau0*wi_vec*l_vec+tau1*np.fmax(wi_vec*l_vec-kappa,0))\n",
    "    return -tax\n",
    "\n",
    "#Optizing wrt. tau0:\n",
    "def tax0_opt(wi_vec,tau1,l_vec,k):\n",
    "    tau0_opt = optimize.minimize_scalar(\n",
    "        taxrev,method='bounded',\n",
    "        bounds=(0,1), args=(tau1,wi_vec,l_vec,k))\n",
    "    solve_tau0 = tau0_opt.x\n",
    "    return solve_tau0\n",
    "\n",
    "#Optizing wrt. tau1:\n",
    "def tax1_opt(wi_vec,tau1,l_vec,k):\n",
    "    tau1_opt = optimize.minimize_scalar(\n",
    "        taxrev,method='bounded',\n",
    "        bounds=(0,1), args=(tau0,wi_vec,l_vec,k))\n",
    "    solve_tau1 = tau1_opt.x\n",
    "    return solve_tau1\n",
    "\n",
    "tax0_opt(tau1,wi_vec,l_vec,k)\n",
    "tax1_opt(tau0,wi_vec,l_vec,k)"
   ]
  },
  {
   "cell_type": "markdown",
   "execution_count": null,
   "metadata": {},
   "outputs": [],
   "source": [
    "# Conclusion"
   ]
  },
  {
   "cell_type": "markdown",
   "execution_count": null,
   "metadata": {},
   "outputs": [],
   "source": [
    "ADD CONCISE CONLUSION."
   ]
  }
 ],
 "metadata": {
  "kernelspec": {
   "display_name": "Python 3",
   "language": "python",
   "name": "python3"
  },
  "language_info": {
   "codemirror_mode": {
    "name": "ipython",
    "version": 3
   },
   "file_extension": ".py",
   "mimetype": "text/x-python",
   "name": "python",
   "nbconvert_exporter": "python",
   "pygments_lexer": "ipython3",
   "version": "3.7.4-final"
  },
  "toc-autonumbering": true
 },
 "nbformat": 4,
 "nbformat_minor": 4
}
{
 "nbformat": 4,
 "nbformat_minor": 2,
 "metadata": {
  "language_info": {
   "name": "python",
   "codemirror_mode": {
    "name": "ipython",
    "version": 3
   },
   "version": "3.7.4-final"
  },
  "orig_nbformat": 2,
  "file_extension": ".py",
  "mimetype": "text/x-python",
  "name": "python",
  "npconvert_exporter": "python",
  "pygments_lexer": "ipython3",
  "version": 3,
  "kernelspec": {
   "name": "python3",
   "display_name": "Python 3"
  }
 },
 "cells": [
  {
   "cell_type": "markdown",
   "metadata": {},
   "source": [
    "# 0. Inaugural Project: Labour Supply Problem"
   ]
  },
  {
   "cell_type": "markdown",
   "metadata": {},
   "source": [
    "Imports and set magics:"
   ]
  },
  {
   "cell_type": "code",
   "execution_count": null,
   "metadata": {},
   "outputs": [],
   "source": [
    "import numpy as np\n",
    "from scipy import optimize\n",
    "import matplotlib.pyplot as plt # baseline modul\n",
    "# autoreload modules when code is run\n",
    "%load_ext autoreload\n",
    "%autoreload 2\n",
    "# local modules\n",
    "import inauguralproject\n",
    "\n"
   ]
  },
  {
   "cell_type": "markdown",
   "metadata": {},
   "source": [
    "## Question 1: Constructing and solve function\n",
    "\n",
    "In the assignment, a a quasi-linear consumer utility function is  given. Naturally, the consumer wishes to maximize its utility that is given by the optimal respectively the level of consumption, c, and the labor supply, l.\n",
    "\n",
    "This problem is going to be solved by using a solver. We have  chosen  to set w=0.8 in order to solve the model."
   ]
  },
  {
   "cell_type": "code",
   "execution_count": null,
   "metadata": {},
   "outputs": [],
   "source": [
    "\n",
    "# Functions used to solve the consumer problem\n",
    "# Define the utility function\n",
    "def utility_f(c,l,v,e):\n",
    "    utility = np.log(c)-v*(l**(1+(1/e))/(1+(1/e)))\n",
    "    return utility\n",
    "\n",
    "# Define total resources\n",
    "def total_r(m,w,l,tau0,tau1,k):\n",
    "    x = m+w*l-(tau0*w*l+(tau1*np.fmax(w*l-k,0)))\n",
    "    return x\n",
    " \n",
    "# Define and specify print solution \n",
    "def print_solution(c,l,utility):\n",
    "    print(f'Optimal level of consumption is {c:.4f}')\n",
    "    print(f'Optimal level of labour is {l:.4f}')\n",
    "    print(f'Optimal level of utility for the consumer is {utility:.4f}')\n",
    "\n",
    "# Set parameters\n",
    "m = 1\n",
    "v = 10\n",
    "e = 0.3\n",
    "tau0 = 0.4\n",
    "tau1 = 0.1\n",
    "k = 0.4\n",
    "w = 0.8"
   ]
  },
  {
   "cell_type": "markdown",
   "metadata": {},
   "source": [
    "We solve by the model by following these three steps: \n",
    "\n",
    "1. Defining an objective function with labour supply as the value of  choice. Here do we specify that consumption (c) must be equal to total ressources (x) when maximized. \n",
    "\n",
    "2. Calling the solver where the method 'bounded' is used since we're interested in a local minimum of the objective function within the boundries of labour supply, l ∈ (0,1). \n",
    "\n",
    "\n",
    "3. Unpacking and printing the solution. \n"
   ]
  },
  {
   "cell_type": "code",
   "execution_count": 1,
   "metadata": {},
   "outputs": [
    {
     "ename": "NameError",
     "evalue": "name 'optimize' is not defined",
     "output_type": "error",
     "traceback": [
      "\u001b[0;31m---------------------------------------------------------------------------\u001b[0m",
      "\u001b[0;31mNameError\u001b[0m                                 Traceback (most recent call last)",
      "\u001b[0;32m<ipython-input-1-22c668515961>\u001b[0m in \u001b[0;36m<module>\u001b[0;34m\u001b[0m\n\u001b[1;32m      6\u001b[0m \u001b[0;34m\u001b[0m\u001b[0m\n\u001b[1;32m      7\u001b[0m \u001b[0;31m# b. Call the solver\u001b[0m\u001b[0;34m\u001b[0m\u001b[0;34m\u001b[0m\u001b[0;34m\u001b[0m\u001b[0m\n\u001b[0;32m----> 8\u001b[0;31m sol_case1 = optimize.minimize_scalar(\n\u001b[0m\u001b[1;32m      9\u001b[0m     \u001b[0mvalue_of_choice\u001b[0m\u001b[0;34m,\u001b[0m\u001b[0mmethod\u001b[0m\u001b[0;34m=\u001b[0m\u001b[0;34m'bounded'\u001b[0m\u001b[0;34m,\u001b[0m\u001b[0;34m\u001b[0m\u001b[0;34m\u001b[0m\u001b[0m\n\u001b[1;32m     10\u001b[0m     bounds=(0,1),args=(m,w,tau0,tau1,k,e,v))\n",
      "\u001b[0;31mNameError\u001b[0m: name 'optimize' is not defined"
     ]
    }
   ],
   "source": [
    "# a. Define the objective function\n",
    "def value_of_choice(l,m,w,tau0,tau1,k,e,v):\n",
    "    c =  total_r(m,w,l,tau0,tau1,k)\n",
    "    return -utility_f(c,l,v,e)\n",
    "\n",
    "\n",
    "# b. Call the solver\n",
    "sol_case1 = optimize.minimize_scalar(\n",
    "    value_of_choice,method='bounded',\n",
    "    bounds=(0,1),args=(m,w,tau0,tau1,k,e,v))\n",
    "\n",
    "# c. Unpack and print the solution: \n",
    "l = sol_case1.x\n",
    "c = total_r(m,w,l,tau0,tau1,k)\n",
    "utility = utility_f(c,l,v,e)\n",
    "print_solution(c,l,utility)"
   ]
  },
  {
   "cell_type": "markdown",
   "metadata": {},
   "source": [
    "## Question 2: Plotting the optimal level of respectively consumption and labour supply as function of the optimal wage\n",
    "\n",
    "\n",
    "\n",
    "\n",
    "\n"
   ]
  },
  {
   "cell_type": "code",
   "execution_count": null,
   "metadata": {},
   "outputs": [],
   "source": [
    "# Defining values\n",
    "N = 10000\n",
    "w_vec = np.linspace(0.5,1.5,N)\n",
    "l_values = np.zeros(N)\n",
    "\n",
    "for i, w in enumerate(w_vec): \n",
    "    sol_case1 = optimize.minimize_scalar(\n",
    "    value_of_choice,method='bounded',\n",
    "    bounds=(0,1),args=(m,w,tau0,tau1,k,e,v))\n",
    "    l_values[i] = sol_case1.x\n",
    "\n",
    "c_values = total_r(m,w_vec,l_values,tau0,tau1,k)\n",
    "\n",
    "plt.style.use(\"seaborn\")\n",
    "\n",
    "# a. create the figure\n",
    "fig = plt.figure(figsize=(10,4))\n",
    "\n",
    "# b. left plot\n",
    "ax_left = fig.add_subplot(1,2,1)\n",
    "\n",
    "ax_left.plot(w_vec, c_values)\n",
    "\n",
    "ax_left.set_title('Figure 1: Optimal level of consumption given wage')\n",
    "ax_left.set_xlabel('Wage rate')\n",
    "ax_left.set_ylabel('Consumption')\n",
    "ax_left.grid(True)\n",
    "\n",
    "# b. right plot\n",
    "ax_right = fig.add_subplot(1,2,2)\n",
    "\n",
    "ax_right.plot(w_vec, l_values)\n",
    "\n",
    "ax_right.set_title('Figure 2: Optimal level of labor given wage')\n",
    "ax_right.set_xlabel('Wage rate')\n",
    "ax_right.set_ylabel('Labor supply')\n",
    "ax_right.grid(True)"
   ]
  },
  {
   "cell_type": "markdown",
   "metadata": {},
   "source": [
    "Figure 1 shows shows that consumption is increasing with the wage rate up until the wage is approx. 1. Here is the level of consumption constant because individuals set their labour supply in order to avoid top tax. When the wage increase further, it again becomes optimal to consume more when wage increases.\n",
    "\n",
    "\n",
    "Figure 2 shows that consumption is increasing in the wage until the wage rate approaches 1. This means that individuals set their labour supply to stay exactly below the threshold for paying top tax, $\\kappa=0.4$. When the wage increase further, it becomes optimal to increase labor supply in spite of the top tax.\n"
   ]
  },
  {
   "cell_type": "markdown",
   "metadata": {},
   "source": [
    "## Question 3: Calculating the total tax revenue \n",
    "\n",
    "In order to calculate the total tax revenue we follow once again three steps:\n",
    "\n",
    "1. Defining variables; population size (N), wage rate with a uniform distribution (w_u), labour supply (l_values) and the tax paid by the individual to the government (tax_i). \n",
    "\n",
    "2. Solving by calling a solver that mmaximize utility for each"
   ]
  },
  {
   "cell_type": "code",
   "execution_count": null,
   "metadata": {},
   "outputs": [],
   "source": [
    "# a. Defining variables\n",
    "np.random.seed(888)\n",
    "N = 10000\n",
    "w_u = np.random.uniform(0.5,1.5, size=N)\n",
    "l_values = np.zeros(N)\n",
    "tax_i = np.zeros(N)\n",
    "\n",
    "# b. Calling the solver for each individual\n",
    "for i, w in enumerate(w_u):\n",
    "    sol_case1 = optimize.minimize_scalar(\n",
    "    value_of_choice,method='bounded',\n",
    "    bounds=(0,1),args=(m,w,tau0,tau1,k,e,v))\n",
    "    l_values[i] = sol_case1.x\n",
    "    tax_i = tau0*w_u*l_values+tau1*np.fmax(w_u*l_values-k,0)\n",
    "    \n",
    "# Calculate total tax revenue\n",
    "total_tax_rev = np.sum(tax_i)\n",
    "print(f'The total tax revenue is {total_tax_rev:.4f}')"
   ]
  },
  {
   "cell_type": "markdown",
   "metadata": {},
   "source": [
    "## Question 4: Calculating the total tax revenue with a lower elasticity  \n",
    "\n",
    "We are now calculating the total tax revenue with a lower the Frisch elasticity of labor supply, $\\epsilon=0.1$. This is done as before: 1) defining variables, 2) calling the solver for each indiidual with a wage, $w$, and lastly 3) calculating the sum of these to obtain the total revenue.\n",
    "\n"
   ]
  },
  {
   "cell_type": "code",
   "execution_count": null,
   "metadata": {},
   "outputs": [],
   "source": [
    "np.random.seed(2020)\n",
    "\n",
    "#For every individual i, we set parameters, where epsilon is now eps = 0.1: \n",
    "e = 0.1\n",
    "\n",
    "for i, w in enumerate(w_u):\n",
    "    \n",
    "    # We call the solver for ever individual i, and calculate the tax revenue from every individual: \n",
    "    sol_case1 = optimize.minimize_scalar(value_of_choice,method='bounded',\n",
    "    bounds=(0,1),args=(m,w,tau0,tau1,k,e,v))\n",
    "    l_values[i] = sol_case1.x\n",
    "    tax_i = tau0*w_u*l_values+tau1*np.fmax(w_u*l_values-k,0)\n",
    "\n",
    "# We calculate the total tax revenue by summing the tax revenue from every individual and print the result: \n",
    "total_tax_rev = np.sum(tax_i)\n",
    "print(f'The total tax revenue is now = {total_tax_rev:.4f}')"
   ]
  },
  {
   "cell_type": "markdown",
   "metadata": {},
   "source": [
    "## Question 5: Political advice - maximal tax revenue "
   ]
  },
  {
   "cell_type": "code",
   "execution_count": null,
   "metadata": {},
   "outputs": [],
   "source": [
    "\n",
    "l_values = np.zeros(N)\n",
    "\n",
    "# Define function to print the solution\n",
    "def print_solution(t0,t1,k,tt):\n",
    "    print(f'tau_0 = {t0:.4f}')\n",
    "    print(f'tau1 = {t1:.4f}')\n",
    "    print(f'k  = {k:.4f}')\n",
    "    print(f'The total tax revenue = {tt:.4f}')\n"
   ]
  },
  {
   "cell_type": "markdown",
   "metadata": {},
   "source": [
    "### 1. Calculating maximal revenue when $\\epsilon = 0.3$"
   ]
  },
  {
   "cell_type": "code",
   "execution_count": null,
   "metadata": {},
   "outputs": [],
   "source": [
    "\n",
    "# a. Define total tax function, which returns the total tax revenue\n",
    "def total_taxes(m,v,tau0,tau1,k,e,w_u,l_values):\n",
    "\n",
    "    # Solve the consumer problem for each individual and calculate tax revenue from each individual\n",
    "    for i,w in enumerate(w_u):\n",
    "        sol_case1 = optimize.minimize_scalar(\n",
    "            value_of_choice,method='bounded',\n",
    "            bounds=(0,1),args=(m,w,tau0,tau1,k,e,v))\n",
    "        l_values[i] = sol_case1.x\n",
    "        tax_i = tau0*w_u*l_values+tau1*np.fmax(w_u*l_values-k,0)\n",
    "\n",
    "    # total tax revenue    \n",
    "    total_tax = np.sum(tax_i)\n",
    "\n",
    "    return total_tax\n",
    "\n",
    "   \n",
    "\n"
   ]
  },
  {
   "cell_type": "code",
   "execution_count": null,
   "metadata": {},
   "outputs": [],
   "source": [
    " # b. Define the objective function where epsilon = 0.3\n",
    "def value_of_choice2(x,w_u,l_values):\n",
    "    tau0 = x[0]\n",
    "    tau1 = x[1]\n",
    "    k = x[2]\n",
    "    return -total_taxes(1,10,tau0,tau1,k,0.3,w_u,l_values)\n",
    "\n",
    "# c. Bounds of the variables and an initial guess\n",
    "bounds = ((0,1),(0,1),(0,1))\n",
    "initial_guess = [0.5,0.5,0.5]\n",
    "\n",
    "# d. Call solver\n",
    "sol_case2 = optimize.minimize(\n",
    "    value_of_choice2,initial_guess,args=(w_u,l_values),\n",
    "    method='SLSQP',bounds=bounds)\n",
    "\n",
    "# e. Unpack the solution\n",
    "tau0 = sol_case2.x[0]\n",
    "tau1 = sol_case2.x[1]\n",
    "k = sol_case2.x[2]\n",
    "total_t = total_taxes(1,10,tau0,tau1,k,0.3,w_u,l_values)\n",
    "\n",
    "# Print the solution\n",
    "print_solution(tau0,tau1,k,total_t)"
   ]
  },
  {
   "cell_type": "code",
   "execution_count": null,
   "metadata": {},
   "outputs": [],
   "source": []
  },
  {
   "cell_type": "markdown",
   "metadata": {},
   "source": [
    "### 2. Calculating maximal revenue when $\\epsilon = 0.1$"
   ]
  },
  {
   "cell_type": "code",
   "execution_count": null,
   "metadata": {},
   "outputs": [],
   "source": [
    "# b. Define the objective function where epsilon = 0.1\n",
    "def value_of_choice2(x,w_u,l_values):\n",
    "    tau0 = x[0]\n",
    "    tau1 = x[1]\n",
    "    k = x[2]\n",
    "    return -total_taxes(1,10,tau0,tau1,k,0.1,w_u,l_values)\n",
    "\n",
    "# c. Bounds of the variables and an initial guess\n",
    "bounds = ((0,1),(0,1),(0,1))\n",
    "initial_guess = [0.5,0.5,0.5]\n",
    "\n",
    "# d. Call solver\n",
    "sol_case2 = optimize.minimize(\n",
    "    value_of_choice2,initial_guess,args=(w_u,l_values),\n",
    "    method='SLSQP',bounds=bounds)\n",
    "\n",
    "# e. Unpack the solution\n",
    "tau0 = sol_case2.x[0]\n",
    "tau1 = sol_case2.x[1]\n",
    "k = sol_case2.x[2]\n",
    "tt = total_taxes(1,10,tau0,tau1,k,0.1,w_u,l_values)\n",
    "\n",
    "# Print the solution\n",
    "print_solution(tau0,tau1,k,tt)"
   ]
  },
  {
   "cell_type": "code",
   "execution_count": null,
   "metadata": {},
   "outputs": [],
   "source": [
    "#from tabulate import tabulate\n",
    "#print(tabulate([['Tau0', 0.7855, 0.9143], ['Tau1', 0.3376, 0.8953], ['k', 0.5952, 0.8776], ['Total Tax Rev', 2477.6922, 5647.1661]], headers=['','$\\epsilon=0.3$', '$\\epsilon=0.1$', ]))"
   ]
  },
  {
   "cell_type": "markdown",
   "metadata": {},
   "source": [
    "### 3. Conclusion\n",
    "\n",
    "In the case where $\\epsilon =0.3$, we found that the policy that maxes the total tax revenue consists of a standard labour income tax of $\\tau_0=0,7855$, a top bracket labor income tax $\\tau_1=0,3376$ and a cut-off value for the top labor income bracket of $\\kappa=0,5952$. This yields a total tax revenue of 2477.6922. \n",
    "\n",
    "When lowering the Frisch elasticity of labor supply to $\\epsilon =0.1$, the maximal tax revenues is 5647.1661 yielding from a standard labour income tax of $\\tau_0=0,9143$, a top bracket labor income tax $\\tau_1=0,8953$ and a cut-off value for the top labor income bracket of $\\kappa=0,8776$.\n",
    "\n",
    "We can conclude that the lower the Frisch elasticity of labor supply the less the individual respond to tax changes, resulting in higher tax revenue, since the government can increase the tax rate without individuals decrease their labour supply. \n",
    "\n"
   ]
  }
 ]
}